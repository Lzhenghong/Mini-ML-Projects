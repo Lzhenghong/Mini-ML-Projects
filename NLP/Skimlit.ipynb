{
  "nbformat": 4,
  "nbformat_minor": 0,
  "metadata": {
    "colab": {
      "name": "Skimlit.ipynb",
      "provenance": [],
      "authorship_tag": "ABX9TyPcLMzlZf8POSsTlCf+fkRn",
      "include_colab_link": true
    },
    "kernelspec": {
      "name": "python3",
      "display_name": "Python 3"
    },
    "language_info": {
      "name": "python"
    },
    "accelerator": "GPU",
    "gpuClass": "standard"
  },
  "cells": [
    {
      "cell_type": "markdown",
      "metadata": {
        "id": "view-in-github",
        "colab_type": "text"
      },
      "source": [
        "<a href=\"https://colab.research.google.com/github/Lzhenghong/Mini-ML-Projects/blob/main/NLP/Skimlit.ipynb\" target=\"_parent\"><img src=\"https://colab.research.google.com/assets/colab-badge.svg\" alt=\"Open In Colab\"/></a>"
      ]
    },
    {
      "cell_type": "code",
      "execution_count": null,
      "metadata": {
        "id": "27dJTGy1uhkI",
        "colab": {
          "base_uri": "https://localhost:8080/"
        },
        "outputId": "e863bba5-101a-4337-9df6-02952e07dbf1"
      },
      "outputs": [
        {
          "output_type": "stream",
          "name": "stdout",
          "text": [
            "Cloning into 'pubmed-rct'...\n",
            "remote: Enumerating objects: 33, done.\u001b[K\n",
            "remote: Counting objects: 100% (8/8), done.\u001b[K\n",
            "remote: Compressing objects: 100% (3/3), done.\u001b[K\n",
            "remote: Total 33 (delta 5), reused 5 (delta 5), pack-reused 25\u001b[K\n",
            "Unpacking objects: 100% (33/33), done.\n",
            "Checking out files: 100% (13/13), done.\n",
            "PubMed_200k_RCT\n",
            "PubMed_200k_RCT_numbers_replaced_with_at_sign\n",
            "PubMed_20k_RCT\n",
            "PubMed_20k_RCT_numbers_replaced_with_at_sign\n",
            "README.md\n"
          ]
        }
      ],
      "source": [
        "!git clone https://github.com/Franck-Dernoncourt/pubmed-rct\n",
        "!ls pubmed-rct"
      ]
    },
    {
      "cell_type": "code",
      "source": [
        "!ls pubmed-rct/PubMed_20k_RCT_numbers_replaced_with_at_sign/"
      ],
      "metadata": {
        "colab": {
          "base_uri": "https://localhost:8080/"
        },
        "id": "E3kbkQ4XLpMv",
        "outputId": "da504871-cfcf-4c4b-b48e-d37d17dc976c"
      },
      "execution_count": null,
      "outputs": [
        {
          "output_type": "stream",
          "name": "stdout",
          "text": [
            "dev.txt  test.txt  train.txt\n"
          ]
        }
      ]
    },
    {
      "cell_type": "code",
      "source": [
        "data_dir = '/content/pubmed-rct/PubMed_20k_RCT_numbers_replaced_with_at_sign/'"
      ],
      "metadata": {
        "id": "OO3GvV0aMBKe"
      },
      "execution_count": null,
      "outputs": []
    },
    {
      "cell_type": "code",
      "source": [
        "import os\n",
        "filenames = [data_dir + filename for filename in os.listdir(data_dir)]\n",
        "filenames"
      ],
      "metadata": {
        "colab": {
          "base_uri": "https://localhost:8080/"
        },
        "id": "8JFv5QejMWCg",
        "outputId": "b07316a6-7750-492b-f027-7dba45e35129"
      },
      "execution_count": null,
      "outputs": [
        {
          "output_type": "execute_result",
          "data": {
            "text/plain": [
              "['/content/pubmed-rct/PubMed_20k_RCT_numbers_replaced_with_at_sign/dev.txt',\n",
              " '/content/pubmed-rct/PubMed_20k_RCT_numbers_replaced_with_at_sign/test.txt',\n",
              " '/content/pubmed-rct/PubMed_20k_RCT_numbers_replaced_with_at_sign/train.txt']"
            ]
          },
          "metadata": {},
          "execution_count": 4
        }
      ]
    },
    {
      "cell_type": "code",
      "source": [
        "# Read lines of a document\n",
        "def get_lines(filename):\n",
        "  with open(filename, 'r') as f:\n",
        "    return f.readlines()"
      ],
      "metadata": {
        "id": "Z7Lt4-1sMgHD"
      },
      "execution_count": null,
      "outputs": []
    },
    {
      "cell_type": "code",
      "source": [
        "train_lines = get_lines(data_dir + 'train.txt')\n",
        "train_lines"
      ],
      "metadata": {
        "colab": {
          "base_uri": "https://localhost:8080/"
        },
        "id": "gshemE88MxEM",
        "outputId": "3a2c7e9b-cbed-4c03-992e-323b5850cf03"
      },
      "execution_count": null,
      "outputs": [
        {
          "output_type": "execute_result",
          "data": {
            "text/plain": [
              "['###24293578\\n',\n",
              " 'OBJECTIVE\\tTo investigate the efficacy of @ weeks of daily low-dose oral prednisolone in improving pain , mobility , and systemic low-grade inflammation in the short term and whether the effect would be sustained at @ weeks in older adults with moderate to severe knee osteoarthritis ( OA ) .\\n',\n",
              " 'METHODS\\tA total of @ patients with primary knee OA were randomized @:@ ; @ received @ mg/day of prednisolone and @ received placebo for @ weeks .\\n',\n",
              " 'METHODS\\tOutcome measures included pain reduction and improvement in function scores and systemic inflammation markers .\\n',\n",
              " 'METHODS\\tPain was assessed using the visual analog pain scale ( @-@ mm ) .\\n',\n",
              " 'METHODS\\tSecondary outcome measures included the Western Ontario and McMaster Universities Osteoarthritis Index scores , patient global assessment ( PGA ) of the severity of knee OA , and @-min walk distance ( @MWD ) .\\n',\n",
              " 'METHODS\\tSerum levels of interleukin @ ( IL-@ ) , IL-@ , tumor necrosis factor ( TNF ) - , and high-sensitivity C-reactive protein ( hsCRP ) were measured .\\n',\n",
              " 'RESULTS\\tThere was a clinically relevant reduction in the intervention group compared to the placebo group for knee pain , physical function , PGA , and @MWD at @ weeks .\\n',\n",
              " 'RESULTS\\tThe mean difference between treatment arms ( @ % CI ) was @ ( @-@ @ ) , p < @ ; @ ( @-@ @ ) , p < @ ; @ ( @-@ @ ) , p < @ ; and @ ( @-@ @ ) , p < @ , respectively .\\n',\n",
              " 'RESULTS\\tFurther , there was a clinically relevant reduction in the serum levels of IL-@ , IL-@ , TNF - , and hsCRP at @ weeks in the intervention group when compared to the placebo group .\\n',\n",
              " 'RESULTS\\tThese differences remained significant at @ weeks .\\n',\n",
              " 'RESULTS\\tThe Outcome Measures in Rheumatology Clinical Trials-Osteoarthritis Research Society International responder rate was @ % in the intervention group and @ % in the placebo group ( p < @ ) .\\n',\n",
              " 'CONCLUSIONS\\tLow-dose oral prednisolone had both a short-term and a longer sustained effect resulting in less knee pain , better physical function , and attenuation of systemic inflammation in older patients with knee OA ( ClinicalTrials.gov identifier NCT@ ) .\\n',\n",
              " '\\n',\n",
              " '###24854809\\n',\n",
              " 'BACKGROUND\\tEmotional eating is associated with overeating and the development of obesity .\\n',\n",
              " 'BACKGROUND\\tYet , empirical evidence for individual ( trait ) differences in emotional eating and cognitive mechanisms that contribute to eating during sad mood remain equivocal .\\n',\n",
              " 'OBJECTIVE\\tThe aim of this study was to test if attention bias for food moderates the effect of self-reported emotional eating during sad mood ( vs neutral mood ) on actual food intake .\\n',\n",
              " 'OBJECTIVE\\tIt was expected that emotional eating is predictive of elevated attention for food and higher food intake after an experimentally induced sad mood and that attentional maintenance on food predicts food intake during a sad versus a neutral mood .\\n',\n",
              " 'METHODS\\tParticipants ( N = @ ) were randomly assigned to one of the two experimental mood induction conditions ( sad/neutral ) .\\n',\n",
              " 'METHODS\\tAttentional biases for high caloric foods were measured by eye tracking during a visual probe task with pictorial food and neutral stimuli .\\n',\n",
              " 'METHODS\\tSelf-reported emotional eating was assessed with the Dutch Eating Behavior Questionnaire ( DEBQ ) and ad libitum food intake was tested by a disguised food offer .\\n',\n",
              " 'RESULTS\\tHierarchical multivariate regression modeling showed that self-reported emotional eating did not account for changes in attention allocation for food or food intake in either condition .\\n',\n",
              " 'RESULTS\\tYet , attention maintenance on food cues was significantly related to increased intake specifically in the neutral condition , but not in the sad mood condition .\\n',\n",
              " 'CONCLUSIONS\\tThe current findings show that self-reported emotional eating ( based on the DEBQ ) might not validly predict who overeats when sad , at least not in a laboratory setting with healthy women .\\n',\n",
              " 'CONCLUSIONS\\tResults further suggest that attention maintenance on food relates to eating motivation when in a neutral affective state , and might therefore be a cognitive mechanism contributing to increased food intake in general , but maybe not during sad mood .\\n',\n",
              " '\\n',\n",
              " '###25165090\\n',\n",
              " 'BACKGROUND\\tAlthough working smoke alarms halve deaths in residential fires , many households do not keep alarms operational .\\n',\n",
              " 'BACKGROUND\\tWe tested whether theory-based education increases alarm operability .\\n',\n",
              " 'METHODS\\tRandomised multiarm trial , with a single arm randomly selected for use each day , in low-income neighbourhoods in Maryland , USA .\\n',\n",
              " \"METHODS\\tIntervention arms : ( @ ) Full Education combining a health belief module with a social-cognitive theory module that provided hands-on practice installing alarm batteries and using the alarm 's hush button ; ( @ ) Hands-on Practice social-cognitive module supplemented by typical fire department education ; ( @ ) Current Norm receiving typical fire department education only .\\n\",\n",
              " 'METHODS\\tFour hundred and thirty-six homes recruited through churches or by knocking on doors in @-@ .\\n',\n",
              " 'METHODS\\tFollow-up visits checked alarm operability in @ homes ( @ % ) @-@ @ years after installation .\\n',\n",
              " 'METHODS\\tnumber of homes with working alarms defined as alarms with working batteries or hard-wired and number of working alarms per home .\\n',\n",
              " 'METHODS\\tRegressions controlled for alarm status preintervention ; demographics and beliefs about fire risks and alarm effectiveness .\\n',\n",
              " 'RESULTS\\tHomes in the Full Education and Practice arms were more likely to have a functioning smoke alarm at follow-up ( OR = @ , @ % CI @ to @ ) and had an average of @ more working alarms per home ( @ % CI @ to @ ) .\\n',\n",
              " 'RESULTS\\tWorking alarms per home rose @ % .\\n',\n",
              " 'RESULTS\\tFull Education and Practice had similar effectiveness ( p = @ on both outcome measures ) .\\n',\n",
              " 'CONCLUSIONS\\tWithout exceeding typical fire department installation time , installers can achieve greater smoke alarm operability .\\n',\n",
              " 'CONCLUSIONS\\tHands-on practice is key .\\n',\n",
              " 'CONCLUSIONS\\tTwo years after installation , for every three homes that received hands-on practice , one had an additional working alarm .\\n',\n",
              " 'BACKGROUND\\thttp://www.clinicaltrials.gov number NCT@ .\\n',\n",
              " '\\n',\n",
              " '###24633056\\n',\n",
              " 'OBJECTIVE\\tTo evaluate the performance ( efficacy , safety and acceptability ) of a new micro-adherent absorbent dressing ( UrgoClean ) compared with a hydrofiber dressing ( Aquacel ) in the local management of venous leg ulcers , in the debridement stage .\\n',\n",
              " 'METHODS\\tA non-inferiority European randomised controlled clinical trial ( RCT ) was conducted in @ centres , on patients presenting with venous or predominantly venous , mixed aetiology leg ulcers at their sloughy stage ( with more than @ % of the wound bed covered with slough at baseline ) .\\n',\n",
              " 'METHODS\\tPatients were followed over a @-week period and assessed weekly .\\n',\n",
              " 'METHODS\\tThe primary judgement criteria was the relative regression of the wound surface area after the @-week treatment period .\\n',\n",
              " 'METHODS\\tSecondary endpoints were the relative reduction of sloughy tissue and the percentage of patients presenting with a debrided wound .\\n',\n",
              " 'RESULTS\\tAltogether , @ patients were randomised to either UrgoClean ( test group ; n = @ ) or Aquacel ( control group ; n = @ ) dressings .\\n',\n",
              " 'RESULTS\\tRegarding the wound healing process predictive factors ( wound area , duration , ABPI value , recurrence ) , at baseline , the two groups were well balanced , for both wound and patient characteristics .\\n',\n",
              " 'RESULTS\\tCompression therapy was administered to both groups and after a median @-day treatment period , the percentage of relative reduction of the wound surface area was very similar ( -@ % vs -@ % in the UrgoClean and control groups , respectively ) .\\n',\n",
              " 'RESULTS\\tWhen considering the secondary criteria at week @ , the relative reduction of sloughy tissue was significantly higher in the UrgoClean group than in the control group ( -@ % vs -@,@ % ; p = @ ) .\\n',\n",
              " 'RESULTS\\tThe percentage of debrided wounds was also significantly higher in the test group ( @ % vs @ % ; p = @ ) .\\n',\n",
              " \"CONCLUSIONS\\tThis ` EARTH ' RCT confirmed that the UrgoClean dressing has similar efficacy and safety compared to Aquacel .\\n\",\n",
              " 'CONCLUSIONS\\tHowever , UrgoClean also showed better autolytic properties than the control group in the management of venous leg ulcers at the sloughy stage .\\n',\n",
              " 'CONCLUSIONS\\tThe new UrgoClean dressing therefore represents a promising therapeutic option within the current range of autolytic dressings available .\\n',\n",
              " 'BACKGROUND\\tThis study was sponsored by a grant from the pharmaceutical company Laboratoires Urgo .\\n',\n",
              " 'BACKGROUND\\tS. Bohbot and O. Tacca are employees of Laboratoires Urgo .\\n',\n",
              " 'BACKGROUND\\tS. Meaume , J. Dissemond and G. Perceau have received monetary compensation as presenters for Laboratoires Urgo .\\n',\n",
              " 'BACKGROUND\\tData management and statistical analyses were conducted independently by Vertical ( Paris , France ) .\\n',\n",
              " '\\n',\n",
              " '###24814304\\n',\n",
              " 'OBJECTIVE\\tEye movements ( EM ) during recall of an aversive memory is a treatment element unique to Eye Movement Desensitization and Reprocessing ( EMDR ) .\\n',\n",
              " 'OBJECTIVE\\tExperimental studies have shown that EM reduce memory vividness and/or emotionality shortly after the intervention .\\n',\n",
              " 'OBJECTIVE\\tHowever , it is unclear whether the immediate effects of the intervention reflect actual changes in memory .\\n',\n",
              " 'OBJECTIVE\\tThe aim of this study was to test whether immediate reductions in memory vividness and emotionality persist at a @h follow up and whether the magnitude of these effects is related to the duration of the intervention .\\n',\n",
              " \"METHODS\\tSeventy-three undergraduates recalled two negative autobiographical memories , one with EM ( `` recall with EM '' ) and one without ( `` recall only '' ) .\\n\",\n",
              " 'METHODS\\tHalf of participants recalled each memory for four periods of @s , the other half for eight periods of @s .\\n',\n",
              " 'METHODS\\tMemory vividness/emotionality were self-rated at a pre-test , an immediate post-test , and a @h follow-up test .\\n',\n",
              " 'RESULTS\\tIn both duration groups , recall with EM , but not recall only , caused an immediate decrease in memory vividness .\\n',\n",
              " 'RESULTS\\tThere were no immediate reductions in memory emotionality .\\n',\n",
              " \"RESULTS\\tFurthermore , only the ` eight periods ' group showed that recall with EM , but not recall only , caused a decrease in both memory emotionality and memory vividness from the pre-test to the follow-up .\\n\",\n",
              " 'CONCLUSIONS\\tOnly self-report measures were used .\\n',\n",
              " 'CONCLUSIONS\\tThe findings suggest that recall with EM causes @-hchanges in memory vividness/emotionality , which may explain part of the EMDR treatment effect , and these effects are related to intervention duration .\\n',\n",
              " '\\n',\n",
              " '###25825539\\n',\n",
              " 'OBJECTIVE\\tFew studies have tested the impact of motivational interviewing ( MI ) delivered by primary care providers on pediatric obesity .\\n',\n",
              " 'OBJECTIVE\\tThis study tested the efficacy of MI delivered by providers and registered dietitians ( RDs ) to parents of overweight children aged @ through @ .\\n',\n",
              " 'METHODS\\tForty-two practices from the Pediatric Research in Office Settings Network of the American Academy of Pediatrics were randomly assigned to @ of @ groups .\\n',\n",
              " 'METHODS\\tGroup @ ( usual care ) measured BMI percentile at baseline and @ - and @-year follow-up .\\n',\n",
              " 'METHODS\\tGroup @ ( provider only ) delivered @ MI counseling sessions to parents of the index child over @ years .\\n',\n",
              " 'METHODS\\tGroup @ ( provider + RD ) delivered @ provider MI sessions plus @ MI sessions from a RD. .\\n',\n",
              " 'METHODS\\tThe primary outcome was child BMI percentile at @-year follow up .\\n',\n",
              " 'RESULTS\\tAt @-year follow-up , the adjusted BMI percentile was @ , @ , and @ for groups @ , @ , and @ , respectively .\\n',\n",
              " 'RESULTS\\tThe group @ mean was significantly ( P = @ ) lower than group @ .\\n',\n",
              " 'RESULTS\\tMean changes from baseline in BMI percentile were @ , @ , and @ across groups @ , @ , and @ .\\n',\n",
              " 'CONCLUSIONS\\tMI delivered by providers and RDs ( group @ ) resulted in statistically significant reductions in BMI percentile .\\n',\n",
              " 'CONCLUSIONS\\tResearch is needed to determine the clinical significance and persistence of the BMI effects observed .\\n',\n",
              " 'CONCLUSIONS\\tHow the intervention can be brought to scale ( in particular , how to train physicians to use MI effectively and how best to train RDs and integrate them into primary care settings ) also merits future research .\\n',\n",
              " '\\n',\n",
              " '###24507941\\n',\n",
              " 'BACKGROUND\\tAntithrombin ( AT ) concentrations are reduced after cardiac surgery with cardiopulmonary bypass compared with the preoperative levels .\\n',\n",
              " 'BACKGROUND\\tLow postoperative AT is associated with worse short - and mid-term clinical outcomes .\\n',\n",
              " 'BACKGROUND\\tThe aim of the study is to evaluate the effects of AT administration on activation of the coagulation and fibrinolytic systems , platelet function , and the inflammatory response in patients with low postoperative AT levels .\\n',\n",
              " 'METHODS\\tSixty patients with postoperative AT levels of less than @ % were randomly assigned to receive purified AT ( @ IU in three administrations ) or placebo in the postoperative intensive care unit .\\n',\n",
              " 'METHODS\\tThirty patients with postoperative AT levels greater than @ % were observed as controls .\\n',\n",
              " 'METHODS\\tInterleukin @ ( a marker of inflammation ) , prothrombin fragment @-@ ( a marker of thrombin generation ) , plasmin-antiplasmin complex ( a marker of fibrinolysis ) , and platelet factor @ ( a marker of platelet activation ) were measured at six different times .\\n',\n",
              " 'RESULTS\\tCompared with the no AT group and control patients , patients receiving AT showed significantly higher AT values until @ hours after the last administration .\\n',\n",
              " 'RESULTS\\tAnalysis of variance for repeated measures showed a significant effect of study treatment in reducing prothrombin fragment @-@ ( p = @ ; interaction with time sample , p = @ ) and plasmin-antiplasmin complex ( p < @ ; interaction with time sample , p < @ ) values but not interleukin @ ( p = @ ; interaction with time sample , p = @ ) and platelet factor @ ( p = @ ; interaction with time sample , p = @ ) .\\n',\n",
              " 'RESULTS\\tNo difference in chest tube drainage , reopening for bleeding , and blood transfusion was observed .\\n',\n",
              " 'CONCLUSIONS\\tAntithrombin administration in patients with low AT activity after surgery with cardiopulmonary bypass reduces postoperative thrombin generation and fibrinolysis with no effects on platelet activation and inflammatory response .\\n',\n",
              " '\\n',\n",
              " '###24976083\\n',\n",
              " 'OBJECTIVE\\tWe evaluated patients at tertiary -LSB- both percutaneous coronary intervention ( PCI ) and coronary artery bypass grafting ( CABG ) capable -RSB- and primary hospitals in the EARLY-ACS trial .\\n',\n",
              " 'BACKGROUND\\tEarly invasive management is recommended for high-risk non-ST-segment elevation acute coronary syndromes .\\n',\n",
              " \"METHODS\\tWe evaluated outcomes in @,@ patients presenting to : tertiary sites , primary sites with transfer to tertiary sites ( `` transferred '' ) and those who remained at primary sites ( `` non-transfer '' ) .\\n\",\n",
              " 'RESULTS\\tThere were @ tertiary ( n = @,@ patients ) and @ primary hospitals -LSB- n = @,@ patients ( @ transferred ; @,@ non-transfer ) -RSB- .\\n',\n",
              " 'RESULTS\\tSignificant delays occurred in time from symptom onset to angiography ( @ hr ) , PCI ( @h ) , and CABG ( @ hr ) for transferred patients ( P < @ ) .\\n',\n",
              " 'RESULTS\\tNon-transfer patients had less @-day death/myocardial infarction -LSB- @ % vs. @ % ( tertiary ) ; adjusted odds ratio ( OR ) : @ ( @-@ @ ) , P = @ -RSB- ; transferred ( @ % ) and tertiary patients were similar -LSB- adjusted OR : @ ( @-@ @ ) , P = @ -RSB- .\\n',\n",
              " 'RESULTS\\tNon-transfer patients had lower @-year mortality -LSB- @ % vs. @ % ( tertiary ) ; adjusted hazard ratio ( HR ) : @ ( @-@ @ ) , P = @ -RSB- : there was no difference between transferred and tertiary patients -LSB- @ % vs. @ % ; adjusted HR : @ ( @-@ @ ) , P = @ -RSB- .\\n',\n",
              " 'RESULTS\\tDespite similar rates of catheterization , GUSTO severe/moderate bleeding within @ hr was less in non-transfer -LSB- @ % vs. @ % ( tertiary ) ; adjusted OR : @ ( @-@ @ ) , P < @ -RSB- , whereas transferred ( @ % ) and tertiary patients were similar -LSB- adjusted OR : @ ( @-@ @ ) , P = @ -RSB- .\\n',\n",
              " 'RESULTS\\tThere was no difference in non-CABG bleeding .\\n',\n",
              " 'CONCLUSIONS\\tTimely angiography and revascularization were often not achieved in transferred patients .\\n',\n",
              " 'CONCLUSIONS\\tNon-transferred patients presenting to primary sites had the lowest event rates and the best long-term survival .\\n',\n",
              " '\\n',\n",
              " '###25001475\\n',\n",
              " 'OBJECTIVE\\tWe hypothesized that a targeted temperature of @ C as compared to that of @ C would increase survival and reduce the severity of circulatory shock in patients with shock on admission after out-of-hospital cardiac arrest ( OHCA ) .\\n',\n",
              " 'METHODS\\tThe recently published Target Temperature Management trial ( TTM-trial ) randomized @ OHCA patients with no difference in outcome between groups and no difference in mortality at the end of the trial in a predefined subgroup of patients with shock at admission .\\n',\n",
              " 'METHODS\\tShock was defined as a systolic blood pressure of < @ mm Hg for > @ min or the need of supportive measures to maintain a blood pressure @ mmHg and/or clinical signs of end-organ hypoperfusion .\\n',\n",
              " 'METHODS\\tIn this post hoc analysis reported here , we further analyzed the @ patients with shock at admission ; all had been randomized to receive intervention at @ C ( TTM@ ; n = @ ) or @ C ( TTM@ ; n = @ ) .\\n',\n",
              " 'METHODS\\tPrimary outcome was @-day mortality .\\n',\n",
              " 'METHODS\\tSecondary outcomes were intensive care unit ( ICU ) and @-day mortality , severity of circulatory shock assessed by mean arterial pressure , serum lactate , fluid balance and the extended Sequential Organ Failure assessment ( SOFA ) score .\\n',\n",
              " 'RESULTS\\tThere was no significance difference between targeted temperature management at @ C or @ C on @-day mortality -LSB- log-rank test , p = @ , hazard ratio @ , @ % confidence interval ( CI ) @-@ @ -RSB- or ICU mortality ( @ vs. @ % , p = @ ; relative risk @ , @ % CI @-@ @ ) .\\n',\n",
              " 'RESULTS\\tSerum lactate and the extended cardiovascular SOFA score were higher in the TTM@ group ( p < @ ) .\\n',\n",
              " 'CONCLUSIONS\\tWe found no benefit in survival or severity of circulatory shock with targeted temperature management at @ C as compared to @ C in patients with shock on admission after OHCA .\\n',\n",
              " '\\n',\n",
              " '###25406902\\n',\n",
              " 'BACKGROUND\\tYouths with a family history of alcohol and other drug use disorders ( FH + ) are at a greater risk of developing substance use disorders than their peers with no such family histories ( FH - ) , and this increased risk may be related to impaired maturation of forebrain circuitry .\\n',\n",
              " 'BACKGROUND\\tFH + individuals have shown altered forebrain activity at rest and while performing cognitive tasks .\\n',\n",
              " 'BACKGROUND\\tHowever , it is not fully understood how forebrain activity is altered in FH + individuals , and ultimately how these alterations may contribute to substance use disorder risk .\\n',\n",
              " 'METHODS\\tIn this study , we tested @ FH + and @ FH - youths performing a go/no-go task and examined activations in blocks with only go trials ( Go Only ) , blocks with @ % go and @ % no-go trials ( Go/NoGo ) , and a contrast of those @ blocks .\\n',\n",
              " 'RESULTS\\tFH + youths had significantly greater cerebral activations in both the Go and Go/NoGo blocks than FH - youths in regions including the posterior cingulate/precuneus , bilateral middle/superior temporal gyrus , and medial superior frontal gyrus with no significant group differences in the subtraction between Go Only and Go/NoGo blocks .\\n',\n",
              " 'RESULTS\\tAdditionally , FH + youths had moderately slower reaction times on go trials in the Go Only blocks .\\n',\n",
              " 'CONCLUSIONS\\tOur findings suggest that global activation increase in FH + youths are modulated by FH density and are not specific to the inhibitory components of the task .\\n',\n",
              " 'CONCLUSIONS\\tThis pattern of increased activations in FH + youths may be at least partially due to impaired forebrain white matter development leading to greater activations/less efficient neural communication during task performance .\\n',\n",
              " '\\n',\n",
              " '###25471989\\n',\n",
              " 'BACKGROUND\\tRisk factors have been proposed for running injuries including ( a ) reduced muscular strength , ( b ) excessive joint movements and ( c ) excessive joint moments in the frontal and transverse planes .\\n',\n",
              " \"BACKGROUND\\tTo date , many running injury prevention programs have focused on a `` top down '' approach to strengthen the hip musculature in the attempt to reduce movements and moments at the hip , knee , and/or ankle joints .\\n\",\n",
              " 'BACKGROUND\\tHowever , running mechanics did not change when hip muscle strength increased .\\n',\n",
              " \"BACKGROUND\\tIt could be speculated that emphasis should be placed on increasing the strength of the ankle joint for a `` ground up '' approach .\\n\",\n",
              " 'BACKGROUND\\tStrengthening of the large and small muscles crossing the ankle joint is assumed to change the force distribution for these muscles and to increase the use of smaller muscles .\\n',\n",
              " 'BACKGROUND\\tThis would be associated with a reduction of joint and insertion forces , which could have a beneficial effect on injury prevention .\\n',\n",
              " 'BACKGROUND\\tHowever , training of the ankle joint as an injury prevention strategy has not been studied .\\n',\n",
              " 'BACKGROUND\\tAnkle strengthening techniques include isolated strengthening or movement-related strengthening such as functional balance training .\\n',\n",
              " 'BACKGROUND\\tThere is little knowledge about the efficacy of such training programs on strength alteration , gait or injury reduction .\\n',\n",
              " 'METHODS\\tNovice runners will be randomly assigned to one of three groups : an isolated ankle strengthening group ( strength , n = @ ) , a functional balance training group ( balance , n = @ ) or an activity-matched control group ( control , n = @ ) .\\n',\n",
              " 'METHODS\\tIsokinetic strength will be measured using a Biodex System @ dynamometer .\\n',\n",
              " 'METHODS\\tRunning kinematics and kinetics will be assessed using @D motion analysis and a force platform .\\n',\n",
              " 'METHODS\\tPostural control will be assessed by quantifying the magnitude and temporal structure of the center of pressure trace during single leg stance on a force platform .\\n',\n",
              " 'METHODS\\tThe change pre - and post-training in isokinetic strength , running mechanics , and postural control variables will be compared following the interventions .\\n',\n",
              " 'METHODS\\tInjuries rates will be compared between groups over @months .\\n',\n",
              " 'CONCLUSIONS\\tAvoiding injury will allow individuals to enjoy the benefits of participating in aerobic activities and reduce the healthcare costs associated with running injuries .\\n',\n",
              " 'BACKGROUND\\tCurrent Controlled Trial NCT@ .\\n',\n",
              " '\\n',\n",
              " '###24694205\\n',\n",
              " 'BACKGROUND\\tVitamin B@ deficiency causes neurologic and psychiatric disease , especially in older adults .\\n',\n",
              " 'BACKGROUND\\tSubacute combined degeneration is characterized by damage to the posterior and lateral spinal cord affecting the corticospinal tract .\\n',\n",
              " 'OBJECTIVE\\tTo test corticospinal tract projections using motor evoked potentials ( MEPs ) by transcranial magnetic stimulation ( TMS ) in asymptomatic older adults with low vitamin B@ ( B@ ) levels .\\n',\n",
              " 'METHODS\\tCross-sectional study of @ healthy older adults ( > @ years ) .\\n',\n",
              " 'METHODS\\tMEPs were recorded in the abductor pollicis brevis and tibialis anterior muscles , at rest and during slight tonic contraction .\\n',\n",
              " 'METHODS\\tCentral motor conduction time ( CMCT ) was derived from the latency of MEPs and peripheral motor conduction time ( PMCT ) .\\n',\n",
              " 'METHODS\\tNeurophysiological variables were analyzed statistically according to B@ status .\\n',\n",
              " 'RESULTS\\tMedian age was @ years ( @ % women ) .\\n',\n",
              " 'RESULTS\\tTwenty-six out of the @ subjects had low vitamin B@ levels ( B@ < @pmol/l ) .\\n',\n",
              " 'RESULTS\\tMEPs were recorded for all subjects in upper and lower extremities .\\n',\n",
              " 'RESULTS\\tThere were no significant differences in either latency or amplitude of MEPs and CMCT between low and normal B@ groups .\\n',\n",
              " 'RESULTS\\tThere was a significant PMCT delay in the lower extremities in the low B@ group ( p = @ ) .\\n',\n",
              " 'CONCLUSIONS\\tNo subclinical abnormality of the corticospinal tract is detected in asymptomatic B@-deficient older adults .\\n',\n",
              " 'CONCLUSIONS\\tThe peripheral nervous system appears to be more vulnerable to damage attributable to this vitamin deficit .\\n',\n",
              " 'CONCLUSIONS\\tThe neurophysiological evaluation of asymptomatic older adults with lower B@ levels should be focused mainly in peripheral nervous system evaluation .\\n',\n",
              " '\\n',\n",
              " '###24576512\\n',\n",
              " 'BACKGROUND\\tUncontrolled hypertension ( HTN ) is a significant public health problem among blacks in the United States .\\n',\n",
              " 'BACKGROUND\\tDespite the proven efficacy of therapeutic lifestyle change ( TLC ) on blood pressure ( BP ) reduction in clinical trials , few studies have examined their effectiveness in church-based settings-an influential institution for health promotion in black communities .\\n',\n",
              " 'METHODS\\tUsing a cluster-randomized , @-arm trial design , this study evaluates the effectiveness of a faith-based TLC intervention vs health education ( HE ) control on BP reduction among hypertensive black adults .\\n',\n",
              " 'METHODS\\tThe intervention is delivered by trained lay health advisors through group TLC sessions plus motivational interviewing in @ black churches .\\n',\n",
              " 'METHODS\\tParticipants in the intervention group receive @ weekly TLC sessions targeting weight loss , increasing physical activity , fruit , vegetable and low-fat dairy intake , and decreasing fat and sodium intake , plus @ monthly individual motivational interviewing sessions .\\n',\n",
              " 'METHODS\\tParticipants in the control group attend @ weekly classes on HTN and other health topics delivered by health care experts .\\n',\n",
              " 'METHODS\\tThe primary outcome is change in BP from baseline to @ months .\\n',\n",
              " 'METHODS\\tSecondary outcomes include level of physical activity , percent change in weight , and fruit and vegetable consumption at @ months , and BP control at @ months .\\n',\n",
              " 'CONCLUSIONS\\tIf successful , this trial will provide an alternative and culturally appropriate model for HTN control through evidence-based lifestyle modification delivered in churches by lay health advisors .\\n',\n",
              " '\\n',\n",
              " '###24807407\\n',\n",
              " 'BACKGROUND\\tThe classification of clinical severity of Ebstein anomaly still remains a challenge .\\n',\n",
              " 'BACKGROUND\\tThe aim of this study was to focus on the interaction of the pathologically altered right heart with the anatomically-supposedly-normal left heart and to derive from cardiac magnetic resonance ( CMR ) a simple imaging measure for the clinical severity of Ebstein anomaly .\\n',\n",
              " 'RESULTS\\tTwenty-five patients at a mean age of @ years with unrepaired Ebstein anomaly were examined in a prospective study .\\n',\n",
              " 'RESULTS\\tDisease severity was classified using CMR volumes and functional measurements in comparison with heart failure markers from clinical data , ECG , laboratory and cardiopulmonary exercise testing , and echocardiography .\\n',\n",
              " 'RESULTS\\tAll examinations were completed within @ hours .\\n',\n",
              " 'RESULTS\\tA total right/left-volume index was defined from end-diastolic volume measurements in CMR : total right/left-volume index = ( RA + aRV + fRV ) / ( LA+LV ) .\\n',\n",
              " 'RESULTS\\tMean total right/left-volume index was @ ( normal values : @ ) .\\n',\n",
              " 'RESULTS\\tThis new total right/left-volume index correlated with almost all clinically used biomarkers of heart failure : brain natriuretic peptide ( r = @ ; P = @ ) , QRS ( r = @ ; P = @ ) , peak oxygen consumption/kg ( r = -@ ; P = @ ) , ventilatory response to carbon dioxide production at anaerobic threshold ( r = @ ; P = @ ) , the severity of tricuspid regurgitation ( r = @ ; P = @ ) , tricuspid valve offset ( r = @ ; P = @ ) , and tricuspid annular plane systolic excursion ( r = @ ; P = @ ) .\\n',\n",
              " 'RESULTS\\tPreviously described severity indices ( -LSB- RA + aRV -RSB- / -LSB- fRV + LA+LV -RSB- ) and fRV/LV end-diastolic volume corresponded only to some parameters .\\n',\n",
              " 'CONCLUSIONS\\tIn patients with Ebstein anomaly , the easily acquired index of right-sided to left-sided heart volumes from CMR correlated well with established heart failure markers .\\n',\n",
              " 'CONCLUSIONS\\tOur data suggest that the total right/left-volume index should be used as a new and simplified CMR measure , allowing more accurate assessment of disease severity than previously described scoring systems .\\n',\n",
              " '\\n',\n",
              " '###24947717\\n',\n",
              " 'OBJECTIVE\\tThis study sought to investigate the association of beta-blocker therapy at discharge with clinical outcomes in patients with ST-segment elevation myocardial infarction ( STEMI ) after primary percutaneous coronary intervention ( PCI ) .\\n',\n",
              " 'BACKGROUND\\tLimited data are available on the efficacy of beta-blocker therapy for secondary prevention in STEMI patients .\\n',\n",
              " 'METHODS\\tBetween November @ , @ and September @ , @ , @,@ patients were enrolled in nationwide , prospective , multicenter registries .\\n',\n",
              " 'METHODS\\tAmong these , we studied STEMI patients undergoing primary PCI who were discharged alive ( n = @,@ ) .\\n',\n",
              " 'METHODS\\tWe classified patients into the beta-blocker group ( n = @,@ ) and no-beta-blocker group ( n = @,@ ) according to the use of beta-blockers at discharge .\\n',\n",
              " 'METHODS\\tPropensity-score matching analysis was also performed in @,@ patient triplets .\\n',\n",
              " 'METHODS\\tThe primary outcome was all-cause death .\\n',\n",
              " 'RESULTS\\tThe median follow-up duration was @ days ( interquartile range : @ to @ days ) .\\n',\n",
              " 'RESULTS\\tAll-cause death occurred in @ patients ( @ % ) of the beta-blocker group versus @ patients ( @ % ) of the no-beta-blocker group ( p < @ ) .\\n',\n",
              " 'RESULTS\\tAfter @:@ propensity-score matching , beta-blocker therapy was associated with a lower incidence of all-cause death ( @ % vs. @ % , adjusted hazard ratio : @ , @ % confidence interval : @ to @ , p = @ ) .\\n',\n",
              " 'RESULTS\\tThe association with better outcome of beta-blocker therapy in terms of all-cause death was consistent across various subgroups , including patients with relatively low-risk profiles such as ejection fraction > @ % or single-vessel disease .\\n',\n",
              " 'CONCLUSIONS\\tBeta-blocker therapy at discharge was associated with improved survival in STEMI patients treated with primary PCI .\\n',\n",
              " 'CONCLUSIONS\\tOur results support the current American College of Cardiology/American Heart Association guidelines , which recommend long-term beta-blocker therapy in all patients with STEMI regardless of reperfusion therapy or risk profile .\\n',\n",
              " '\\n',\n",
              " '###24281275\\n',\n",
              " 'OBJECTIVE\\tLocal anesthetic wound infiltration is widely used as an effective adjunct during multimodal postoperative pain management .\\n',\n",
              " 'OBJECTIVE\\tThe aim of this study was to evaluate the effectiveness of continuous wound infusion of ropivacaine in postoperative pain relief , opioid sparing , incidence of nausea and vomiting , and bowel and liver function improvement in patients undergoing open hepatectomy .\\n',\n",
              " 'METHODS\\tForty patients undergoing open hepatectomy were enrolled in this prospective , randomized , double-blinded , placebo-controlled trial .\\n',\n",
              " 'METHODS\\tPatients were divided into @ groups : the @ % saline continuous infusion group ( the control group ; n = @ ) and the ropivacaine continuous infusion group ( the Ropi group ; n = @ ) .\\n',\n",
              " 'METHODS\\tOutcomes measured postoperatively were pain score at rest and on movement , sufentanil consumption , incidence of nausea and vomiting , and sedation score across @ postoperative hours .\\n',\n",
              " 'METHODS\\tTime to bowel recovery , liver function change , mean length of hospitalization , patient satisfaction , and other data after @ postoperative hours were collected until hospital discharge .\\n',\n",
              " 'RESULTS\\tPain scores at rest were lower for the ropivacaine group and reached significance after @ and @ hours ( P < @ ) .\\n',\n",
              " 'RESULTS\\tSufentanil consumption ( @ vs. @ g ; P < @ ) after @ hours , time to bowel recovery ( @ vs. @ d ; P < @ ) , incidence of nausea and vomiting ( @ vs. @ ; P < @ ) , and mean length of hospitalization ( @ vs. @ d ; P < @ ) were significantly reduced , and the sedation score and liver function change were also comparable between the @ groups .\\n',\n",
              " 'RESULTS\\tThere was no difference with respect to pain scores on movement , nor with respect to patient satisfaction .\\n',\n",
              " 'CONCLUSIONS\\tSurgical wound infusion with ropivacaine after hepatectomy can improve pain relief at rest and accelerate recovery and discharge .\\n',\n",
              " '\\n',\n",
              " '###24911353\\n',\n",
              " 'OBJECTIVE\\tTuberculosis ( TB ) is highly prevalent among HIV-infected people , including those receiving combination antiretroviral therapy ( cART ) , necessitating a well tolerated and efficacious TB vaccine for these populations .\\n',\n",
              " 'OBJECTIVE\\tWe evaluated the safety and immunogenicity of the candidate TB vaccine M@/AS@ in adults with well controlled HIV infection on cART .\\n',\n",
              " 'METHODS\\tA randomized , observer-blind , controlled trial ( NCT@ ) .\\n',\n",
              " 'METHODS\\tHIV-infected adults on cART in Switzerland were randomized @:@:@ to receive two doses , @ month apart , of M@/AS@ , AS@ or @ % physiological saline ( N = @ , N = @ and N = @ , respectively ) and were followed up to @ months postdose @ ( D@ ) .\\n',\n",
              " 'METHODS\\tIndividuals with CD@ cell counts below @ cells/l were excluded .\\n',\n",
              " 'METHODS\\tAdverse events ( AEs ) including HIV-specific and laboratory safety parameters were recorded .\\n',\n",
              " 'METHODS\\tCell-mediated ( ICS ) and humoral ( ELISA ) responses were evaluated before vaccination , @ month after each dose ( D@ , D@ ) and D@ .\\n',\n",
              " 'RESULTS\\tThirty-seven individuals -LSB- interquartile range ( IQR ) CD@ cell counts at screening : @-@ cells/l ; undetectable HIV-@ viremia -RSB- were enrolled ; @ % of individuals reported previous BCG vaccination , @ % tested negative for the QuantiFERON-TB assay .\\n',\n",
              " 'RESULTS\\tFor M@/AS@ recipients , no vaccine-related serious AEs or cART-regimen adjustments were recorded , and there were no clinically relevant effects on laboratory safety parameters , HIV-@ viral loads or CD@ cell counts .\\n',\n",
              " 'RESULTS\\tM@/AS@ was immunogenic , inducing persistent and polyfunctional M@-specific CD@ T-cell responses -LSB- medians @ % ( IQR @-@ @ ) at D@ -RSB- and @ % ( @-@ @ ) at D@ , predominantly CD@LIL-@TNF - , CD@LIL-@ and CD@LIL-@TNF-IFN - -RSB- .\\n',\n",
              " 'RESULTS\\tAll M@/AS@ vaccines were seropositive for anti-M@ IgG after second vaccination until study end .\\n',\n",
              " 'CONCLUSIONS\\tM@/AS@ was clinically well tolerated and immunogenic in this population , supporting further clinical evaluation in HIV-infected individuals in TB-endemic settings .\\n',\n",
              " '\\n',\n",
              " '###25318787\\n',\n",
              " 'OBJECTIVE\\tThe aim of this study was to investigate whether remedial hydration ( RH ) reduces the incidence of contrast-induced nephropathy ( CIN ) and short-term adverse events in ST-elevation myocardial infarction ( STEMI ) patients undergoing primary percutaneous coronary intervention ( PCI ) .\\n',\n",
              " 'METHODS\\tA total of @ consecutive STEMI patients were prospectively and randomly assigned into two groups : @ patients in the RH group and @ patients in the no RH ( control ) group .\\n',\n",
              " 'METHODS\\tThe serum creatinine ( SCr ) and creatinine clearance ( CCr ) levels were measured on admission and at @ , @ and @ hours after primary PCI .\\n',\n",
              " 'METHODS\\tThe rates of CIN and short-term adverse events were analyzed for each group .\\n',\n",
              " 'METHODS\\tAfter surgery , the patients were categorized into four groups according to the Mehran risk score : low ( @ , n = @ ) , moderate ( @-@ , n = @ ) , high ( @-@ , n = @ ) or very high ( @ , n = @ ) .\\n',\n",
              " 'RESULTS\\tThe incidence of CIN in the RH group was lower than that observed in the control group ( @/@ ; @ % vs. @/@ ; @ % , p < @ ) .\\n',\n",
              " 'RESULTS\\tThe subgroup analysis showed that the rate of CIN was lower in the moderate ( @/@ ; @ % vs. @/@ ; @ % , p < @ ) and significantly lower in both the high ( @/@ ; @ % vs. @/@ ; @ % , p < @ ) and very high score groups ( @/@ ; @ % vs. @/@ ; @ % , p < @ ) among the RH patients compared to the controls .\\n',\n",
              " 'RESULTS\\tAt @ , @ and @ hours after PCI , the patients in the RH group exhibited lower SCr levels and higher CCr levels than the patients in the control group ( both p < @ ) .\\n',\n",
              " 'RESULTS\\tA lower incidence of in-hospital clinical events was also observed in the RH group .\\n',\n",
              " 'CONCLUSIONS\\tRemedial hydration decreases the occurrence of CIN and improves the short-term prognosis of STEMI patients undergoing primary PCI .\\n',\n",
              " '\\n',\n",
              " '###24396280\\n',\n",
              " 'BACKGROUND\\tAn increased production of oxidizing species related to reactive oral diseases , such as chronic apical periodontitis , could have systemic implications such as an increase in cardiovascular morbidity .\\n',\n",
              " 'BACKGROUND\\tBased on this consideration , we conducted a prospective study to assess whether subjects affected by chronic periodontitis presented with higher values of oxidative stress than reference values before endodontic treatment , and whether endodontic treatment can reduce the oxidative imbalance and bring it back to normal in these subjects .\\n',\n",
              " 'METHODS\\tThe authors recruited @ groups of patients from private studies and dental clinics : these patients were recruited randomly .\\n',\n",
              " 'METHODS\\tThe oxidative balance in both patients with chronic apical periodontitis ( CAP ) and healthy control patients was determined by measuring the oxidant status , using an identification of the reactive oxygen metabolites ( d-ROMs ) test , while the antioxidant status in these patients was determined using a biological antioxidant potential ( BAP ) test .\\n',\n",
              " 'METHODS\\tBoth these tests were carried on plasma samples taken from enrolled patients .\\n',\n",
              " 'METHODS\\tValues were measured both before the endodontic treatment of the patients with chronic apical periodontitis , and @ and @ days after treatment , and compared to those obtained from healthy control patients .\\n',\n",
              " 'RESULTS\\tIt was found that , on recruitment , the patients with chronic apical periodontitis exhibited significantly higher levels of oxidative stress than control patients , as determined by the d-ROMs and BAP tests .\\n',\n",
              " 'RESULTS\\tFurthermore , the d-ROMs test values were shown to decrease and the BAP test values to increase over time in patients with chronic apical periodontitis following endodontic therapy .\\n',\n",
              " 'RESULTS\\tAs the levels of oxidative stress in these patients tended to reduce and return to normal by @ days following treatment .\\n',\n",
              " 'CONCLUSIONS\\tThis study has demonstrated a positive association between chronic apical periodontitis and oxidative stress .\\n',\n",
              " 'CONCLUSIONS\\tSubjects affected by chronic apical periodontitis are exposed to a condition of oxidative stress , which is extremely dangerous to general health .\\n',\n",
              " 'CONCLUSIONS\\tMoreover , one can infer from these findings that through proper endodontic therapy , a good oxidative balance can be restored , thereby avoiding the risk of contracting the abovementioned diseases .\\n',\n",
              " '\\n',\n",
              " '###24731889\\n',\n",
              " 'BACKGROUND\\tPlacebo effect has been largely studied and debated in medicine .\\n',\n",
              " 'BACKGROUND\\tResearch focused mainly on children and adults but not on newborns .\\n',\n",
              " 'BACKGROUND\\tIn osteopathy , few studies documented this effect and no research has been conducted in newborns .\\n',\n",
              " 'OBJECTIVE\\tTo assess the presence of placebo effect in newborns using sham osteopathic manipulative treatment .\\n',\n",
              " 'METHODS\\tRandomized control trial .\\n',\n",
              " 'METHODS\\tNeonatal Intensive Care Unit in Italy .\\n',\n",
              " 'METHODS\\tTwo groups ( @ patients each ) of preterm infants aged @-@ weeks without medical complications received routine pediatric care and osteopathic sham therapy was administrated to the study group only for the entire period of hospitalization .\\n',\n",
              " 'METHODS\\tPrimary end point was the mean reduction of length of stay at discharge .\\n',\n",
              " 'METHODS\\tSecondary objective was the change in daily weight gain .\\n',\n",
              " 'RESULTS\\t@ newborns entered the study .\\n',\n",
              " 'RESULTS\\tNo difference between sham and control group was found for the primary outcome length of stay ( @ ; @ ; p = @ ) .\\n',\n",
              " 'RESULTS\\tMultivariate analysis showed no difference between study and control group on length of stay .\\n',\n",
              " 'RESULTS\\tA negative association was found for gestational age ( -@ ; @ % CI -@ to -@ ; p = @ ) , birth weight ( -@ ; @ % CI -@ to -@ ; p < @ ) and milk volume at study enrollment ( -@ ; @ % CI -@ to -@ ; p = @ ) .\\n',\n",
              " 'CONCLUSIONS\\tTo the best of our knowledge , this study is the first in the field showing no placebo effect on newborns .\\n',\n",
              " 'CONCLUSIONS\\tFurther discussions are opened concerning the age when placebo effect starts .\\n',\n",
              " '\\n',\n",
              " '###25880933\\n',\n",
              " 'BACKGROUND\\tClostridium difficile infection ( CDI ) is a leading cause of diarrhoea in health care settings with symptoms ranging from mild and self-limiting to life threatening .\\n',\n",
              " 'BACKGROUND\\tSMT@ is a novel , non-absorbable antibiotic currently under development for the treatment of CDI .\\n',\n",
              " 'BACKGROUND\\tHere we report the results from a Phase I study .\\n',\n",
              " 'METHODS\\tA double-blind , randomized , placebo-controlled study assessing safety and tolerability of single and multiple oral doses of SMT@ in healthy volunteers .\\n',\n",
              " 'METHODS\\tPharmacokinetic assessments included blood and faecal sampling .\\n',\n",
              " 'METHODS\\tThe effect of food on systemic exposure and analysis of the gut microbiota were also included .\\n',\n",
              " 'RESULTS\\tFifty-six healthy male subjects were enrolled .\\n',\n",
              " 'RESULTS\\tFollowing single oral doses of up to @,@ mg in the fasted state , plasma concentrations of SMT@ were generally below the lower limit of quantification .\\n',\n",
              " 'RESULTS\\tIn the fed state levels ranged from @ to @ ng/mL after single dosing and after repeat dosing at Day @ from @ to @ ng/mL .\\n',\n",
              " 'RESULTS\\tFollowing single and multiple oral doses of SMT@ , mean daily faecal concentrations increased with increasing dose level and were significantly above the typical MIC range for C. difficile ( @-@ @ g/mL ) .\\n',\n",
              " 'RESULTS\\tAt @ mg BID , mean ( SD ) faecal concentrations of @,@ ( @ ) g/g and @,@ ( @ ) g/g were determined on days @ and @ of dosing respectively .\\n',\n",
              " 'RESULTS\\tNo notable metabolites were detected in faeces .\\n',\n",
              " 'RESULTS\\tOverall , all doses of SMT@ were well tolerated both as single oral doses or BID oral doses for @ days .\\n',\n",
              " 'RESULTS\\tThe majority ( @ % ) of adverse events ( AEs ) were classified as gastrointestinal disorders and were mild in severity , resolving without treatment .\\n',\n",
              " 'RESULTS\\tThe gut microbiota was analysed in the multiple dose groups with minimal changes observed in the bacterial groups analysed except for total clostridia which were reduced to below the limit of detection by day @ of dosing .\\n',\n",
              " 'CONCLUSIONS\\tOral administration of SMT@ was considered safe and well tolerated and was associated with negligible plasma concentrations after single and multiple doses .\\n',\n",
              " 'CONCLUSIONS\\tIn addition , minimal disruption of normal gut microbiota was noted , confirming the highly selective spectrum of the compound .\\n',\n",
              " 'CONCLUSIONS\\tThese results support the further clinical development of SMT@ as an oral therapy for CDI .\\n',\n",
              " 'BACKGROUND\\tCurrent Controlled Trials .\\n',\n",
              " 'BACKGROUND\\tISRCTN@ .\\n',\n",
              " '\\n',\n",
              " '###25231496\\n',\n",
              " 'BACKGROUND\\tWhile overall survival for most common cancers in Australia is improving , the rural-urban differential has been widening , with significant excess deaths due to lung , colorectal , breast and prostate cancer in regional Australia .\\n',\n",
              " 'BACKGROUND\\tInternationally a major focus on understanding variations in cancer outcomes has been later presentation to healthcare and later diagnosis .\\n',\n",
              " 'BACKGROUND\\tApproaches to reducing time to diagnosis of symptomatic cancer include public symptom awareness campaigns and interventions in primary care to improve early cancer detection .\\n',\n",
              " 'BACKGROUND\\tThis paper reports the protocol of a factorial cluster-randomised trial of community and general practice ( GP ) level interventions to reduce the time to diagnosis of cancer in rural Western Australia ( WA ) .\\n',\n",
              " 'METHODS\\tThe community intervention is a symptom awareness campaign tailored for rural Australians delivered through a community engagement model .\\n',\n",
              " 'METHODS\\tThe GP intervention includes a resource card with symptom risk assessment charts and local referral pathways implemented through multiple academic detailing visits and case studies .\\n',\n",
              " 'METHODS\\tParticipants are eligible if recently diagnosed with breast , colorectal , lung or prostate cancer who reside in specific regions of rural WA with a planned sample size of @ .\\n',\n",
              " 'METHODS\\tThe primary outcome is the Total Diagnostic Interval , defined as the duration from first symptom ( or date of cancer screening test ) to cancer diagnosis .\\n',\n",
              " 'METHODS\\tSecondary outcomes include cancer stage , healthcare utilisation , disease-free status , survival at @ and @years and cost-effectiveness .\\n',\n",
              " 'BACKGROUND\\tEthics approval has been granted by the University of Western Australia and from all relevant hospital recruitment sites in WA .\\n',\n",
              " 'RESULTS\\tResults of this trial will be reported in peer-reviewed publications and in conference presentations .\\n',\n",
              " 'BACKGROUND\\tAustralian New Zealand Clinical Trials Registry ( ANZCTR ) .\\n',\n",
              " 'BACKGROUND\\tACTRN@ .\\n',\n",
              " '\\n',\n",
              " '###26024687\\n',\n",
              " 'BACKGROUND\\tThis study aimed to evaluate whether incidental CT findings of emphysema , airway thickening and bronchiectasis , as seen on CT scans performed for other non-pulmonary clinical indications , are associated with future acute exacerbations of COPD resulting in hospitalisation or death .\\n',\n",
              " 'METHODS\\tThis multicentre prospective case-cohort study comprised @ subjects who underwent routine diagnostic chest CT for non-pulmonary indications .\\n',\n",
              " 'METHODS\\tUsing a case-cohort approach , we visually graded CT scans from cases and a random sample of @ % of the baseline cohort ( n = @ ) for emphysema severity ( range @-@ ) , airway thickening ( range @-@ ) and bronchiectasis ( range @-@ ) .\\n',\n",
              " 'METHODS\\tWe used weighted Cox proportional hazards analysis to assess the independent association between CT findings and hospitalisation or death due to COPD exacerbation .\\n',\n",
              " 'RESULTS\\tDuring a median follow-up of @ years ( maximum @ years ) , @ COPD events were identified .\\n',\n",
              " 'RESULTS\\tThe risk of experiencing a future acute exacerbation of COPD resulting in hospitalisation or death was significantly increased in subjects with severe emphysema ( score @ ) and severe airway thickening ( score @ ) .\\n',\n",
              " 'RESULTS\\tThe respective HRs were @ ( @ % CI @ to @ ) and @ ( @ % CI @ to @ ) .\\n',\n",
              " 'RESULTS\\tSevere bronchiectasis ( score @ ) was not significantly associated with increased risk of adverse events ( HR @ ; @ % CI @ to @ ) .\\n',\n",
              " 'CONCLUSIONS\\tMorphological correlates of COPD such as emphysema and airway thickening detected on CT scans obtained for other non-pulmonary indications are strong independent predictors of subsequent development of acute exacerbations of COPD resulting in hospitalisation or death .\\n',\n",
              " '\\n',\n",
              " '###24851690\\n',\n",
              " 'OBJECTIVE\\tTo explore the feasibility of making a preoperative diagnosis of lung adenocarcinoma shown as ground-glass nodule ( GGN ) on computed tomography ( CT ) .\\n',\n",
              " 'METHODS\\tA total of @ GGN lesions proved pathologically were divided randomly into A and B groups .\\n',\n",
              " 'METHODS\\tThen each group was further divided pathologically into preinvasive lesion , minimal invasive adenocarcinoma ( MIA ) and invasive adenocarcinoma ( IAC ) subgroups .\\n',\n",
              " 'METHODS\\tGroup A ( n = @ ) , size of lesion , proportion of ground glass opacity ( GGO ) composition of lesion , long diameter , longest diameter and size of solid component in lesion were measured on CT so as to establish the CT diagnostic standard of lung adenocarcinoma shown as GGN on CT. .\\n',\n",
              " 'METHODS\\tGroup B ( n = @ ) was employed to evaluate the accuracy of the above CT diagnostic standard .\\n',\n",
              " 'METHODS\\tSPSS @ software was used for statistical analysis .\\n',\n",
              " 'RESULTS\\tSignificant statistic significance existed in all parameters among all groups ( P < @ ) .\\n',\n",
              " 'RESULTS\\tAll parameters were correlated the pathologic type of lesion .\\n',\n",
              " 'RESULTS\\tThe differences were statistically significant ( P = @ ) .\\n',\n",
              " 'RESULTS\\tThrough the receiver operating characteristic ( ROC ) curve , between groups of preinvasive lesion and MIA , each parameter had a medium diagnostic value of @-@ @ ; between groups of MIA and IAC , size of lesion and long diameter of solid component in lesion had a medium diagnostic value of @-@ @ , longest diameter of solid component , size of solid component in lesion and proportion of GGO composition of lesion had a high diagnostic value with an AUC of > @ .\\n',\n",
              " 'RESULTS\\tThe CT diagnostic standard , derived from group A , was used to analyze the pathologic type of group B. And t no significant statistic significance existed between CT preoperative diagnosis and operative pathologic diagnosis ( P > @ ) .\\n',\n",
              " 'RESULTS\\tThe correct diagnosis rates of size of lesion , proportion of GGO composition of lesion , long diameter , longest diameter and size of solid component in lesion were @ % , @ % , @ % , @ % and @ % respectively .\\n',\n",
              " 'CONCLUSIONS\\tBased upon size of lesion , proportion of GGO composition of lesion , long diameter , longest diameter and size of solid component in lesion , preoperative CT examination may be used to determine the pathological types of lung adenocarcinoma shown as GGN .\\n',\n",
              " '\\n',\n",
              " '###25883103\\n',\n",
              " 'OBJECTIVE\\tTonsillectomy surgery is associated with severe postoperative pain that usually requires analgesics including opioids .\\n',\n",
              " 'OBJECTIVE\\tPain control is still a big problem after tonsillectomy surgery .\\n',\n",
              " 'OBJECTIVE\\tWe aimed to evaluate the efficacy of preemptive analgesia using montelukast for pediatric post-tonsillectomy pain management .\\n',\n",
              " 'OBJECTIVE\\tThis is the first-time use of montelukast in post-tonsillectomy pain .\\n',\n",
              " 'METHODS\\tDouble-blind , controlled-randomized study .\\n',\n",
              " 'METHODS\\tUniversity teaching and research hospital .\\n',\n",
              " 'METHODS\\tA total of @ children , aged @ to @ years , American Society of Anesthesiologist class I-II , scheduled for elective tonsillectomy were enrolled in this clinical trial study .\\n',\n",
              " 'METHODS\\tThe patients were randomized into @ groups : the montelukast group ( group M , n = @ ) and control group ( group C , n = @ ) .\\n',\n",
              " 'METHODS\\tGroup M recieved an oral montelukast tablet and group C recieved placebo at @pm on the morning before surgery .\\n',\n",
              " 'METHODS\\tPost-tonsillectomy pain was evaluated with the Wong-Baker FACES Scale during the @ hours after surgery .\\n',\n",
              " \"METHODS\\tPatients ' intraoperative hemodynamic parameters and intraoperative and postoperative complications were recorded .\\n\",\n",
              " 'RESULTS\\tThere were statistically significant differences between group C and group M for Wong-Baker FACES pain rating scale scores ( P < @ ) .\\n',\n",
              " 'RESULTS\\tIn the @ hours after surgery , the total number of patients using rescue analgesics was higher in group C than in group M , and the difference was statistically significant ( P < @ ) .\\n',\n",
              " 'RESULTS\\tThere was no significant difference in demographic parameters ( P > @ ) .\\n',\n",
              " 'RESULTS\\tThere were no significant differences in postoperative nausea and vomiting , otalgia , trismus , fever , or halitosis between the groups ( P > @ ) .\\n',\n",
              " 'CONCLUSIONS\\tPreemptive montelukast can be used safely to reduce the serious pain caused by tonsillectomy in children .\\n',\n",
              " '\\n',\n",
              " '###24318863\\n',\n",
              " 'OBJECTIVE\\tMetastatic colon cancer patients are treated with the chemotherapy regimens , FOLFOX and FOLFIRI , in either order .\\n',\n",
              " 'OBJECTIVE\\tSo far , we can not predict the response of chemotherapeutic agent , so it is necessary to find which regimen is adequate before starting chemotherapy .\\n',\n",
              " 'METHODS\\tEnrolled patients are randomized into either conventional treatment or planned treatment preceded by pretreatment genetic analysis .\\n',\n",
              " 'METHODS\\tBlood samples of patients in planned treatment group ( N = @ ) were analyzed for the genetic polymorphism before selection of chemotherapeutic agents .\\n',\n",
              " 'METHODS\\tTarget genes were XPD-@ , GSTP-@-@ , XRCC@-@ for oxaliplatin , UGT@A@ for irinotecan .\\n',\n",
              " 'METHODS\\tThe response was measured by computed tomographic scan after completion of three cycles of chemotherapy .\\n',\n",
              " 'RESULTS\\tOverall response rate was significantly higher in planned group ( @ % vs. @ % , P = @ ) .\\n',\n",
              " 'RESULTS\\tIn FOLFOX group , response rate was significantly improved in the planned patients ( @ % vs. @ % , P = @ ) .\\n',\n",
              " \"RESULTS\\tIn FOLFIRI group , the difference did n't reach statistical significance ( @ % vs. @ % , P = @ ) .\\n\",\n",
              " 'CONCLUSIONS\\tWe found significantly improved response rates in the chemotherapy of metastatic colon cancer by pretreatment genetic analysis , especially in FOLFOX group .\\n',\n",
              " '\\n',\n",
              " '###25872502\\n',\n",
              " 'BACKGROUND\\tCardiac arrest causes ischaemic brain injury .\\n',\n",
              " 'BACKGROUND\\tArterial carbon dioxide tension ( PaCO@ ) is a major determinant of cerebral blood flow .\\n',\n",
              " 'BACKGROUND\\tThus , mild hypercapnia in the @ h following cardiac arrest may increase cerebral blood flow and attenuate such injury .\\n',\n",
              " 'BACKGROUND\\tWe describe the Carbon Control and Cardiac Arrest ( CCC ) trial .\\n',\n",
              " 'METHODS\\tThe CCC trial is a pilot multicentre feasibility , safety and biological efficacy randomized controlled trial recruiting adult cardiac arrest patients admitted to the intensive care unit after return of spontaneous circulation .\\n',\n",
              " 'METHODS\\tAt admission , using concealed allocation , participants are randomized to @ h of either normocapnia ( PaCO@ @ to @ mmHg ) or mild hypercapnia ( PaCO@ @ to @ mmHg ) .\\n',\n",
              " 'METHODS\\tKey feasibility outcomes are recruitment rate and protocol compliance rate .\\n',\n",
              " 'METHODS\\tThe primary biological efficacy and biological safety measures are the between-groups difference in serum neuron-specific enolase and S@b protein levels at @ h , @ h and @ h. Secondary outcome measure include adverse events , in-hospital mortality , and neurological assessment at @ months .\\n',\n",
              " 'CONCLUSIONS\\tThe trial commenced in December @ and , when completed , will provide clinical evidence as to whether targeting mild hypercapnia for @ h following intensive care unit admission for cardiac arrest patients is feasible and safe and whether it results in decreased concentrations of neurological injury biomarkers compared with normocapnia .\\n',\n",
              " 'CONCLUSIONS\\tTrial results will also be used to determine whether a phase IIb study powered for survival at @ days is feasible and justified .\\n',\n",
              " 'BACKGROUND\\tAustralian New Zealand Clinical Trials Registry ACTRN@ .\\n',\n",
              " '\\n',\n",
              " '###24226487\\n',\n",
              " 'BACKGROUND\\tFor decades thiopental has been considered as the hypnotic drug of choice for intracranial surgery .\\n',\n",
              " 'BACKGROUND\\tHowever , total intravenous anesthesia performed with thiopental is associated with delayed recovery , whereas early post-operative neurological evaluation is critical .\\n',\n",
              " 'BACKGROUND\\tFor this reason , target controlled infusion ( TCI ) of propofol is increasingly used for maintenance of anesthesia .\\n',\n",
              " 'BACKGROUND\\tHowever , a thiopental TCI has never been assessed for this purpose .\\n',\n",
              " 'BACKGROUND\\tWe tested the hypothesis that a thiopental TCI provides an acceptable way to achieve early recovery compared to a propofol TCI during supratentorial surgery .\\n',\n",
              " 'METHODS\\tEighty patients undergoing elective craniotomy for a supratentorial tumor were randomized to receive either a propofol TCI ( group P ) or a thiopental TCI ( group T ) .\\n',\n",
              " 'METHODS\\tBoth groups received a sufentanil TCI and the bispectral index was monitored .\\n',\n",
              " 'METHODS\\tThe primary end-point was time to tracheal extubation .\\n',\n",
              " 'METHODS\\tSecondary end-points were per - and post-operative hemodynamics as well as respiratory and recovery parameters .\\n',\n",
              " 'METHODS\\tAssessment of study end-points was performed by an intensive care specialist blinded ( like the patient ) to the received hypnotic .\\n',\n",
              " 'RESULTS\\tTime to extubation was significantly ( P < @ ) shorter in group P ( median @ minutes ; interquartile range @-@ minutes ) than in group T ( median @ minutes ; interquartile range @-@ minutes ) .\\n',\n",
              " 'RESULTS\\tSimilarly , the recovery parameters were significantly better in group P than in group T.\\n',\n",
              " 'RESULTS\\tThere was no difference between groups in terms of patient characteristics and hemodynamic parameters .\\n',\n",
              " 'CONCLUSIONS\\tEven with TCI and bispectral index monitoring , thiopental is associated with an inappropriate delayed recovery from supratentorial surgery compared to propofol TCI .\\n',\n",
              " '\\n',\n",
              " '###25539560\\n',\n",
              " 'OBJECTIVE\\tTo investigate the effects of conservative therapy applied before arthroscopic subacromial decompression on the clinical outcome in patients with stage @ shoulder impingement syndrome .\\n',\n",
              " 'METHODS\\tSixty-eight patients having stage @ shoulder impingement syndrome and treated with arthroscopic subacromial decompression were included in the study .\\n',\n",
              " 'METHODS\\tWe divided these patients into @ groups , whereby @ ( @ % ) patients received conservative therapy before arthroscopic subacromial decompression and @ ( @ % ) patients did not receive conservative therapy .\\n',\n",
              " 'METHODS\\tWe compared both groups in terms of the the Constant , UCLA , and VAS scores for shoulder pain before and after arthroscopic subacromial decompression .\\n',\n",
              " 'RESULTS\\tConstant , UCLA , and VAS scores were statistically significantly improved in both groups after arthroscopic subacromial decompression ( P < @ ) .\\n',\n",
              " 'RESULTS\\tConstant , UCLA , and VAS scores before arthroscopic subacromial decompression were statistically better in Group @ than in Group @ ( P < @ ) .\\n',\n",
              " 'RESULTS\\tNo statistically significant difference was found between the groups in terms of Constant , UCLA , and VAS scores after arthroscopic subacromial decompression ( P > @ ) .\\n',\n",
              " 'CONCLUSIONS\\tConservative therapy applied in patients with stage @ shoulder impingement syndrome before arthroscopic subacromial decompression does not have a positive contribution on the clinical outcome after arthroscopic subacromial decompression .\\n',\n",
              " '\\n',\n",
              " '###24401051\\n',\n",
              " 'BACKGROUND\\tObstructive sleep apnea is associated with considerable health risks .\\n',\n",
              " 'BACKGROUND\\tAlthough continuous positive airway pressure ( CPAP ) can mitigate these risks , effectiveness can be reduced by inadequate adherence to treatment .\\n',\n",
              " 'BACKGROUND\\tWe evaluated the clinical safety and effectiveness of upper-airway stimulation at @ months for the treatment of moderate-to-severe obstructive sleep apnea .\\n',\n",
              " 'METHODS\\tUsing a multicenter , prospective , single-group , cohort design , we surgically implanted an upper-airway stimulation device in patients with obstructive sleep apnea who had difficulty either accepting or adhering to CPAP therapy .\\n',\n",
              " 'METHODS\\tThe primary outcome measures were the apnea-hypopnea index ( AHI ; the number of apnea or hypopnea events per hour , with a score of @ indicating moderate-to-severe apnea ) and the oxygen desaturation index ( ODI ; the number of times per hour of sleep that the blood oxygen level drops by @ percentage points from baseline ) .\\n',\n",
              " 'METHODS\\tSecondary outcome measures were the Epworth Sleepiness Scale , the Functional Outcomes of Sleep Questionnaire ( FOSQ ) , and the percentage of sleep time with the oxygen saturation less than @ % .\\n',\n",
              " 'METHODS\\tConsecutive participants with a response were included in a randomized , controlled therapy-withdrawal trial .\\n',\n",
              " 'RESULTS\\tThe study included @ participants ; @ % were men .\\n',\n",
              " 'RESULTS\\tThe mean age was @ years , and the mean body-mass index ( the weight in kilograms divided by the square of the height in meters ) was @ .\\n',\n",
              " 'RESULTS\\tThe median AHI score at @ months decreased @ % , from @ events per hour to @ events per hour ( P < @ ) ; the ODI score decreased @ % , from @ events per hour to @ events per hour ( P < @ ) .\\n',\n",
              " 'RESULTS\\tSecondary outcome measures showed a reduction in the effects of sleep apnea and improved quality of life .\\n',\n",
              " 'RESULTS\\tIn the randomized phase , the mean AHI score did not differ significantly from the @-month score in the nonrandomized phase among the @ participants in the therapy-maintenance group ( @ and @ events per hour , respectively ) ; the AHI score was significantly higher ( indicating more severe apnea ) among the @ participants in the therapy-withdrawal group ( @ vs. @ events per hour , P < @ ) .\\n',\n",
              " 'RESULTS\\tThe ODI results followed a similar pattern .\\n',\n",
              " 'RESULTS\\tThe rate of procedure-related serious adverse events was less than @ % .\\n',\n",
              " 'CONCLUSIONS\\tIn this uncontrolled cohort study , upper-airway stimulation led to significant improvements in objective and subjective measurements of the severity of obstructive sleep apnea .\\n',\n",
              " 'CONCLUSIONS\\t( Funded by Inspire Medical Systems ; STAR ClinicalTrials.gov number , NCT@ . )\\n',\n",
              " '\\n',\n",
              " '###26126563\\n',\n",
              " 'OBJECTIVE\\tTo identify facilitators and barriers to clinical trial implementation in Aboriginal health services .\\n',\n",
              " 'METHODS\\tIndepth interview study with thematic analysis .\\n',\n",
              " 'METHODS\\tSix Aboriginal community-controlled health services and one government-run service involved in the Kanyini Guidelines Adherence with the Polypill ( KGAP ) study , a pragmatic randomised controlled trial that aimed to improve adherence to indicated drug treatments for people at high risk of cardiovascular disease .\\n',\n",
              " 'METHODS\\t@ health care providers and @ Aboriginal and Torres Strait Islander patients .\\n',\n",
              " 'RESULTS\\tA fundamental enabler was that participants considered the research to be governed and endorsed by the local health service .\\n',\n",
              " 'RESULTS\\tThat the research was perceived to address a health priority for communities was also highly motivating for both providers and patients .\\n',\n",
              " 'RESULTS\\tEnlisting the support of Aboriginal and Torres Strait Islander staff champions who were visible to the community as the main source of information about the trial was particularly important .\\n',\n",
              " 'RESULTS\\tThe major implementation barrier for staff was balancing their service delivery roles with adherence to often highly demanding trial-related procedures .\\n',\n",
              " \"RESULTS\\tThis was partially alleviated by the research team 's provision of onsite support and attempts to make trial processes more streamlined .\\n\",\n",
              " 'RESULTS\\tAlthough more intensive support was highly desired , there were usually insufficient resources to provide this .\\n',\n",
              " 'CONCLUSIONS\\tDespite strong community and health service support , major investments in time and resources are needed to ensure successful implementation and minimal disruption to already overstretched , routine services .\\n',\n",
              " 'CONCLUSIONS\\tTrial budgets will necessarily be inflated as a result .\\n',\n",
              " 'CONCLUSIONS\\tFunding agencies need to consider these additional resource demands when supporting trials of a similar nature .\\n',\n",
              " '\\n',\n",
              " '###24693629\\n',\n",
              " 'OBJECTIVE\\tTo compare the effect of incomplete caries removal ( ICR ) and indirect pulp capping ( IPC ) with calcium hydroxide ( CH ) or an inert material ( wax ) on color , consistency and contamination of the remaining dentin of primary molars .\\n',\n",
              " 'METHODS\\tThis double-blind , parallel-design , randomized controlled trial included @ children presenting one primary molar with deep caries lesion .\\n',\n",
              " 'METHODS\\tChildren were randomly assigned after ICR to receive IPC with CH or wax .\\n',\n",
              " 'METHODS\\tAll teeth were then restored with resin composite .\\n',\n",
              " 'METHODS\\tBaseline dentin color and consistency were evaluated after ICR , and dentin samples were collected for contamination analyses using scanning electron microscopy .\\n',\n",
              " 'METHODS\\tAfter @ months , restorations were removed and the three parameters were re-evaluated .\\n',\n",
              " 'METHODS\\tIn both groups , dentin became significantly darker after @ months .\\n',\n",
              " 'RESULTS\\tNo cases of yellow dentin were observed after @ months with CH compared to @ % of the wax cases ( P < @ ) .\\n',\n",
              " 'RESULTS\\tA statistically significant difference over time was observed only for CH regarding consistency .\\n',\n",
              " 'RESULTS\\tCH stimulated a dentin hardening process in a statistically higher number of cases than wax ( @ % vs. @ % ; P = @ ) .\\n',\n",
              " 'RESULTS\\tContamination changed significantly over time in CH and wax without significant difference between groups .\\n',\n",
              " 'RESULTS\\tIt was concluded that CH and wax arrested the carious process of the remaining carious dentin after indirect pulp capping , but CH showed superior dentin color and consistency after @ months .\\n',\n",
              " '\\n',\n",
              " '###24996519\\n',\n",
              " 'BACKGROUND\\tIn literature there is a general consensus that the use of the mirror improves proprioception .\\n',\n",
              " 'BACKGROUND\\tDuring rehabilitation the mirror is an important instrument to improve stability .\\n',\n",
              " 'BACKGROUND\\tIn some sports , such as dancing , mirrors are widely used during training .\\n',\n",
              " 'BACKGROUND\\tThe purpose of this study is to evaluate the effectiveness of the use of a mirror on balance in young dancers .\\n',\n",
              " 'BACKGROUND\\tSixty-four young dancers ( ranging from @-@ years ) were included in this study .\\n',\n",
              " 'BACKGROUND\\tThirty-two attending lessons with a mirror ( mirror - group ) were compared to @ young dancers that attended the same lessons without a mirror ( non-mirror group ) .\\n',\n",
              " 'BACKGROUND\\tBalance was evaluated by BESS ( Balance Error Scoring System ) , which consists of three stances ( double limb , single limb , and tandem ) on two surfaces ( firm and foam ) .\\n',\n",
              " 'BACKGROUND\\tThe errors were assessed at each stance and summed to create the two subtotal scores ( firm and foam surface ) and the final total score ( BESS ) .\\n',\n",
              " 'BACKGROUND\\tThe BESS was performed at recruitment ( T@ ) and after @months of dance lessons ( T@ ) .\\n',\n",
              " 'RESULTS\\tThe repeated measures ANOVA analysis showed that for the BESS total score there is a difference due to the time ( F = @ ; p < @ ) .\\n',\n",
              " 'RESULTS\\tNo other differences due to the group or to the time of measurement were found ( p > @ ) .\\n',\n",
              " 'RESULTS\\tThe analysis of the multiple regression model showed the influence of the values at T@ for every BESS items and the dominance of limb for stability on an unstable surface standing on one or two legs .\\n',\n",
              " 'CONCLUSIONS\\tThese preliminary results suggest that the use of a mirror in a ballet classroom does not improve balance acquisition of the dancer .\\n',\n",
              " 'CONCLUSIONS\\tOn the other hand , improvement found after @months confirms that at the age of the dancers studied motor skills and balance can easily be trained and improved .\\n',\n",
              " '\\n',\n",
              " '###25440306\\n',\n",
              " 'OBJECTIVE\\tLong-term follow-up studies documenting maintenance of treatment effects are fewin adolescent anorexia nervosa ( AN ) .\\n',\n",
              " 'OBJECTIVE\\tThis exploratory study reports relapse from full remission and attainment of remission during a @-year open follow-up period using a convenience sample of a subgroup of @ % ( n = @ ) from an original cohort of @ participants who completed a randomized clinical trial comparing family-based therapy ( FBT ) and adolescent-focused individual therapy ( AFT ) .\\n',\n",
              " 'METHODS\\tFollow-up assessments were completed up to @years posttreatment ( average , @ years ) .\\n',\n",
              " 'METHODS\\tAvailable participants completed the Eating Disorder Examination as well as self-report measures of self-esteem and depression at @ to @ years posttreatment .\\n',\n",
              " 'RESULTS\\tTwo participants ( @ % ) relapsed ( FBT : n = @ , @ % ; AFT : n = @ , @ % ) , on average @ years ( SD = @ years ) after remission was achieved at @-year follow-up .\\n',\n",
              " 'RESULTS\\tTen new participants ( @ % ) achieved remission ( FBT : n = @ , @ % ; AFT : n = @ , @ % ) .\\n',\n",
              " 'RESULTS\\tMean time to remission for this group was @ years ( SD = @ years ) from @-year follow-up .\\n',\n",
              " 'RESULTS\\tThere were no differences based on treatment group assignment in either relapse from full remission or new remission during long-term follow-up .\\n',\n",
              " 'RESULTS\\tOther psychopathology was stable over time .\\n',\n",
              " 'CONCLUSIONS\\tThere were few changes in the clinical presentation of participants who were assessed at long-term follow-up .\\n',\n",
              " 'CONCLUSIONS\\tThese data suggest that outcomes are generally stable posttreatment regardless of treatment type once remission is achieved .\\n',\n",
              " 'CONCLUSIONS\\tClinical trial registration information-Effectiveness of Family-Based Versus Individual Psychotherapy in Treating Adolescents With Anorexia Nervosa ; http://www.clinicaltrials.gov/; NCT@ .\\n',\n",
              " '\\n',\n",
              " '###24754891\\n',\n",
              " 'BACKGROUND\\tCoronary artery bypass grafting using the radial artery has , since the @s , gone through a revival .\\n',\n",
              " 'BACKGROUND\\tObservational studies have indicated better long-term patency when using radial arteries .\\n',\n",
              " 'BACKGROUND\\tTherefore , radial artery might be preferred especially in younger patients where long time patency is important .\\n',\n",
              " 'BACKGROUND\\tDuring the last @years different endoscopic techniques to harvest the radial artery have evolved .\\n',\n",
              " 'BACKGROUND\\tEndoscopic radial artery harvest only requires a small incision near the wrist in contrast to open harvest , which requires an incision from the elbow to the wrist .\\n',\n",
              " 'BACKGROUND\\tHowever , it is unknown whether the endoscopic technique results in fewer complications or a graft patency comparable to open harvest .\\n',\n",
              " 'BACKGROUND\\tWhen the radial artery has been harvested , there are two ways to use the radial artery as a graft .\\n',\n",
              " 'BACKGROUND\\tOne way is sewing it onto the aorta and another is sewing it onto the mammary artery .\\n',\n",
              " 'BACKGROUND\\tIt is unknown which technique is the superior revascularisation technique .\\n',\n",
              " 'METHODS\\tThe NEO Trial is a randomised clinical trial with a @ factorial design .\\n',\n",
              " 'METHODS\\tWe plan to randomise @ participants into four intervention groups : ( @ ) mammario-radial endoscopic group ; ( @ ) aorto-radial endoscopic group ; ( @ ) mammario-radial open surgery group ; and ( @ ) aorto-radial open surgery group.The hand function will be assessed by a questionnaire , a clinical examination , the change in cutaneous sensibility , and the measurement of both sensory and motor nerve conduction velocity at @months postoperatively .\\n',\n",
              " 'METHODS\\tAll the postoperative complications will be registered , and we will evaluate muscular function , scar appearance , vascular supply to the hand , and the graft patency including the patency of the central radial artery anastomosis .\\n',\n",
              " 'METHODS\\tA patency evaluation by multi-slice computer tomography will be done at one year postoperatively.We expect the nerve conduction studies and the standardised neurological examinations to be able to discriminate differences in hand function comparing endoscopic to open harvest of the radial artery .\\n',\n",
              " 'METHODS\\tThe trial also aims to show if there is any patency difference between mammario-radial compared to aorto-radial revascularisation techniques but this objective is exploratory .\\n',\n",
              " 'BACKGROUND\\tClinicalTrials.gov identifier : NCT@.Danish Ethics committee number : H-@-@-@ .\\n',\n",
              " 'BACKGROUND\\tDanish Data Protection Agency : @-@-@ / jr. n :@ -@ .\\n',\n",
              " '\\n',\n",
              " '###24284437\\n',\n",
              " 'BACKGROUND\\tKnowledge of essential amino acid requirements in infants is important because excessive intake of protein can lead to increased long-term morbidity such as obesity .\\n',\n",
              " 'BACKGROUND\\tA deficient intake may lead to suboptimal growth and impaired neurodevelopment .\\n',\n",
              " 'BACKGROUND\\tThe current recommended branched-chain amino acid requirements in infants aged @-@ mo are based on the amino acid content of human milk .\\n',\n",
              " 'OBJECTIVE\\tWe quantified the requirements for isoleucine , leucine , and valine for term neonates by using the indicator amino acid oxidation method with -LSB- @ - ( @ ) C -RSB- phenylalanine as the indicator .\\n',\n",
              " 'METHODS\\tFully enterally fed term infants received randomly graded amounts of isoleucine ( @-@ mg kg ( -@ ) d ( -@ ) ) , leucine ( @-@ mg kg ( -@ ) d ( -@ ) ) , or valine ( @-@ mg kg ( -@ ) d ( -@ ) ) as part of an elemental formula .\\n',\n",
              " 'METHODS\\tData are expressed as means SDs .\\n',\n",
              " 'RESULTS\\tEighty-three Asian , term neonates ( mean SD birth weight : @ @ kg ; gestational age : @ @ wk ) were studied at a postnatal age of @ @ d. Mean requirements for isoleucine , leucine , and valine ( measured in boys only ) were @ mg kg ( -@ ) d ( -@ ) ( r ( @ ) = @ , P < @ ) , @ mg kg ( -@ ) d ( -@ ) ( r ( @ ) = @ , P < @ ) , and @ mg kg ( -@ ) d ( -@ ) ( r ( @ ) = @ , P = @ ) , respectively .\\n',\n",
              " 'CONCLUSIONS\\tCurrent human milk-based recommendations for isoleucine and valine in term infants aged @-@ mo are correct .\\n',\n",
              " 'CONCLUSIONS\\tHowever , the current recommendation for leucine ( @ mg kg ( -@ ) d ( -@ ) ) is higher than the mean requirement of @ mg kg ( -@ ) d ( -@ ) that we determined in this study .\\n',\n",
              " 'CONCLUSIONS\\tThis trial was registered at www.trialregister.nl as NTR@ .\\n',\n",
              " '\\n',\n",
              " '###25585779\\n',\n",
              " 'OBJECTIVE\\tWe wanted to confirm the benefit of mometasone furoate ( MF ) in preventing acute radiation reactions , as shown in a previous study ( Bostrm et al , Radiother Oncol @ ; @:@ -@ ) .\\n',\n",
              " 'METHODS\\tThe study was a double-blind comparison of MF with D ( Diprobase ) , administered daily from the start of radiation therapy for @ weeks in patients receiving breast radiation therapy , @ Gy in @-Gy fractions daily over @ weeks .\\n',\n",
              " 'METHODS\\tThe primary endpoint was mean modified Radiation Therapy Oncology Group ( RTOG ) score .\\n',\n",
              " 'RESULTS\\tMean RTOG scores were significantly less for MF than for D ( P = @ ) .\\n',\n",
              " 'RESULTS\\tMaximum RTOG and mean erythema scores were significantly less for MF than for D ( P = @ and P = @ , respectively ) .\\n',\n",
              " 'RESULTS\\tThe Dermatology Life Quality Index ( DLQI ) score was significantly less for MF than for D at weeks @ and @ when corrected for Hospital Anxiety and Depression ( HAD ) questionnaire scores .\\n',\n",
              " 'CONCLUSIONS\\tMF cream significantly reduces radiation dermatitis when applied to the breast during and after radiation therapy .\\n',\n",
              " 'CONCLUSIONS\\tFor the first time , we have shown a significantly beneficial effect on quality of life using a validated instrument ( DLQI ) , for a topical steroid cream .\\n',\n",
              " 'CONCLUSIONS\\tWe believe that application of this cream should be the standard of care where radiation dermatitis is expected .\\n',\n",
              " '\\n',\n",
              " '###24332668\\n',\n",
              " 'OBJECTIVE\\tTo compare the interstage cardiac catheterization hemodynamic and angiographic findings between shunt types for the Pediatric Heart Network Single Ventricle Reconstruction trial .\\n',\n",
              " 'OBJECTIVE\\tThe trial , which randomized subjects to a modified Blalock-Taussig shunt ( MBTS ) or right ventricle-to-pulmonary artery shunt ( RVPAS ) for the Norwood procedure , demonstrated the RVPAS was associated with a smaller pulmonary artery diameter but superior @-month transplant-free survival .\\n',\n",
              " 'METHODS\\tWe analyzed the pre-stage II catheterization data for the trial subjects .\\n',\n",
              " 'METHODS\\tThe hemodynamic variables and shunt and pulmonary angiographic data were compared between shunt types ; their association with @-month transplant-free survival was also evaluated .\\n',\n",
              " 'RESULTS\\tOf @ randomized subjects , @ underwent pre-stage II catheterization .\\n',\n",
              " 'RESULTS\\tA smaller size , lower aortic and superior vena cava saturation , and higher ventricular end-diastolic pressure were associated with worse @-month transplant-free survival .\\n',\n",
              " 'RESULTS\\tThe MBTS group had a lower coronary perfusion pressure ( @ vs @ mm Hg ; P < @ ) and greater pulmonary blood flow/systemic blood flow ratio ( @ vs @ , P = @ ) .\\n',\n",
              " 'RESULTS\\tA greater pulmonary blood flow/systemic blood flow ratio increased the risk of death or transplantation only in the RVPAS group ( P = @ ) .\\n',\n",
              " 'RESULTS\\tThe MBTS group had fewer shunt ( @ % vs @ % , P = @ ) and severe left pulmonary artery ( @ % vs @ % , P = @ ) stenoses , larger mid-main branch pulmonary artery diameters , and greater Nakata indexes ( @ vs @ , P < @ ) .\\n',\n",
              " 'CONCLUSIONS\\tCompared with the RVPAS subjects , the MBTS subjects had more hemodynamic abnormalities related to shunt physiology , and the RVPAS subjects had more shunt or pulmonary obstruction of a severe degree and inferior pulmonary artery growth at pre-stage II catheterization .\\n',\n",
              " 'CONCLUSIONS\\tA lower body surface area , greater ventricular end-diastolic pressure , and lower superior vena cava saturation were associated with worse @-month transplant-free survival .\\n',\n",
              " '\\n',\n",
              " '###24379356\\n',\n",
              " 'OBJECTIVE\\tIt has been hypothesized that the development of diabetic polyneuropathy ( DPN ) is due to swelling of the nerve , as well as thickening and stiffening of the surrounding ligaments , causing chronic compression of nerves .\\n',\n",
              " 'OBJECTIVE\\tWe aimed to examine the effect of surgical decompression of the tibial nerve on the mean cross-sectional area ( CSA ) .\\n',\n",
              " 'METHODS\\tWe performed a randomized controlled trial of @ subjects with painful DPN diagnosed using the Diabetic Neuropathy Score .\\n',\n",
              " 'METHODS\\tA computer randomized for the surgery arm of the study .\\n',\n",
              " 'METHODS\\tA control group consisting of @ healthy subjects was included .\\n',\n",
              " 'METHODS\\tAn experienced sonographer measured the CSA and thickness-to-width ( T/W ) ratio of the tibial nerve , as well as the thickness of the flexor retinaculum .\\n',\n",
              " 'RESULTS\\tCSA is significantly larger in patients with painful DPN ( @ @ mm ( @ ) ) than in control subjects ( @ @ mm ( @ ) ) , P = @ .\\n',\n",
              " 'RESULTS\\tThe T/W ratio in patients with painful DPN is @ and in control subjects @ , P = @ .\\n',\n",
              " 'RESULTS\\tPatients with DPN have a significantly thicker retinaculum ( @ mm ) than control subjects ( @ mm ) , P < @ .\\n',\n",
              " 'RESULTS\\tMean follow-up was @ weeks ( range @-@ ) .\\n',\n",
              " 'RESULTS\\tDifference between baseline and follow-up in the operated leg was @ mm ( @ ) and in the control leg @ mm ( @ ) , P = @ .\\n',\n",
              " 'CONCLUSIONS\\tDecompression of the tibial nerve does not result in a significant difference between baseline and follow-up in CSA using ultrasound between the operated and control leg .\\n',\n",
              " 'CONCLUSIONS\\tUltrasound measurements show a significantly increased CSA , a significantly thicker retinaculum , and a significantly increased T/W ratio in patients with painful DPN compared with healthy control subjects .\\n',\n",
              " 'CONCLUSIONS\\tClinical trial reg .\\n',\n",
              " 'CONCLUSIONS\\tno .\\n',\n",
              " 'CONCLUSIONS\\tNTR@ , www.trialregister.nl .\\n',\n",
              " '\\n',\n",
              " '###25018097\\n',\n",
              " 'BACKGROUND\\tA community-based randomized trial was conducted in Costa Rica to evaluate the HPV-@ / @ AS@-adjuvanted vaccine ( NCT@ ) .\\n',\n",
              " 'BACKGROUND\\tThe primary objective was to evaluate efficacy of the vaccine to prevent cervical intraepithelial neoplasia @ or more severe disease ( CIN@ + ) associated with incident HPV-@ / @ cervical infections .\\n',\n",
              " 'BACKGROUND\\tSecondary objectives were to evaluate efficacy against CIN@ + associated with incident cervical infection by any oncogenic HPVs and to evaluate duration of protection against incident cervical infection with HPV-@ / @ .\\n',\n",
              " 'BACKGROUND\\tVaccine safety and immunogenicity over the @-year follow-up were also evaluated .\\n',\n",
              " 'METHODS\\tWe randomized ( @ HPV arm ; @ control arm ) , vaccinated ( HPV-@ / @ or Hepatitis A ) and followed ( median @ months ) @ healthy women aged @-@ years .\\n',\n",
              " 'METHODS\\t@ women ( @ HPV arm ; @ control arm ) were included in the according to protocol analysis for efficacy .\\n',\n",
              " 'METHODS\\tThe full cohort was evaluated for safety .\\n',\n",
              " 'METHODS\\tImmunogenicity was considered on a subset of @ ( HPV-@ ) and @ ( HPV-@ ) women .\\n',\n",
              " 'METHODS\\tHPV type was assessed by PCR on cervical specimens .\\n',\n",
              " 'METHODS\\tImmunogenicity was assessed using ELISA and inhibition enzyme immunoassays .\\n',\n",
              " 'METHODS\\tDisease outcomes were histologically confirmed .\\n',\n",
              " 'METHODS\\tVaccine efficacy and @ % confidence intervals ( @ % CI ) were computed .\\n',\n",
              " 'RESULTS\\tVaccine efficacy was @ % ( @ % CI : @-@ @ ; N = @ events total ) against HPV-@ / @ associated CIN@ + , @ % ( @ % CI : @-@ @ ; N = @ events total ) against CIN@ + associated with non-HPV-@ / @ oncogenic HPVs and @ % ( @ % CI : @-@ @ ; N = @ events total ) against CIN@ + irrespective of HPV type .\\n',\n",
              " 'RESULTS\\tThe vaccine had an acceptable safety profile and induced robust and long-lasting antibody responses .\\n',\n",
              " 'CONCLUSIONS\\tOur findings confirm the high efficacy and immunogenicity of the HPV-@ / @ vaccine against incident HPV infections and cervical disease associated with HPV-@ / @ and other oncogenic HPV types .\\n',\n",
              " 'CONCLUSIONS\\tThese results will serve as a benchmark to which we can compare future findings from the ongoing extended follow-up of participants in the Costa Rica trial .\\n',\n",
              " 'BACKGROUND\\tRegistered with clinicaltrials.gov : NCT@ .\\n',\n",
              " '\\n',\n",
              " '###24736930\\n',\n",
              " 'BACKGROUND\\tThere is a long-held concept among spine surgeons that endoscopic lumbar discectomy procedures are reserved for small-contained disc herniation ; @-year follow-up has not been reported .\\n',\n",
              " 'BACKGROUND\\tThe purpose of this study is to assess microendoscopic discectomy ( MED ) in patients with large uncontained lumbar disc herniation ( the antero-posterior diameter of the extruded fragment is @-@ mm or more on axial cuts of MRI ) and report long-term outcome .\\n',\n",
              " 'METHODS\\tOne hundred eighty-five patients with MED or standard open discectomy underwent follow-up for @ years .\\n',\n",
              " 'METHODS\\tPrimary ( clinical ) outcomes data included Numerical Rating Scale ( NRS ) for back and leg symptoms and Oswestry Disability Index ( ODI ) to quantify pain and disability , respectively .\\n',\n",
              " 'METHODS\\tSecondary ( objective ) outcomes data included operative time , blood loss , postoperative analgesics , length of hospital stay , time to return to work , reoperation and complication rate , patient satisfaction index ( PSI ) , and modified ( MacNab ) criteria .\\n',\n",
              " 'RESULTS\\tAt the end of the follow-up , the leg pain relief was statistically significant for both groups .\\n',\n",
              " 'RESULTS\\tNRS back pain , ODI , PSI and MacNab criteria showed significant deterioration for control group .\\n',\n",
              " 'RESULTS\\tSecondary outcomes data of MED group were significantly better than the control group .\\n',\n",
              " 'CONCLUSIONS\\tLarge , uncontained , lumbar disc herniations can be sufficiently removed using MED which is an effective alternative to open discectomy procedures with remarkable long-term outcome .\\n',\n",
              " 'CONCLUSIONS\\tAlthough the neurological outcome of the two procedures is the same , the morbidity of MED is significantly less than open discectomy .\\n',\n",
              " 'CONCLUSIONS\\tMaximum benefit can be gained if we adhere to strict selection criteria .\\n',\n",
              " 'CONCLUSIONS\\tThe optimum indication is single - or multi-level radiculopathy secondary to a single-level , large , uncontained , lumbar disc herniation .\\n',\n",
              " '\\n',\n",
              " '###25498992\\n',\n",
              " 'BACKGROUND\\tHeart failure ( HF ) patients suffer from frequent and repeated hospitalizations , causing a substantial economic burden on society .\\n',\n",
              " 'BACKGROUND\\tHospitalizations can be reduced considerably by better compliance with self-care .\\n',\n",
              " \"BACKGROUND\\tHome telemonitoring has the potential to boost patients ' compliance with self-care , although the results are still contradictory .\\n\",\n",
              " 'OBJECTIVE\\tA randomized controlled trial was conducted in order to study whether the multidisciplinary care of heart failure patients promoted with telemonitoring leads to decreased HF-related hospitalization .\\n',\n",
              " 'METHODS\\tHF patients were eligible whose left ventricular ejection fraction was lower than @ % , NYHA functional class @ , and who needed regular follow-up .\\n',\n",
              " 'METHODS\\tPatients in the telemonitoring group ( n = @ ) measured their body weight , blood pressure , and pulse and answered symptom-related questions on a weekly basis , reporting their values to the heart failure nurse using a mobile phone app .\\n',\n",
              " 'METHODS\\tThe heart failure nurse followed the status of patients weekly and if necessary contacted the patient .\\n',\n",
              " 'METHODS\\tThe primary outcome was the number of HF-related hospital days .\\n',\n",
              " 'METHODS\\tControl patients ( n = @ ) received multidisciplinary treatment according to standard practices .\\n',\n",
              " \"METHODS\\tPatients ' clinical status , use of health care resources , adherence , and user experience from the patients ' and the health care professionals ' perspective were studied .\\n\",\n",
              " 'RESULTS\\tAdherence , calculated as a proportion of weekly submitted self-measurements , was close to @ % .\\n',\n",
              " 'RESULTS\\tNo difference was found in the number of HF-related hospital days ( incidence rate ratio -LSB- IRR -RSB- = @ , P = @ ) , which was the primary outcome .\\n',\n",
              " 'RESULTS\\tThe intervention group used more health care resources : they paid an increased number of visits to the nurse ( IRR = @ , P < @ ) , spent more time at the nurse reception ( mean difference of @ minutes , P < @ ) , and there was a greater number of telephone contacts between the nurse and intervention patients ( IRR = @ , P < @ for nurse-induced contacts and IRR = @ , P = @ for patient-induced contacts ) .\\n',\n",
              " \"RESULTS\\tThere were no statistically significant differences in patients ' clinical health status or in their self-care behavior .\\n\",\n",
              " 'RESULTS\\tThe technology received excellent feedback from the patient and professional side with a high adherence rate throughout the study .\\n',\n",
              " \"CONCLUSIONS\\tHome telemonitoring did not reduce the number of patients ' HF-related hospital days and did not improve the patients ' clinical condition .\\n\",\n",
              " 'CONCLUSIONS\\tPatients in the telemonitoring group contacted the Cardiology Outpatient Clinic more frequently , and on this way increased the use of health care resources .\\n',\n",
              " 'BACKGROUND\\tClinicaltrials.gov NCT@ ; http://clinicaltrials.gov/show/NCT@ ( Archived by WebCite at http://www.webcitation.org/@UFxiCk@Z ) .\\n',\n",
              " '\\n',\n",
              " '###24411490\\n',\n",
              " 'OBJECTIVE\\tProbiotics help maintain balance in composition of the gut microbiota , and have been considered as a potential treatment for obesity .\\n',\n",
              " 'OBJECTIVE\\tThis study was conducted in order to assess the effects of probiotics when combined with herbal medicine in treatment of obesity .\\n',\n",
              " 'OBJECTIVE\\tProbiotics were tested for the ability to modulate gut microbiota , gut permeability , and endotoxin level , which may have correlation with factors involved in obesity .\\n',\n",
              " 'METHODS\\tA randomized , double-blind , placebo controlled study was conducted , in which patients with higher BMI ( > @kg/m ( @ ) ) and waist circumference ( > @cm ) were enrolled and randomly assigned to receive Bofutsushosan with either probiotics or placebo capsules for a period of eight weeks .\\n',\n",
              " 'METHODS\\tAssessment of body composition parameters , metabolic biomarkers , endotoxin level , gut permeability , and fecal bacteria in stool was performed at baseline and at week @ .\\n',\n",
              " 'METHODS\\tThe study was registered at the Clinical Research Information Service , approved by the Korea National Institute of Health ( KCT@ ) .\\n',\n",
              " 'RESULTS\\tAlthough both groups showed a significant reduction in weight and waist circumference ( p = @ ) , no significant differences in body composition and metabolic markers were observed .\\n',\n",
              " 'RESULTS\\tIn correlation analysis , change in body composition showed positive correlation with endotoxin level ( r = @ , p < @ for BW ; and r = @ , p < @ for fat mass ) and the population of gut Lactobacillus plantarum ( r = @ , p < @ for BW ; and r = @ , p < @ for BMI ) .\\n',\n",
              " 'RESULTS\\tThe Gram negative bacterial population in gut also exhibited positive correlation with changes in body composition ( WC ) and total cholesterol level ( r = @ , and @ , for the former and later parameters , respectively , p < @ for both ) .\\n',\n",
              " 'RESULTS\\tWhile , the profile of gut Bifidobacterium breve population showed negative correlation with endotoxin level ( r = -@ , p < @ ) .\\n',\n",
              " 'CONCLUSIONS\\tCorrelations between gut microbiota and change in body composition indicate that probiotics may influence energy metabolism in obesity .\\n',\n",
              " 'CONCLUSIONS\\tCorrelation between endotoxin level and weight reduction indicates that probiotics may play an important role in prevention of endotoxin production , which can lead to gut microbiota dysbiosis associated with obesity .\\n',\n",
              " '\\n',\n",
              " '###24471516\\n',\n",
              " 'OBJECTIVE\\tThe objective of this study is to analyze the effects of a @-week indoor intermittent training program on lung function , physical capacity , body composition and quality of life in children with asthma .\\n',\n",
              " 'METHODS\\tParticipants were randomized in an experimental group ( EG , @ children , age = @ years ) and in a control group ( CG , @ children , age = @ years ) .\\n',\n",
              " 'METHODS\\tThe training program was conducted indoors and consisted of alternating high - and low-intensity stimuli , for three sessions of @min/week , for @ weeks .\\n',\n",
              " \"METHODS\\tPhysical exercise and sports activities were organized to follow the criteria of the American College of Sports Medicine ( @ ) and previous interventions ' studies .\\n\",\n",
              " 'RESULTS\\tIn EG , there was a significant improvement ( p < @ ) in FEV@ , FEV@ , @MWT , handgrip strength , CMJ and flexibility .\\n',\n",
              " 'RESULTS\\tReductions in BMI and fat mass as well as an increase in quality of life were all shown .\\n',\n",
              " 'RESULTS\\tThe dyspnea index decreased significantly and there were no episodes of EIA .\\n',\n",
              " 'RESULTS\\tThere is a significant positive correlation ( p < @ ) between the FEV@ with handgrip strength and @MWT and a negative correlation with fat mass .\\n',\n",
              " 'CONCLUSIONS\\tAn indoor intermittent training program with these characteristics has improved lung function , physical capacity , body composition and quality of life in children with asthma .\\n',\n",
              " 'CONCLUSIONS\\tThese training adaptations are particularly relevant for those patients suffering from asthma as a regular physical exercise routine will greatly improve their quality of life .\\n',\n",
              " '\\n',\n",
              " '###26255514\\n',\n",
              " 'OBJECTIVE\\tTo observe the efficacy of catgut implantation at back-shu points in treatment of mild perimenopausal depression of kidney , deficiency and liver stagnation syndrome and analyze its essential function on target symptoms .\\n',\n",
              " 'METHODS\\tForty-five cases were randomized into a catgut implantation group ( @ cases ) and atid acupuncture group ( @ cases ) .\\n',\n",
              " 'METHODS\\tIn the catgut implantation group , catguts were implanted at Shenshu ( BL @ ) , Ganshu ( BL @ ) , Xinshu ( BL @ ) , Pishu ( BL @ ) , etc. , once every week .\\n',\n",
              " 'METHODS\\tIn the acupuncture group , the conventional acupuncture was applied to the same acupoints as the catgut implantation group , once every two days .\\n',\n",
              " 'METHODS\\tThe : treatment of @ weeks made one session , and continuous @ sessions were required .\\n',\n",
              " 'METHODS\\tThe efficacy was evaluated in , @ sessions .\\n',\n",
              " 'METHODS\\tThe follow-up started in the @th week .\\n',\n",
              " 'METHODS\\tBefore treatment , after treatment and in the follow-up period , Kupperman score and the total score in Hamilton depression scale ( HAMD ) , as well as the factor score were observed in the patients separately .\\n',\n",
              " 'RESULTS\\tKupperman score , the total HAMD score and the scores in the items of anxiety/somatization , retardation , sleep disorder and cognitive disorder after treatment were all reduced significantly as compared with those before treatment in the two groups ( P < @ , P < @ ) .\\n',\n",
              " 'RESULTS\\tIn the follow-up period , the difference in Kupperman was not significant in comparison with that after treatment in the catgut implantation : group ( P > @ ) .\\n',\n",
              " 'RESULTS\\tThe total HAMD score and sleep disorder were reduced significantly as compared with those after treatment in the catgut implantation group ( both P < @ ) ; in the acupuncture group , Kupperman score , the total HAMD score and sleep disorder were all increased as compared with those after treatment ( all P < @ ) .\\n',\n",
              " 'RESULTS\\tIn ; the catgut implantation group , the total HAMD score was lower than that in the acupuncture group ( P < @ ) , and the scores in the items of retardation and sleep disorder were reduced significantly as compared with those in the acupuncture group ( both P < @ ) .\\n',\n",
              " 'CONCLUSIONS\\tThe catgut implantation at back-shu points alleviates perimenopasual sympton is in patients of mild perimenopausal depression of kidney deficiency and liver stagnation syndrome .\\n',\n",
              " \"CONCLUSIONS\\tThis therapy effectively relieves depressive disorders by regulating the target symptoms such as anxiety / somatization , retardation , sleep disorder and cognitive ' disorder .\\n\",\n",
              " 'CONCLUSIONS\\tThe long-term efficacy of this therapy is better than the conventional acupuncture .\\n',\n",
              " '\\n',\n",
              " '###24952391\\n',\n",
              " 'OBJECTIVE\\tUp to @ % of patients who undergo a percutaneous coronary intervention show some limitation in the use of drug-eluting stents .\\n',\n",
              " 'OBJECTIVE\\tThe aim of this study was to evaluate if titanium-nitride-oxide-coated stents could be a good alternative to everolimus-eluting stents in diabetic patients .\\n',\n",
              " 'METHODS\\tA total of @ diabetic patients with lesions at moderate risk of restenosis ( exclusion criteria : diameter < @ mm or length > @ mm in vessels < @mm , chronic occlusion ) were randomized to a titanium group ( @ patients ) or an everolimus group ( @ patients ) .\\n',\n",
              " 'RESULTS\\tBaseline characteristics were well balanced ; @ % of patients were insulin dependent .\\n',\n",
              " 'RESULTS\\tAt @ year , the incidence of major adverse cardiac events ( death , nonfatal myocardial infarction , stroke , or repeat target vessel revascularization ) was significantly higher in the titanium group than in the everolimus group ( total , @ % vs @ % ; P = @ ; noninsulin-dependent subgroup , @ % vs @ % ; P = @ ; insulin-dependent subgroup , @ % vs @ % ; P = @ ) .\\n',\n",
              " 'RESULTS\\tThe incidence of death , nonfatal myocardial infarction , stroke , or any revascularization was @ % in the titanium group and @ % in the everolimus group ( P = @ ) .\\n',\n",
              " 'RESULTS\\tTarget lesion and vessel revascularizations occurred in @ % compared with @ % ( P = @ ) and in @ % compared with @ % ( P = @ ) in the titanium and everolimus groups , respectively .\\n',\n",
              " 'RESULTS\\tAngiographic follow-up at @ months showed significantly less late lumen loss in the everolimus group ( in-segment , @ -LSB- standard deviation , @ ) mm vs -@ -LSB- @ -RSB- mm ; in-stent , @ -LSB- @ -RSB- mm vs @ -LSB- @ -RSB- mm ; P < @ ) .\\n',\n",
              " 'CONCLUSIONS\\tThe everolimus-eluting stent is superior to the titanium stent for clinical and angiographic end points in diabetic patients with lesions at moderate risk of restenosis .\\n',\n",
              " '\\n',\n",
              " '###25516006\\n',\n",
              " 'OBJECTIVE\\tTo evaluate the safety of the fixed combination of ibuprofen and famotidine compared with ibuprofen alone from two @-week , multicenter , double-blind trials designed to evaluate the comparative incidence of endoscopically documented upper gastrointestinal ulcers and a @-week double-blind extension study .\\n',\n",
              " 'METHODS\\tSafety was analyzed by pooling data from the two double-blind trials and the follow-on study .\\n',\n",
              " 'METHODS\\tSafety was assessed by monitoring the incidence , causality , and severity of adverse events ( AEs ) .\\n',\n",
              " 'RESULTS\\tIn the pivotal efficacy and safety trials , discontinuation rates due to any cause and dyspepsia were significantly lower for the ibuprofen/famotidine combination versus ibuprofen alone .\\n',\n",
              " 'RESULTS\\tOther than dyspepsia , gastrointestinal and cardiovascular AEs of special interest were similar .\\n',\n",
              " 'RESULTS\\tEvents judged to be treatment related were significantly lower with the ibuprofen/famotidine combination ( @ % vs. @ % ) .\\n',\n",
              " 'RESULTS\\tIn the safety extension population , there were no differences in the discontinuation rates and the reporting of AEs or serious AEs ( SAEs ) between the two groups .\\n',\n",
              " 'RESULTS\\tGastrointestinal-related events were similar between the groups .\\n',\n",
              " 'RESULTS\\tIncidence of cardiovascular-related AEs of special interest were @ % ( ibuprofen/famotidine ) and @ % ( ibuprofen ) ( p = @ ) , possibly due to a higher number of rheumatoid arthritis patients in the combination group .\\n',\n",
              " 'RESULTS\\tOf these , @ % were reports of hypertension ( @ % ibuprofen/famotidine vs. @ % ibuprofen ) .\\n',\n",
              " 'RESULTS\\tThree cases of hypertension in the ibuprofen/famotidine group were considered treatment related .\\n',\n",
              " 'RESULTS\\tThe probability of a cardiovascular event decreased during days @-@ of treatment and remained low with continued treatment .\\n',\n",
              " 'CONCLUSIONS\\tOne-year safety data from two pivotal trials and a long-term extension study indicate that the ibuprofen/famotidine combination demonstrates a favorable gastrointestinal safety profile and more patients continued on therapy compared to ibuprofen alone .\\n',\n",
              " 'CONCLUSIONS\\tNo new safety signals have been identified .\\n',\n",
              " 'CONCLUSIONS\\tThese data offer additional evidence supporting a new therapeutic option to improve gastrointestinal safety and adherence for patients who require long-term ibuprofen .\\n',\n",
              " '\\n',\n",
              " '###24851689\\n',\n",
              " 'OBJECTIVE\\tTo compare the effects of volume-controlled ventilation ( VCV ) and pressure-controlled volume-guaranteed ( PCV-VG ) mode during one-lung ventilation ( OLV ) on circulation , pulmonary function and lung injury .\\n',\n",
              " 'METHODS\\t@ February to @ March in Ningbo No@ .\\n',\n",
              " 'METHODS\\tHospital cardiothoracic surgery , @ patients aged @ to @ years ( ASA grade II-III ) undergoing elective thoracoscopic lobectomy were randomly divided into VCV group and PCV-VG group , with @ cases in each group .\\n',\n",
              " 'METHODS\\tAfter anesthesia induction and endotracheal intubation , endobronchial blocker was inserted to start OLV .\\n',\n",
              " 'METHODS\\tHeart rate ( HR ) , mean arterial pressure ( MAP ) , measured tidal volume ( TV ) , peak airway pressure ( Ppeak ) , airway resistance ( Raw ) , chest compliance ( Cdyn ) and the end-tidal carbon dioxide pressure ( PetCO ( @ ) ) were recorded at the time point of @ minutes after turning to the lateral position , @ minutes and @ minutes after OLV , and @ minutes after the resumption of two lung ventilation .\\n',\n",
              " 'METHODS\\tIn the meanwhile , arterial blood gas analysis was conducted to measure indicators of pH , oxygen tension ( PaO ( @ ) ) and carbon dioxide partial pressure ( PaCO ( @ ) ) .\\n',\n",
              " 'METHODS\\tBlood was drawn before induction , @ hour after OLV and @ hour after the end of surgery , and the concentration of interleukin-@ ( IL-@ ) and tumor necrosis factor-alpha ( TNF - ) were detected by enzyme-linked immunosorbent assay ( ELISA ) .\\n',\n",
              " 'RESULTS\\tHR , MAP , TV , PetCO ( @ ) , pH and PaCO ( @ ) in two groups at the time point of @ minutes after turning to the lateral position , @ minutes and @ minutes after OLV , and @ minutes after the resumption of two lung ventilation showed no significant difference ( P > @ ) .\\n',\n",
              " 'RESULTS\\tAt the point of @ minutes after turning to the lateral position and @ minutes after two lung ventilation , Ppeak and Cdyn of two groups were significantly different ( P < @ ) ( Ppeak :@ @ cmH ( @ ) O , @ @ cmH ( @ ) O for VCV group and @ @ cmH ( @ ) O , @ @ cmH ( @ ) O for PCV-VG group ; Cdyn : @ @ ml/cmH ( @ ) O , @ @ ml/cmH@O for VCV group and @ @ ml/cmH ( @ ) O , @ @ ml/cmH ( @ ) O for PCV-VG group ) .\\n',\n",
              " 'RESULTS\\tCompared with VCV group , PCV-VG group showed a lower Ppeak @ minutes and @ minutes after OLV -LSB- ( @ @ cmH ( @ ) O ) vs ( @ @ cmH ( @ ) O ) and ( @ @ cmH ( @ ) O ) vs ( @ @ cmH ( @ ) O ) with a higher Cdyn at the same point ( @ @ ml/cmH ( @ ) O ) vs ( @ @ ml/cmH ( @ ) O ) and @ @ ml/cmH ( @ ) O ) vs ( @ @ ml/cmH ( @ ) O ) -RSB- ( P < @ ) .\\n',\n",
              " 'RESULTS\\tCompared with VCV group,IL-@ and TNF - of PCV-VG group @ hour after OLV and @ hour after the end of surgery were significantly lower ( P < @ ) ( IL-@ : @ @ vs @ @ pg/ml and @ @ vs @ @ pg/ml ; TNF - : @ @ vs @ @ pg/ml and @ @ vs. @ @ pg/ml ) .\\n',\n",
              " 'CONCLUSIONS\\tDuring one-lung ventilation in thoracoscopic lobectomy , PCV-VG mode has a competitive advantage over VCV mode in terms of pulmonary function and lung protection .\\n',\n",
              " '\\n',\n",
              " '###24748400\\n',\n",
              " 'OBJECTIVE\\tWe compared the recovery profile of propofol and sevoflurane when used for maintenance of anesthesia in elective day care operative procedures .\\n',\n",
              " 'METHODS\\tOne hundred ASA physical status I and II patients , aged between @ and @ years , were randomly assigned to receive either propofol-nitrous oxide or sevoflurane-nitrous oxide maintenance of anesthesia .\\n',\n",
              " 'METHODS\\tEarly and intermediate recovery in terms of cognitive and ambulatory functions was recorded .\\n',\n",
              " 'METHODS\\tPsychomotor testing , in the form of Trieger dot test and digit symbol substitution test , were performed before surgery and in the post-anesthesia care unit at @ min , @ min , @ h , @ h , and @ h following nitrous oxide switch-off to evaluate intermediate recovery .\\n',\n",
              " \"RESULTS\\tThere were no significant differences in recovery of early cognitive functions between the two groups , except that patients in the sevoflurane group were more responsive at around @ min following nitrous oxide switch-off and `` recalled address '' earlier than patients in the propofol group .\\n\",\n",
              " \"RESULTS\\tThere was no significant difference in between the two groups with regard to `` home-readiness . ''\\n\",\n",
              " \"CONCLUSIONS\\tRecovery from sevoflurane anesthesia , especially with regard to cognitive functions , may be slightly faster than from propofol , but the difference is not sufficiently significant to affect the time to `` home-readiness '' in patients undergoing day care surgery .\\n\",\n",
              " '\\n',\n",
              " '###24594499\\n',\n",
              " \"BACKGROUND\\tVertigo imposes considerable health restrictions with significant impact on the patient 's quality of life .\\n\",\n",
              " 'BACKGROUND\\tThe most effective antivertigo agent is undetermined thus far .\\n',\n",
              " 'OBJECTIVE\\tThis study was performed to assess whether promethazine has superior vertigo reduction compared with lorazepam in ED patients .\\n',\n",
              " 'METHODS\\tIn this randomized , double-blind , parallel group trial @ patients were assigned ( @:@ ratio ) to receive either promethazine , @ mg intravenously , or lorazepam , @ mg intravenously .\\n',\n",
              " 'METHODS\\tPrimary endpoint was mean change in vertigo intensity at @ hours measured using visual analog scale ( VAS ) .\\n',\n",
              " 'METHODS\\tSecondary endpoints were mean change in nausea score , need for second dose of study medications , and adverse events ( AEs ) .\\n',\n",
              " 'RESULTS\\tPromethazine was associated with significantly more reduction ( @ mm ) in vertigo than lorazepam ( @ mm , p < @ ) .\\n',\n",
              " 'RESULTS\\tMean change in nausea score @ hours after drug injection on the VAS was @ mm for promethazine and @ for lorazepam ( p = @ ) .\\n',\n",
              " 'RESULTS\\tThe most frequently reported AEs were lethargy ( @ % in lorazepam group , @ % in promethazine group , p = @ ) and drowsiness ( @ % for promethazine , @ % for lorazepam , p = @ ) .\\n',\n",
              " 'CONCLUSIONS\\tOur study demonstrated the evidence that promethazine is superior to lorazepam in management of peripheral vertigo and vertigo-related nausea in ED adults .\\n',\n",
              " '\\n',\n",
              " '###24604111\\n',\n",
              " 'BACKGROUND\\tDuring lower limb lengthening , distraction-induced muscle pain and surrounding joint contractures are frustrating complications for which few effective treatments are available .\\n',\n",
              " 'OBJECTIVE\\tWe evaluated Botulinum Toxin Type A ( BtX-A ) injection in the calf muscles during human tibial distraction osteogenesis .\\n',\n",
              " 'OBJECTIVE\\tWe hypothesized that it may decrease calf pain and increase ROM of the surrounding joints by reducing muscle stiffness .\\n',\n",
              " 'METHODS\\tBetween April @ and January @ , we evaluated @ patients undergoing bilateral tibia lengthening who met prespecified inclusion criteria .\\n',\n",
              " 'METHODS\\tAll patients underwent stature lengthening with lengthening over a nail or lengthening and then nailing .\\n',\n",
              " 'METHODS\\tBtX-A ( @IU ) was injected at the calf muscle only in one leg for each patient and the same amount of sterile normal saline was injected into the other leg as a control .\\n',\n",
              " 'METHODS\\tSelection of the leg receiving the toxin was randomized .\\n',\n",
              " 'METHODS\\tClinical evaluation included a VAS score for calf pain and measurement of ROM of the knees and ankles and calf circumference , with evaluations performed in a double-blinded manner .\\n',\n",
              " 'METHODS\\tSide-to-side differences were analyzed until the end of consolidation phase .\\n',\n",
              " 'METHODS\\tMinimum followup was @months ( mean , @months ; range , @-@months ) .\\n',\n",
              " 'METHODS\\tThe distraction rate and the final length gain were similar in the treated and control limbs .\\n',\n",
              " 'METHODS\\tA priori power analysis suggested that @ legs were required to achieve statistical significance of @ with @ % of power to detect a @ % difference in treatment effect between treatment and control groups .\\n',\n",
              " 'RESULTS\\tThere were no differences in calf pain , knee and ankle ROM , and maximal calf circumferences between the two legs at each time point .\\n',\n",
              " 'CONCLUSIONS\\tLocal injection of @IU BtX-A at the human calf muscle does not appear to reduce calf pain or help enhance ROM of the knee and ankle during tibial lengthening .\\n',\n",
              " 'CONCLUSIONS\\tHowever , the small sample size provided sufficient power to detect only relatively large clinical effects ; future , larger trials will be needed to determine whether smaller differences are present .\\n',\n",
              " 'METHODS\\tLevel II , therapeutic study .\\n',\n",
              " 'METHODS\\tSee Instructions for Authors for a complete description of levels of evidence .\\n',\n",
              " '\\n',\n",
              " '###25872390\\n',\n",
              " 'OBJECTIVE\\tTo assess potential of preoperative therapy with local steroid and non-steroid anti-inflammatory drugs ( SAIDs and NSAIDs ) for prolonging the hypotensive effect of trabeculectomy .\\n',\n",
              " 'METHODS\\tA total of @ patients with primary open-angle glaucoma planed for trabeculectomy were randomized into @ groups of @ each : @ groups that differed in the studied drug ( nepafenac , dexamethasone , or their non-fixed combination ) and a control group with no preoperative therapy .\\n',\n",
              " 'METHODS\\tThe patients instilled @ drop of either drug b.i.d. for @ weeks before the surgery and were examined each day of the first week and then at weeks @ , @ , @ and months @ , @ , and @ .\\n',\n",
              " 'METHODS\\tThe rate of postoperative surgical and medical interventions ( needling , needling revision , hypotensive therapy ) was used for outcome evaluation .\\n',\n",
              " 'RESULTS\\tPostoperative needling was required in @ % of the controls , @ % of the NSAIDs and @ % of the SAIDs patients as well as @ % the combination-therapy patients .\\n',\n",
              " 'RESULTS\\tNeedling revision had to be performed in @ % of patients from the control group and @ % of patients from the NSAIDs group .\\n',\n",
              " 'RESULTS\\tPatients from the steroid and combination-therapy groups had no need in needling procedure .\\n',\n",
              " 'RESULTS\\tFurther hypotensive therapy was required in @ % of the control group , @ % of the NSAIDs group , @ % of the SAIDs group and @ % of the combination-therapy group .\\n',\n",
              " 'RESULTS\\tDuring the first postoperative year complete success of the treatment was achieved in @ % of the controls , @ % of the NSAIDs patients , @ % of the SAIDs patients , and @ % of those under combination therapy .\\n',\n",
              " 'RESULTS\\tQualified success during the same period was achieved in @ % of cases .\\n',\n",
              " 'CONCLUSIONS\\tPreoperative local anti-inflammatory therapy helped to increase the one-year complete success rate after trabeculectomy as compared with the controls .\\n',\n",
              " 'CONCLUSIONS\\tThe most significant hypotensive effect was noted in the combination-therapy group ( @ % ) , less significant -- in the steroid and non-steroid monotherapy groups ( @ % and @ % correspondingly ) .\\n',\n",
              " 'CONCLUSIONS\\tA negative correlation was noted between the use of nepafenac and dexamethasone and other measures aimed at increasing the hypotensive effect of glaucoma surgery .\\n',\n",
              " '\\n',\n",
              " '###25899215\\n',\n",
              " 'METHODS\\tCase-control study ; ecological study .\\n',\n",
              " 'OBJECTIVE\\tTo examine the efficacy of wearing compression stockings to prevent muscle damage and to maintain running performance during a marathon competition .\\n',\n",
              " 'BACKGROUND\\tExercise-induced muscle damage has been identified as one of the main causes of the progressive decrease in running and muscular performance found during marathon races .\\n',\n",
              " 'METHODS\\tThirty-four experienced runners were pair-matched for age , anthropometric data , and best race time in the marathon , and randomly assigned to a control group ( n = @ ) of runners who wore conventional socks or to a group of runners who wore foot-to-knee graduated compression stockings ( n = @ ) .\\n',\n",
              " 'METHODS\\tBefore and after the race , a sample of venous blood was obtained , and jump height and leg muscle power were measured during a countermovement jump .\\n',\n",
              " 'METHODS\\tSerum myoglobin and creatine kinase concentrations were determined as blood markers of muscle fiber damage .\\n',\n",
              " 'RESULTS\\tTotal race time was not different between the control group and the compression stockings group ( @ @ and @ @ minutes , respectively ; P = @ ) .\\n',\n",
              " 'RESULTS\\tBetween the control group and the compression stockings group , postrace reductions in leg muscle power ( -@ % @ % versus -@ % @ % , respectively ; P = @ ) and jump height ( -@ % @ % versus -@ % .\\n',\n",
              " 'RESULTS\\t@ % , respectively ; P = @ ) were similar .\\n',\n",
              " 'RESULTS\\tAt the end of the race , there were no differences between the control group and the compression stockings group in serum myoglobin ( @ @ ngmL ( -@ ) versus @ @ ngmL ( -@ ) , respectively ; P = @ ) and creatine kinase concentration ( @ @ UL ( -@ ) versus @ @ UL ( -@ ) , respectively ; P = @ ) .\\n',\n",
              " 'CONCLUSIONS\\tThe use of compression stockings did not improve running pace and did not prevent exercise-induced muscle damage during the marathon .\\n',\n",
              " 'CONCLUSIONS\\tWearing compression stockings during long-distance running events is an ineffective strategy to avoid the deleterious effects of muscle damage on running performance .\\n',\n",
              " 'METHODS\\tTherapy , level @b .\\n',\n",
              " '\\n',\n",
              " '###24361853\\n',\n",
              " 'BACKGROUND\\tThe relationships of left ventricular ( LV ) longitudinal and circumferential systolic dysfunction with diastolic performance in hypertensive patients have never been compared .\\n',\n",
              " \"RESULTS\\tIn @ asymptomatic hypertensive patients , circumferential function was assessed with the use of midwall fractional shortening ( mFS ) and stress-corrected mFS ( SCmFS ) , whereas longitudinal function was assessed with the use of left atrioventricular plane displacement ( AVPD ) and systolic mitral annulus velocity ( s ' ) .\\n\",\n",
              " \"RESULTS\\tEarly diastolic annular velocity ( e ' ) and the E/e ' ratio were measured .\\n\",\n",
              " 'RESULTS\\tGlobal longitudinal and circumferential strain were determined in a subset of @ patients .\\n',\n",
              " \"RESULTS\\te ' was linearly related to all systolic indexes ( AVPD : R = @ ; s ' : R = @ ; mFS : R = @ ; SCmFS : R = @ ; all P < @ ) , but the correlations were stronger with longitudinal indexes than with circumferential ones ( P < @ ) .\\n\",\n",
              " \"RESULTS\\tE/e ' was nonlinearly related to AVPD ( R = -@ ; P < @ ) and s ' ( R = -@ ; P < @ ) and showed no relationship with mFS and SCmFS .\\n\",\n",
              " \"RESULTS\\tLongitudinal indexes were superior to circumferential ones in predicting e ' < @ cm/s , E/e ' < @ , and E/e ' @ .\\n\",\n",
              " 'RESULTS\\tThe effect of LV geometry on LV diastolic function was evident among patients with preserved systolic longitudinal function , but was blunted among patients with impaired longitudinal function .\\n',\n",
              " \"RESULTS\\tIn multivariable analyses , only longitudinal indexes remained associated with e ' and E/e ' .\\n\",\n",
              " 'RESULTS\\tAnalyses using strains provided similar results .\\n',\n",
              " 'CONCLUSIONS\\tIn asymptomatic hypertensive subjects , LV diastolic performance is independently associated with longitudinal systolic dysfunction , but not with circumferential systolic dysfunction .\\n',\n",
              " 'CONCLUSIONS\\tSubtle longitudinal systolic impairment plays a role in mediating the effect of LV geometry on diastolic performance .\\n',\n",
              " 'CONCLUSIONS\\tThese findings may support the need of critically revising the concept of isolated diastolic dysfunction in these patients .\\n',\n",
              " '\\n',\n",
              " '###25395709\\n',\n",
              " 'BACKGROUND\\tMultiple Sclerosis ( MS ) is a chronic and disabling disease resulting in disabilities in young and middle-aged persons .\\n',\n",
              " 'BACKGROUND\\tIn this study , researchers explored the effect of yoga techniques on physical activities and sexual function among some Iranian women with MS.\\n',\n",
              " 'METHODS\\tIn this study , @ Iranian women with multiple sclerosis ( MS ) were placed in two equally divided control and case groups through random selection to assess pre-and post-effects of yoga exercises on their physical activities and sexual satisfaction levels .\\n',\n",
              " 'METHODS\\tWomen in case group were offered a series of yoga training and exercises for @ months , which consisted of @ sessions per month for @ to @ minutes at each session .\\n',\n",
              " 'METHODS\\tYoga training program included the @ principles of slow motions ( Hatayoga ) , respiratory exercises ( Pranayama ) and centralization to control mind via meditation , expansion and stasis ( Rajayoga ) .\\n',\n",
              " 'METHODS\\tAfter @ months both groups were surveyed using the initial questionnaire to evaluate and compare findings with the base-line data .\\n',\n",
              " 'RESULTS\\tResearchers found significant statistical difference in physical activity and sexual satisfaction levels among the women in case group ( P = @ ) .\\n',\n",
              " 'RESULTS\\tWomen in case group showed improvement in physical ability while women in control group manifested exacerbated symptoms .\\n',\n",
              " 'CONCLUSIONS\\tYoga techniques may improve physical activities and sexual satisfaction function of women with MS.\\n',\n",
              " '\\n',\n",
              " '###26080882\\n',\n",
              " 'OBJECTIVE\\tTo evaluate the safety and efficacy of antiplatelet therapy of ticagrelor on patients suffering from acute ST segment elevation myocardial infarction undergoing primary percutaneous coronary intervention .\\n',\n",
              " 'METHODS\\tIn the study , @ patients suffering from acute ST segment elevation myocardial infarction onset within @ h undergoing primary percutaneous coronary intervention from May to October in @ were randomly divided into ticagrelor group ( n = @ ) and clopidogrel group ( n = @ ) by using the method of random number table .\\n',\n",
              " 'METHODS\\tTicagrelor and clopidogrel antiplatelet treatment were used before and after operation .\\n',\n",
              " 'METHODS\\tTheir baseline data , coronary artery disease characteristics , platelet count , adenosine diphosphate ( ADP ) - induced platelet inhibition rate by thrombelastograph after @ days of treatment , the major adverse cardiovascular events of the follow up for @ months and bleeding complications were observed and compared in the two groups .\\n',\n",
              " 'RESULTS\\tThe differences between the two groups of patients with their baseline data , the features of coronary artery lesions , platelet count before and after @ days of treatment had no statistical significance ( P > @ ) .\\n',\n",
              " 'RESULTS\\tADP induced platelet inhibition rate -LSB- ( @ ) % -RSB- after @ days of treatment in ticagrelor group was significantly higher than that in clopidogrel group -LSB- ( @ ) % , P < @ -RSB- .\\n',\n",
              " 'RESULTS\\tThe two groups of patients were followed up for @ months , @ cases of major adverse cardiovascular events occurred in clopidogrel group , @ cases of major adverse cardiovascular events occurred in ticagrelor group , and there was significant difference between the two groups ( P < @ ) .\\n',\n",
              " 'RESULTS\\tThe two groups ( @ cases of @ patients in ticagrelor group vs. @ cases of @ patients in clopidogrel group ) had no statistically significant difference in bleeding complications ( P > @ ) .\\n',\n",
              " 'CONCLUSIONS\\tAntiplatelet therapy of ticagrelor on patients suffering from acute ST segment elevation myocardial infarction undergoing emergency PCI has good efficacy and safety .\\n',\n",
              " '\\n',\n",
              " '###25100336\\n',\n",
              " 'OBJECTIVE\\tTo evaluate the image quality , radiation dose and diagnostic accuracy of @kVp , high-pitch CT pulmonary angiography ( CTPA ) with iterative reconstruction using @ ml of contrast agent .\\n',\n",
              " 'METHODS\\tOne hundred patients with suspected pulmonary embolism ( PE ) were randomly divided into two groups ( n = @ each ; group A , @ kVp , @ pitch , @ ml of contrast medium and filtered back projection algorithm ; group B , @ kVp , @ pitch , @ ml of contrast medium and sinogram affirmed iterative reconstruction ) .\\n',\n",
              " 'METHODS\\tImage quality , diagnostic accuracy and radiation dose were evaluated and compared .\\n',\n",
              " 'RESULTS\\tMean CT numbers of pulmonary arteries in group B were higher than those in group A ( all P < @ ) .\\n',\n",
              " 'RESULTS\\tContrast-to-noise ratio and signal-to-noise ratio of group B were higher than those of group A ( both P < @ ) .\\n',\n",
              " 'RESULTS\\tThere was no significant difference in subjective image quality scores between two groups ( P = @ ) .\\n',\n",
              " 'RESULTS\\tThe interobserver agreement was excellent ( k = @ ) .\\n',\n",
              " 'RESULTS\\tThere was no significant difference in diagnostic accuracy between the two groups ( P > @ ) .\\n',\n",
              " 'RESULTS\\tCompared with group A , radiation dose of group B was reduced by @ % ( P < @ ) .\\n',\n",
              " 'CONCLUSIONS\\tHigh-pitch CTPA at @ kVp can obtain sufficient image quality in normal-weight individuals with @ ml of contrast agent and half the radiation dose of a conventional CTPA protocol .\\n',\n",
              " 'CONCLUSIONS\\tCTPA is feasible at @ kVp using only @ ml of contrast agent .\\n',\n",
              " 'CONCLUSIONS\\tHigh-pitch CTPA at @ kVp has an effective dose under @ mSv .\\n',\n",
              " 'CONCLUSIONS\\tThis CTPA protocol can obtain sufficient image quality in normal-weight individuals .\\n',\n",
              " '\\n',\n",
              " '###25267532\\n',\n",
              " 'BACKGROUND\\tFamilies express a need for guidance in helping their loved ones with anorexia nervosa ( AN ) .\\n',\n",
              " 'BACKGROUND\\tGuided self-help interventions can offer support to caregivers .\\n',\n",
              " 'METHODS\\tOne hundred seventy-eight adult AN patients and their caregivers were recruited from @ UK treatment centres .\\n',\n",
              " \"METHODS\\tFamilies were randomized to carers ' assessment , skills and information sharing ( C ) intervention + treatment as usual ( TAU ) or TAU alone .\\n\",\n",
              " 'METHODS\\tFeedback forms were sent at @months post-discharge and , if not returned , at @months .\\n',\n",
              " 'METHODS\\tOne hundred two ( @ % ) patient forms ( n = @TAU ; n = @C ) and @ ( @ % ) caregiver forms ( n = @TAU ; n = @C ) were returned .\\n',\n",
              " 'METHODS\\tTwo researchers coded data blind , using thematic analysis .\\n',\n",
              " 'RESULTS\\t( i ) Caregivers and patients express a need for post-discharge support .\\n',\n",
              " 'RESULTS\\t( ii ) Patients identify helpful and unhelpful support strategies , useful for developing future interventions .\\n',\n",
              " 'RESULTS\\t( iii ) Patients could identify positive caregiver behaviour changes targeted in intervention .\\n',\n",
              " 'RESULTS\\t( iv ) Guided self-help may benefit caregiver and sufferer , post-discharge .\\n',\n",
              " 'CONCLUSIONS\\tCaregiver interventions can be a useful tool that will improve the cost effectiveness of inpatient treatment by enhancing the well-being of caregivers and patients .\\n',\n",
              " '\\n',\n",
              " '###24799513\\n',\n",
              " 'BACKGROUND\\tCardiac mortality and electrophysiological dysfunction both increase with age .\\n',\n",
              " 'BACKGROUND\\tHeart rate variability ( HRV ) provides indices of autonomic function and electrophysiology that are associated with cardiac risk .\\n',\n",
              " 'BACKGROUND\\tHow habitual physical activity among older adults prospectively relates to HRV , including nonlinear indices of erratic sinus patterns , is not established .\\n',\n",
              " 'BACKGROUND\\tWe hypothesized that increasing the levels of both total leisure-time activity and walking would be prospectively associated with more favorable time-domain , frequency-domain , and nonlinear HRV measures in older adults .\\n',\n",
              " 'RESULTS\\tWe evaluated serial longitudinal measures of both physical activity and @-hour Holter HRV over @ years among @ older US adults in the community-based Cardiovascular Health Study .\\n',\n",
              " 'RESULTS\\tAfter multivariable adjustment , greater total leisure-time activity , walking distance , and walking pace were each prospectively associated with specific , more favorable HRV indices , including higher @-hour standard deviation of all normal-to-normal intervals ( Ptrend = @ , @ , @ , respectively ) and ultralow-frequency power ( Ptrend = @ , @ , @ , respectively ) .\\n',\n",
              " 'RESULTS\\tGreater walking pace was also associated with a higher short-term fractal scaling exponent ( Ptrend = @ ) and lower Poincar ratio ( Ptrend = @ ) , markers of less erratic sinus patterns .\\n',\n",
              " 'CONCLUSIONS\\tGreater total leisure-time activity , and walking alone , as well , were prospectively associated with more favorable and specific indices of autonomic function in older adults , including several suggestive of more normal circadian fluctuations and less erratic sinoatrial firing .\\n',\n",
              " 'CONCLUSIONS\\tOur results suggest potential mechanisms that might contribute to lower cardiovascular mortality with habitual physical activity later in life .\\n',\n",
              " '\\n',\n",
              " '###24573358\\n',\n",
              " 'OBJECTIVE\\tOur aim was to compare anatomical and functional outcome between vaginal colposuspension and transvaginal mesh .\\n',\n",
              " 'METHODS\\tThis was a prospective randomized controlled trial in a teaching hospital .\\n',\n",
              " 'METHODS\\tSixty-eight women with stage @ anterior vaginal wall prolapse according to the Pelvic Organ Prolapse Quantification ( POP-Q ) system were assessed , randomized , and analyzed .\\n',\n",
              " 'METHODS\\tPatients were randomized to anterior colporrhaphy with vaginal colposuspension ( n = @ ) or transvaginal mesh ( n = @ ) .\\n',\n",
              " 'METHODS\\tPrimary outcome was objective cure rate of the anterior vaginal wall , defined as POP-Q @ at @years .\\n',\n",
              " 'METHODS\\tSecondary outcomes were functional results , quality-of-life ( QoL ) scores , mesh-related morbidity , and onset of urinary incontinence .\\n',\n",
              " 'RESULTS\\tThe anatomical result for point Ba was significantly better at @years in the mesh group ( -@ cm ) than in the colposuspension group ( -@ cm ) ( p = @ ) .\\n',\n",
              " 'RESULTS\\tConcerning POP-Q stages , the anatomical success rate at @years was @ % for colposuspension and @ % for mesh ( p = @ ) .\\n',\n",
              " 'RESULTS\\tThere were @ anatomic recurrences ( @ % ) in the colposuspension group .\\n',\n",
              " 'RESULTS\\tThe erosion rate was @ % ( n = @ ) .\\n',\n",
              " 'RESULTS\\tNo significant difference was noted regarding minor complications .\\n',\n",
              " 'RESULTS\\tAnalysis of QoL questionnaires showed overall improvement in both groups , with no significant difference between them .\\n',\n",
              " 'CONCLUSIONS\\tThe vaginal colposuspension technique of anterior vaginal wall prolapse repair gave good anatomical and functional results at @years .\\n',\n",
              " 'CONCLUSIONS\\tTransobturator vaginal mesh gave better @-year anatomical results than vaginal colposuspension , with overall improvement in QoL in both groups .\\n',\n",
              " '\\n',\n",
              " '###25249651\\n',\n",
              " 'OBJECTIVE\\tClinical studies evaluating the effects of medications on - cell function in type @ diabetes ( T@DM ) are compromised by an inability to determine the actual baseline degree of - cell dysfunction independent of the reversible dysfunction induced by hyperglycemia ( glucotoxicity ) .\\n',\n",
              " 'OBJECTIVE\\tShort-term intensive insulin therapy ( IIT ) is a strategy for eliminating glucotoxicity before randomization .\\n',\n",
              " 'OBJECTIVE\\tThis study determined whether liraglutide can preserve - cell function over @ weeks in early T@DM following initial elimination of glucotoxicity with IIT .\\n',\n",
              " \"METHODS\\tIn this double-blind , randomized , placebo-controlled trial , @ patients with T@DM of @ @ years ' duration and an A@C of @ @ % ( @ @ mmol/mol ) completed @ weeks of IIT before randomization to daily subcutaneous liraglutide or placebo injection , with serial assessment of - cell function by Insulin Secretion-Sensitivity Index-@ ( ISSI-@ ) on oral glucose tolerance test performed every @ weeks .\\n\",\n",
              " 'RESULTS\\tThe primary outcome of baseline-adjusted ISSI-@ at @ weeks was higher in the liraglutide group than in the placebo group ( @ @ vs. @ @ , P = @ ) .\\n',\n",
              " 'RESULTS\\tBaseline-adjusted HbA@c at @ weeks was lower in the liraglutide group ( @ @ % vs. @ @ % , P = @ ) ( @ @ vs. @ @ mmol/mol ) .\\n',\n",
              " 'RESULTS\\tAt each quarterly assessment , > @ % of participants on liraglutide had an HbA@c @ % ( @ mmol/mol ) and glucose tolerance in the nondiabetic range .\\n',\n",
              " 'RESULTS\\tDespite this level of glycemic control , no difference was found in the incidence of hypoglycemia between the liraglutide and placebo groups ( P = @ ) .\\n',\n",
              " 'RESULTS\\tTwo weeks after stopping treatment , however , the beneficial effect on ISSI-@ of liraglutide versus placebo was entirely lost ( @ @ vs. @ @ , P = @ ) .\\n',\n",
              " 'CONCLUSIONS\\tLiraglutide provides robust enhancement of - cell function that is sustained over @ weeks in early T@DM but lost upon cessation of therapy .\\n',\n",
              " '\\n',\n",
              " '###25110443\\n',\n",
              " 'OBJECTIVE\\tTo investigate the effectiveness of rectally administered indomethacin in the prophylaxis of post-endoscopic retrograde cholangiopancreatography ( ERCP ) pancreatitis and hyperamylasaemia in a multicentre study .\\n',\n",
              " 'METHODS\\tA prospective , randomised , placebo-controlled multicentre study in five endoscopic units was conducted on @ patients randomised to receive a suppository containing @ mg indomethacin , or an inert placebo , @-@ min before ERCP .\\n',\n",
              " 'METHODS\\tPost-ERCP pancreatitis and hyperamylasaemia were evaluated @ h following the procedure on the basis of clinical signs and laboratory parameters , and computed tomography/magnetic resonance imaging findings if required .\\n',\n",
              " 'RESULTS\\tTwenty-one patients were excluded because of incompleteness of their data or because of protocol violation .\\n',\n",
              " 'RESULTS\\tThe results of @ investigations were evaluated : @ in the indomethacin group and @ in the placebo group .\\n',\n",
              " 'RESULTS\\tThe distributions of the risk factors in the two groups did not differ significantly .\\n',\n",
              " 'RESULTS\\tPancreatitis developed in @ patients ( @ % ) : it was mild in @ ( @ % ) and severe in eight ( @ % ) cases .\\n',\n",
              " 'RESULTS\\tHyperamylaesemia occurred in @ patients ( @ % ) .\\n',\n",
              " 'RESULTS\\tThere was no significant difference between the indomethacin and placebo groups in the incidence of either post-ERCP pancreatitis ( @ % vs @ % ) or hyperamylasaemia ( @ % vs @ % ) .\\n',\n",
              " 'RESULTS\\tSimilarly , subgroup analysis did not reveal any significant differences between the two groups .\\n',\n",
              " 'CONCLUSIONS\\t@ mg rectal indomethacin administered before ERCP did not prove effective in preventing post-ERCP pancreatitis .\\n',\n",
              " '\\n',\n",
              " '###24249722\\n',\n",
              " 'BACKGROUND\\tWe sought to determine the incidence of newly diagnosed diabetes in treated elderly hypertensive patients and the prognostic impact of diabetes on long-term survival .\\n',\n",
              " 'METHODS\\tThe Second Australian National Blood Pressure ( ANBP@ ) study randomized @,@ hypertensive patients aged @-@ years to angiotensin-converting enzyme inhibitor ( ACEI ) or thiazide diuretic-based therapy and followed them for a median of @ years .\\n',\n",
              " 'METHODS\\tLong-term survival was determined in @,@ patients over an additional median of @ years after ANBP@ ( post-trial ) .\\n',\n",
              " 'RESULTS\\tAfter ANBP@ , the cohort was classified into preexisting ( @ % ) , newly diagnosed ( @ % ) , and no diabetes ( @ % ) groups .\\n',\n",
              " 'RESULTS\\tA @ % higher incidence of newly diagnosed diabetes was observed in patients randomized to thiazide diuretic compared with ACEI-based treatment .\\n',\n",
              " 'RESULTS\\tThe other predictors of newly diagnosed diabetes were having a higher body mass index , having a higher random blood glucose , and living in a regional location compared to major cities ( a geographical classification based on accessibility ) at study entry .\\n',\n",
              " 'RESULTS\\tAfter completion of ANBP@ , compared with those with no diabetes , the preexisting diabetes group experienced higher cardiovascular ( hazards ratio ( HR ) = @ ; @ % confidence interval ( CI ) = @-@ @ ) and all-cause mortality ( HR = @ ; @ % CI = @-@ @ ) when adjusted for age , sex , and treatment .\\n',\n",
              " 'RESULTS\\tA similar pattern was observed after including the post-trial period for cardiovascular ( HR = @ ; @ % CI = @-@ @ ) and all-cause mortality ( HR = @ ; @ % CI = @-@ @ ) .\\n',\n",
              " 'RESULTS\\tHowever , when the newly diagnosed group was compared with the no diabetes group , no significant difference was observed in cardiovascular ( HR = @ ; @ % CI = @-@ @ ) or all-cause mortality ( HR = @ ; @ % CI = @-@ @ ) either during the ANBP@ trial or including post-trial follow-up ( cardiovascular : HR = @ ; @ % CI = @-@ @ ; all-cause mortality : HR = @ ; @ % CI = @-@ @ ) .\\n',\n",
              " 'CONCLUSIONS\\tLong-term presence of diabetes reduces survival .\\n',\n",
              " 'CONCLUSIONS\\tCompared with thiazide diuretics , ACEI-based antihypertensives may delay the development of diabetes in those at risk and thus potentially improve cardiovascular outcome in the elderly .\\n',\n",
              " '\\n',\n",
              " '###25027286\\n',\n",
              " 'BACKGROUND\\tObesity is associated with a risk of gastroesophageal reflux disease .\\n',\n",
              " 'BACKGROUND\\tThe pharmacodynamic efficacy of proton pump inhibitors has not been specifically evaluated in obese subjects .\\n',\n",
              " 'BACKGROUND\\tThe aim of this study was to compare the antisecretory response to a single oral dose of @ mg rabeprazole , @ mg omeprazole and placebo in obese subjects .\\n',\n",
              " 'METHODS\\tGastric pH was monitored for @ hours on three separate occasions in eighteen H. pylori-negative , asymptomatic obese subjects .\\n',\n",
              " 'METHODS\\tSubjects were given omeprazole , rabeprazole or placebo in a randomized order and in a double-blind fashion .\\n',\n",
              " 'METHODS\\tThe main analysis criterion was @-h percent of time post dose with intragastric pH above @ ; secondary criteria were percentage of time above pH @ , median pH , -LSB- H + -RSB- concentrations and nocturnal acid breakthrough ( NAB ) .\\n',\n",
              " 'METHODS\\tResults were analyzed using linear mixed models and Wilks test comparing variances .\\n',\n",
              " 'RESULTS\\t@-h median -LSB- IQ -RSB- percentages of time with gastric pH above @ and @ were higher with rabeprazole than omeprazole ( @ -LSB- @-@ -RSB- vs. @ -LSB- @-@ -RSB- % , @ -LSB- @-@ -RSB- % for placebo ) but the differences did not reach statistical significance ( p = @ and @ , respectively ) .\\n',\n",
              " 'RESULTS\\tMedian acid concentrations were significantly lower with rabeprazole than with omeprazole and placebo ( @ -LSB- @-@ -RSB- vs. @ -LSB- @-@ -RSB- and @ -LSB- @-@ -RSB- mmoles/l , p < @ ) for all periods .\\n',\n",
              " 'RESULTS\\tThe number of NAB was significantly lower with rabeprazole than with omeprazole ( median @ -LSB- @,@ -RSB- vs. @ -LSB- @-@ -RSB- , p = @ ) .\\n',\n",
              " 'RESULTS\\tVariances of @-h data ( pH above @ and @ , median pH , -LSB- H + -RSB- concentrations ) were significantly lower with rabeprazole than with omeprazole ( p < @ ) .\\n',\n",
              " 'CONCLUSIONS\\tIn asymptomatic obese subjects the gastric antisecretory response to a single dose of rabeprazole and omeprazole was strong and not significantly different between drugs despite a significantly more homogeneous response with rabeprazole .\\n',\n",
              " 'BACKGROUND\\tClinicalTrial.gov : NCT@ .\\n',\n",
              " '\\n',\n",
              " '###25439809\\n',\n",
              " 'OBJECTIVE\\tTo study the effect of growth hormone ( GH ) treatment on ovarian and uterine morphology and function in short , prepubertal small-for-gestational-age ( SGA ) girls .\\n',\n",
              " 'METHODS\\tA multinational , randomized controlled trial on safety and efficacy of GH therapy in short , prepubertal children born SGA .\\n',\n",
              " 'METHODS\\tNot applicable .\\n',\n",
              " 'METHODS\\tA subgroup of @ Danish girls born SGA included in North European SGA Study ( NESGAS ) .\\n',\n",
              " 'METHODS\\tOne year of GH treatment ( @ g/kg/day ) followed by @ years of randomized GH treatment ( @ g/kg/day , @ g/kg/day , or IGF-I titrated ) .\\n',\n",
              " 'METHODS\\tData on anthropometrics , reproductive hormones , and ultrasonographic examination of the internal genitalia were collected during @ months of GH treatment .\\n',\n",
              " 'RESULTS\\tUterine and ovarian volume increased significantly during @ years of treatment ( @ % and @ % , respectively ) but remained low within normal reference ranges .\\n',\n",
              " 'RESULTS\\tOvarian follicles became visible in @ % after @ year compared with @ % before GH therapy .\\n',\n",
              " 'RESULTS\\tAnti-Mllerian hormone increased significantly during the @ years of GH therapy but remained within the normal range .\\n',\n",
              " 'RESULTS\\tPrecocious puberty was observed in one girl ; another girl developed multicystic ovaries .\\n',\n",
              " 'CONCLUSIONS\\tGH treatment was associated with statistically significant growth of the internal genitalia , but remained within the normal range .\\n',\n",
              " 'CONCLUSIONS\\tAs altered pubertal development and ovarian morphology were found in @ of @ girls , monitoring of puberty and ovarian function during GH therapy in SGA girls is prudent .\\n',\n",
              " 'CONCLUSIONS\\tAltogether , the findings are reassuring .\\n',\n",
              " 'CONCLUSIONS\\tHowever , long-term effects of GH treatment on adult reproductive function remain unknown .\\n',\n",
              " 'BACKGROUND\\tEudraCT @-@-@ .\\n',\n",
              " '\\n',\n",
              " '###24898858\\n',\n",
              " 'OBJECTIVE\\tTo test the hypothesis that a brief , clinic-based , single-session programme will reduce the rate of @ selected condom use errors in a clinical sample of young black men ( YBM ) ages @ through @ years .\\n',\n",
              " 'METHODS\\tData were collected in clinics treating patients with sexually transmitted infections ( STI ) in three southern US cities .\\n',\n",
              " 'METHODS\\tMales @-@years of age who identified as black/African-American , and reported recent ( past @months ) condom use were eligible .\\n',\n",
              " 'METHODS\\tOnly those also reporting condom use in the @months prior to a @-month follow-up assessment ( n = @ ) were included in this secondary analysis of data from a randomised , controlled trial .\\n',\n",
              " 'METHODS\\tDifference scores were used to capture a GroupTime effect .\\n',\n",
              " 'RESULTS\\tYBM reported @ condom use events in the @months preceding study enrolment and @ in the @months preceding the follow-up assessment .\\n',\n",
              " 'RESULTS\\tMean baseline error rates were @ and @ for young men randomised to the intervention and control conditions , respectively .\\n',\n",
              " 'RESULTS\\tFollow-up rates were @ and @ for young men randomised to the intervention and control conditions , respectively .\\n',\n",
              " 'RESULTS\\tControlled findings yielded a significant effect for the influence of group assignment on the difference score ( baseline to follow-up ) in the condom use error rate ( = @ ; p = @ ) .\\n',\n",
              " 'CONCLUSIONS\\tA brief , clinic-based counselling programme produced modest reductions in condom use errors among YBM attending STI clinics in the southern USA Intensified clinic-based intervention that helps YBM improve the quality of their condom use behaviours is warranted .\\n',\n",
              " 'BACKGROUND\\tNCT@ .\\n',\n",
              " '\\n',\n",
              " '###24672940\\n',\n",
              " 'OBJECTIVE\\tTo provide evidence for Chinese medical treatment of children with EB virus infection by exploring its clinical efficacy from multiple angles .\\n',\n",
              " 'METHODS\\tTotally @ children patients were randomly assigned to the treatment group ( @ cases ) and the control group ( @ cases ) .\\n',\n",
              " 'METHODS\\tPatients in the treatment group took Chinese medical decoction , while those in the control received intravenous dripping of Ganciclovir and oral administration of pidotimod .\\n',\n",
              " 'METHODS\\tThe treatment period for the two groups was @ weeks .\\n',\n",
              " 'METHODS\\tPatients were followed-up till the @th week .\\n',\n",
              " 'METHODS\\tClinical symptoms such as fever , lymphadenopathy and hepatosplenomegaly , as well as lab indices such as abnormal lymphocyte percentage , EB virus antibody , virus DNA load , T cell subsets , immunoglobulin , and so on were observed before and after treatment , at week @ and @ of follow-ups .\\n',\n",
              " 'RESULTS\\t( @ ) The total effective rate at week @ was @ % in the treatment group , higher than that of the control group ( @ % ) , but there was no statistical difference between the two groups .\\n',\n",
              " 'RESULTS\\t( @ ) The time for defervescence , duration of pharyngeal hyperemia , duration of swollen tonsils was shorter in the treatment group than in the control group ( P < @ ) .\\n',\n",
              " 'RESULTS\\tThe subsidence of lymphadenopathy , hepatomegaly , and abnormal lymphocytes was better in the treatment group than in the control group ( P < @ ) .\\n',\n",
              " 'RESULTS\\t( @ ) The positive cases of peripheral blood hetero-lymphocyte was significantly reduced after treatment , at week @ and @ of follow-ups both in the treatment group and the control group ( P < @ ) .\\n',\n",
              " 'RESULTS\\tThe expression of IgA and IgM decreased after treatment in the two groups when compared with before treatment in the same group ( P < @ , P < @ ) .\\n',\n",
              " 'RESULTS\\tIgG in the treatment group also obviously decreased after treatment , at week @ and @ of follow-ups ( P < @ , P < @ ) , while it decreased only after treatment in the control group ( P < @ ) .\\n',\n",
              " 'RESULTS\\tActivities of AST and ALT in the treatment group and the AST activity in the control group were markedly improved when compared with those before treatment ( P < @ ) .\\n',\n",
              " 'RESULTS\\tCompared with the control group , the abnormal lymphocyte positive case number obviously decreased in the treatment group after treatment , at week @ and @ of follow-ups ( P < @ ) .\\n',\n",
              " 'RESULTS\\t( @ ) After treatment , at week @ and @ of follow-ups , CD@ + and CD@ + significantly decreased ; CD@ + , CD@/CD@ , and B cells significantly increased in the two groups , when compared with before treatment ( P < @ ) .\\n',\n",
              " 'RESULTS\\tNK cells significantly increased more in the treatment group after treatment , at week @ and @ of follow-ups , higher than before treatment as well as the control group ( P < @ ) .\\n',\n",
              " 'RESULTS\\t( @ ) EB viral DNA and EB viral CA-IgM negative conversion case numbers significantly increased in the two groups after treatment , at week @ and @ of follow-ups ( P < @ ) .\\n',\n",
              " 'RESULTS\\tCompared with the control group , EB viral DNA and EB viral CA-IgM negative conversion case numbers significantly increased in the treatment group after treatment and at week @ of follow-ups ( P < @ ) .\\n',\n",
              " 'CONCLUSIONS\\tTreatment of EB virus infection by Chinese medical treatment was effective .\\n',\n",
              " 'CONCLUSIONS\\tIt could promote the recovery of EB viral infection , and reduce the risk of vicious disease after EB viral infection .\\n',\n",
              " '\\n',\n",
              " '###25039547\\n',\n",
              " 'OBJECTIVE\\tThe primary objective was to compare the cosmetic outcomes of traumatic trunk and extremity lacerations repaired using absorbable versus nonabsorbable sutures .\\n',\n",
              " 'OBJECTIVE\\tThe secondary objective was to compare complication rates between the two groups .\\n',\n",
              " 'METHODS\\tThis was a randomized controlled trial comparing wounds repaired with Vicryl Rapide and Prolene sutures .\\n',\n",
              " 'METHODS\\tPediatric and adult patients with lacerations were enrolled in the study .\\n',\n",
              " 'METHODS\\tAt a @-day follow-up , the wounds were evaluated for infection and dehiscence .\\n',\n",
              " 'METHODS\\tAfter @ months , patients returned to have the wounds photographed .\\n',\n",
              " 'METHODS\\tTwo plastic surgeons blinded to the method of closure rated the cosmetic outcome of each wound using a @-mm visual analog scale ( VAS ) .\\n',\n",
              " 'METHODS\\tUsing a noninferiority design , a VAS score of @ mm or greater was considered to be a clinically significant difference .\\n',\n",
              " \"METHODS\\tWe used a Student 's t-test to compare differences between mean VAS scores and odds ratios ( ORs ) to compare differences in complication rates between the two groups .\\n\",\n",
              " 'RESULTS\\tOf the @ patients enrolled , @ completed the study including @ in the Vicryl Rapide group and @ in the Prolene group .\\n',\n",
              " 'RESULTS\\tThe mean ( SD ) age of patients who completed the study was @ ( @ ) years , and @ were male .\\n',\n",
              " 'RESULTS\\tWe found no significant differences in the age , race , sex , length of wound , number of sutures , or layers of repair in the two groups .\\n',\n",
              " \"RESULTS\\tThe observer 's mean VAS for the Vicryl Rapide group was @ mm ( @ % confidence interval -LSB- CI -RSB- = @ to @ mm ) and for the Prolene group was @ mm ( @ % CI = @ to @ mm ) .\\n\",\n",
              " 'RESULTS\\tThe resulting mean difference was @ mm ( @ % CI = -@ to @ mm ; p = @ ) ; thus noninferiority was established .\\n',\n",
              " 'RESULTS\\tStatistical testing showed no differences in the rates of complications between the two groups , but a higher percentage of the Vicryl Rapide wounds developed complications .\\n',\n",
              " 'CONCLUSIONS\\tThe use of absorbable sutures for the repair of simple lacerations on the trunk and extremities should be considered as an alternative to nonabsorbable suture repair .\\n',\n",
              " '\\n',\n",
              " '###25139873\\n',\n",
              " 'OBJECTIVE\\tAspirin early after intravenous thrombolysis in acute ischemic stroke increases the risk of symptomatic intracranial hemorrhage ( SICH ) , without influencing functional outcome at @ months .\\n',\n",
              " 'OBJECTIVE\\tThe effect of aspirin on early neurological deterioration ( END ) was explored as a post hoc analysis of the randomized Antiplatelet Therapy in Combination With Recombinant t-PA Thrombolysis in Ischemic Stroke ( ARTIS ) trial .\\n',\n",
              " 'METHODS\\tEND , defined as a @ points National Institutes of Health Stroke Scale worsening @ hours after intravenous thrombolysis , was categorized into SICH ( ENDSICH ) and cerebral ischemia ( ENDCI ) .\\n',\n",
              " 'METHODS\\tMultinomial logistic regression was used to assess the effect of aspirin on END .\\n',\n",
              " 'RESULTS\\tOf the @ patients , @ patients ( @ % ) experienced END ( @ ENDSICH , @ ENDCI ) .\\n',\n",
              " 'RESULTS\\tAspirin increased the risk of ENDSICH ( odds ratio , @ ; @ % confidence interval , @-@ @ ) but not of ENDCI ( odds ratio , @ ; @ % confidence interval , @-@ @ ) .\\n',\n",
              " 'RESULTS\\tAfter adjustment for other explanatory variables , the association between aspirin and ENDSICH remained significant .\\n',\n",
              " 'CONCLUSIONS\\tIn this trial , there is no evidence of an early antithrombotic effect from the addition of aspirin to intravenous thrombolysis in acute ischemic stroke .\\n',\n",
              " '\\n',\n",
              " '###24917273\\n',\n",
              " 'OBJECTIVE\\tTo compare the relative effectiveness of methotrexate and mycophenolate mofetil for noninfectious intermediate uveitis , posterior uveitis , or panuveitis .\\n',\n",
              " 'METHODS\\tMulticenter , block-randomized , observer-masked clinical trial .\\n',\n",
              " ...]"
            ]
          },
          "metadata": {},
          "execution_count": 6
        }
      ]
    },
    {
      "cell_type": "code",
      "source": [
        "len(train_lines)"
      ],
      "metadata": {
        "colab": {
          "base_uri": "https://localhost:8080/"
        },
        "id": "sgolnn3PNAnL",
        "outputId": "486acc26-f0d6-48bf-e00a-518759267a14"
      },
      "execution_count": null,
      "outputs": [
        {
          "output_type": "execute_result",
          "data": {
            "text/plain": [
              "210040"
            ]
          },
          "metadata": {},
          "execution_count": 7
        }
      ]
    },
    {
      "cell_type": "code",
      "source": [
        "# Structure text into desired dictionary format\n",
        "# Extract target label, text, number of sentences, sentence number\n",
        "def preprocess_text_with_line_numbers(filename):\n",
        "  input_lines = get_lines(filename)\n",
        "  abstract_lines = ''\n",
        "  abstract_samples = []\n",
        "\n",
        "  for line in input_lines:\n",
        "    if line.startswith('###'):\n",
        "      abstract_id = line\n",
        "      # Reset abstract string if line is ID line\n",
        "      abstract_lines = ''\n",
        "    elif line.isspace():\n",
        "      # Split abstract lines into separate lines\n",
        "      abstract_line_split = abstract_lines.splitlines()\n",
        "      # Iterate each line in single abstract and count them at the same time\n",
        "      for abstract_line_number, abstract_line in enumerate(abstract_line_split):\n",
        "        line_data = {}\n",
        "        target_text_split = abstract_line.split('\\t')\n",
        "        line_data['target'] = target_text_split[0]\n",
        "        line_data['text'] = target_text_split[1].lower()\n",
        "        line_data['line_number'] = abstract_line_number\n",
        "        # 0-index\n",
        "        line_data['total_lines'] = len(abstract_line_split) - 1\n",
        "        abstract_samples.append(line_data)\n",
        "    else:\n",
        "      abstract_lines += line\n",
        "  return abstract_samples"
      ],
      "metadata": {
        "id": "jMpwwFRdNHrm"
      },
      "execution_count": null,
      "outputs": []
    },
    {
      "cell_type": "code",
      "source": [
        "%%time\n",
        "train_samples = preprocess_text_with_line_numbers(data_dir + 'train.txt')\n",
        "val_samples = preprocess_text_with_line_numbers(data_dir + 'dev.txt')\n",
        "test_samples = preprocess_text_with_line_numbers(data_dir + 'test.txt')\n",
        "print(len(train_samples), len(val_samples), len(test_samples))"
      ],
      "metadata": {
        "colab": {
          "base_uri": "https://localhost:8080/"
        },
        "id": "YNAJu7G_Pxp-",
        "outputId": "5ba9278d-4d4c-4a84-8eb1-d6eb22471bd3"
      },
      "execution_count": null,
      "outputs": [
        {
          "output_type": "stream",
          "name": "stdout",
          "text": [
            "180040 30212 30135\n",
            "CPU times: user 694 ms, sys: 95.2 ms, total: 789 ms\n",
            "Wall time: 1.18 s\n"
          ]
        }
      ]
    },
    {
      "cell_type": "code",
      "source": [
        "train_samples[:12]"
      ],
      "metadata": {
        "colab": {
          "base_uri": "https://localhost:8080/"
        },
        "id": "aJOkLCboQHXA",
        "outputId": "99de0463-7b35-40a7-850f-12d9a09815c0"
      },
      "execution_count": null,
      "outputs": [
        {
          "output_type": "execute_result",
          "data": {
            "text/plain": [
              "[{'line_number': 0,\n",
              "  'target': 'OBJECTIVE',\n",
              "  'text': 'to investigate the efficacy of @ weeks of daily low-dose oral prednisolone in improving pain , mobility , and systemic low-grade inflammation in the short term and whether the effect would be sustained at @ weeks in older adults with moderate to severe knee osteoarthritis ( oa ) .',\n",
              "  'total_lines': 11},\n",
              " {'line_number': 1,\n",
              "  'target': 'METHODS',\n",
              "  'text': 'a total of @ patients with primary knee oa were randomized @:@ ; @ received @ mg/day of prednisolone and @ received placebo for @ weeks .',\n",
              "  'total_lines': 11},\n",
              " {'line_number': 2,\n",
              "  'target': 'METHODS',\n",
              "  'text': 'outcome measures included pain reduction and improvement in function scores and systemic inflammation markers .',\n",
              "  'total_lines': 11},\n",
              " {'line_number': 3,\n",
              "  'target': 'METHODS',\n",
              "  'text': 'pain was assessed using the visual analog pain scale ( @-@ mm ) .',\n",
              "  'total_lines': 11},\n",
              " {'line_number': 4,\n",
              "  'target': 'METHODS',\n",
              "  'text': 'secondary outcome measures included the western ontario and mcmaster universities osteoarthritis index scores , patient global assessment ( pga ) of the severity of knee oa , and @-min walk distance ( @mwd ) .',\n",
              "  'total_lines': 11},\n",
              " {'line_number': 5,\n",
              "  'target': 'METHODS',\n",
              "  'text': 'serum levels of interleukin @ ( il-@ ) , il-@ , tumor necrosis factor ( tnf ) - , and high-sensitivity c-reactive protein ( hscrp ) were measured .',\n",
              "  'total_lines': 11},\n",
              " {'line_number': 6,\n",
              "  'target': 'RESULTS',\n",
              "  'text': 'there was a clinically relevant reduction in the intervention group compared to the placebo group for knee pain , physical function , pga , and @mwd at @ weeks .',\n",
              "  'total_lines': 11},\n",
              " {'line_number': 7,\n",
              "  'target': 'RESULTS',\n",
              "  'text': 'the mean difference between treatment arms ( @ % ci ) was @ ( @-@ @ ) , p < @ ; @ ( @-@ @ ) , p < @ ; @ ( @-@ @ ) , p < @ ; and @ ( @-@ @ ) , p < @ , respectively .',\n",
              "  'total_lines': 11},\n",
              " {'line_number': 8,\n",
              "  'target': 'RESULTS',\n",
              "  'text': 'further , there was a clinically relevant reduction in the serum levels of il-@ , il-@ , tnf - , and hscrp at @ weeks in the intervention group when compared to the placebo group .',\n",
              "  'total_lines': 11},\n",
              " {'line_number': 9,\n",
              "  'target': 'RESULTS',\n",
              "  'text': 'these differences remained significant at @ weeks .',\n",
              "  'total_lines': 11},\n",
              " {'line_number': 10,\n",
              "  'target': 'RESULTS',\n",
              "  'text': 'the outcome measures in rheumatology clinical trials-osteoarthritis research society international responder rate was @ % in the intervention group and @ % in the placebo group ( p < @ ) .',\n",
              "  'total_lines': 11},\n",
              " {'line_number': 11,\n",
              "  'target': 'CONCLUSIONS',\n",
              "  'text': 'low-dose oral prednisolone had both a short-term and a longer sustained effect resulting in less knee pain , better physical function , and attenuation of systemic inflammation in older patients with knee oa ( clinicaltrials.gov identifier nct@ ) .',\n",
              "  'total_lines': 11}]"
            ]
          },
          "metadata": {},
          "execution_count": 10
        }
      ]
    },
    {
      "cell_type": "code",
      "source": [
        "import pandas as pd\n",
        "\n",
        "train_df = pd.DataFrame(train_samples)\n",
        "val_df = pd.DataFrame(val_samples)\n",
        "test_df = pd.DataFrame(test_samples)\n",
        "train_df"
      ],
      "metadata": {
        "colab": {
          "base_uri": "https://localhost:8080/",
          "height": 424
        },
        "id": "8HcSfTW1QeFS",
        "outputId": "d670cce5-79e7-4b9b-f9d5-32426f7f2f92"
      },
      "execution_count": null,
      "outputs": [
        {
          "output_type": "execute_result",
          "data": {
            "text/plain": [
              "             target                                               text  \\\n",
              "0         OBJECTIVE  to investigate the efficacy of @ weeks of dail...   \n",
              "1           METHODS  a total of @ patients with primary knee oa wer...   \n",
              "2           METHODS  outcome measures included pain reduction and i...   \n",
              "3           METHODS  pain was assessed using the visual analog pain...   \n",
              "4           METHODS  secondary outcome measures included the wester...   \n",
              "...             ...                                                ...   \n",
              "180035      RESULTS  for the absolute change in percent atheroma vo...   \n",
              "180036      RESULTS  for pav , a significantly greater percentage o...   \n",
              "180037      RESULTS  both strategies had acceptable side effect pro...   \n",
              "180038  CONCLUSIONS  compared with standard statin monotherapy , th...   \n",
              "180039  CONCLUSIONS  ( plaque regression with cholesterol absorptio...   \n",
              "\n",
              "        line_number  total_lines  \n",
              "0                 0           11  \n",
              "1                 1           11  \n",
              "2                 2           11  \n",
              "3                 3           11  \n",
              "4                 4           11  \n",
              "...             ...          ...  \n",
              "180035            7           11  \n",
              "180036            8           11  \n",
              "180037            9           11  \n",
              "180038           10           11  \n",
              "180039           11           11  \n",
              "\n",
              "[180040 rows x 4 columns]"
            ],
            "text/html": [
              "\n",
              "  <div id=\"df-02cc46c2-8d45-4be0-a96e-808f1589398d\">\n",
              "    <div class=\"colab-df-container\">\n",
              "      <div>\n",
              "<style scoped>\n",
              "    .dataframe tbody tr th:only-of-type {\n",
              "        vertical-align: middle;\n",
              "    }\n",
              "\n",
              "    .dataframe tbody tr th {\n",
              "        vertical-align: top;\n",
              "    }\n",
              "\n",
              "    .dataframe thead th {\n",
              "        text-align: right;\n",
              "    }\n",
              "</style>\n",
              "<table border=\"1\" class=\"dataframe\">\n",
              "  <thead>\n",
              "    <tr style=\"text-align: right;\">\n",
              "      <th></th>\n",
              "      <th>target</th>\n",
              "      <th>text</th>\n",
              "      <th>line_number</th>\n",
              "      <th>total_lines</th>\n",
              "    </tr>\n",
              "  </thead>\n",
              "  <tbody>\n",
              "    <tr>\n",
              "      <th>0</th>\n",
              "      <td>OBJECTIVE</td>\n",
              "      <td>to investigate the efficacy of @ weeks of dail...</td>\n",
              "      <td>0</td>\n",
              "      <td>11</td>\n",
              "    </tr>\n",
              "    <tr>\n",
              "      <th>1</th>\n",
              "      <td>METHODS</td>\n",
              "      <td>a total of @ patients with primary knee oa wer...</td>\n",
              "      <td>1</td>\n",
              "      <td>11</td>\n",
              "    </tr>\n",
              "    <tr>\n",
              "      <th>2</th>\n",
              "      <td>METHODS</td>\n",
              "      <td>outcome measures included pain reduction and i...</td>\n",
              "      <td>2</td>\n",
              "      <td>11</td>\n",
              "    </tr>\n",
              "    <tr>\n",
              "      <th>3</th>\n",
              "      <td>METHODS</td>\n",
              "      <td>pain was assessed using the visual analog pain...</td>\n",
              "      <td>3</td>\n",
              "      <td>11</td>\n",
              "    </tr>\n",
              "    <tr>\n",
              "      <th>4</th>\n",
              "      <td>METHODS</td>\n",
              "      <td>secondary outcome measures included the wester...</td>\n",
              "      <td>4</td>\n",
              "      <td>11</td>\n",
              "    </tr>\n",
              "    <tr>\n",
              "      <th>...</th>\n",
              "      <td>...</td>\n",
              "      <td>...</td>\n",
              "      <td>...</td>\n",
              "      <td>...</td>\n",
              "    </tr>\n",
              "    <tr>\n",
              "      <th>180035</th>\n",
              "      <td>RESULTS</td>\n",
              "      <td>for the absolute change in percent atheroma vo...</td>\n",
              "      <td>7</td>\n",
              "      <td>11</td>\n",
              "    </tr>\n",
              "    <tr>\n",
              "      <th>180036</th>\n",
              "      <td>RESULTS</td>\n",
              "      <td>for pav , a significantly greater percentage o...</td>\n",
              "      <td>8</td>\n",
              "      <td>11</td>\n",
              "    </tr>\n",
              "    <tr>\n",
              "      <th>180037</th>\n",
              "      <td>RESULTS</td>\n",
              "      <td>both strategies had acceptable side effect pro...</td>\n",
              "      <td>9</td>\n",
              "      <td>11</td>\n",
              "    </tr>\n",
              "    <tr>\n",
              "      <th>180038</th>\n",
              "      <td>CONCLUSIONS</td>\n",
              "      <td>compared with standard statin monotherapy , th...</td>\n",
              "      <td>10</td>\n",
              "      <td>11</td>\n",
              "    </tr>\n",
              "    <tr>\n",
              "      <th>180039</th>\n",
              "      <td>CONCLUSIONS</td>\n",
              "      <td>( plaque regression with cholesterol absorptio...</td>\n",
              "      <td>11</td>\n",
              "      <td>11</td>\n",
              "    </tr>\n",
              "  </tbody>\n",
              "</table>\n",
              "<p>180040 rows × 4 columns</p>\n",
              "</div>\n",
              "      <button class=\"colab-df-convert\" onclick=\"convertToInteractive('df-02cc46c2-8d45-4be0-a96e-808f1589398d')\"\n",
              "              title=\"Convert this dataframe to an interactive table.\"\n",
              "              style=\"display:none;\">\n",
              "        \n",
              "  <svg xmlns=\"http://www.w3.org/2000/svg\" height=\"24px\"viewBox=\"0 0 24 24\"\n",
              "       width=\"24px\">\n",
              "    <path d=\"M0 0h24v24H0V0z\" fill=\"none\"/>\n",
              "    <path d=\"M18.56 5.44l.94 2.06.94-2.06 2.06-.94-2.06-.94-.94-2.06-.94 2.06-2.06.94zm-11 1L8.5 8.5l.94-2.06 2.06-.94-2.06-.94L8.5 2.5l-.94 2.06-2.06.94zm10 10l.94 2.06.94-2.06 2.06-.94-2.06-.94-.94-2.06-.94 2.06-2.06.94z\"/><path d=\"M17.41 7.96l-1.37-1.37c-.4-.4-.92-.59-1.43-.59-.52 0-1.04.2-1.43.59L10.3 9.45l-7.72 7.72c-.78.78-.78 2.05 0 2.83L4 21.41c.39.39.9.59 1.41.59.51 0 1.02-.2 1.41-.59l7.78-7.78 2.81-2.81c.8-.78.8-2.07 0-2.86zM5.41 20L4 18.59l7.72-7.72 1.47 1.35L5.41 20z\"/>\n",
              "  </svg>\n",
              "      </button>\n",
              "      \n",
              "  <style>\n",
              "    .colab-df-container {\n",
              "      display:flex;\n",
              "      flex-wrap:wrap;\n",
              "      gap: 12px;\n",
              "    }\n",
              "\n",
              "    .colab-df-convert {\n",
              "      background-color: #E8F0FE;\n",
              "      border: none;\n",
              "      border-radius: 50%;\n",
              "      cursor: pointer;\n",
              "      display: none;\n",
              "      fill: #1967D2;\n",
              "      height: 32px;\n",
              "      padding: 0 0 0 0;\n",
              "      width: 32px;\n",
              "    }\n",
              "\n",
              "    .colab-df-convert:hover {\n",
              "      background-color: #E2EBFA;\n",
              "      box-shadow: 0px 1px 2px rgba(60, 64, 67, 0.3), 0px 1px 3px 1px rgba(60, 64, 67, 0.15);\n",
              "      fill: #174EA6;\n",
              "    }\n",
              "\n",
              "    [theme=dark] .colab-df-convert {\n",
              "      background-color: #3B4455;\n",
              "      fill: #D2E3FC;\n",
              "    }\n",
              "\n",
              "    [theme=dark] .colab-df-convert:hover {\n",
              "      background-color: #434B5C;\n",
              "      box-shadow: 0px 1px 3px 1px rgba(0, 0, 0, 0.15);\n",
              "      filter: drop-shadow(0px 1px 2px rgba(0, 0, 0, 0.3));\n",
              "      fill: #FFFFFF;\n",
              "    }\n",
              "  </style>\n",
              "\n",
              "      <script>\n",
              "        const buttonEl =\n",
              "          document.querySelector('#df-02cc46c2-8d45-4be0-a96e-808f1589398d button.colab-df-convert');\n",
              "        buttonEl.style.display =\n",
              "          google.colab.kernel.accessAllowed ? 'block' : 'none';\n",
              "\n",
              "        async function convertToInteractive(key) {\n",
              "          const element = document.querySelector('#df-02cc46c2-8d45-4be0-a96e-808f1589398d');\n",
              "          const dataTable =\n",
              "            await google.colab.kernel.invokeFunction('convertToInteractive',\n",
              "                                                     [key], {});\n",
              "          if (!dataTable) return;\n",
              "\n",
              "          const docLinkHtml = 'Like what you see? Visit the ' +\n",
              "            '<a target=\"_blank\" href=https://colab.research.google.com/notebooks/data_table.ipynb>data table notebook</a>'\n",
              "            + ' to learn more about interactive tables.';\n",
              "          element.innerHTML = '';\n",
              "          dataTable['output_type'] = 'display_data';\n",
              "          await google.colab.output.renderOutput(dataTable, element);\n",
              "          const docLink = document.createElement('div');\n",
              "          docLink.innerHTML = docLinkHtml;\n",
              "          element.appendChild(docLink);\n",
              "        }\n",
              "      </script>\n",
              "    </div>\n",
              "  </div>\n",
              "  "
            ]
          },
          "metadata": {},
          "execution_count": 11
        }
      ]
    },
    {
      "cell_type": "code",
      "source": [
        "train_df.target.value_counts()"
      ],
      "metadata": {
        "colab": {
          "base_uri": "https://localhost:8080/"
        },
        "id": "yBZX0VMEQ8mn",
        "outputId": "2091bc7e-70a7-4fd2-acbe-5d9eeec1b348"
      },
      "execution_count": null,
      "outputs": [
        {
          "output_type": "execute_result",
          "data": {
            "text/plain": [
              "METHODS        59353\n",
              "RESULTS        57953\n",
              "CONCLUSIONS    27168\n",
              "BACKGROUND     21727\n",
              "OBJECTIVE      13839\n",
              "Name: target, dtype: int64"
            ]
          },
          "metadata": {},
          "execution_count": 12
        }
      ]
    },
    {
      "cell_type": "code",
      "source": [
        "train_sentences = train_df['text'].tolist()\n",
        "val_sentences = val_df['text'].tolist()\n",
        "test_sentences = test_df['text'].tolist()"
      ],
      "metadata": {
        "id": "lj3I9wV2RLGA"
      },
      "execution_count": null,
      "outputs": []
    },
    {
      "cell_type": "code",
      "source": [
        "# One hot encode labels\n",
        "from sklearn.preprocessing import OneHotEncoder\n",
        "\n",
        "one_hot_encoder = OneHotEncoder(sparse=False)\n",
        "train_labels_one_hot = one_hot_encoder.fit_transform(train_df['target'].to_numpy().reshape((-1,1)))\n",
        "val_labels_one_hot = one_hot_encoder.transform(val_df['target'].to_numpy().reshape((-1,1)))\n",
        "test_labels_one_hot = one_hot_encoder.transform(test_df['target'].to_numpy().reshape((-1,1)))\n"
      ],
      "metadata": {
        "id": "kShBbafDRoSo"
      },
      "execution_count": null,
      "outputs": []
    },
    {
      "cell_type": "code",
      "source": [
        "import tensorflow as tf\n",
        "\n",
        "tf.constant(train_labels_one_hot)"
      ],
      "metadata": {
        "colab": {
          "base_uri": "https://localhost:8080/"
        },
        "id": "ungtGmOuSVf9",
        "outputId": "b4b27691-0772-4c32-817d-d3561f7a9334"
      },
      "execution_count": null,
      "outputs": [
        {
          "output_type": "execute_result",
          "data": {
            "text/plain": [
              "<tf.Tensor: shape=(180040, 5), dtype=float64, numpy=\n",
              "array([[0., 0., 0., 1., 0.],\n",
              "       [0., 0., 1., 0., 0.],\n",
              "       [0., 0., 1., 0., 0.],\n",
              "       ...,\n",
              "       [0., 0., 0., 0., 1.],\n",
              "       [0., 1., 0., 0., 0.],\n",
              "       [0., 1., 0., 0., 0.]])>"
            ]
          },
          "metadata": {},
          "execution_count": 15
        }
      ]
    },
    {
      "cell_type": "code",
      "source": [
        "from sklearn.preprocessing import LabelEncoder\n",
        "\n",
        "label_encoder = LabelEncoder()\n",
        "train_labels_encoded = label_encoder.fit_transform(train_df['target'].to_numpy())\n",
        "val_labels_encoded = label_encoder.transform(val_df['target'].to_numpy())\n",
        "test_labels_encoded = label_encoder.transform(test_df['target'].to_numpy())\n",
        "train_labels_encoded"
      ],
      "metadata": {
        "colab": {
          "base_uri": "https://localhost:8080/"
        },
        "id": "WOpHsr-KSdCv",
        "outputId": "3aea6aab-e8ba-445e-c591-e7ffc88cbfb9"
      },
      "execution_count": null,
      "outputs": [
        {
          "output_type": "execute_result",
          "data": {
            "text/plain": [
              "array([3, 2, 2, ..., 4, 1, 1])"
            ]
          },
          "metadata": {},
          "execution_count": 16
        }
      ]
    },
    {
      "cell_type": "code",
      "source": [
        "num_classes = len(label_encoder.classes_)\n",
        "class_names = label_encoder.classes_\n",
        "num_classes, class_names"
      ],
      "metadata": {
        "colab": {
          "base_uri": "https://localhost:8080/"
        },
        "id": "k2lnVQvJVYf2",
        "outputId": "5bdadd7a-7747-44bd-de49-510134179de1"
      },
      "execution_count": null,
      "outputs": [
        {
          "output_type": "execute_result",
          "data": {
            "text/plain": [
              "(5, array(['BACKGROUND', 'CONCLUSIONS', 'METHODS', 'OBJECTIVE', 'RESULTS'],\n",
              "       dtype=object))"
            ]
          },
          "metadata": {},
          "execution_count": 17
        }
      ]
    },
    {
      "cell_type": "code",
      "source": [
        "# baseline model\n",
        "\n",
        "from sklearn.feature_extraction.text import TfidfVectorizer\n",
        "from sklearn.naive_bayes import MultinomialNB\n",
        "from sklearn.pipeline import Pipeline\n",
        "\n",
        "model0 = Pipeline([\n",
        "    ('tfid', TfidfVectorizer()),\n",
        "    ('clf', MultinomialNB())\n",
        "])\n",
        "\n",
        "model0.fit(train_sentences, train_labels_encoded)\n",
        "\n",
        "model0.score(val_sentences, val_labels_encoded)"
      ],
      "metadata": {
        "colab": {
          "base_uri": "https://localhost:8080/"
        },
        "id": "9H_jqbkiVkXY",
        "outputId": "88f9ad09-f4a6-47b4-c41f-d1a6c08faa96"
      },
      "execution_count": null,
      "outputs": [
        {
          "output_type": "execute_result",
          "data": {
            "text/plain": [
              "0.7218323844829869"
            ]
          },
          "metadata": {},
          "execution_count": 18
        }
      ]
    },
    {
      "cell_type": "code",
      "source": [
        "baseline_preds = model0.predict(val_sentences)\n",
        "baseline_preds"
      ],
      "metadata": {
        "colab": {
          "base_uri": "https://localhost:8080/"
        },
        "id": "Aj_hnklkWdWv",
        "outputId": "fff3dcd2-adae-4e92-9f99-5f03231ced56"
      },
      "execution_count": null,
      "outputs": [
        {
          "output_type": "execute_result",
          "data": {
            "text/plain": [
              "array([4, 1, 3, ..., 4, 4, 1])"
            ]
          },
          "metadata": {},
          "execution_count": 19
        }
      ]
    },
    {
      "cell_type": "code",
      "source": [
        "!wget https://raw.githubusercontent.com/mrdbourke/tensorflow-deep-learning/main/extras/helper_functions.py"
      ],
      "metadata": {
        "colab": {
          "base_uri": "https://localhost:8080/"
        },
        "id": "7WVUSJ6GWsqA",
        "outputId": "96fa7096-6c6e-47a1-878d-2cff6953b545"
      },
      "execution_count": null,
      "outputs": [
        {
          "output_type": "stream",
          "name": "stdout",
          "text": [
            "--2022-08-15 15:41:45--  https://raw.githubusercontent.com/mrdbourke/tensorflow-deep-learning/main/extras/helper_functions.py\n",
            "Resolving raw.githubusercontent.com (raw.githubusercontent.com)... 185.199.108.133, 185.199.109.133, 185.199.110.133, ...\n",
            "Connecting to raw.githubusercontent.com (raw.githubusercontent.com)|185.199.108.133|:443... connected.\n",
            "HTTP request sent, awaiting response... 200 OK\n",
            "Length: 10246 (10K) [text/plain]\n",
            "Saving to: ‘helper_functions.py’\n",
            "\n",
            "\rhelper_functions.py   0%[                    ]       0  --.-KB/s               \rhelper_functions.py 100%[===================>]  10.01K  --.-KB/s    in 0s      \n",
            "\n",
            "2022-08-15 15:41:46 (80.2 MB/s) - ‘helper_functions.py’ saved [10246/10246]\n",
            "\n"
          ]
        }
      ]
    },
    {
      "cell_type": "code",
      "source": [
        "from helper_functions import calculate_results"
      ],
      "metadata": {
        "id": "2En1Q5RAXJY9"
      },
      "execution_count": null,
      "outputs": []
    },
    {
      "cell_type": "code",
      "source": [
        "baseline_results = calculate_results(val_labels_encoded, baseline_preds)\n",
        "baseline_results"
      ],
      "metadata": {
        "colab": {
          "base_uri": "https://localhost:8080/"
        },
        "id": "JUoDZkHnXRFq",
        "outputId": "f8337503-932d-4dd1-eb6e-0f6489339257"
      },
      "execution_count": null,
      "outputs": [
        {
          "output_type": "execute_result",
          "data": {
            "text/plain": [
              "{'accuracy': 72.1832384482987,\n",
              " 'f1': 0.6989250353450294,\n",
              " 'precision': 0.7186466952323352,\n",
              " 'recall': 0.7218323844829869}"
            ]
          },
          "metadata": {},
          "execution_count": 22
        }
      ]
    },
    {
      "cell_type": "code",
      "source": [
        "import numpy as np\n",
        "from tensorflow.keras import layers\n",
        "\n",
        "sent_lens = [len(sentence.split()) for sentence in train_sentences]\n",
        "avg_sent_len = np.mean(sent_lens)\n",
        "avg_sent_len"
      ],
      "metadata": {
        "colab": {
          "base_uri": "https://localhost:8080/"
        },
        "id": "YINAHrbLXWBq",
        "outputId": "279ae4d2-1629-4fde-c0a5-fbaeed0a0d16"
      },
      "execution_count": null,
      "outputs": [
        {
          "output_type": "execute_result",
          "data": {
            "text/plain": [
              "26.338269273494777"
            ]
          },
          "metadata": {},
          "execution_count": 23
        }
      ]
    },
    {
      "cell_type": "code",
      "source": [
        "# 95th percentile for sentence length\n",
        "output_seq_len = int(np.percentile(sent_lens, 95))\n",
        "output_seq_len"
      ],
      "metadata": {
        "colab": {
          "base_uri": "https://localhost:8080/"
        },
        "id": "RNp_wfTAXw_i",
        "outputId": "79cfb092-2486-4815-e008-638a90fcf804"
      },
      "execution_count": null,
      "outputs": [
        {
          "output_type": "execute_result",
          "data": {
            "text/plain": [
              "55"
            ]
          },
          "metadata": {},
          "execution_count": 24
        }
      ]
    },
    {
      "cell_type": "code",
      "source": [
        "max_tokens = 68000\n",
        "\n",
        "from tensorflow.keras.layers.experimental.preprocessing import TextVectorization\n",
        "\n",
        "text_vectorizer = TextVectorization(max_tokens=max_tokens,\n",
        "                                    output_sequence_length=output_seq_len)\n",
        "\n",
        "text_vectorizer.adapt(train_sentences)"
      ],
      "metadata": {
        "id": "Q_GQkDv1YK_V"
      },
      "execution_count": null,
      "outputs": []
    },
    {
      "cell_type": "code",
      "source": [
        "rct_20k_text_vocab = text_vectorizer.get_vocabulary()\n",
        "token_embed = layers.Embedding(input_dim=len(rct_20k_text_vocab),\n",
        "                               output_dim=128,\n",
        "                               mask_zero=True) # handle variable sequence length to save space"
      ],
      "metadata": {
        "id": "BqXjbWG7a34O"
      },
      "execution_count": null,
      "outputs": []
    },
    {
      "cell_type": "code",
      "source": [
        "# Turn data into tensorflow datasets\n",
        "train_dataset = tf.data.Dataset.from_tensor_slices((train_sentences, train_labels_one_hot))\n",
        "val_dataset = tf.data.Dataset.from_tensor_slices((val_sentences, val_labels_one_hot))\n",
        "test_dataset = tf.data.Dataset.from_tensor_slices((test_sentences, test_labels_one_hot))\n",
        "train_dataset"
      ],
      "metadata": {
        "colab": {
          "base_uri": "https://localhost:8080/"
        },
        "id": "IS3BF_5scU8W",
        "outputId": "235b96ed-f825-4a2d-bf6b-f1e246a1f40c"
      },
      "execution_count": null,
      "outputs": [
        {
          "output_type": "execute_result",
          "data": {
            "text/plain": [
              "<TensorSliceDataset element_spec=(TensorSpec(shape=(), dtype=tf.string, name=None), TensorSpec(shape=(5,), dtype=tf.float64, name=None))>"
            ]
          },
          "metadata": {},
          "execution_count": 27
        }
      ]
    },
    {
      "cell_type": "code",
      "source": [
        "train_dataset = train_dataset.batch(32).prefetch(tf.data.AUTOTUNE)\n",
        "val_dataset = val_dataset.batch(32).prefetch(tf.data.AUTOTUNE)\n",
        "test_dataset = test_dataset.batch(32).prefetch(tf.data.AUTOTUNE)"
      ],
      "metadata": {
        "id": "M9RJ8lkEdF-k"
      },
      "execution_count": null,
      "outputs": []
    },
    {
      "cell_type": "code",
      "source": [
        "# conv1D model\n",
        "import tensorflow as tf\n",
        "from tensorflow.keras import layers\n",
        "\n",
        "inputs = layers.Input(shape=(1,), dtype=tf.string)\n",
        "text_vectors = text_vectorizer(inputs)\n",
        "token_embeddings = token_embed(text_vectors)\n",
        "x = layers.Conv1D(64, kernel_size=5, padding='same', activation='relu')(token_embeddings)\n",
        "x = layers.GlobalAveragePooling1D()(x)\n",
        "outputs = layers.Dense(num_classes, activation='softmax')(x)\n",
        "\n",
        "model1 = tf.keras.Model(inputs, outputs)\n",
        "model1.compile(loss='categorical_crossentropy',\n",
        "               optimizer=tf.keras.optimizers.Adam(),\n",
        "               metrics=['accuracy'])\n",
        "history1 = model1.fit(train_dataset,\n",
        "                      steps_per_epoch=int(0.1*len(train_dataset)),\n",
        "                      epochs=3,\n",
        "                      validation_data=val_dataset,\n",
        "                      validation_steps=int(0.1*len(val_dataset)))"
      ],
      "metadata": {
        "colab": {
          "base_uri": "https://localhost:8080/"
        },
        "id": "lgGVD9mVd1ci",
        "outputId": "25c1fc69-77ef-4075-b497-0a7a88c1168a"
      },
      "execution_count": null,
      "outputs": [
        {
          "output_type": "stream",
          "name": "stdout",
          "text": [
            "Epoch 1/3\n",
            "562/562 [==============================] - 17s 9ms/step - loss: 0.9304 - accuracy: 0.6310 - val_loss: 0.6908 - val_accuracy: 0.7374\n",
            "Epoch 2/3\n",
            "562/562 [==============================] - 5s 9ms/step - loss: 0.6572 - accuracy: 0.7573 - val_loss: 0.6329 - val_accuracy: 0.7676\n",
            "Epoch 3/3\n",
            "562/562 [==============================] - 5s 9ms/step - loss: 0.6187 - accuracy: 0.7745 - val_loss: 0.5996 - val_accuracy: 0.7803\n"
          ]
        }
      ]
    },
    {
      "cell_type": "code",
      "source": [
        "model1_pred_probs = model1.predict(val_dataset)\n",
        "model1_preds = tf.argmax(model1_pred_probs, axis=1)\n",
        "model1_results = calculate_results(val_labels_encoded,\n",
        "                                   model1_preds)\n",
        "model1_results"
      ],
      "metadata": {
        "colab": {
          "base_uri": "https://localhost:8080/"
        },
        "id": "GnP5iYQqfGlb",
        "outputId": "e362f757-e6f2-4a87-a9b8-998569f4fe85"
      },
      "execution_count": null,
      "outputs": [
        {
          "output_type": "execute_result",
          "data": {
            "text/plain": [
              "{'accuracy': 78.3595922150139,\n",
              " 'f1': 0.780657805569245,\n",
              " 'precision': 0.7800585868472059,\n",
              " 'recall': 0.7835959221501391}"
            ]
          },
          "metadata": {},
          "execution_count": 30
        }
      ]
    },
    {
      "cell_type": "code",
      "source": [
        "model1_preds"
      ],
      "metadata": {
        "colab": {
          "base_uri": "https://localhost:8080/"
        },
        "id": "-DPdI3FagNKN",
        "outputId": "5b19dc73-626b-4d9c-b94f-1cbd228b29dc"
      },
      "execution_count": null,
      "outputs": [
        {
          "output_type": "execute_result",
          "data": {
            "text/plain": [
              "<tf.Tensor: shape=(30212,), dtype=int64, numpy=array([0, 0, 3, ..., 4, 1, 1])>"
            ]
          },
          "metadata": {},
          "execution_count": 32
        }
      ]
    },
    {
      "cell_type": "code",
      "source": [
        "import tensorflow_hub as hub\n",
        "\n",
        "tf_hub_embedding_layer = hub.KerasLayer('https://tfhub.dev/google/universal-sentence-encoder/4',\n",
        "                                 trainable=False)"
      ],
      "metadata": {
        "id": "iSAvHHO4gR4S"
      },
      "execution_count": null,
      "outputs": []
    },
    {
      "cell_type": "code",
      "source": [
        "# Pretrained embeddings from tensorflow hub\n",
        "inputs = layers.Input(shape=[], dtype=tf.string)\n",
        "pretrained_embedding = tf_hub_embedding_layer(inputs)\n",
        "x = layers.Dense(128, activation='relu')(pretrained_embedding)\n",
        "outputs = layers.Dense(5, activation='softmax')(x)\n",
        "model2 = tf.keras.Model(inputs, outputs)\n",
        "\n",
        "model2 = tf.keras.Model(inputs, outputs)\n",
        "model2.compile(loss='categorical_crossentropy',\n",
        "               optimizer=tf.keras.optimizers.Adam(),\n",
        "               metrics=['accuracy'])\n",
        "history2 = model2.fit(train_dataset,\n",
        "                      steps_per_epoch=int(0.1*len(train_dataset)),\n",
        "                      epochs=3,\n",
        "                      validation_data=val_dataset,\n",
        "                      validation_steps=int(0.1*len(val_dataset)))"
      ],
      "metadata": {
        "colab": {
          "base_uri": "https://localhost:8080/"
        },
        "id": "EShxIv_JSr0W",
        "outputId": "01d87f4d-1118-4c46-d306-dc6358fc5355"
      },
      "execution_count": null,
      "outputs": [
        {
          "output_type": "stream",
          "name": "stdout",
          "text": [
            "Epoch 1/3\n",
            "562/562 [==============================] - 11s 14ms/step - loss: 0.9135 - accuracy: 0.6473 - val_loss: 0.7975 - val_accuracy: 0.6878\n",
            "Epoch 2/3\n",
            "562/562 [==============================] - 9s 15ms/step - loss: 0.7690 - accuracy: 0.7005 - val_loss: 0.7553 - val_accuracy: 0.7051\n",
            "Epoch 3/3\n",
            "562/562 [==============================] - 7s 13ms/step - loss: 0.7529 - accuracy: 0.7110 - val_loss: 0.7414 - val_accuracy: 0.7124\n"
          ]
        }
      ]
    },
    {
      "cell_type": "code",
      "source": [
        "model2_pred_probs = model2.predict(val_dataset)\n",
        "model2_preds = tf.argmax(model2_pred_probs, axis=1)\n",
        "model2_results = calculate_results(val_labels_encoded,\n",
        "                                   model2_preds)\n",
        "model2_results"
      ],
      "metadata": {
        "colab": {
          "base_uri": "https://localhost:8080/"
        },
        "id": "krTdEm2aTcae",
        "outputId": "61789e59-2bfa-4bd9-fe15-4ddeb1343f9e"
      },
      "execution_count": null,
      "outputs": [
        {
          "output_type": "execute_result",
          "data": {
            "text/plain": [
              "{'accuracy': 71.23990467363961,\n",
              " 'f1': 0.709355964885453,\n",
              " 'precision': 0.7135602494463436,\n",
              " 'recall': 0.7123990467363961}"
            ]
          },
          "metadata": {},
          "execution_count": 35
        }
      ]
    },
    {
      "cell_type": "code",
      "source": [
        "# Split sentences into characters\n",
        "def split_chars(text):\n",
        "  return ' '.join(list(text))"
      ],
      "metadata": {
        "id": "VvnSGCtNTo9B"
      },
      "execution_count": null,
      "outputs": []
    },
    {
      "cell_type": "code",
      "source": [
        "# Split sequence level data into character level data\n",
        "train_chars = [split_chars(sentence) for sentence in train_sentences]\n",
        "val_chars = [split_chars(sentence) for sentence in val_sentences]\n",
        "test_chars = [split_chars(sentence) for sentence in test_sentences]"
      ],
      "metadata": {
        "id": "vOIq9Fp7UVJV"
      },
      "execution_count": null,
      "outputs": []
    },
    {
      "cell_type": "code",
      "source": [
        "char_lens = [len(sentence) for sentence in train_sentences]\n",
        "output_seq_char_len = int(np.percentile(char_lens, 95))\n",
        "output_seq_char_len"
      ],
      "metadata": {
        "colab": {
          "base_uri": "https://localhost:8080/"
        },
        "id": "V4ZmkSNLUp9H",
        "outputId": "fe0cbcdd-4b16-4d80-ccc6-5565fcc86dbf"
      },
      "execution_count": null,
      "outputs": [
        {
          "output_type": "execute_result",
          "data": {
            "text/plain": [
              "290"
            ]
          },
          "metadata": {},
          "execution_count": 43
        }
      ]
    },
    {
      "cell_type": "code",
      "source": [
        "# Get all keyboard characters\n",
        "import string\n",
        "\n",
        "alphabets = string.ascii_lowercase + string.digits + string.punctuation\n",
        "alphabets"
      ],
      "metadata": {
        "colab": {
          "base_uri": "https://localhost:8080/",
          "height": 35
        },
        "id": "ph_e3uvkVanQ",
        "outputId": "d9d27399-06cf-475a-e95b-efc17066d694"
      },
      "execution_count": null,
      "outputs": [
        {
          "output_type": "execute_result",
          "data": {
            "text/plain": [
              "'abcdefghijklmnopqrstuvwxyz0123456789!\"#$%&\\'()*+,-./:;<=>?@[\\\\]^_`{|}~'"
            ],
            "application/vnd.google.colaboratory.intrinsic+json": {
              "type": "string"
            }
          },
          "metadata": {},
          "execution_count": 44
        }
      ]
    },
    {
      "cell_type": "code",
      "source": [
        "# char-level token vectorizer\n",
        "num_char_tokens = len(alphabets) + 2 # space and OOV\n",
        "char_vectorizer = TextVectorization(max_tokens=num_char_tokens,\n",
        "                                    output_sequence_length=output_seq_char_len)"
      ],
      "metadata": {
        "id": "w3ZoACtOWXS9"
      },
      "execution_count": null,
      "outputs": []
    },
    {
      "cell_type": "code",
      "source": [
        "char_vectorizer.adapt(train_chars)"
      ],
      "metadata": {
        "id": "V0-Akz6bWuWG"
      },
      "execution_count": null,
      "outputs": []
    },
    {
      "cell_type": "code",
      "source": [
        "# Char embedding layer\n",
        "char_vocab = char_vectorizer.get_vocabulary()\n",
        "char_embed = layers.Embedding(input_dim=len(char_vocab),\n",
        "                              output_dim=25,\n",
        "                              mask_zero=True)"
      ],
      "metadata": {
        "id": "oIrIjBGdW0rM"
      },
      "execution_count": null,
      "outputs": []
    },
    {
      "cell_type": "code",
      "source": [
        "# Conv1D model using char embedding\n",
        "inputs = layers.Input(shape=(1,), dtype=tf.string)\n",
        "char_vectors = char_vectorizer(inputs)\n",
        "char_embeddings = char_embed(char_vectors)\n",
        "x = layers.Conv1D(64, kernel_size=5, padding='same', activation='relu')(char_embeddings)\n",
        "x = layers.GlobalMaxPooling1D()(x)\n",
        "outputs = layers.Dense(5, activation='softmax')(x)\n",
        "model3 = tf.keras.Model(inputs, outputs)\n",
        "\n",
        "model3.compile(loss='categorical_crossentropy',\n",
        "               optimizer=tf.keras.optimizers.Adam(),\n",
        "               metrics=['accuracy'])"
      ],
      "metadata": {
        "id": "vdQIYUARXUhr"
      },
      "execution_count": null,
      "outputs": []
    },
    {
      "cell_type": "code",
      "source": [
        "# char level datasets\n",
        "train_char_dataset = tf.data.Dataset.from_tensor_slices((train_chars, train_labels_one_hot)).batch(32).prefetch(tf.data.AUTOTUNE)\n",
        "val_char_dataset = tf.data.Dataset.from_tensor_slices((val_chars, val_labels_one_hot)).batch(32).prefetch(tf.data.AUTOTUNE)\n",
        "test_char_dataset = tf.data.Dataset.from_tensor_slices((test_chars, test_labels_one_hot)).batch(32).prefetch(tf.data.AUTOTUNE)"
      ],
      "metadata": {
        "id": "gwIrHhpIYVh9"
      },
      "execution_count": null,
      "outputs": []
    },
    {
      "cell_type": "code",
      "source": [
        "history3 = model3.fit(train_char_dataset,\n",
        "                      steps_per_epoch=int(0.1*len(train_char_dataset)),\n",
        "                      epochs=3,\n",
        "                      validation_data=val_char_dataset,\n",
        "                      validation_steps=int(0.1*len(val_char_dataset)))"
      ],
      "metadata": {
        "colab": {
          "base_uri": "https://localhost:8080/"
        },
        "id": "pWsqdcLGY3yO",
        "outputId": "2f7f78f6-5156-44bf-cb6d-06544309deaa"
      },
      "execution_count": null,
      "outputs": [
        {
          "output_type": "stream",
          "name": "stdout",
          "text": [
            "Epoch 1/3\n",
            "562/562 [==============================] - 4s 6ms/step - loss: 1.2570 - accuracy: 0.4840 - val_loss: 1.1131 - val_accuracy: 0.5419\n",
            "Epoch 2/3\n",
            "562/562 [==============================] - 3s 5ms/step - loss: 1.0812 - accuracy: 0.5581 - val_loss: 1.0117 - val_accuracy: 0.5848\n",
            "Epoch 3/3\n",
            "562/562 [==============================] - 3s 6ms/step - loss: 1.0172 - accuracy: 0.5874 - val_loss: 0.9680 - val_accuracy: 0.6217\n"
          ]
        }
      ]
    },
    {
      "cell_type": "code",
      "source": [
        "model3_pred_probs = model3.predict(val_char_dataset)\n",
        "model3_preds = tf.argmax(model3_pred_probs, axis=1)\n",
        "model3_results = calculate_results(val_labels_encoded,\n",
        "                                   model3_preds)\n",
        "model3_results"
      ],
      "metadata": {
        "colab": {
          "base_uri": "https://localhost:8080/"
        },
        "id": "0CkqjjATZCRx",
        "outputId": "df790dc8-0db1-4c81-b803-4697fe92bf02"
      },
      "execution_count": null,
      "outputs": [
        {
          "output_type": "execute_result",
          "data": {
            "text/plain": [
              "{'accuracy': 60.618297365285315,\n",
              " 'f1': 0.5957145987615368,\n",
              " 'precision': 0.6249139134978016,\n",
              " 'recall': 0.6061829736528531}"
            ]
          },
          "metadata": {},
          "execution_count": 57
        }
      ]
    },
    {
      "cell_type": "code",
      "source": [
        "# Combining token and character embeddings\n",
        "token_inputs = layers.Input(shape=[], dtype=tf.string)\n",
        "token_embeddings = tf_hub_embedding_layer(token_inputs)\n",
        "token_output = layers.Dense(128, activation='relu')(token_embeddings)\n",
        "token_model = tf.keras.Model(token_inputs, token_output)\n",
        "\n",
        "char_inputs = layers.Input(shape=(1,), dtype=tf.string)\n",
        "char_vectors = char_vectorizer(char_inputs)\n",
        "char_embeddings = char_embed(char_vectors)\n",
        "char_bi_lstm = layers.Bidirectional(layers.LSTM(24))(char_embeddings)\n",
        "char_model = tf.keras.Model(char_inputs, char_bi_lstm)\n",
        "\n",
        "# hybrid embedding\n",
        "token_char_concat = layers.Concatenate()([token_model.output,\n",
        "                                          char_model.output])\n",
        "\n",
        "# add Dropout to output layer\n",
        "combined_dropout = layers.Dropout(0.5)(token_char_concat)\n",
        "combined_dense = layers.Dense(128, activation='relu')(combined_dropout)\n",
        "final_dropout = layers.Dropout(0.5)(combined_dense)\n",
        "output_layer = layers.Dense(5, activation='softmax')(final_dropout)\n",
        "\n",
        "model4 = tf.keras.Model(inputs=[token_model.input, char_model.input],\n",
        "                        outputs=output_layer)\n",
        "\n",
        "model4.compile(loss='categorical_crossentropy',\n",
        "               optimizer=tf.keras.optimizers.Adam(),\n",
        "               metrics=['accuracy'])"
      ],
      "metadata": {
        "id": "BvR2KQ5YZUCq"
      },
      "execution_count": null,
      "outputs": []
    },
    {
      "cell_type": "code",
      "source": [
        "# Plot hybrid token and character model\n",
        "from keras.utils import plot_model\n",
        "plot_model(model4, show_shapes=True)"
      ],
      "metadata": {
        "id": "V13yorIWb9Qc"
      },
      "execution_count": null,
      "outputs": []
    },
    {
      "cell_type": "code",
      "source": [
        "# combine token and character data into a dataset\n",
        "train_token_char_data = tf.data.Dataset.from_tensor_slices((train_sentences, train_chars))\n",
        "train_token_char_labels = tf.data.Dataset.from_tensor_slices(train_labels_one_hot)\n",
        "train_token_char_dataset = tf.data.Dataset.zip((train_token_char_data, train_token_char_labels)).batch(32).prefetch(tf.data.AUTOTUNE)\n",
        "\n",
        "val_token_char_data = tf.data.Dataset.from_tensor_slices((val_sentences, val_chars))\n",
        "val_token_char_labels = tf.data.Dataset.from_tensor_slices(val_labels_one_hot)\n",
        "val_token_char_dataset = tf.data.Dataset.zip((val_token_char_data, val_token_char_labels)).batch(32).prefetch(tf.data.AUTOTUNE)\n",
        "\n",
        "test_token_char_data = tf.data.Dataset.from_tensor_slices((test_sentences, test_chars))\n",
        "test_token_char_labels = tf.data.Dataset.from_tensor_slices(test_labels_one_hot)\n",
        "test_token_char_dataset = tf.data.Dataset.zip((test_token_char_data, test_token_char_labels)).batch(32).prefetch(tf.data.AUTOTUNE)"
      ],
      "metadata": {
        "id": "GE8muwclcq7n"
      },
      "execution_count": null,
      "outputs": []
    },
    {
      "cell_type": "code",
      "source": [
        "history4 = model4.fit(train_token_char_dataset,\n",
        "                      steps_per_epoch=int(0.1*len(train_token_char_dataset)),\n",
        "                      epochs=3,\n",
        "                      validation_data=val_token_char_dataset,\n",
        "                      validation_steps=int(0.1*len(val_token_char_dataset)))"
      ],
      "metadata": {
        "colab": {
          "base_uri": "https://localhost:8080/"
        },
        "id": "spQTZiBhdmZH",
        "outputId": "6f1dfb76-e82c-4686-953a-06b5c69f15c0"
      },
      "execution_count": null,
      "outputs": [
        {
          "output_type": "stream",
          "name": "stdout",
          "text": [
            "Epoch 1/3\n",
            "562/562 [==============================] - 38s 53ms/step - loss: 0.9839 - accuracy: 0.6015 - val_loss: 0.7750 - val_accuracy: 0.7031\n",
            "Epoch 2/3\n",
            "562/562 [==============================] - 27s 48ms/step - loss: 0.8004 - accuracy: 0.6913 - val_loss: 0.7175 - val_accuracy: 0.7304\n",
            "Epoch 3/3\n",
            "562/562 [==============================] - 25s 44ms/step - loss: 0.7777 - accuracy: 0.7053 - val_loss: 0.6942 - val_accuracy: 0.7347\n"
          ]
        }
      ]
    },
    {
      "cell_type": "code",
      "source": [
        "model4_pred_probs = model4.predict(val_token_char_dataset)\n",
        "model4_preds = tf.argmax(model4_pred_probs, axis=1)\n",
        "model4_results = calculate_results(val_labels_encoded,\n",
        "                                   model4_preds)\n",
        "model4_results"
      ],
      "metadata": {
        "colab": {
          "base_uri": "https://localhost:8080/"
        },
        "id": "0Elw9Ne8eWjH",
        "outputId": "6d5362b0-db9e-4e61-be50-d86903944c2e"
      },
      "execution_count": null,
      "outputs": [
        {
          "output_type": "execute_result",
          "data": {
            "text/plain": [
              "{'accuracy': 73.3119290348206,\n",
              " 'f1': 0.7308580657709169,\n",
              " 'precision': 0.7321182500022656,\n",
              " 'recall': 0.733119290348206}"
            ]
          },
          "metadata": {},
          "execution_count": 63
        }
      ]
    },
    {
      "cell_type": "code",
      "source": [
        "# one hot encode line number\n",
        "train_line_numbers_one_hot = tf.one_hot(train_df['line_number'].to_numpy(), depth=15)\n",
        "val_line_numbers_one_hot = tf.one_hot(val_df['line_number'].to_numpy(), depth=15)\n",
        "test_line_numbers_one_hot = tf.one_hot(test_df['line_number'].to_numpy(), depth=15)"
      ],
      "metadata": {
        "id": "lPXRzMR5e51H"
      },
      "execution_count": null,
      "outputs": []
    },
    {
      "cell_type": "code",
      "source": [
        "train_total_lines_one_hot = tf.one_hot(train_df['total_lines'].to_numpy(), depth=20)\n",
        "val_total_lines_one_hot = tf.one_hot(val_df['total_lines'].to_numpy(), depth=20)\n",
        "test_total_lines_one_hot = tf.one_hot(test_df['total_lines'].to_numpy(), depth=20)"
      ],
      "metadata": {
        "id": "ecaRLlePhpue"
      },
      "execution_count": null,
      "outputs": []
    },
    {
      "cell_type": "code",
      "source": [
        "# tribrid embedding model\n",
        "token_inputs = layers.Input(shape=[], dtype=tf.string)\n",
        "token_embeddings = tf_hub_embedding_layer(token_inputs)\n",
        "token_output = layers.Dense(128, activation='relu')(token_embeddings)\n",
        "token_model = tf.keras.Model(token_inputs, token_output)\n",
        "\n",
        "char_inputs = layers.Input(shape=(1,), dtype=tf.string)\n",
        "char_vectors = char_vectorizer(char_inputs)\n",
        "char_embeddings = char_embed(char_vectors)\n",
        "char_bi_lstm = layers.Bidirectional(layers.LSTM(24))(char_embeddings)\n",
        "char_model = tf.keras.Model(char_inputs, char_bi_lstm)\n",
        "\n",
        "line_number_inputs = layers.Input(shape=(15,), dtype=tf.float32)\n",
        "x = layers.Dense(32, activation='relu')(line_number_inputs)\n",
        "line_number_model = tf.keras.Model(line_number_inputs, x)\n",
        "\n",
        "total_lines_inputs = layers.Input(shape=(20,), dtype=tf.float32)\n",
        "y = layers.Dense(32, activation='relu')(total_lines_inputs)\n",
        "total_line_model = tf.keras.Model(total_lines_inputs, y)\n",
        "\n",
        "hybrid_embeddings = layers.Concatenate()([token_model.output,\n",
        "                                          char_model.output])\n",
        "\n",
        "z = layers.Dense(256, activation='relu')(hybrid_embeddings)\n",
        "z = layers.Dropout(0.5)(z)\n",
        "\n",
        "tribrid_embeddings = layers.Concatenate()([line_number_model.output,\n",
        "                                           total_line_model.output,\n",
        "                                           z])\n",
        "\n",
        "output_layer = layers.Dense(5, activation='softmax')(tribrid_embeddings)\n",
        "model5 = tf.keras.Model(inputs=[line_number_model.input,\n",
        "                                total_line_model.input,\n",
        "                                token_model.input,\n",
        "                                char_model.input],\n",
        "                        outputs=output_layer)\n",
        "\n",
        "model5.compile(loss=tf.keras.losses.CategoricalCrossentropy(label_smoothing=0.2),\n",
        "               optimizer='Adam',\n",
        "               metrics=['accuracy'])"
      ],
      "metadata": {
        "id": "qwBI5GgDiEZN"
      },
      "execution_count": null,
      "outputs": []
    },
    {
      "cell_type": "code",
      "source": [
        "# combine all 4 inputs into dataset\n",
        "train_char_token_pos_data = tf.data.Dataset.from_tensor_slices((train_line_numbers_one_hot,\n",
        "                                                                train_total_lines_one_hot,\n",
        "                                                                train_sentences,\n",
        "                                                                train_chars))\n",
        "train_char_token_pos_labels = tf.data.Dataset.from_tensor_slices(train_labels_one_hot)\n",
        "train_char_token_pos_dataset = tf.data.Dataset.zip((train_char_token_pos_data, train_char_token_pos_labels)).batch(32).prefetch(tf.data.AUTOTUNE)\n",
        "\n",
        "val_char_token_pos_data = tf.data.Dataset.from_tensor_slices((val_line_numbers_one_hot,\n",
        "                                                                val_total_lines_one_hot,\n",
        "                                                                val_sentences,\n",
        "                                                                val_chars))\n",
        "val_char_token_pos_labels = tf.data.Dataset.from_tensor_slices(val_labels_one_hot)\n",
        "val_char_token_pos_dataset = tf.data.Dataset.zip((val_char_token_pos_data, val_char_token_pos_labels)).batch(32).prefetch(tf.data.AUTOTUNE)\n",
        "\n",
        "test_char_token_pos_data = tf.data.Dataset.from_tensor_slices((test_line_numbers_one_hot,\n",
        "                                                                test_total_lines_one_hot,\n",
        "                                                                test_sentences,\n",
        "                                                                test_chars))\n",
        "test_char_token_pos_labels = tf.data.Dataset.from_tensor_slices(test_labels_one_hot)\n",
        "test_char_token_pos_dataset = tf.data.Dataset.zip((test_char_token_pos_data, test_char_token_pos_labels)).batch(32).prefetch(tf.data.AUTOTUNE)"
      ],
      "metadata": {
        "id": "wxM6m1cxkaar"
      },
      "execution_count": null,
      "outputs": []
    },
    {
      "cell_type": "code",
      "source": [
        "history5 = model5.fit(train_char_token_pos_dataset,\n",
        "                      steps_per_epoch=int(0.1*len(train_char_token_pos_dataset)),\n",
        "                      epochs=3,\n",
        "                      validation_data=val_char_token_pos_dataset,\n",
        "                      validation_steps=int(0.1*len(val_char_token_pos_dataset)))"
      ],
      "metadata": {
        "colab": {
          "base_uri": "https://localhost:8080/"
        },
        "id": "NDNqp1ADkyWF",
        "outputId": "0e58224e-cbb0-4c52-f435-5d5c30d55f3b"
      },
      "execution_count": null,
      "outputs": [
        {
          "output_type": "stream",
          "name": "stdout",
          "text": [
            "Epoch 1/3\n",
            "562/562 [==============================] - 38s 54ms/step - loss: 1.0967 - accuracy: 0.7258 - val_loss: 0.9837 - val_accuracy: 0.8078\n",
            "Epoch 2/3\n",
            "562/562 [==============================] - 27s 49ms/step - loss: 0.9693 - accuracy: 0.8152 - val_loss: 0.9505 - val_accuracy: 0.8275\n",
            "Epoch 3/3\n",
            "562/562 [==============================] - 25s 44ms/step - loss: 0.9514 - accuracy: 0.8226 - val_loss: 0.9403 - val_accuracy: 0.8301\n"
          ]
        }
      ]
    },
    {
      "cell_type": "code",
      "source": [
        "model5_pred_probs = model5.predict(val_char_token_pos_dataset)\n",
        "model5_preds = tf.argmax(model5_pred_probs, axis=1)\n",
        "model5_results = calculate_results(val_labels_encoded,\n",
        "                                   model5_preds)\n",
        "model5_results"
      ],
      "metadata": {
        "colab": {
          "base_uri": "https://localhost:8080/"
        },
        "id": "mfmLIHq_mLsn",
        "outputId": "97e5456a-25fa-42f5-de7e-25b41273c8b4"
      },
      "execution_count": null,
      "outputs": [
        {
          "output_type": "execute_result",
          "data": {
            "text/plain": [
              "{'accuracy': 83.23513835562028,\n",
              " 'f1': 0.8313136706451352,\n",
              " 'precision': 0.831330106644271,\n",
              " 'recall': 0.8323513835562029}"
            ]
          },
          "metadata": {},
          "execution_count": 71
        }
      ]
    },
    {
      "cell_type": "code",
      "source": [
        "# Compare model reuslts\n",
        "all_results_pd = pd.DataFrame({'model0: baseline': baseline_results,\n",
        "                               'model1: token embedding': model1_results,\n",
        "                               'model2: pretrained token embedding': model2_results,\n",
        "                               'model3: character embedding': model3_results,\n",
        "                               'model4: hybrid embedding': model4_results,\n",
        "                               'model5: tribrid embedding': model5_results})\n",
        "all_results_pd = all_results_pd.transpose()\n",
        "all_results_pd"
      ],
      "metadata": {
        "colab": {
          "base_uri": "https://localhost:8080/",
          "height": 238
        },
        "id": "IdcCKiuZmmj1",
        "outputId": "f7a54a19-898f-47b9-8ac5-408fb50cfddb"
      },
      "execution_count": null,
      "outputs": [
        {
          "output_type": "execute_result",
          "data": {
            "text/plain": [
              "                                     accuracy  precision    recall        f1\n",
              "model0: baseline                    72.183238   0.718647  0.721832  0.698925\n",
              "model1: token embedding             78.359592   0.780059  0.783596  0.780658\n",
              "model2: pretrained token embedding  71.239905   0.713560  0.712399  0.709356\n",
              "model3: character embedding         60.618297   0.624914  0.606183  0.595715\n",
              "model4: hybrid embedding            73.311929   0.732118  0.733119  0.730858\n",
              "model5: tribrid embedding           83.235138   0.831330  0.832351  0.831314"
            ],
            "text/html": [
              "\n",
              "  <div id=\"df-2218fdc3-aca8-43bb-9ecc-a89850576597\">\n",
              "    <div class=\"colab-df-container\">\n",
              "      <div>\n",
              "<style scoped>\n",
              "    .dataframe tbody tr th:only-of-type {\n",
              "        vertical-align: middle;\n",
              "    }\n",
              "\n",
              "    .dataframe tbody tr th {\n",
              "        vertical-align: top;\n",
              "    }\n",
              "\n",
              "    .dataframe thead th {\n",
              "        text-align: right;\n",
              "    }\n",
              "</style>\n",
              "<table border=\"1\" class=\"dataframe\">\n",
              "  <thead>\n",
              "    <tr style=\"text-align: right;\">\n",
              "      <th></th>\n",
              "      <th>accuracy</th>\n",
              "      <th>precision</th>\n",
              "      <th>recall</th>\n",
              "      <th>f1</th>\n",
              "    </tr>\n",
              "  </thead>\n",
              "  <tbody>\n",
              "    <tr>\n",
              "      <th>model0: baseline</th>\n",
              "      <td>72.183238</td>\n",
              "      <td>0.718647</td>\n",
              "      <td>0.721832</td>\n",
              "      <td>0.698925</td>\n",
              "    </tr>\n",
              "    <tr>\n",
              "      <th>model1: token embedding</th>\n",
              "      <td>78.359592</td>\n",
              "      <td>0.780059</td>\n",
              "      <td>0.783596</td>\n",
              "      <td>0.780658</td>\n",
              "    </tr>\n",
              "    <tr>\n",
              "      <th>model2: pretrained token embedding</th>\n",
              "      <td>71.239905</td>\n",
              "      <td>0.713560</td>\n",
              "      <td>0.712399</td>\n",
              "      <td>0.709356</td>\n",
              "    </tr>\n",
              "    <tr>\n",
              "      <th>model3: character embedding</th>\n",
              "      <td>60.618297</td>\n",
              "      <td>0.624914</td>\n",
              "      <td>0.606183</td>\n",
              "      <td>0.595715</td>\n",
              "    </tr>\n",
              "    <tr>\n",
              "      <th>model4: hybrid embedding</th>\n",
              "      <td>73.311929</td>\n",
              "      <td>0.732118</td>\n",
              "      <td>0.733119</td>\n",
              "      <td>0.730858</td>\n",
              "    </tr>\n",
              "    <tr>\n",
              "      <th>model5: tribrid embedding</th>\n",
              "      <td>83.235138</td>\n",
              "      <td>0.831330</td>\n",
              "      <td>0.832351</td>\n",
              "      <td>0.831314</td>\n",
              "    </tr>\n",
              "  </tbody>\n",
              "</table>\n",
              "</div>\n",
              "      <button class=\"colab-df-convert\" onclick=\"convertToInteractive('df-2218fdc3-aca8-43bb-9ecc-a89850576597')\"\n",
              "              title=\"Convert this dataframe to an interactive table.\"\n",
              "              style=\"display:none;\">\n",
              "        \n",
              "  <svg xmlns=\"http://www.w3.org/2000/svg\" height=\"24px\"viewBox=\"0 0 24 24\"\n",
              "       width=\"24px\">\n",
              "    <path d=\"M0 0h24v24H0V0z\" fill=\"none\"/>\n",
              "    <path d=\"M18.56 5.44l.94 2.06.94-2.06 2.06-.94-2.06-.94-.94-2.06-.94 2.06-2.06.94zm-11 1L8.5 8.5l.94-2.06 2.06-.94-2.06-.94L8.5 2.5l-.94 2.06-2.06.94zm10 10l.94 2.06.94-2.06 2.06-.94-2.06-.94-.94-2.06-.94 2.06-2.06.94z\"/><path d=\"M17.41 7.96l-1.37-1.37c-.4-.4-.92-.59-1.43-.59-.52 0-1.04.2-1.43.59L10.3 9.45l-7.72 7.72c-.78.78-.78 2.05 0 2.83L4 21.41c.39.39.9.59 1.41.59.51 0 1.02-.2 1.41-.59l7.78-7.78 2.81-2.81c.8-.78.8-2.07 0-2.86zM5.41 20L4 18.59l7.72-7.72 1.47 1.35L5.41 20z\"/>\n",
              "  </svg>\n",
              "      </button>\n",
              "      \n",
              "  <style>\n",
              "    .colab-df-container {\n",
              "      display:flex;\n",
              "      flex-wrap:wrap;\n",
              "      gap: 12px;\n",
              "    }\n",
              "\n",
              "    .colab-df-convert {\n",
              "      background-color: #E8F0FE;\n",
              "      border: none;\n",
              "      border-radius: 50%;\n",
              "      cursor: pointer;\n",
              "      display: none;\n",
              "      fill: #1967D2;\n",
              "      height: 32px;\n",
              "      padding: 0 0 0 0;\n",
              "      width: 32px;\n",
              "    }\n",
              "\n",
              "    .colab-df-convert:hover {\n",
              "      background-color: #E2EBFA;\n",
              "      box-shadow: 0px 1px 2px rgba(60, 64, 67, 0.3), 0px 1px 3px 1px rgba(60, 64, 67, 0.15);\n",
              "      fill: #174EA6;\n",
              "    }\n",
              "\n",
              "    [theme=dark] .colab-df-convert {\n",
              "      background-color: #3B4455;\n",
              "      fill: #D2E3FC;\n",
              "    }\n",
              "\n",
              "    [theme=dark] .colab-df-convert:hover {\n",
              "      background-color: #434B5C;\n",
              "      box-shadow: 0px 1px 3px 1px rgba(0, 0, 0, 0.15);\n",
              "      filter: drop-shadow(0px 1px 2px rgba(0, 0, 0, 0.3));\n",
              "      fill: #FFFFFF;\n",
              "    }\n",
              "  </style>\n",
              "\n",
              "      <script>\n",
              "        const buttonEl =\n",
              "          document.querySelector('#df-2218fdc3-aca8-43bb-9ecc-a89850576597 button.colab-df-convert');\n",
              "        buttonEl.style.display =\n",
              "          google.colab.kernel.accessAllowed ? 'block' : 'none';\n",
              "\n",
              "        async function convertToInteractive(key) {\n",
              "          const element = document.querySelector('#df-2218fdc3-aca8-43bb-9ecc-a89850576597');\n",
              "          const dataTable =\n",
              "            await google.colab.kernel.invokeFunction('convertToInteractive',\n",
              "                                                     [key], {});\n",
              "          if (!dataTable) return;\n",
              "\n",
              "          const docLinkHtml = 'Like what you see? Visit the ' +\n",
              "            '<a target=\"_blank\" href=https://colab.research.google.com/notebooks/data_table.ipynb>data table notebook</a>'\n",
              "            + ' to learn more about interactive tables.';\n",
              "          element.innerHTML = '';\n",
              "          dataTable['output_type'] = 'display_data';\n",
              "          await google.colab.output.renderOutput(dataTable, element);\n",
              "          const docLink = document.createElement('div');\n",
              "          docLink.innerHTML = docLinkHtml;\n",
              "          element.appendChild(docLink);\n",
              "        }\n",
              "      </script>\n",
              "    </div>\n",
              "  </div>\n",
              "  "
            ]
          },
          "metadata": {},
          "execution_count": 76
        }
      ]
    },
    {
      "cell_type": "code",
      "source": [
        "all_results_pd['accuracy'] = all_results_pd['accuracy']/100"
      ],
      "metadata": {
        "id": "Ij_PSBannYwH"
      },
      "execution_count": null,
      "outputs": []
    },
    {
      "cell_type": "code",
      "source": [
        "all_results_pd.plot(kind='bar', figsize=(10,7)).legend(bbox_to_anchor=(1.0,1.0))"
      ],
      "metadata": {
        "colab": {
          "base_uri": "https://localhost:8080/",
          "height": 622
        },
        "id": "JBFlmLK_ngbV",
        "outputId": "5deddc65-ed88-49d7-cea6-1eb1ddc78e9b"
      },
      "execution_count": null,
      "outputs": [
        {
          "output_type": "execute_result",
          "data": {
            "text/plain": [
              "<matplotlib.legend.Legend at 0x7ff22642c190>"
            ]
          },
          "metadata": {},
          "execution_count": 78
        },
        {
          "output_type": "display_data",
          "data": {
            "text/plain": [
              "<Figure size 720x504 with 1 Axes>"
            ],
            "image/png": "[encoded data removed]"
          },
          "metadata": {
            "needs_background": "light"
          }
        }
      ]
    }
  ]
}
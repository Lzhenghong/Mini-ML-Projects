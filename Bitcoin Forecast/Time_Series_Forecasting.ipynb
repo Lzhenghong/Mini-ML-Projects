{
  "nbformat": 4,
  "nbformat_minor": 0,
  "metadata": {
    "colab": {
      "name": "Time Series Forecasting.ipynb",
      "provenance": [],
      "authorship_tag": "ABX9TyPRmO2jk+9esmdtZsd8f4f/",
      "include_colab_link": true
    },
    "kernelspec": {
      "name": "python3",
      "display_name": "Python 3"
    },
    "language_info": {
      "name": "python"
    },
    "accelerator": "GPU",
    "gpuClass": "standard"
  },
  "cells": [
    {
      "cell_type": "markdown",
      "metadata": {
        "id": "view-in-github",
        "colab_type": "text"
      },
      "source": [
        "<a href=\"https://colab.research.google.com/github/Lzhenghong/Mini-ML-Projects/blob/main/Time%20Series%20Forecasting/Time_Series_Forecasting.ipynb\" target=\"_parent\"><img src=\"https://colab.research.google.com/assets/colab-badge.svg\" alt=\"Open In Colab\"/></a>"
      ]
    },
    {
      "cell_type": "code",
      "execution_count": null,
      "metadata": {
        "colab": {
          "base_uri": "https://localhost:8080/"
        },
        "id": "NPgxGRD0hxlB",
        "outputId": "24ea1abb-81c5-4a00-9e29-3d00046c933f"
      },
      "outputs": [
        {
          "output_type": "stream",
          "name": "stdout",
          "text": [
            "--2022-08-17 16:01:25--  https://raw.githubusercontent.com/mrdbourke/tensorflow-deep-learning/main/extras/BTC_USD_2013-10-01_2021-05-18-CoinDesk.csv\n",
            "Resolving raw.githubusercontent.com (raw.githubusercontent.com)... 185.199.108.133, 185.199.109.133, 185.199.110.133, ...\n",
            "Connecting to raw.githubusercontent.com (raw.githubusercontent.com)|185.199.108.133|:443... connected.\n",
            "HTTP request sent, awaiting response... 200 OK\n",
            "Length: 178509 (174K) [text/plain]\n",
            "Saving to: ‘BTC_USD_2013-10-01_2021-05-18-CoinDesk.csv’\n",
            "\n",
            "\r          BTC_USD_2   0%[                    ]       0  --.-KB/s               \rBTC_USD_2013-10-01_ 100%[===================>] 174.33K  --.-KB/s    in 0.004s  \n",
            "\n",
            "2022-08-17 16:01:25 (39.6 MB/s) - ‘BTC_USD_2013-10-01_2021-05-18-CoinDesk.csv’ saved [178509/178509]\n",
            "\n"
          ]
        }
      ],
      "source": [
        "!wget https://raw.githubusercontent.com/mrdbourke/tensorflow-deep-learning/main/extras/BTC_USD_2013-10-01_2021-05-18-CoinDesk.csv"
      ]
    },
    {
      "cell_type": "code",
      "source": [
        "import pandas as pd\n",
        "df = pd.read_csv('/content/BTC_USD_2013-10-01_2021-05-18-CoinDesk.csv',\n",
        "                 parse_dates=['Date'],\n",
        "                 index_col=['Date'])\n",
        "df"
      ],
      "metadata": {
        "colab": {
          "base_uri": "https://localhost:8080/",
          "height": 455
        },
        "id": "Mz-4RiQ2iBpe",
        "outputId": "5eade13d-ee92-4c26-c315-001d086ba659"
      },
      "execution_count": null,
      "outputs": [
        {
          "output_type": "execute_result",
          "data": {
            "text/plain": [
              "           Currency  Closing Price (USD)  24h Open (USD)  24h High (USD)  \\\n",
              "Date                                                                       \n",
              "2013-10-01      BTC           123.654990      124.304660      124.751660   \n",
              "2013-10-02      BTC           125.455000      123.654990      125.758500   \n",
              "2013-10-03      BTC           108.584830      125.455000      125.665660   \n",
              "2013-10-04      BTC           118.674660      108.584830      118.675000   \n",
              "2013-10-05      BTC           121.338660      118.674660      121.936330   \n",
              "...             ...                  ...             ...             ...   \n",
              "2021-05-14      BTC         49764.132082    49596.778891    51448.798576   \n",
              "2021-05-15      BTC         50032.693137    49717.354353    51578.312545   \n",
              "2021-05-16      BTC         47885.625255    49926.035067    50690.802950   \n",
              "2021-05-17      BTC         45604.615754    46805.537852    49670.414174   \n",
              "2021-05-18      BTC         43144.471291    46439.336570    46622.853437   \n",
              "\n",
              "            24h Low (USD)  \n",
              "Date                       \n",
              "2013-10-01     122.563490  \n",
              "2013-10-02     123.633830  \n",
              "2013-10-03      83.328330  \n",
              "2013-10-04     107.058160  \n",
              "2013-10-05     118.005660  \n",
              "...                   ...  \n",
              "2021-05-14   46294.720180  \n",
              "2021-05-15   48944.346536  \n",
              "2021-05-16   47005.102292  \n",
              "2021-05-17   43868.638969  \n",
              "2021-05-18   42102.346430  \n",
              "\n",
              "[2787 rows x 5 columns]"
            ],
            "text/html": [
              "\n",
              "  <div id=\"df-72ec20ab-b48d-44dc-a2a8-594578da9a47\">\n",
              "    <div class=\"colab-df-container\">\n",
              "      <div>\n",
              "<style scoped>\n",
              "    .dataframe tbody tr th:only-of-type {\n",
              "        vertical-align: middle;\n",
              "    }\n",
              "\n",
              "    .dataframe tbody tr th {\n",
              "        vertical-align: top;\n",
              "    }\n",
              "\n",
              "    .dataframe thead th {\n",
              "        text-align: right;\n",
              "    }\n",
              "</style>\n",
              "<table border=\"1\" class=\"dataframe\">\n",
              "  <thead>\n",
              "    <tr style=\"text-align: right;\">\n",
              "      <th></th>\n",
              "      <th>Currency</th>\n",
              "      <th>Closing Price (USD)</th>\n",
              "      <th>24h Open (USD)</th>\n",
              "      <th>24h High (USD)</th>\n",
              "      <th>24h Low (USD)</th>\n",
              "    </tr>\n",
              "    <tr>\n",
              "      <th>Date</th>\n",
              "      <th></th>\n",
              "      <th></th>\n",
              "      <th></th>\n",
              "      <th></th>\n",
              "      <th></th>\n",
              "    </tr>\n",
              "  </thead>\n",
              "  <tbody>\n",
              "    <tr>\n",
              "      <th>2013-10-01</th>\n",
              "      <td>BTC</td>\n",
              "      <td>123.654990</td>\n",
              "      <td>124.304660</td>\n",
              "      <td>124.751660</td>\n",
              "      <td>122.563490</td>\n",
              "    </tr>\n",
              "    <tr>\n",
              "      <th>2013-10-02</th>\n",
              "      <td>BTC</td>\n",
              "      <td>125.455000</td>\n",
              "      <td>123.654990</td>\n",
              "      <td>125.758500</td>\n",
              "      <td>123.633830</td>\n",
              "    </tr>\n",
              "    <tr>\n",
              "      <th>2013-10-03</th>\n",
              "      <td>BTC</td>\n",
              "      <td>108.584830</td>\n",
              "      <td>125.455000</td>\n",
              "      <td>125.665660</td>\n",
              "      <td>83.328330</td>\n",
              "    </tr>\n",
              "    <tr>\n",
              "      <th>2013-10-04</th>\n",
              "      <td>BTC</td>\n",
              "      <td>118.674660</td>\n",
              "      <td>108.584830</td>\n",
              "      <td>118.675000</td>\n",
              "      <td>107.058160</td>\n",
              "    </tr>\n",
              "    <tr>\n",
              "      <th>2013-10-05</th>\n",
              "      <td>BTC</td>\n",
              "      <td>121.338660</td>\n",
              "      <td>118.674660</td>\n",
              "      <td>121.936330</td>\n",
              "      <td>118.005660</td>\n",
              "    </tr>\n",
              "    <tr>\n",
              "      <th>...</th>\n",
              "      <td>...</td>\n",
              "      <td>...</td>\n",
              "      <td>...</td>\n",
              "      <td>...</td>\n",
              "      <td>...</td>\n",
              "    </tr>\n",
              "    <tr>\n",
              "      <th>2021-05-14</th>\n",
              "      <td>BTC</td>\n",
              "      <td>49764.132082</td>\n",
              "      <td>49596.778891</td>\n",
              "      <td>51448.798576</td>\n",
              "      <td>46294.720180</td>\n",
              "    </tr>\n",
              "    <tr>\n",
              "      <th>2021-05-15</th>\n",
              "      <td>BTC</td>\n",
              "      <td>50032.693137</td>\n",
              "      <td>49717.354353</td>\n",
              "      <td>51578.312545</td>\n",
              "      <td>48944.346536</td>\n",
              "    </tr>\n",
              "    <tr>\n",
              "      <th>2021-05-16</th>\n",
              "      <td>BTC</td>\n",
              "      <td>47885.625255</td>\n",
              "      <td>49926.035067</td>\n",
              "      <td>50690.802950</td>\n",
              "      <td>47005.102292</td>\n",
              "    </tr>\n",
              "    <tr>\n",
              "      <th>2021-05-17</th>\n",
              "      <td>BTC</td>\n",
              "      <td>45604.615754</td>\n",
              "      <td>46805.537852</td>\n",
              "      <td>49670.414174</td>\n",
              "      <td>43868.638969</td>\n",
              "    </tr>\n",
              "    <tr>\n",
              "      <th>2021-05-18</th>\n",
              "      <td>BTC</td>\n",
              "      <td>43144.471291</td>\n",
              "      <td>46439.336570</td>\n",
              "      <td>46622.853437</td>\n",
              "      <td>42102.346430</td>\n",
              "    </tr>\n",
              "  </tbody>\n",
              "</table>\n",
              "<p>2787 rows × 5 columns</p>\n",
              "</div>\n",
              "      <button class=\"colab-df-convert\" onclick=\"convertToInteractive('df-72ec20ab-b48d-44dc-a2a8-594578da9a47')\"\n",
              "              title=\"Convert this dataframe to an interactive table.\"\n",
              "              style=\"display:none;\">\n",
              "        \n",
              "  <svg xmlns=\"http://www.w3.org/2000/svg\" height=\"24px\"viewBox=\"0 0 24 24\"\n",
              "       width=\"24px\">\n",
              "    <path d=\"M0 0h24v24H0V0z\" fill=\"none\"/>\n",
              "    <path d=\"M18.56 5.44l.94 2.06.94-2.06 2.06-.94-2.06-.94-.94-2.06-.94 2.06-2.06.94zm-11 1L8.5 8.5l.94-2.06 2.06-.94-2.06-.94L8.5 2.5l-.94 2.06-2.06.94zm10 10l.94 2.06.94-2.06 2.06-.94-2.06-.94-.94-2.06-.94 2.06-2.06.94z\"/><path d=\"M17.41 7.96l-1.37-1.37c-.4-.4-.92-.59-1.43-.59-.52 0-1.04.2-1.43.59L10.3 9.45l-7.72 7.72c-.78.78-.78 2.05 0 2.83L4 21.41c.39.39.9.59 1.41.59.51 0 1.02-.2 1.41-.59l7.78-7.78 2.81-2.81c.8-.78.8-2.07 0-2.86zM5.41 20L4 18.59l7.72-7.72 1.47 1.35L5.41 20z\"/>\n",
              "  </svg>\n",
              "      </button>\n",
              "      \n",
              "  <style>\n",
              "    .colab-df-container {\n",
              "      display:flex;\n",
              "      flex-wrap:wrap;\n",
              "      gap: 12px;\n",
              "    }\n",
              "\n",
              "    .colab-df-convert {\n",
              "      background-color: #E8F0FE;\n",
              "      border: none;\n",
              "      border-radius: 50%;\n",
              "      cursor: pointer;\n",
              "      display: none;\n",
              "      fill: #1967D2;\n",
              "      height: 32px;\n",
              "      padding: 0 0 0 0;\n",
              "      width: 32px;\n",
              "    }\n",
              "\n",
              "    .colab-df-convert:hover {\n",
              "      background-color: #E2EBFA;\n",
              "      box-shadow: 0px 1px 2px rgba(60, 64, 67, 0.3), 0px 1px 3px 1px rgba(60, 64, 67, 0.15);\n",
              "      fill: #174EA6;\n",
              "    }\n",
              "\n",
              "    [theme=dark] .colab-df-convert {\n",
              "      background-color: #3B4455;\n",
              "      fill: #D2E3FC;\n",
              "    }\n",
              "\n",
              "    [theme=dark] .colab-df-convert:hover {\n",
              "      background-color: #434B5C;\n",
              "      box-shadow: 0px 1px 3px 1px rgba(0, 0, 0, 0.15);\n",
              "      filter: drop-shadow(0px 1px 2px rgba(0, 0, 0, 0.3));\n",
              "      fill: #FFFFFF;\n",
              "    }\n",
              "  </style>\n",
              "\n",
              "      <script>\n",
              "        const buttonEl =\n",
              "          document.querySelector('#df-72ec20ab-b48d-44dc-a2a8-594578da9a47 button.colab-df-convert');\n",
              "        buttonEl.style.display =\n",
              "          google.colab.kernel.accessAllowed ? 'block' : 'none';\n",
              "\n",
              "        async function convertToInteractive(key) {\n",
              "          const element = document.querySelector('#df-72ec20ab-b48d-44dc-a2a8-594578da9a47');\n",
              "          const dataTable =\n",
              "            await google.colab.kernel.invokeFunction('convertToInteractive',\n",
              "                                                     [key], {});\n",
              "          if (!dataTable) return;\n",
              "\n",
              "          const docLinkHtml = 'Like what you see? Visit the ' +\n",
              "            '<a target=\"_blank\" href=https://colab.research.google.com/notebooks/data_table.ipynb>data table notebook</a>'\n",
              "            + ' to learn more about interactive tables.';\n",
              "          element.innerHTML = '';\n",
              "          dataTable['output_type'] = 'display_data';\n",
              "          await google.colab.output.renderOutput(dataTable, element);\n",
              "          const docLink = document.createElement('div');\n",
              "          docLink.innerHTML = docLinkHtml;\n",
              "          element.appendChild(docLink);\n",
              "        }\n",
              "      </script>\n",
              "    </div>\n",
              "  </div>\n",
              "  "
            ]
          },
          "metadata": {},
          "execution_count": 2
        }
      ]
    },
    {
      "cell_type": "code",
      "source": [
        ""
      ],
      "metadata": {
        "id": "KUX4jn4cifDl"
      },
      "execution_count": null,
      "outputs": []
    },
    {
      "cell_type": "code",
      "source": [
        "bitcoin_prices = pd.DataFrame(df['Closing Price (USD)']).rename(columns={'Closing Price (USD)': 'Price'})\n",
        "bitcoin_prices"
      ],
      "metadata": {
        "colab": {
          "base_uri": "https://localhost:8080/",
          "height": 455
        },
        "id": "iGtGU2frjVu4",
        "outputId": "fe083d27-f9c6-4848-e60e-c77dec6be4f2"
      },
      "execution_count": null,
      "outputs": [
        {
          "output_type": "execute_result",
          "data": {
            "text/plain": [
              "                   Price\n",
              "Date                    \n",
              "2013-10-01    123.654990\n",
              "2013-10-02    125.455000\n",
              "2013-10-03    108.584830\n",
              "2013-10-04    118.674660\n",
              "2013-10-05    121.338660\n",
              "...                  ...\n",
              "2021-05-14  49764.132082\n",
              "2021-05-15  50032.693137\n",
              "2021-05-16  47885.625255\n",
              "2021-05-17  45604.615754\n",
              "2021-05-18  43144.471291\n",
              "\n",
              "[2787 rows x 1 columns]"
            ],
            "text/html": [
              "\n",
              "  <div id=\"df-2479defe-0911-470f-9c8a-af7643d20128\">\n",
              "    <div class=\"colab-df-container\">\n",
              "      <div>\n",
              "<style scoped>\n",
              "    .dataframe tbody tr th:only-of-type {\n",
              "        vertical-align: middle;\n",
              "    }\n",
              "\n",
              "    .dataframe tbody tr th {\n",
              "        vertical-align: top;\n",
              "    }\n",
              "\n",
              "    .dataframe thead th {\n",
              "        text-align: right;\n",
              "    }\n",
              "</style>\n",
              "<table border=\"1\" class=\"dataframe\">\n",
              "  <thead>\n",
              "    <tr style=\"text-align: right;\">\n",
              "      <th></th>\n",
              "      <th>Price</th>\n",
              "    </tr>\n",
              "    <tr>\n",
              "      <th>Date</th>\n",
              "      <th></th>\n",
              "    </tr>\n",
              "  </thead>\n",
              "  <tbody>\n",
              "    <tr>\n",
              "      <th>2013-10-01</th>\n",
              "      <td>123.654990</td>\n",
              "    </tr>\n",
              "    <tr>\n",
              "      <th>2013-10-02</th>\n",
              "      <td>125.455000</td>\n",
              "    </tr>\n",
              "    <tr>\n",
              "      <th>2013-10-03</th>\n",
              "      <td>108.584830</td>\n",
              "    </tr>\n",
              "    <tr>\n",
              "      <th>2013-10-04</th>\n",
              "      <td>118.674660</td>\n",
              "    </tr>\n",
              "    <tr>\n",
              "      <th>2013-10-05</th>\n",
              "      <td>121.338660</td>\n",
              "    </tr>\n",
              "    <tr>\n",
              "      <th>...</th>\n",
              "      <td>...</td>\n",
              "    </tr>\n",
              "    <tr>\n",
              "      <th>2021-05-14</th>\n",
              "      <td>49764.132082</td>\n",
              "    </tr>\n",
              "    <tr>\n",
              "      <th>2021-05-15</th>\n",
              "      <td>50032.693137</td>\n",
              "    </tr>\n",
              "    <tr>\n",
              "      <th>2021-05-16</th>\n",
              "      <td>47885.625255</td>\n",
              "    </tr>\n",
              "    <tr>\n",
              "      <th>2021-05-17</th>\n",
              "      <td>45604.615754</td>\n",
              "    </tr>\n",
              "    <tr>\n",
              "      <th>2021-05-18</th>\n",
              "      <td>43144.471291</td>\n",
              "    </tr>\n",
              "  </tbody>\n",
              "</table>\n",
              "<p>2787 rows × 1 columns</p>\n",
              "</div>\n",
              "      <button class=\"colab-df-convert\" onclick=\"convertToInteractive('df-2479defe-0911-470f-9c8a-af7643d20128')\"\n",
              "              title=\"Convert this dataframe to an interactive table.\"\n",
              "              style=\"display:none;\">\n",
              "        \n",
              "  <svg xmlns=\"http://www.w3.org/2000/svg\" height=\"24px\"viewBox=\"0 0 24 24\"\n",
              "       width=\"24px\">\n",
              "    <path d=\"M0 0h24v24H0V0z\" fill=\"none\"/>\n",
              "    <path d=\"M18.56 5.44l.94 2.06.94-2.06 2.06-.94-2.06-.94-.94-2.06-.94 2.06-2.06.94zm-11 1L8.5 8.5l.94-2.06 2.06-.94-2.06-.94L8.5 2.5l-.94 2.06-2.06.94zm10 10l.94 2.06.94-2.06 2.06-.94-2.06-.94-.94-2.06-.94 2.06-2.06.94z\"/><path d=\"M17.41 7.96l-1.37-1.37c-.4-.4-.92-.59-1.43-.59-.52 0-1.04.2-1.43.59L10.3 9.45l-7.72 7.72c-.78.78-.78 2.05 0 2.83L4 21.41c.39.39.9.59 1.41.59.51 0 1.02-.2 1.41-.59l7.78-7.78 2.81-2.81c.8-.78.8-2.07 0-2.86zM5.41 20L4 18.59l7.72-7.72 1.47 1.35L5.41 20z\"/>\n",
              "  </svg>\n",
              "      </button>\n",
              "      \n",
              "  <style>\n",
              "    .colab-df-container {\n",
              "      display:flex;\n",
              "      flex-wrap:wrap;\n",
              "      gap: 12px;\n",
              "    }\n",
              "\n",
              "    .colab-df-convert {\n",
              "      background-color: #E8F0FE;\n",
              "      border: none;\n",
              "      border-radius: 50%;\n",
              "      cursor: pointer;\n",
              "      display: none;\n",
              "      fill: #1967D2;\n",
              "      height: 32px;\n",
              "      padding: 0 0 0 0;\n",
              "      width: 32px;\n",
              "    }\n",
              "\n",
              "    .colab-df-convert:hover {\n",
              "      background-color: #E2EBFA;\n",
              "      box-shadow: 0px 1px 2px rgba(60, 64, 67, 0.3), 0px 1px 3px 1px rgba(60, 64, 67, 0.15);\n",
              "      fill: #174EA6;\n",
              "    }\n",
              "\n",
              "    [theme=dark] .colab-df-convert {\n",
              "      background-color: #3B4455;\n",
              "      fill: #D2E3FC;\n",
              "    }\n",
              "\n",
              "    [theme=dark] .colab-df-convert:hover {\n",
              "      background-color: #434B5C;\n",
              "      box-shadow: 0px 1px 3px 1px rgba(0, 0, 0, 0.15);\n",
              "      filter: drop-shadow(0px 1px 2px rgba(0, 0, 0, 0.3));\n",
              "      fill: #FFFFFF;\n",
              "    }\n",
              "  </style>\n",
              "\n",
              "      <script>\n",
              "        const buttonEl =\n",
              "          document.querySelector('#df-2479defe-0911-470f-9c8a-af7643d20128 button.colab-df-convert');\n",
              "        buttonEl.style.display =\n",
              "          google.colab.kernel.accessAllowed ? 'block' : 'none';\n",
              "\n",
              "        async function convertToInteractive(key) {\n",
              "          const element = document.querySelector('#df-2479defe-0911-470f-9c8a-af7643d20128');\n",
              "          const dataTable =\n",
              "            await google.colab.kernel.invokeFunction('convertToInteractive',\n",
              "                                                     [key], {});\n",
              "          if (!dataTable) return;\n",
              "\n",
              "          const docLinkHtml = 'Like what you see? Visit the ' +\n",
              "            '<a target=\"_blank\" href=https://colab.research.google.com/notebooks/data_table.ipynb>data table notebook</a>'\n",
              "            + ' to learn more about interactive tables.';\n",
              "          element.innerHTML = '';\n",
              "          dataTable['output_type'] = 'display_data';\n",
              "          await google.colab.output.renderOutput(dataTable, element);\n",
              "          const docLink = document.createElement('div');\n",
              "          docLink.innerHTML = docLinkHtml;\n",
              "          element.appendChild(docLink);\n",
              "        }\n",
              "      </script>\n",
              "    </div>\n",
              "  </div>\n",
              "  "
            ]
          },
          "metadata": {},
          "execution_count": 4
        }
      ]
    },
    {
      "cell_type": "code",
      "source": [
        "import matplotlib.pyplot as plt\n",
        "bitcoin_prices.plot(figsize=(10,7))"
      ],
      "metadata": {
        "colab": {
          "base_uri": "https://localhost:8080/",
          "height": 459
        },
        "id": "aUg8asW9jjP4",
        "outputId": "2e9e29ad-9090-4d5f-ab4f-99ae3677ae1b"
      },
      "execution_count": null,
      "outputs": [
        {
          "output_type": "execute_result",
          "data": {
            "text/plain": [
              "<matplotlib.axes._subplots.AxesSubplot at 0x7f09d710b690>"
            ]
          },
          "metadata": {},
          "execution_count": 5
        },
        {
          "output_type": "display_data",
          "data": {
            "text/plain": [
              "<Figure size 720x504 with 1 Axes>"
            ],
            "image/png": "[encoded data removed]"
          },
          "metadata": {
            "needs_background": "light"
          }
        }
      ]
    },
    {
      "cell_type": "code",
      "source": [
        "import csv\n",
        "from datetime import datetime\n",
        "\n",
        "timesteps = []\n",
        "btc_price = []\n",
        "with open('/content/BTC_USD_2013-10-01_2021-05-18-CoinDesk.csv', 'r') as f:\n",
        "  csv_reader = csv.reader(f, delimiter=',')\n",
        "  next(csv_reader) # skip column header\n",
        "  for line in csv_reader:\n",
        "    timesteps.append(datetime.strptime(line[1], '%Y-%m-%d'))\n",
        "    btc_price.append(float(line[2]))\n",
        "\n",
        "timesteps[:10], btc_price[:10]"
      ],
      "metadata": {
        "colab": {
          "base_uri": "https://localhost:8080/"
        },
        "id": "bTjPccIOjrKG",
        "outputId": "19b97c21-3b16-47b1-a5ea-d81037eb6f75"
      },
      "execution_count": null,
      "outputs": [
        {
          "output_type": "execute_result",
          "data": {
            "text/plain": [
              "([datetime.datetime(2013, 10, 1, 0, 0),\n",
              "  datetime.datetime(2013, 10, 2, 0, 0),\n",
              "  datetime.datetime(2013, 10, 3, 0, 0),\n",
              "  datetime.datetime(2013, 10, 4, 0, 0),\n",
              "  datetime.datetime(2013, 10, 5, 0, 0),\n",
              "  datetime.datetime(2013, 10, 6, 0, 0),\n",
              "  datetime.datetime(2013, 10, 7, 0, 0),\n",
              "  datetime.datetime(2013, 10, 8, 0, 0),\n",
              "  datetime.datetime(2013, 10, 9, 0, 0),\n",
              "  datetime.datetime(2013, 10, 10, 0, 0)],\n",
              " [123.65499,\n",
              "  125.455,\n",
              "  108.58483,\n",
              "  118.67466,\n",
              "  121.33866,\n",
              "  120.65533,\n",
              "  121.795,\n",
              "  123.033,\n",
              "  124.049,\n",
              "  125.96116])"
            ]
          },
          "metadata": {},
          "execution_count": 7
        }
      ]
    },
    {
      "cell_type": "code",
      "source": [
        "import numpy as np\n",
        "\n",
        "plt.figure(figsize=(10,7))\n",
        "plt.plot(timesteps, btc_price)"
      ],
      "metadata": {
        "colab": {
          "base_uri": "https://localhost:8080/",
          "height": 445
        },
        "id": "-0YaLzCfkyuh",
        "outputId": "395f0c73-5a30-4c32-85d7-2dc4a2f298ec"
      },
      "execution_count": null,
      "outputs": [
        {
          "output_type": "execute_result",
          "data": {
            "text/plain": [
              "[<matplotlib.lines.Line2D at 0x7f09d7105d90>]"
            ]
          },
          "metadata": {},
          "execution_count": 9
        },
        {
          "output_type": "display_data",
          "data": {
            "text/plain": [
              "<Figure size 720x504 with 1 Axes>"
            ],
            "image/png": "[encoded data removed]"
          },
          "metadata": {
            "needs_background": "light"
          }
        }
      ]
    },
    {
      "cell_type": "code",
      "source": [
        "timesteps = bitcoin_prices.index.to_numpy()\n",
        "btc_price = bitcoin_prices.Price.to_numpy()\n",
        "\n",
        "split_size = int(0.8*len(btc_price))\n",
        "\n",
        "x_train, y_train = timesteps[:split_size], btc_price[:split_size]\n",
        "x_test, y_test = timesteps[split_size:], btc_price[split_size:]"
      ],
      "metadata": {
        "id": "AuOq1y3Xk_c0"
      },
      "execution_count": null,
      "outputs": []
    },
    {
      "cell_type": "code",
      "source": [
        "plt.figure(figsize=(10,7))\n",
        "plt.scatter(x_train, y_train, s=5, label='train')\n",
        "plt.scatter(x_test, y_test, s=5, label='test')\n",
        "plt.legend()\n",
        "plt.show()"
      ],
      "metadata": {
        "colab": {
          "base_uri": "https://localhost:8080/",
          "height": 428
        },
        "id": "-mOOyP4elfDJ",
        "outputId": "13d096cc-ab12-411a-e932-ec439b959c89"
      },
      "execution_count": null,
      "outputs": [
        {
          "output_type": "display_data",
          "data": {
            "text/plain": [
              "<Figure size 720x504 with 1 Axes>"
            ],
            "image/png": "[encoded data removed]"
          },
          "metadata": {
            "needs_background": "light"
          }
        }
      ]
    },
    {
      "cell_type": "code",
      "source": [
        "def plot_time_series(timesteps, values, format='.', start=0, end=None, label=None):\n",
        "  plt.plot(timesteps[start:end], values[start:end], format, label=label)\n",
        "  if label:\n",
        "    plt.legend()\n",
        "  plt.grid(True)"
      ],
      "metadata": {
        "id": "B5ZEo8ialuBw"
      },
      "execution_count": null,
      "outputs": []
    },
    {
      "cell_type": "code",
      "source": [
        "plt.figure(figsize=(10,7))\n",
        "plot_time_series(x_train, y_train, label='train')\n",
        "plot_time_series(x_test, y_test, label='test')"
      ],
      "metadata": {
        "colab": {
          "base_uri": "https://localhost:8080/",
          "height": 428
        },
        "id": "avMSdmQzmf4I",
        "outputId": "e695fc63-c77e-4646-f5e6-e42997c29ffd"
      },
      "execution_count": null,
      "outputs": [
        {
          "output_type": "display_data",
          "data": {
            "text/plain": [
              "<Figure size 720x504 with 1 Axes>"
            ],
            "image/png": "[encoded data removed]"
          },
          "metadata": {
            "needs_background": "light"
          }
        }
      ]
    },
    {
      "cell_type": "code",
      "source": [
        "# Naive forecast\n",
        "naive_forecast = y_test[:-1]\n",
        "plt.figure(figsize=(10,7))\n",
        "#plot_time_series(x_train, y_train, label='train')\n",
        "plot_time_series(x_test, y_test, start=350,  label='test')\n",
        "plot_time_series(x_test[1:], naive_forecast, start=350, format='-', label='naive forecast')"
      ],
      "metadata": {
        "colab": {
          "base_uri": "https://localhost:8080/",
          "height": 428
        },
        "id": "RdUIaFo9mylM",
        "outputId": "e2030008-ffb2-427b-bab4-9f3d257999eb"
      },
      "execution_count": null,
      "outputs": [
        {
          "output_type": "display_data",
          "data": {
            "text/plain": [
              "<Figure size 720x504 with 1 Axes>"
            ],
            "image/png": "[encoded data removed]"
          },
          "metadata": {
            "needs_background": "light"
          }
        }
      ]
    },
    {
      "cell_type": "code",
      "source": [
        "# Evaluating time series model (MASE)\n",
        "import tensorflow as tf\n",
        "\n",
        "def MASE(y_true, y_pred):\n",
        "  # Assume no seasonality\n",
        "  mae = tf.reduce_mean(tf.abs(y_true-y_pred))\n",
        "  mae_naive_no_season = tf.reduce_mean(tf.abs(y_true[1:]-y_true[:-1]))\n",
        "  return mae / mae_naive_no_season"
      ],
      "metadata": {
        "id": "RuAkPALRobm4"
      },
      "execution_count": null,
      "outputs": []
    },
    {
      "cell_type": "code",
      "source": [
        "MASE(y_test[1:], naive_forecast).numpy()"
      ],
      "metadata": {
        "colab": {
          "base_uri": "https://localhost:8080/"
        },
        "id": "it27yxWZqS_4",
        "outputId": "e3f4fe92-40f4-4486-8add-c8d1fa11216b"
      },
      "execution_count": null,
      "outputs": [
        {
          "output_type": "execute_result",
          "data": {
            "text/plain": [
              "0.9995699939182624"
            ]
          },
          "metadata": {},
          "execution_count": 47
        }
      ]
    },
    {
      "cell_type": "code",
      "source": [
        "def evaluate_preds(y_true, y_pred):\n",
        "  # Make sure float32 datatype\n",
        "  y_true = tf.cast(y_true, dtype=tf.float32)\n",
        "  y_pred = tf.cast(y_pred, dtype=tf.float32)\n",
        "\n",
        "  mae = tf.keras.metrics.mean_absolute_error(y_true, y_pred)\n",
        "  mse = tf.keras.metrics.mean_squared_error(y_true, y_pred)\n",
        "  rsme = tf.sqrt(mse)\n",
        "  mape = tf.keras.metrics.mean_absolute_percentage_error(y_true, y_pred)\n",
        "  mase = MASE(y_true, y_pred)\n",
        "\n",
        "  # Account for different sized metrics\n",
        "  if mae.ndim > 0:\n",
        "    mae = tf.reduce_mean(mae)\n",
        "    mse = tf.reduce_mean(mse)\n",
        "    rsme = tf.reduce_mean(rsme)\n",
        "    mape = tf.reduce_mean(mape)\n",
        "    mase = tf.reduce_mean(mase)\n",
        "\n",
        "  return {\n",
        "      'mae': mae.numpy(),\n",
        "      'mse': mse.numpy(),\n",
        "      'rsme': rsme.numpy(),\n",
        "      'mape': mape.numpy(),\n",
        "      'mase': mase.numpy()\n",
        "  }"
      ],
      "metadata": {
        "id": "eN1UQoBCqYNT"
      },
      "execution_count": null,
      "outputs": []
    },
    {
      "cell_type": "code",
      "source": [
        "naive_results = evaluate_preds(y_test[1:], naive_forecast)\n",
        "naive_results"
      ],
      "metadata": {
        "colab": {
          "base_uri": "https://localhost:8080/"
        },
        "id": "VHUbqJCKrfeJ",
        "outputId": "90bc9ac0-c14d-4df5-b83e-1ef32a9e67dd"
      },
      "execution_count": null,
      "outputs": [
        {
          "output_type": "execute_result",
          "data": {
            "text/plain": [
              "{'mae': 567.9802,\n",
              " 'mse': 1147547.0,\n",
              " 'rsme': 1071.2362,\n",
              " 'mape': 2.516525,\n",
              " 'mase': 0.99957}"
            ]
          },
          "metadata": {},
          "execution_count": 49
        }
      ]
    },
    {
      "cell_type": "code",
      "source": [
        "# windowing our dataset\n",
        "horizon = 1\n",
        "window_size =7"
      ],
      "metadata": {
        "id": "c1SwKeyEsmZz"
      },
      "execution_count": null,
      "outputs": []
    },
    {
      "cell_type": "code",
      "source": [
        "# label window data\n",
        "def get_labelled_window(x, horizon=horizon):\n",
        "  return x[:, :-horizon], x[:, -horizon:]"
      ],
      "metadata": {
        "id": "33ldK3wsuhw1"
      },
      "execution_count": null,
      "outputs": []
    },
    {
      "cell_type": "code",
      "source": [
        "# Create fucntion to view numpy array as sliding window:\n",
        "def make_windows(x, window_size=window_size,horizon=horizon):\n",
        "  # create window of specific window size\n",
        "  window_step = np.expand_dims(np.arange(window_size+horizon), axis=0)\n",
        "\n",
        "  # create 2D array of multiple window steps\n",
        "  window_indexes = window_step + np.expand_dims(np.arange(len(x)-(window_size+horizon-1)), axis=0).T\n",
        "\n",
        "  # index on time series with 2D array\n",
        "  windowed_array = x[window_indexes]\n",
        "\n",
        "  # get labelled windows\n",
        "  windows, labels = get_labelled_window(windowed_array, horizon=horizon)\n",
        "  return windows, labels"
      ],
      "metadata": {
        "id": "PSfUaZMVv7KV"
      },
      "execution_count": null,
      "outputs": []
    },
    {
      "cell_type": "code",
      "source": [
        "full_windows, full_labels = make_windows(btc_prices)"
      ],
      "metadata": {
        "id": "dz7oQ0Jr1Bfy"
      },
      "execution_count": null,
      "outputs": []
    },
    {
      "cell_type": "code",
      "source": [
        "# Turning windows into train and test sets\n",
        "def make_train_test_split(windows, labels, test_split=0.2):\n",
        "  split_size = int(len(windows) * (1-test_split))\n",
        "  train_windows = windows[:split_size]\n",
        "  train_labels = labels[:split_size]\n",
        "  test_windows = windows[split_size:]\n",
        "  test_labels = labels[split_size:]\n",
        "  return train_windows, test_windows, train_labels, test_labels"
      ],
      "metadata": {
        "id": "l6OSa7BC1HcH"
      },
      "execution_count": null,
      "outputs": []
    },
    {
      "cell_type": "code",
      "source": [
        "train_windows, test_windows, train_labels, test_labels = make_train_test_split(full_windows, full_labels)"
      ],
      "metadata": {
        "id": "zjRQrAN01QOc"
      },
      "execution_count": null,
      "outputs": []
    },
    {
      "cell_type": "code",
      "source": [
        "import os\n",
        "\n",
        "# modelcheckpoint callback\n",
        "def create_model_checkpoint(model_name, save_path='model_experiments'):\n",
        "  return tf.keras.callbacks.ModelCheckpoint(filepath=os.path.join(save_path, model_name),\n",
        "                                            verbose=0,\n",
        "                                            save_best_only=True)"
      ],
      "metadata": {
        "id": "XgwuEiEy33KJ"
      },
      "execution_count": null,
      "outputs": []
    },
    {
      "cell_type": "code",
      "source": [
        "from tensorflow.keras import layers\n",
        "\n",
        "tf.random.set_seed(42)\n",
        "\n",
        "model1 = tf.keras.Sequential([\n",
        "    layers.Dense(128, activation='relu'),\n",
        "    layers.Dense(horizon, activation='linear')\n",
        "], name='model_1_dense')\n",
        "\n",
        "model1.compile(loss='mae',\n",
        "               optimizer='Adam',\n",
        "               metrics=['mae', 'mse'])\n",
        "\n",
        "history1 = model1.fit(train_windows,\n",
        "                      train_labels,\n",
        "                      epochs=100,\n",
        "                      batch_size=128,\n",
        "                      validation_data=(test_windows, test_labels),\n",
        "                      callbacks=[create_model_checkpoint(model1.name)])"
      ],
      "metadata": {
        "colab": {
          "base_uri": "https://localhost:8080/"
        },
        "id": "PZNh81xi4P5U",
        "outputId": "63265514-d625-460b-8b41-75abb4544522"
      },
      "execution_count": null,
      "outputs": [
        {
          "output_type": "stream",
          "name": "stdout",
          "text": [
            "Epoch 1/100\n",
            "18/18 [==============================] - 1s 33ms/step - loss: 780.3455 - mae: 780.3455 - mse: 2312725.7500 - val_loss: 2279.6528 - val_mae: 2279.6528 - val_mse: 12772731.0000\n",
            "Epoch 2/100\n",
            "18/18 [==============================] - 0s 25ms/step - loss: 247.6756 - mae: 247.6756 - mse: 285481.1875 - val_loss: 1005.9993 - val_mae: 1005.9993 - val_mse: 3441833.2500\n",
            "Epoch 3/100\n",
            "18/18 [==============================] - 0s 26ms/step - loss: 188.4116 - mae: 188.4116 - mse: 171891.6094 - val_loss: 923.2862 - val_mae: 923.2861 - val_mse: 2868220.7500\n",
            "Epoch 4/100\n",
            "18/18 [==============================] - 0s 25ms/step - loss: 169.4340 - mae: 169.4340 - mse: 151700.5781 - val_loss: 900.5872 - val_mae: 900.5872 - val_mse: 2683715.5000\n",
            "Epoch 5/100\n",
            "18/18 [==============================] - 0s 25ms/step - loss: 165.0894 - mae: 165.0894 - mse: 145490.7812 - val_loss: 895.2237 - val_mae: 895.2237 - val_mse: 2564574.5000\n",
            "Epoch 6/100\n",
            "18/18 [==============================] - 0s 26ms/step - loss: 158.5210 - mae: 158.5210 - mse: 133817.7344 - val_loss: 855.1984 - val_mae: 855.1984 - val_mse: 2481873.2500\n",
            "Epoch 7/100\n",
            "18/18 [==============================] - 0s 26ms/step - loss: 151.3566 - mae: 151.3566 - mse: 123446.9766 - val_loss: 840.9166 - val_mae: 840.9166 - val_mse: 2276451.5000\n",
            "Epoch 8/100\n",
            "18/18 [==============================] - 0s 26ms/step - loss: 145.2560 - mae: 145.2560 - mse: 117694.5000 - val_loss: 803.5956 - val_mae: 803.5956 - val_mse: 2140573.5000\n",
            "Epoch 9/100\n",
            "18/18 [==============================] - 0s 27ms/step - loss: 144.3546 - mae: 144.3546 - mse: 115269.3047 - val_loss: 799.5454 - val_mae: 799.5454 - val_mse: 2049207.7500\n",
            "Epoch 10/100\n",
            "18/18 [==============================] - 0s 27ms/step - loss: 141.2943 - mae: 141.2943 - mse: 112394.5938 - val_loss: 763.5010 - val_mae: 763.5010 - val_mse: 1933140.7500\n",
            "Epoch 11/100\n",
            "18/18 [==============================] - 0s 4ms/step - loss: 135.6595 - mae: 135.6595 - mse: 104118.2344 - val_loss: 771.3356 - val_mae: 771.3356 - val_mse: 1885849.7500\n",
            "Epoch 12/100\n",
            "18/18 [==============================] - 0s 4ms/step - loss: 134.1700 - mae: 134.1700 - mse: 101780.8672 - val_loss: 782.8079 - val_mae: 782.8079 - val_mse: 1881727.1250\n",
            "Epoch 13/100\n",
            "18/18 [==============================] - 0s 5ms/step - loss: 134.6015 - mae: 134.6015 - mse: 102345.2266 - val_loss: 784.4449 - val_mae: 784.4449 - val_mse: 1860996.1250\n",
            "Epoch 14/100\n",
            "18/18 [==============================] - 0s 26ms/step - loss: 130.6127 - mae: 130.6127 - mse: 96225.1328 - val_loss: 751.3234 - val_mae: 751.3233 - val_mse: 1749609.0000\n",
            "Epoch 15/100\n",
            "18/18 [==============================] - 0s 26ms/step - loss: 128.8347 - mae: 128.8347 - mse: 94306.9922 - val_loss: 696.5756 - val_mae: 696.5756 - val_mse: 1606352.3750\n",
            "Epoch 16/100\n",
            "18/18 [==============================] - 0s 4ms/step - loss: 124.7739 - mae: 124.7739 - mse: 90394.9375 - val_loss: 702.4698 - val_mae: 702.4698 - val_mse: 1592416.2500\n",
            "Epoch 17/100\n",
            "18/18 [==============================] - 0s 4ms/step - loss: 123.4474 - mae: 123.4474 - mse: 89247.7031 - val_loss: 704.9239 - val_mae: 704.9239 - val_mse: 1580782.7500\n",
            "Epoch 18/100\n",
            "18/18 [==============================] - 0s 26ms/step - loss: 122.2105 - mae: 122.2105 - mse: 87607.5938 - val_loss: 667.9724 - val_mae: 667.9724 - val_mse: 1498881.8750\n",
            "Epoch 19/100\n",
            "18/18 [==============================] - 0s 5ms/step - loss: 121.7263 - mae: 121.7263 - mse: 86632.2422 - val_loss: 718.8796 - val_mae: 718.8796 - val_mse: 1589299.3750\n",
            "Epoch 20/100\n",
            "18/18 [==============================] - 1s 39ms/step - loss: 119.2420 - mae: 119.2420 - mse: 84334.3203 - val_loss: 657.0666 - val_mae: 657.0666 - val_mse: 1447501.1250\n",
            "Epoch 21/100\n",
            "18/18 [==============================] - 0s 25ms/step - loss: 121.2275 - mae: 121.2275 - mse: 85743.3828 - val_loss: 637.0333 - val_mae: 637.0333 - val_mse: 1401774.2500\n",
            "Epoch 22/100\n",
            "18/18 [==============================] - 0s 4ms/step - loss: 119.9544 - mae: 119.9544 - mse: 84050.1094 - val_loss: 671.2488 - val_mae: 671.2488 - val_mse: 1447895.7500\n",
            "Epoch 23/100\n",
            "18/18 [==============================] - 0s 26ms/step - loss: 121.9248 - mae: 121.9248 - mse: 83746.1250 - val_loss: 633.3592 - val_mae: 633.3592 - val_mse: 1367377.8750\n",
            "Epoch 24/100\n",
            "18/18 [==============================] - 0s 26ms/step - loss: 116.3665 - mae: 116.3665 - mse: 81446.6562 - val_loss: 624.4852 - val_mae: 624.4852 - val_mse: 1348960.6250\n",
            "Epoch 25/100\n",
            "18/18 [==============================] - 0s 26ms/step - loss: 114.6816 - mae: 114.6816 - mse: 78912.8359 - val_loss: 619.7570 - val_mae: 619.7570 - val_mse: 1351089.7500\n",
            "Epoch 26/100\n",
            "18/18 [==============================] - 0s 27ms/step - loss: 116.4455 - mae: 116.4455 - mse: 79365.5938 - val_loss: 615.6364 - val_mae: 615.6364 - val_mse: 1321514.3750\n",
            "Epoch 27/100\n",
            "18/18 [==============================] - 0s 4ms/step - loss: 116.5868 - mae: 116.5868 - mse: 78672.9062 - val_loss: 615.9629 - val_mae: 615.9629 - val_mse: 1313077.5000\n",
            "Epoch 28/100\n",
            "18/18 [==============================] - 0s 25ms/step - loss: 113.4691 - mae: 113.4691 - mse: 77440.0938 - val_loss: 608.0921 - val_mae: 608.0921 - val_mse: 1309775.3750\n",
            "Epoch 29/100\n",
            "18/18 [==============================] - 0s 5ms/step - loss: 113.7598 - mae: 113.7598 - mse: 78506.9531 - val_loss: 621.9305 - val_mae: 621.9305 - val_mse: 1313324.6250\n",
            "Epoch 30/100\n",
            "18/18 [==============================] - 0s 27ms/step - loss: 116.8613 - mae: 116.8613 - mse: 79236.4609 - val_loss: 604.4056 - val_mae: 604.4056 - val_mse: 1283408.0000\n",
            "Epoch 31/100\n",
            "18/18 [==============================] - 0s 5ms/step - loss: 111.9375 - mae: 111.9375 - mse: 74849.0703 - val_loss: 609.3882 - val_mae: 609.3882 - val_mse: 1284506.2500\n",
            "Epoch 32/100\n",
            "18/18 [==============================] - 0s 27ms/step - loss: 112.4175 - mae: 112.4175 - mse: 77178.5859 - val_loss: 603.0588 - val_mae: 603.0588 - val_mse: 1273059.5000\n",
            "Epoch 33/100\n",
            "18/18 [==============================] - 0s 5ms/step - loss: 112.6697 - mae: 112.6697 - mse: 75787.9766 - val_loss: 645.6973 - val_mae: 645.6973 - val_mse: 1353255.7500\n",
            "Epoch 34/100\n",
            "18/18 [==============================] - 0s 5ms/step - loss: 111.9867 - mae: 111.9867 - mse: 77245.7266 - val_loss: 604.7634 - val_mae: 604.7634 - val_mse: 1289360.3750\n",
            "Epoch 35/100\n",
            "18/18 [==============================] - 0s 26ms/step - loss: 110.9451 - mae: 110.9451 - mse: 75301.7812 - val_loss: 593.4648 - val_mae: 593.4648 - val_mse: 1250491.3750\n",
            "Epoch 36/100\n",
            "18/18 [==============================] - 0s 5ms/step - loss: 114.4816 - mae: 114.4816 - mse: 76138.5391 - val_loss: 608.0074 - val_mae: 608.0074 - val_mse: 1269272.3750\n",
            "Epoch 37/100\n",
            "18/18 [==============================] - 0s 4ms/step - loss: 110.2016 - mae: 110.2016 - mse: 74635.3047 - val_loss: 597.2308 - val_mae: 597.2308 - val_mse: 1248474.0000\n",
            "Epoch 38/100\n",
            "18/18 [==============================] - 0s 4ms/step - loss: 112.2372 - mae: 112.2372 - mse: 75821.6953 - val_loss: 637.9798 - val_mae: 637.9798 - val_mse: 1366130.8750\n",
            "Epoch 39/100\n",
            "18/18 [==============================] - 0s 27ms/step - loss: 115.1289 - mae: 115.1289 - mse: 76339.6797 - val_loss: 587.4680 - val_mae: 587.4680 - val_mse: 1233512.3750\n",
            "Epoch 40/100\n",
            "18/18 [==============================] - 0s 4ms/step - loss: 110.0854 - mae: 110.0854 - mse: 73528.4766 - val_loss: 592.7117 - val_mae: 592.7117 - val_mse: 1251474.6250\n",
            "Epoch 41/100\n",
            "18/18 [==============================] - 0s 5ms/step - loss: 110.6344 - mae: 110.6344 - mse: 73528.7891 - val_loss: 593.8997 - val_mae: 593.8997 - val_mse: 1253678.5000\n",
            "Epoch 42/100\n",
            "18/18 [==============================] - 0s 5ms/step - loss: 113.5762 - mae: 113.5762 - mse: 77076.7031 - val_loss: 636.3674 - val_mae: 636.3674 - val_mse: 1317283.5000\n",
            "Epoch 43/100\n",
            "18/18 [==============================] - 0s 4ms/step - loss: 116.2285 - mae: 116.2285 - mse: 74712.2031 - val_loss: 662.9263 - val_mae: 662.9263 - val_mse: 1419201.7500\n",
            "Epoch 44/100\n",
            "18/18 [==============================] - 0s 4ms/step - loss: 120.0192 - mae: 120.0192 - mse: 80971.8750 - val_loss: 635.6360 - val_mae: 635.6360 - val_mse: 1345999.3750\n",
            "Epoch 45/100\n",
            "18/18 [==============================] - 0s 5ms/step - loss: 110.9675 - mae: 110.9675 - mse: 74941.2891 - val_loss: 601.9926 - val_mae: 601.9926 - val_mse: 1244816.7500\n",
            "Epoch 46/100\n",
            "18/18 [==============================] - 0s 4ms/step - loss: 111.6012 - mae: 111.6012 - mse: 74565.6016 - val_loss: 593.3531 - val_mae: 593.3531 - val_mse: 1248764.3750\n",
            "Epoch 47/100\n",
            "18/18 [==============================] - 0s 4ms/step - loss: 109.6161 - mae: 109.6161 - mse: 74190.7109 - val_loss: 637.0011 - val_mae: 637.0011 - val_mse: 1314970.2500\n",
            "Epoch 48/100\n",
            "18/18 [==============================] - 0s 5ms/step - loss: 109.1368 - mae: 109.1368 - mse: 72792.5547 - val_loss: 598.4197 - val_mae: 598.4197 - val_mse: 1234610.1250\n",
            "Epoch 49/100\n",
            "18/18 [==============================] - 0s 26ms/step - loss: 112.4355 - mae: 112.4355 - mse: 73980.3359 - val_loss: 579.7042 - val_mae: 579.7042 - val_mse: 1208301.8750\n",
            "Epoch 50/100\n",
            "18/18 [==============================] - 0s 5ms/step - loss: 110.2108 - mae: 110.2108 - mse: 72939.7109 - val_loss: 639.2327 - val_mae: 639.2327 - val_mse: 1347994.1250\n",
            "Epoch 51/100\n",
            "18/18 [==============================] - 0s 4ms/step - loss: 111.0958 - mae: 111.0958 - mse: 73281.9062 - val_loss: 597.3571 - val_mae: 597.3571 - val_mse: 1229791.1250\n",
            "Epoch 52/100\n",
            "18/18 [==============================] - 0s 4ms/step - loss: 110.7351 - mae: 110.7351 - mse: 74529.6328 - val_loss: 580.7227 - val_mae: 580.7227 - val_mse: 1215477.1250\n",
            "Epoch 53/100\n",
            "18/18 [==============================] - 0s 4ms/step - loss: 111.1785 - mae: 111.1785 - mse: 74149.4766 - val_loss: 648.3586 - val_mae: 648.3586 - val_mse: 1336951.1250\n",
            "Epoch 54/100\n",
            "18/18 [==============================] - 0s 4ms/step - loss: 114.0831 - mae: 114.0831 - mse: 74815.0781 - val_loss: 593.2006 - val_mae: 593.2006 - val_mse: 1220661.2500\n",
            "Epoch 55/100\n",
            "18/18 [==============================] - 0s 27ms/step - loss: 110.4910 - mae: 110.4910 - mse: 74711.2500 - val_loss: 579.5067 - val_mae: 579.5067 - val_mse: 1211580.3750\n",
            "Epoch 56/100\n",
            "18/18 [==============================] - 0s 4ms/step - loss: 108.0488 - mae: 108.0488 - mse: 71844.1562 - val_loss: 807.3853 - val_mae: 807.3853 - val_mse: 1859293.0000\n",
            "Epoch 57/100\n",
            "18/18 [==============================] - 0s 4ms/step - loss: 125.0614 - mae: 125.0614 - mse: 84025.2812 - val_loss: 674.1658 - val_mae: 674.1658 - val_mse: 1437687.2500\n",
            "Epoch 58/100\n",
            "18/18 [==============================] - 0s 4ms/step - loss: 115.4340 - mae: 115.4340 - mse: 73710.7500 - val_loss: 582.2697 - val_mae: 582.2697 - val_mse: 1202679.6250\n",
            "Epoch 59/100\n",
            "18/18 [==============================] - 0s 4ms/step - loss: 110.0881 - mae: 110.0881 - mse: 72845.1172 - val_loss: 606.7640 - val_mae: 606.7640 - val_mse: 1267544.0000\n",
            "Epoch 60/100\n",
            "18/18 [==============================] - 0s 5ms/step - loss: 108.7156 - mae: 108.7156 - mse: 72675.7734 - val_loss: 602.3099 - val_mae: 602.3099 - val_mse: 1234689.8750\n",
            "Epoch 61/100\n",
            "18/18 [==============================] - 0s 28ms/step - loss: 108.1525 - mae: 108.1525 - mse: 72252.1250 - val_loss: 573.9990 - val_mae: 573.9990 - val_mse: 1189583.5000\n",
            "Epoch 62/100\n",
            "18/18 [==============================] - 0s 5ms/step - loss: 107.3726 - mae: 107.3726 - mse: 70822.7891 - val_loss: 581.7015 - val_mae: 581.7015 - val_mse: 1214006.6250\n",
            "Epoch 63/100\n",
            "18/18 [==============================] - 0s 4ms/step - loss: 110.7667 - mae: 110.7667 - mse: 73178.4453 - val_loss: 637.5243 - val_mae: 637.5243 - val_mse: 1311201.6250\n",
            "Epoch 64/100\n",
            "18/18 [==============================] - 0s 4ms/step - loss: 110.1539 - mae: 110.1539 - mse: 72588.2188 - val_loss: 586.6598 - val_mae: 586.6598 - val_mse: 1207116.3750\n",
            "Epoch 65/100\n",
            "18/18 [==============================] - 0s 28ms/step - loss: 108.2325 - mae: 108.2325 - mse: 71962.0781 - val_loss: 573.5618 - val_mae: 573.5618 - val_mse: 1188986.2500\n",
            "Epoch 66/100\n",
            "18/18 [==============================] - 1s 39ms/step - loss: 108.6826 - mae: 108.6826 - mse: 71026.3516 - val_loss: 572.2206 - val_mae: 572.2206 - val_mse: 1187818.3750\n",
            "Epoch 67/100\n",
            "18/18 [==============================] - 0s 5ms/step - loss: 106.6371 - mae: 106.6371 - mse: 70166.2578 - val_loss: 646.6359 - val_mae: 646.6359 - val_mse: 1356393.0000\n",
            "Epoch 68/100\n",
            "18/18 [==============================] - 0s 4ms/step - loss: 114.1603 - mae: 114.1603 - mse: 71297.3203 - val_loss: 681.8572 - val_mae: 681.8572 - val_mse: 1455430.5000\n",
            "Epoch 69/100\n",
            "18/18 [==============================] - 0s 5ms/step - loss: 124.5514 - mae: 124.5514 - mse: 81238.9609 - val_loss: 655.9892 - val_mae: 655.9892 - val_mse: 1383324.7500\n",
            "Epoch 70/100\n",
            "18/18 [==============================] - 0s 5ms/step - loss: 125.0234 - mae: 125.0234 - mse: 83058.2109 - val_loss: 601.0039 - val_mae: 601.0039 - val_mse: 1256963.6250\n",
            "Epoch 71/100\n",
            "18/18 [==============================] - 0s 4ms/step - loss: 110.3652 - mae: 110.3652 - mse: 71691.4922 - val_loss: 595.3957 - val_mae: 595.3957 - val_mse: 1222771.6250\n",
            "Epoch 72/100\n",
            "18/18 [==============================] - 0s 5ms/step - loss: 107.9285 - mae: 107.9285 - mse: 71745.5391 - val_loss: 573.7084 - val_mae: 573.7084 - val_mse: 1192818.5000\n",
            "Epoch 73/100\n",
            "18/18 [==============================] - 0s 6ms/step - loss: 109.5085 - mae: 109.5085 - mse: 71691.1484 - val_loss: 580.4183 - val_mae: 580.4183 - val_mse: 1211317.6250\n",
            "Epoch 74/100\n",
            "18/18 [==============================] - 0s 4ms/step - loss: 108.7380 - mae: 108.7380 - mse: 72051.1094 - val_loss: 576.1216 - val_mae: 576.1216 - val_mse: 1199670.6250\n",
            "Epoch 75/100\n",
            "18/18 [==============================] - 0s 4ms/step - loss: 107.9404 - mae: 107.9404 - mse: 71043.1328 - val_loss: 591.1470 - val_mae: 591.1470 - val_mse: 1211107.3750\n",
            "Epoch 76/100\n",
            "18/18 [==============================] - 0s 4ms/step - loss: 109.4232 - mae: 109.4232 - mse: 72295.0312 - val_loss: 597.8611 - val_mae: 597.8611 - val_mse: 1243936.2500\n",
            "Epoch 77/100\n",
            "18/18 [==============================] - 1s 35ms/step - loss: 107.5879 - mae: 107.5879 - mse: 70333.8359 - val_loss: 571.9301 - val_mae: 571.9301 - val_mse: 1186830.0000\n",
            "Epoch 78/100\n",
            "18/18 [==============================] - 0s 7ms/step - loss: 108.1598 - mae: 108.1598 - mse: 70200.0781 - val_loss: 575.2387 - val_mae: 575.2387 - val_mse: 1195318.0000\n",
            "Epoch 79/100\n",
            "18/18 [==============================] - 0s 7ms/step - loss: 107.9175 - mae: 107.9175 - mse: 72451.5859 - val_loss: 617.3083 - val_mae: 617.3083 - val_mse: 1285512.5000\n",
            "Epoch 80/100\n",
            "18/18 [==============================] - 0s 7ms/step - loss: 108.9510 - mae: 108.9510 - mse: 72158.7812 - val_loss: 583.4841 - val_mae: 583.4841 - val_mse: 1194356.7500\n",
            "Epoch 81/100\n",
            "18/18 [==============================] - 1s 39ms/step - loss: 106.0505 - mae: 106.0505 - mse: 69690.9219 - val_loss: 570.0803 - val_mae: 570.0803 - val_mse: 1177237.8750\n",
            "Epoch 82/100\n",
            "18/18 [==============================] - 0s 7ms/step - loss: 115.6827 - mae: 115.6827 - mse: 76903.4922 - val_loss: 575.7388 - val_mae: 575.7388 - val_mse: 1194662.6250\n",
            "Epoch 83/100\n",
            "18/18 [==============================] - 0s 7ms/step - loss: 110.9379 - mae: 110.9379 - mse: 72968.2969 - val_loss: 659.6579 - val_mae: 659.6579 - val_mse: 1388829.8750\n",
            "Epoch 84/100\n",
            "18/18 [==============================] - 0s 6ms/step - loss: 111.4836 - mae: 111.4836 - mse: 73017.9375 - val_loss: 570.1957 - val_mae: 570.1957 - val_mse: 1177492.2500\n",
            "Epoch 85/100\n",
            "18/18 [==============================] - 0s 6ms/step - loss: 107.5949 - mae: 107.5949 - mse: 70728.2266 - val_loss: 601.5938 - val_mae: 601.5938 - val_mse: 1228450.6250\n",
            "Epoch 86/100\n",
            "18/18 [==============================] - 0s 5ms/step - loss: 108.9425 - mae: 108.9425 - mse: 70066.7500 - val_loss: 592.8101 - val_mae: 592.8101 - val_mse: 1209680.7500\n",
            "Epoch 87/100\n",
            "18/18 [==============================] - 0s 5ms/step - loss: 105.7717 - mae: 105.7717 - mse: 68382.3516 - val_loss: 603.6174 - val_mae: 603.6174 - val_mse: 1252409.5000\n",
            "Epoch 88/100\n",
            "18/18 [==============================] - 0s 27ms/step - loss: 107.9217 - mae: 107.9217 - mse: 71668.0469 - val_loss: 569.0499 - val_mae: 569.0499 - val_mse: 1174588.3750\n",
            "Epoch 89/100\n",
            "18/18 [==============================] - 0s 27ms/step - loss: 106.0344 - mae: 106.0344 - mse: 68979.1484 - val_loss: 568.9510 - val_mae: 568.9510 - val_mse: 1171743.5000\n",
            "Epoch 90/100\n",
            "18/18 [==============================] - 0s 5ms/step - loss: 105.4977 - mae: 105.4977 - mse: 67516.5000 - val_loss: 581.7678 - val_mae: 581.7678 - val_mse: 1190160.6250\n",
            "Epoch 91/100\n",
            "18/18 [==============================] - 0s 6ms/step - loss: 108.8468 - mae: 108.8468 - mse: 71112.3438 - val_loss: 573.6025 - val_mae: 573.6025 - val_mse: 1185216.2500\n",
            "Epoch 92/100\n",
            "18/18 [==============================] - 0s 5ms/step - loss: 110.8884 - mae: 110.8884 - mse: 73287.8125 - val_loss: 576.8243 - val_mae: 576.8243 - val_mse: 1181628.3750\n",
            "Epoch 93/100\n",
            "18/18 [==============================] - 0s 4ms/step - loss: 113.8781 - mae: 113.8781 - mse: 75236.4375 - val_loss: 608.3022 - val_mae: 608.3022 - val_mse: 1264206.1250\n",
            "Epoch 94/100\n",
            "18/18 [==============================] - 0s 4ms/step - loss: 110.5763 - mae: 110.5763 - mse: 72590.8672 - val_loss: 601.6041 - val_mae: 601.6041 - val_mse: 1229105.0000\n",
            "Epoch 95/100\n",
            "18/18 [==============================] - 0s 5ms/step - loss: 106.5906 - mae: 106.5906 - mse: 68612.3281 - val_loss: 570.3651 - val_mae: 570.3651 - val_mse: 1175759.3750\n",
            "Epoch 96/100\n",
            "18/18 [==============================] - 0s 4ms/step - loss: 116.9515 - mae: 116.9515 - mse: 75082.1172 - val_loss: 615.2584 - val_mae: 615.2584 - val_mse: 1277124.5000\n",
            "Epoch 97/100\n",
            "18/18 [==============================] - 0s 4ms/step - loss: 108.0739 - mae: 108.0739 - mse: 71321.4219 - val_loss: 580.3076 - val_mae: 580.3076 - val_mse: 1202622.2500\n",
            "Epoch 98/100\n",
            "18/18 [==============================] - 0s 5ms/step - loss: 108.7102 - mae: 108.7102 - mse: 70248.0703 - val_loss: 586.6510 - val_mae: 586.6510 - val_mse: 1200831.5000\n",
            "Epoch 99/100\n",
            "18/18 [==============================] - 0s 5ms/step - loss: 109.0488 - mae: 109.0488 - mse: 70913.1641 - val_loss: 570.0628 - val_mae: 570.0628 - val_mse: 1177064.5000\n",
            "Epoch 100/100\n",
            "18/18 [==============================] - 0s 4ms/step - loss: 106.1845 - mae: 106.1845 - mse: 68681.7266 - val_loss: 585.9758 - val_mae: 585.9758 - val_mse: 1197802.1250\n"
          ]
        }
      ]
    },
    {
      "cell_type": "code",
      "source": [
        "# Make forecast with model\n",
        "def make_preds(model, input_data):\n",
        "  forecast = model.predict(input_data)\n",
        "  return tf.squeeze(forecast)"
      ],
      "metadata": {
        "id": "LpsG4nXT5KtN"
      },
      "execution_count": null,
      "outputs": []
    },
    {
      "cell_type": "code",
      "source": [
        "model1 = tf.keras.models.load_model('model_experiments/model_1_dense')\n",
        "model1_preds = make_preds(model1, test_windows)\n",
        "model1_results = evaluate_preds(tf.squeeze(test_labels), model1_preds)\n",
        "model1_results"
      ],
      "metadata": {
        "colab": {
          "base_uri": "https://localhost:8080/"
        },
        "id": "-3CcaXyx5YEq",
        "outputId": "eaa2336e-67f5-4ec4-9a58-7ce7ccc60b72"
      },
      "execution_count": null,
      "outputs": [
        {
          "output_type": "execute_result",
          "data": {
            "text/plain": [
              "{'mae': 568.95105,\n",
              " 'mse': 1171743.8,\n",
              " 'rsme': 1082.4711,\n",
              " 'mape': 2.5448983,\n",
              " 'mase': 0.9994894}"
            ]
          },
          "metadata": {},
          "execution_count": 87
        }
      ]
    },
    {
      "cell_type": "code",
      "source": [
        "offset = 300\n",
        "plt.figure(figsize=(10,7))\n",
        "plot_time_series(x_test[-len(test_windows):], test_labels[:, 0], start=offset, label='test')\n",
        "plot_time_series(x_test[-len(test_windows):], model1_preds, format='-', start=offset, label='model1_preds')"
      ],
      "metadata": {
        "colab": {
          "base_uri": "https://localhost:8080/",
          "height": 428
        },
        "id": "ccimbkKd6nM7",
        "outputId": "06750785-40f9-4358-9eef-a8d23e7e638b"
      },
      "execution_count": null,
      "outputs": [
        {
          "output_type": "display_data",
          "data": {
            "text/plain": [
              "<Figure size 720x504 with 1 Axes>"
            ],
            "image/png": "[encoded data removed]"
          },
          "metadata": {
            "needs_background": "light"
          }
        }
      ]
    },
    {
      "cell_type": "code",
      "source": [
        "test_labels[:10], model1_preds[:10]"
      ],
      "metadata": {
        "colab": {
          "base_uri": "https://localhost:8080/"
        },
        "id": "No-2J7H36s2k",
        "outputId": "fd1a83a3-981a-4932-8828-320eee8d7f82"
      },
      "execution_count": null,
      "outputs": [
        {
          "output_type": "execute_result",
          "data": {
            "text/plain": [
              "(array([[8798.04205463],\n",
              "        [9081.18687849],\n",
              "        [8711.53433917],\n",
              "        [8760.89271814],\n",
              "        [8749.52059102],\n",
              "        [8656.97092235],\n",
              "        [8500.64355816],\n",
              "        [8469.2608989 ],\n",
              "        [8537.33965197],\n",
              "        [8205.80636599]]), <tf.Tensor: shape=(10,), dtype=float32, numpy=\n",
              " array([8861.71 , 8769.887, 9015.711, 8795.519, 8723.811, 8730.111,\n",
              "        8691.952, 8502.054, 8460.961, 8516.548], dtype=float32)>)"
            ]
          },
          "metadata": {},
          "execution_count": 92
        }
      ]
    },
    {
      "cell_type": "code",
      "source": [
        "# 30 day window \n",
        "horizon = 1\n",
        "window_size=30\n",
        "full_windows, full_labels = make_windows(btc_price, window_size, horizon)\n",
        "full_windows[:5], full_labels[:5]"
      ],
      "metadata": {
        "colab": {
          "base_uri": "https://localhost:8080/"
        },
        "id": "H_sWRdX26upW",
        "outputId": "b30f269e-f863-4d20-9469-3feec2f27d3c"
      },
      "execution_count": null,
      "outputs": [
        {
          "output_type": "execute_result",
          "data": {
            "text/plain": [
              "(array([[123.65499, 125.455  , 108.58483, 118.67466, 121.33866, 120.65533,\n",
              "         121.795  , 123.033  , 124.049  , 125.96116, 125.27966, 125.9275 ,\n",
              "         126.38333, 135.24199, 133.20333, 142.76333, 137.92333, 142.95166,\n",
              "         152.55183, 160.33883, 164.31499, 177.63333, 188.29716, 200.70166,\n",
              "         180.355  , 175.03166, 177.6965 , 187.15983, 192.75666, 197.4    ],\n",
              "        [125.455  , 108.58483, 118.67466, 121.33866, 120.65533, 121.795  ,\n",
              "         123.033  , 124.049  , 125.96116, 125.27966, 125.9275 , 126.38333,\n",
              "         135.24199, 133.20333, 142.76333, 137.92333, 142.95166, 152.55183,\n",
              "         160.33883, 164.31499, 177.63333, 188.29716, 200.70166, 180.355  ,\n",
              "         175.03166, 177.6965 , 187.15983, 192.75666, 197.4    , 196.02499],\n",
              "        [108.58483, 118.67466, 121.33866, 120.65533, 121.795  , 123.033  ,\n",
              "         124.049  , 125.96116, 125.27966, 125.9275 , 126.38333, 135.24199,\n",
              "         133.20333, 142.76333, 137.92333, 142.95166, 152.55183, 160.33883,\n",
              "         164.31499, 177.63333, 188.29716, 200.70166, 180.355  , 175.03166,\n",
              "         177.6965 , 187.15983, 192.75666, 197.4    , 196.02499, 198.04883],\n",
              "        [118.67466, 121.33866, 120.65533, 121.795  , 123.033  , 124.049  ,\n",
              "         125.96116, 125.27966, 125.9275 , 126.38333, 135.24199, 133.20333,\n",
              "         142.76333, 137.92333, 142.95166, 152.55183, 160.33883, 164.31499,\n",
              "         177.63333, 188.29716, 200.70166, 180.355  , 175.03166, 177.6965 ,\n",
              "         187.15983, 192.75666, 197.4    , 196.02499, 198.04883, 198.93233],\n",
              "        [121.33866, 120.65533, 121.795  , 123.033  , 124.049  , 125.96116,\n",
              "         125.27966, 125.9275 , 126.38333, 135.24199, 133.20333, 142.76333,\n",
              "         137.92333, 142.95166, 152.55183, 160.33883, 164.31499, 177.63333,\n",
              "         188.29716, 200.70166, 180.355  , 175.03166, 177.6965 , 187.15983,\n",
              "         192.75666, 197.4    , 196.02499, 198.04883, 198.93233, 200.543  ]]),\n",
              " array([[196.02499],\n",
              "        [198.04883],\n",
              "        [198.93233],\n",
              "        [200.543  ],\n",
              "        [210.3075 ]]))"
            ]
          },
          "metadata": {},
          "execution_count": 95
        }
      ]
    },
    {
      "cell_type": "code",
      "source": [
        "train_windows, test_windows, train_labels, test_labels = make_train_test_split(full_windows, full_labels)"
      ],
      "metadata": {
        "id": "ioC01Ac79OGr"
      },
      "execution_count": null,
      "outputs": []
    },
    {
      "cell_type": "code",
      "source": [
        "tf.random.set_seed(42)\n",
        "\n",
        "model2 = tf.keras.Sequential([\n",
        "    layers.Dense(128, activation='relu'),\n",
        "    layers.Dense(horizon)\n",
        "], name='model_2_dense')\n",
        "\n",
        "model2.compile(loss='mae',\n",
        "               optimizer='Adam',\n",
        "               metrics=['mae', 'mse'])\n",
        "\n",
        "history2 = model2.fit(train_windows,\n",
        "                      train_labels,\n",
        "                      epochs=100,\n",
        "                      batch_size=128,\n",
        "                      validation_data=(test_windows, test_labels),\n",
        "                      callbacks=[create_model_checkpoint(model2.name)])"
      ],
      "metadata": {
        "colab": {
          "base_uri": "https://localhost:8080/"
        },
        "id": "yDY3fb_z9des",
        "outputId": "e3c9bfdd-2607-46b8-cffc-0a8ed5b7a880"
      },
      "execution_count": null,
      "outputs": [
        {
          "output_type": "stream",
          "name": "stdout",
          "text": [
            "Epoch 1/100\n",
            "18/18 [==============================] - 2s 59ms/step - loss: 1097.0399 - mae: 1097.0399 - mse: 4741506.0000 - val_loss: 3900.2537 - val_mae: 3900.2537 - val_mse: 32752730.0000\n",
            "Epoch 2/100\n",
            "18/18 [==============================] - 1s 43ms/step - loss: 428.0732 - mae: 428.0732 - mse: 811548.2500 - val_loss: 1587.0745 - val_mae: 1587.0745 - val_mse: 6817661.5000\n",
            "Epoch 3/100\n",
            "18/18 [==============================] - 1s 43ms/step - loss: 279.7655 - mae: 279.7655 - mse: 363083.0625 - val_loss: 1220.6888 - val_mae: 1220.6888 - val_mse: 4447002.0000\n",
            "Epoch 4/100\n",
            "18/18 [==============================] - 1s 44ms/step - loss: 224.3637 - mae: 224.3637 - mse: 225072.2188 - val_loss: 1160.1572 - val_mae: 1160.1572 - val_mse: 3837504.2500\n",
            "Epoch 5/100\n",
            "18/18 [==============================] - 1s 44ms/step - loss: 187.9681 - mae: 187.9681 - mse: 173777.0312 - val_loss: 1007.6487 - val_mae: 1007.6487 - val_mse: 3224229.0000\n",
            "Epoch 6/100\n",
            "18/18 [==============================] - 0s 7ms/step - loss: 182.9174 - mae: 182.9174 - mse: 162950.3750 - val_loss: 1019.5818 - val_mae: 1019.5818 - val_mse: 3408885.2500\n",
            "Epoch 7/100\n",
            "18/18 [==============================] - 0s 7ms/step - loss: 187.7612 - mae: 187.7612 - mse: 159475.8750 - val_loss: 1145.1758 - val_mae: 1145.1758 - val_mse: 4078532.2500\n",
            "Epoch 8/100\n",
            "18/18 [==============================] - 1s 39ms/step - loss: 192.2202 - mae: 192.2202 - mse: 172722.5469 - val_loss: 967.8077 - val_mae: 967.8077 - val_mse: 2845453.7500\n",
            "Epoch 9/100\n",
            "18/18 [==============================] - 0s 25ms/step - loss: 167.4042 - mae: 167.4042 - mse: 141257.4688 - val_loss: 896.5217 - val_mae: 896.5217 - val_mse: 2643020.0000\n",
            "Epoch 10/100\n",
            "18/18 [==============================] - 1s 40ms/step - loss: 161.6689 - mae: 161.6689 - mse: 132314.9688 - val_loss: 881.9178 - val_mae: 881.9178 - val_mse: 2558588.0000\n",
            "Epoch 11/100\n",
            "18/18 [==============================] - 0s 26ms/step - loss: 162.2630 - mae: 162.2630 - mse: 127474.1406 - val_loss: 862.7010 - val_mae: 862.7010 - val_mse: 2432215.0000\n",
            "Epoch 12/100\n",
            "18/18 [==============================] - 0s 26ms/step - loss: 157.6156 - mae: 157.6156 - mse: 126629.2812 - val_loss: 855.2238 - val_mae: 855.2238 - val_mse: 2351040.0000\n",
            "Epoch 13/100\n",
            "18/18 [==============================] - 0s 25ms/step - loss: 164.3571 - mae: 164.3571 - mse: 130452.2422 - val_loss: 845.0386 - val_mae: 845.0386 - val_mse: 2380580.0000\n",
            "Epoch 14/100\n",
            "18/18 [==============================] - 0s 27ms/step - loss: 152.4233 - mae: 152.4233 - mse: 119918.8594 - val_loss: 835.7405 - val_mae: 835.7405 - val_mse: 2279386.5000\n",
            "Epoch 15/100\n",
            "18/18 [==============================] - 0s 4ms/step - loss: 165.0978 - mae: 165.0978 - mse: 126962.9844 - val_loss: 920.6229 - val_mae: 920.6229 - val_mse: 2756908.7500\n",
            "Epoch 16/100\n",
            "18/18 [==============================] - 0s 27ms/step - loss: 166.0639 - mae: 166.0639 - mse: 126534.0625 - val_loss: 814.6472 - val_mae: 814.6472 - val_mse: 2187638.0000\n",
            "Epoch 17/100\n",
            "18/18 [==============================] - 0s 4ms/step - loss: 165.1733 - mae: 165.1733 - mse: 130918.6875 - val_loss: 939.7372 - val_mae: 939.7372 - val_mse: 2560630.7500\n",
            "Epoch 18/100\n",
            "18/18 [==============================] - 0s 5ms/step - loss: 158.3085 - mae: 158.3085 - mse: 122879.3594 - val_loss: 929.8369 - val_mae: 929.8369 - val_mse: 2522551.7500\n",
            "Epoch 19/100\n",
            "18/18 [==============================] - 0s 4ms/step - loss: 151.6603 - mae: 151.6603 - mse: 113185.5625 - val_loss: 1071.7583 - val_mae: 1071.7583 - val_mse: 3444894.7500\n",
            "Epoch 20/100\n",
            "18/18 [==============================] - 0s 5ms/step - loss: 155.9877 - mae: 155.9877 - mse: 123244.1797 - val_loss: 906.9962 - val_mae: 906.9962 - val_mse: 2416914.0000\n",
            "Epoch 21/100\n",
            "18/18 [==============================] - 0s 5ms/step - loss: 150.9352 - mae: 150.9352 - mse: 115268.9297 - val_loss: 1259.6165 - val_mae: 1259.6165 - val_mse: 3904281.0000\n",
            "Epoch 22/100\n",
            "18/18 [==============================] - 0s 5ms/step - loss: 186.2315 - mae: 186.2315 - mse: 149336.4688 - val_loss: 821.1555 - val_mae: 821.1555 - val_mse: 2226543.7500\n",
            "Epoch 23/100\n",
            "18/18 [==============================] - 0s 4ms/step - loss: 149.3854 - mae: 149.3854 - mse: 109965.0781 - val_loss: 1061.1250 - val_mae: 1061.1250 - val_mse: 2973403.5000\n",
            "Epoch 24/100\n",
            "18/18 [==============================] - 0s 27ms/step - loss: 161.7742 - mae: 161.7742 - mse: 121110.6250 - val_loss: 794.9154 - val_mae: 794.9154 - val_mse: 2019348.3750\n",
            "Epoch 25/100\n",
            "18/18 [==============================] - 0s 6ms/step - loss: 147.8488 - mae: 147.8488 - mse: 110879.7656 - val_loss: 1092.2104 - val_mae: 1092.2104 - val_mse: 3088394.7500\n",
            "Epoch 26/100\n",
            "18/18 [==============================] - 0s 4ms/step - loss: 150.0337 - mae: 150.0337 - mse: 111213.2812 - val_loss: 802.3950 - val_mae: 802.3950 - val_mse: 2125820.2500\n",
            "Epoch 27/100\n",
            "18/18 [==============================] - 0s 27ms/step - loss: 154.9933 - mae: 154.9933 - mse: 109837.4766 - val_loss: 748.0327 - val_mae: 748.0327 - val_mse: 1870825.3750\n",
            "Epoch 28/100\n",
            "18/18 [==============================] - 0s 5ms/step - loss: 141.5399 - mae: 141.5399 - mse: 101088.8594 - val_loss: 960.1356 - val_mae: 960.1356 - val_mse: 2812905.7500\n",
            "Epoch 29/100\n",
            "18/18 [==============================] - 0s 4ms/step - loss: 148.5069 - mae: 148.5069 - mse: 110140.6641 - val_loss: 758.3329 - val_mae: 758.3329 - val_mse: 1871426.0000\n",
            "Epoch 30/100\n",
            "18/18 [==============================] - 0s 5ms/step - loss: 148.1240 - mae: 148.1240 - mse: 108366.9297 - val_loss: 988.7416 - val_mae: 988.7416 - val_mse: 2639810.2500\n",
            "Epoch 31/100\n",
            "18/18 [==============================] - 0s 4ms/step - loss: 142.3972 - mae: 142.3972 - mse: 100558.5703 - val_loss: 847.3676 - val_mae: 847.3676 - val_mse: 2286142.5000\n",
            "Epoch 32/100\n",
            "18/18 [==============================] - 0s 26ms/step - loss: 148.1294 - mae: 148.1294 - mse: 106817.7812 - val_loss: 726.4918 - val_mae: 726.4918 - val_mse: 1772761.8750\n",
            "Epoch 33/100\n",
            "18/18 [==============================] - 0s 4ms/step - loss: 141.7309 - mae: 141.7309 - mse: 102930.2734 - val_loss: 767.2233 - val_mae: 767.2233 - val_mse: 1945827.2500\n",
            "Epoch 34/100\n",
            "18/18 [==============================] - 0s 26ms/step - loss: 135.4458 - mae: 135.4458 - mse: 92370.8281 - val_loss: 721.9368 - val_mae: 721.9368 - val_mse: 1763867.0000\n",
            "Epoch 35/100\n",
            "18/18 [==============================] - 0s 5ms/step - loss: 131.7838 - mae: 131.7838 - mse: 91448.7891 - val_loss: 759.3353 - val_mae: 759.3353 - val_mse: 1836807.0000\n",
            "Epoch 36/100\n",
            "18/18 [==============================] - 0s 4ms/step - loss: 131.5018 - mae: 131.5018 - mse: 92934.0938 - val_loss: 814.7689 - val_mae: 814.7689 - val_mse: 1997793.3750\n",
            "Epoch 37/100\n",
            "18/18 [==============================] - 0s 26ms/step - loss: 143.4647 - mae: 143.4647 - mse: 100143.1094 - val_loss: 708.7821 - val_mae: 708.7821 - val_mse: 1696078.6250\n",
            "Epoch 38/100\n",
            "18/18 [==============================] - 0s 5ms/step - loss: 134.5705 - mae: 134.5705 - mse: 92221.2344 - val_loss: 821.9357 - val_mae: 821.9357 - val_mse: 2149077.7500\n",
            "Epoch 39/100\n",
            "18/18 [==============================] - 0s 4ms/step - loss: 137.7672 - mae: 137.7672 - mse: 98614.1953 - val_loss: 969.4777 - val_mae: 969.4777 - val_mse: 2517117.5000\n",
            "Epoch 40/100\n",
            "18/18 [==============================] - 0s 4ms/step - loss: 142.7820 - mae: 142.7820 - mse: 91609.3047 - val_loss: 901.4053 - val_mae: 901.4053 - val_mse: 2259121.5000\n",
            "Epoch 41/100\n",
            "18/18 [==============================] - 0s 26ms/step - loss: 142.1888 - mae: 142.1888 - mse: 98998.3359 - val_loss: 689.8060 - val_mae: 689.8060 - val_mse: 1620425.2500\n",
            "Epoch 42/100\n",
            "18/18 [==============================] - 0s 4ms/step - loss: 130.9877 - mae: 130.9877 - mse: 88242.9141 - val_loss: 751.3142 - val_mae: 751.3142 - val_mse: 1782372.8750\n",
            "Epoch 43/100\n",
            "18/18 [==============================] - 0s 4ms/step - loss: 131.4450 - mae: 131.4450 - mse: 90820.2266 - val_loss: 746.7275 - val_mae: 746.7275 - val_mse: 1830367.7500\n",
            "Epoch 44/100\n",
            "18/18 [==============================] - 0s 4ms/step - loss: 137.5511 - mae: 137.5511 - mse: 96568.3281 - val_loss: 751.4652 - val_mae: 751.4652 - val_mse: 1842565.7500\n",
            "Epoch 45/100\n",
            "18/18 [==============================] - 0s 5ms/step - loss: 134.3822 - mae: 134.3822 - mse: 93087.4297 - val_loss: 694.2699 - val_mae: 694.2699 - val_mse: 1617442.1250\n",
            "Epoch 46/100\n",
            "18/18 [==============================] - 0s 27ms/step - loss: 127.4527 - mae: 127.4527 - mse: 87612.0781 - val_loss: 676.5610 - val_mae: 676.5610 - val_mse: 1555773.0000\n",
            "Epoch 47/100\n",
            "18/18 [==============================] - 0s 4ms/step - loss: 136.6635 - mae: 136.6635 - mse: 92716.2344 - val_loss: 1113.9982 - val_mae: 1113.9982 - val_mse: 3065015.7500\n",
            "Epoch 48/100\n",
            "18/18 [==============================] - 0s 25ms/step - loss: 164.2887 - mae: 164.2887 - mse: 117708.3984 - val_loss: 667.6456 - val_mae: 667.6456 - val_mse: 1524165.5000\n",
            "Epoch 49/100\n",
            "18/18 [==============================] - 0s 5ms/step - loss: 127.9774 - mae: 127.9774 - mse: 85549.1797 - val_loss: 718.8885 - val_mae: 718.8885 - val_mse: 1691650.7500\n",
            "Epoch 50/100\n",
            "18/18 [==============================] - 0s 4ms/step - loss: 141.8780 - mae: 141.8780 - mse: 93444.8984 - val_loss: 829.6292 - val_mae: 829.6292 - val_mse: 2098737.5000\n",
            "Epoch 51/100\n",
            "18/18 [==============================] - 0s 5ms/step - loss: 129.4569 - mae: 129.4569 - mse: 87931.0703 - val_loss: 987.5338 - val_mae: 987.5338 - val_mse: 2758906.0000\n",
            "Epoch 52/100\n",
            "18/18 [==============================] - 0s 5ms/step - loss: 141.4287 - mae: 141.4287 - mse: 98486.4609 - val_loss: 715.3037 - val_mae: 715.3037 - val_mse: 1633319.6250\n",
            "Epoch 53/100\n",
            "18/18 [==============================] - 0s 6ms/step - loss: 146.1227 - mae: 146.1227 - mse: 98856.7734 - val_loss: 1116.8126 - val_mae: 1116.8126 - val_mse: 3300862.5000\n",
            "Epoch 54/100\n",
            "18/18 [==============================] - 0s 25ms/step - loss: 162.9252 - mae: 162.9252 - mse: 116505.1250 - val_loss: 658.4476 - val_mae: 658.4476 - val_mse: 1469404.1250\n",
            "Epoch 55/100\n",
            "18/18 [==============================] - 0s 4ms/step - loss: 134.5520 - mae: 134.5520 - mse: 88455.0234 - val_loss: 906.1519 - val_mae: 906.1519 - val_mse: 2212985.0000\n",
            "Epoch 56/100\n",
            "18/18 [==============================] - 0s 4ms/step - loss: 132.1189 - mae: 132.1189 - mse: 88770.3125 - val_loss: 658.8979 - val_mae: 658.8979 - val_mse: 1476355.6250\n",
            "Epoch 57/100\n",
            "18/18 [==============================] - 0s 27ms/step - loss: 128.6264 - mae: 128.6264 - mse: 84349.8281 - val_loss: 648.7651 - val_mae: 648.7651 - val_mse: 1439428.0000\n",
            "Epoch 58/100\n",
            "18/18 [==============================] - 0s 4ms/step - loss: 133.0039 - mae: 133.0039 - mse: 89231.0938 - val_loss: 760.6868 - val_mae: 760.6868 - val_mse: 1814641.8750\n",
            "Epoch 59/100\n",
            "18/18 [==============================] - 0s 4ms/step - loss: 167.5204 - mae: 167.5204 - mse: 119260.3438 - val_loss: 699.1824 - val_mae: 699.1824 - val_mse: 1592398.1250\n",
            "Epoch 60/100\n",
            "18/18 [==============================] - 0s 4ms/step - loss: 121.4026 - mae: 121.4026 - mse: 78786.4297 - val_loss: 784.7621 - val_mae: 784.7621 - val_mse: 1797242.2500\n",
            "Epoch 61/100\n",
            "18/18 [==============================] - 0s 5ms/step - loss: 131.8212 - mae: 131.8212 - mse: 87380.6250 - val_loss: 761.1855 - val_mae: 761.1855 - val_mse: 1800775.5000\n",
            "Epoch 62/100\n",
            "18/18 [==============================] - 0s 4ms/step - loss: 133.7610 - mae: 133.7610 - mse: 90872.0625 - val_loss: 830.7225 - val_mae: 830.7225 - val_mse: 2052535.6250\n",
            "Epoch 63/100\n",
            "18/18 [==============================] - 0s 4ms/step - loss: 128.0924 - mae: 128.0924 - mse: 86278.4688 - val_loss: 662.2833 - val_mae: 662.2833 - val_mse: 1462994.7500\n",
            "Epoch 64/100\n",
            "18/18 [==============================] - 0s 5ms/step - loss: 125.7873 - mae: 125.7873 - mse: 83929.3047 - val_loss: 725.7394 - val_mae: 725.7394 - val_mse: 1622991.8750\n",
            "Epoch 65/100\n",
            "18/18 [==============================] - 0s 26ms/step - loss: 129.3582 - mae: 129.3582 - mse: 84437.2812 - val_loss: 638.4762 - val_mae: 638.4762 - val_mse: 1393845.1250\n",
            "Epoch 66/100\n",
            "18/18 [==============================] - 0s 4ms/step - loss: 121.8753 - mae: 121.8753 - mse: 81456.2109 - val_loss: 735.8253 - val_mae: 735.8253 - val_mse: 1694805.5000\n",
            "Epoch 67/100\n",
            "18/18 [==============================] - 0s 4ms/step - loss: 124.5709 - mae: 124.5709 - mse: 82757.4375 - val_loss: 702.7538 - val_mae: 702.7538 - val_mse: 1596079.2500\n",
            "Epoch 68/100\n",
            "18/18 [==============================] - 0s 5ms/step - loss: 134.1436 - mae: 134.1436 - mse: 89529.9453 - val_loss: 640.6722 - val_mae: 640.6722 - val_mse: 1398268.8750\n",
            "Epoch 69/100\n",
            "18/18 [==============================] - 0s 4ms/step - loss: 123.1770 - mae: 123.1770 - mse: 80330.8672 - val_loss: 1110.4432 - val_mae: 1110.4432 - val_mse: 2994969.0000\n",
            "Epoch 70/100\n",
            "18/18 [==============================] - 0s 4ms/step - loss: 135.9602 - mae: 135.9602 - mse: 92325.2969 - val_loss: 778.5548 - val_mae: 778.5548 - val_mse: 1764892.6250\n",
            "Epoch 71/100\n",
            "18/18 [==============================] - 1s 41ms/step - loss: 128.7049 - mae: 128.7049 - mse: 86091.0781 - val_loss: 636.7365 - val_mae: 636.7365 - val_mse: 1380941.6250\n",
            "Epoch 72/100\n",
            "18/18 [==============================] - 0s 26ms/step - loss: 120.7498 - mae: 120.7498 - mse: 80539.0547 - val_loss: 636.1567 - val_mae: 636.1567 - val_mse: 1384186.6250\n",
            "Epoch 73/100\n",
            "18/18 [==============================] - 0s 4ms/step - loss: 119.8846 - mae: 119.8846 - mse: 78536.1172 - val_loss: 722.2628 - val_mae: 722.2628 - val_mse: 1590577.5000\n",
            "Epoch 74/100\n",
            "18/18 [==============================] - 0s 27ms/step - loss: 128.0455 - mae: 128.0455 - mse: 83733.4062 - val_loss: 622.5280 - val_mae: 622.5280 - val_mse: 1334697.0000\n",
            "Epoch 75/100\n",
            "18/18 [==============================] - 0s 27ms/step - loss: 122.0446 - mae: 122.0446 - mse: 79881.0156 - val_loss: 619.5175 - val_mae: 619.5175 - val_mse: 1324510.2500\n",
            "Epoch 76/100\n",
            "18/18 [==============================] - 0s 4ms/step - loss: 122.6730 - mae: 122.6730 - mse: 80796.2812 - val_loss: 856.6989 - val_mae: 856.6988 - val_mse: 2004174.6250\n",
            "Epoch 77/100\n",
            "18/18 [==============================] - 0s 4ms/step - loss: 126.3470 - mae: 126.3470 - mse: 80182.0469 - val_loss: 641.5902 - val_mae: 641.5902 - val_mse: 1378807.6250\n",
            "Epoch 78/100\n",
            "18/18 [==============================] - 0s 5ms/step - loss: 118.5847 - mae: 118.5847 - mse: 78303.8281 - val_loss: 690.7908 - val_mae: 690.7908 - val_mse: 1531805.1250\n",
            "Epoch 79/100\n",
            "18/18 [==============================] - 0s 5ms/step - loss: 131.4505 - mae: 131.4505 - mse: 85134.6875 - val_loss: 621.2333 - val_mae: 621.2333 - val_mse: 1327195.3750\n",
            "Epoch 80/100\n",
            "18/18 [==============================] - 0s 4ms/step - loss: 125.0166 - mae: 125.0166 - mse: 82027.0312 - val_loss: 790.1846 - val_mae: 790.1846 - val_mse: 1786557.8750\n",
            "Epoch 81/100\n",
            "18/18 [==============================] - 0s 5ms/step - loss: 120.7429 - mae: 120.7429 - mse: 79155.5859 - val_loss: 657.8801 - val_mae: 657.8801 - val_mse: 1414974.1250\n",
            "Epoch 82/100\n",
            "18/18 [==============================] - 0s 4ms/step - loss: 119.6583 - mae: 119.6583 - mse: 77666.8828 - val_loss: 799.6915 - val_mae: 799.6915 - val_mse: 1808157.5000\n",
            "Epoch 83/100\n",
            "18/18 [==============================] - 0s 4ms/step - loss: 131.6879 - mae: 131.6879 - mse: 84360.2109 - val_loss: 651.2426 - val_mae: 651.2426 - val_mse: 1393561.6250\n",
            "Epoch 84/100\n",
            "18/18 [==============================] - 0s 4ms/step - loss: 125.4594 - mae: 125.4594 - mse: 79191.6953 - val_loss: 695.7399 - val_mae: 695.7399 - val_mse: 1503768.7500\n",
            "Epoch 85/100\n",
            "18/18 [==============================] - 0s 4ms/step - loss: 123.6267 - mae: 123.6267 - mse: 81975.1562 - val_loss: 825.9113 - val_mae: 825.9113 - val_mse: 1895494.1250\n",
            "Epoch 86/100\n",
            "18/18 [==============================] - 0s 4ms/step - loss: 139.2674 - mae: 139.2674 - mse: 89564.3984 - val_loss: 711.2962 - val_mae: 711.2962 - val_mse: 1579855.1250\n",
            "Epoch 87/100\n",
            "18/18 [==============================] - 0s 28ms/step - loss: 139.8416 - mae: 139.8416 - mse: 90350.6797 - val_loss: 616.3276 - val_mae: 616.3276 - val_mse: 1309630.0000\n",
            "Epoch 88/100\n",
            "18/18 [==============================] - 0s 4ms/step - loss: 134.8590 - mae: 134.8590 - mse: 85241.6250 - val_loss: 1100.9899 - val_mae: 1100.9899 - val_mse: 2912869.5000\n",
            "Epoch 89/100\n",
            "18/18 [==============================] - 0s 4ms/step - loss: 152.7612 - mae: 152.7612 - mse: 104070.4531 - val_loss: 815.0580 - val_mae: 815.0580 - val_mse: 1857857.1250\n",
            "Epoch 90/100\n",
            "18/18 [==============================] - 0s 4ms/step - loss: 160.4490 - mae: 160.4490 - mse: 107181.4141 - val_loss: 1111.4733 - val_mae: 1111.4733 - val_mse: 2971819.5000\n",
            "Epoch 91/100\n",
            "18/18 [==============================] - 0s 4ms/step - loss: 134.0435 - mae: 134.0435 - mse: 86288.1016 - val_loss: 810.8096 - val_mae: 810.8096 - val_mse: 1923505.3750\n",
            "Epoch 92/100\n",
            "18/18 [==============================] - 0s 4ms/step - loss: 127.9937 - mae: 127.9937 - mse: 85649.0469 - val_loss: 781.3551 - val_mae: 781.3551 - val_mse: 1748799.5000\n",
            "Epoch 93/100\n",
            "18/18 [==============================] - 0s 5ms/step - loss: 137.5326 - mae: 137.5326 - mse: 87676.9922 - val_loss: 776.2223 - val_mae: 776.2223 - val_mse: 1733238.1250\n",
            "Epoch 94/100\n",
            "18/18 [==============================] - 0s 4ms/step - loss: 135.8670 - mae: 135.8670 - mse: 86816.2578 - val_loss: 731.3998 - val_mae: 731.3998 - val_mse: 1596562.7500\n",
            "Epoch 95/100\n",
            "18/18 [==============================] - 0s 5ms/step - loss: 148.7159 - mae: 148.7159 - mse: 100474.5938 - val_loss: 635.4964 - val_mae: 635.4964 - val_mse: 1343190.5000\n",
            "Epoch 96/100\n",
            "18/18 [==============================] - 0s 26ms/step - loss: 133.0909 - mae: 133.0909 - mse: 91028.2344 - val_loss: 605.8741 - val_mae: 605.8741 - val_mse: 1273361.1250\n",
            "Epoch 97/100\n",
            "18/18 [==============================] - 0s 4ms/step - loss: 117.5806 - mae: 117.5806 - mse: 75189.4219 - val_loss: 706.8725 - val_mae: 706.8725 - val_mse: 1551657.5000\n",
            "Epoch 98/100\n",
            "18/18 [==============================] - 0s 4ms/step - loss: 120.7865 - mae: 120.7865 - mse: 76582.7031 - val_loss: 718.7263 - val_mae: 718.7263 - val_mse: 1555904.8750\n",
            "Epoch 99/100\n",
            "18/18 [==============================] - 0s 5ms/step - loss: 125.8117 - mae: 125.8117 - mse: 78376.3047 - val_loss: 988.9795 - val_mae: 988.9795 - val_mse: 2610509.5000\n",
            "Epoch 100/100\n",
            "18/18 [==============================] - 0s 4ms/step - loss: 124.1724 - mae: 124.1724 - mse: 83770.4688 - val_loss: 659.3332 - val_mae: 659.3332 - val_mse: 1397247.5000\n"
          ]
        }
      ]
    },
    {
      "cell_type": "code",
      "source": [
        "model2 = tf.keras.models.load_model('model_experiments/model_2_dense')\n",
        "model2_preds = make_preds(model2, test_windows)\n",
        "model2_results = evaluate_preds(tf.squeeze(test_labels), model2_preds)\n",
        "model2_results"
      ],
      "metadata": {
        "colab": {
          "base_uri": "https://localhost:8080/"
        },
        "id": "0w1NvVUb9w8u",
        "outputId": "92a0ef1d-e990-4fcd-9f81-2e911b21774b"
      },
      "execution_count": null,
      "outputs": [
        {
          "output_type": "execute_result",
          "data": {
            "text/plain": [
              "{'mae': 605.8741,\n",
              " 'mse': 1273360.8,\n",
              " 'rsme': 1128.4329,\n",
              " 'mape': 2.726445,\n",
              " 'mase': 1.0590738}"
            ]
          },
          "metadata": {},
          "execution_count": 98
        }
      ]
    },
    {
      "cell_type": "code",
      "source": [
        "offset = 300\n",
        "plt.figure(figsize=(10,7))\n",
        "plot_time_series(x_test[-len(test_windows):], test_labels[:, 0], start=offset, label='test')\n",
        "plot_time_series(x_test[-len(test_windows):], model2_preds, format='-', start=offset, label='model2_preds')"
      ],
      "metadata": {
        "colab": {
          "base_uri": "https://localhost:8080/",
          "height": 428
        },
        "id": "7PjJlURZ-OVK",
        "outputId": "9402961e-dbcb-4729-e899-7f4e0e81e46a"
      },
      "execution_count": null,
      "outputs": [
        {
          "output_type": "display_data",
          "data": {
            "text/plain": [
              "<Figure size 720x504 with 1 Axes>"
            ],
            "image/png": "[encoded data removed]"
          },
          "metadata": {
            "needs_background": "light"
          }
        }
      ]
    },
    {
      "cell_type": "code",
      "source": [
        "# window 30, horizon 7\n",
        "horizon = 7\n",
        "window_size = 30\n",
        "full_windows, full_labels = make_windows(btc_price, window_size, horizon)"
      ],
      "metadata": {
        "id": "KcEviT8h-V6r"
      },
      "execution_count": null,
      "outputs": []
    },
    {
      "cell_type": "code",
      "source": [
        "train_windows, test_windows, train_labels, test_labels = make_train_test_split(full_windows, full_labels)"
      ],
      "metadata": {
        "id": "qN33egZw-mdU"
      },
      "execution_count": null,
      "outputs": []
    },
    {
      "cell_type": "code",
      "source": [
        "tf.random.set_seed(42)\n",
        "\n",
        "model3 = tf.keras.Sequential([\n",
        "    layers.Dense(128, activation='relu'),\n",
        "    layers.Dense(horizon)\n",
        "], name='model_3_dense')\n",
        "\n",
        "model3.compile(loss='mae',\n",
        "               optimizer='Adam',\n",
        "               metrics=['mae', 'mse'])\n",
        "\n",
        "history3 = model3.fit(train_windows,\n",
        "                      train_labels,\n",
        "                      epochs=100,\n",
        "                      batch_size=128,\n",
        "                      validation_data=(test_windows, test_labels),\n",
        "                      callbacks=[create_model_checkpoint(model3.name)])"
      ],
      "metadata": {
        "colab": {
          "base_uri": "https://localhost:8080/"
        },
        "id": "UIMCULZf-qPb",
        "outputId": "1d002be0-a5cb-49a1-c72f-e2597fda23ce"
      },
      "execution_count": null,
      "outputs": [
        {
          "output_type": "stream",
          "name": "stdout",
          "text": [
            "Epoch 1/100\n",
            "18/18 [==============================] - 2s 74ms/step - loss: 1476.6752 - mae: 1476.6752 - mse: 10390733.0000 - val_loss: 3088.5613 - val_mae: 3088.5613 - val_mse: 24386346.0000\n",
            "Epoch 2/100\n",
            "18/18 [==============================] - 1s 68ms/step - loss: 552.8943 - mae: 552.8943 - mse: 1336176.8750 - val_loss: 2462.4548 - val_mae: 2462.4548 - val_mse: 17112268.0000\n",
            "Epoch 3/100\n",
            "18/18 [==============================] - 1s 63ms/step - loss: 435.1978 - mae: 435.1978 - mse: 893449.0000 - val_loss: 2283.1484 - val_mae: 2283.1484 - val_mse: 14950889.0000\n",
            "Epoch 4/100\n",
            "18/18 [==============================] - 1s 45ms/step - loss: 391.9787 - mae: 391.9787 - mse: 745983.8125 - val_loss: 1975.1218 - val_mae: 1975.1218 - val_mse: 11680637.0000\n",
            "Epoch 5/100\n",
            "18/18 [==============================] - 0s 9ms/step - loss: 357.9485 - mae: 357.9485 - mse: 627137.9375 - val_loss: 2000.1556 - val_mae: 2000.1556 - val_mse: 11665231.0000\n",
            "Epoch 6/100\n",
            "18/18 [==============================] - 0s 26ms/step - loss: 332.6704 - mae: 332.6704 - mse: 531746.6250 - val_loss: 1723.4186 - val_mae: 1723.4186 - val_mse: 9019992.0000\n",
            "Epoch 7/100\n",
            "18/18 [==============================] - 0s 25ms/step - loss: 309.9903 - mae: 309.9903 - mse: 470480.5312 - val_loss: 1591.9688 - val_mae: 1591.9688 - val_mse: 7895366.0000\n",
            "Epoch 8/100\n",
            "18/18 [==============================] - 0s 26ms/step - loss: 302.4123 - mae: 302.4123 - mse: 438359.1250 - val_loss: 1579.8518 - val_mae: 1579.8518 - val_mse: 7899042.0000\n",
            "Epoch 9/100\n",
            "18/18 [==============================] - 0s 5ms/step - loss: 293.9170 - mae: 293.9170 - mse: 418137.7188 - val_loss: 1602.9116 - val_mae: 1602.9116 - val_mse: 7739274.0000\n",
            "Epoch 10/100\n",
            "18/18 [==============================] - 1s 40ms/step - loss: 291.5431 - mae: 291.5431 - mse: 402053.9688 - val_loss: 1504.9114 - val_mae: 1504.9114 - val_mse: 7034896.5000\n",
            "Epoch 11/100\n",
            "18/18 [==============================] - 0s 26ms/step - loss: 282.3861 - mae: 282.3861 - mse: 387283.0625 - val_loss: 1474.9521 - val_mae: 1474.9521 - val_mse: 6938312.5000\n",
            "Epoch 12/100\n",
            "18/18 [==============================] - 0s 4ms/step - loss: 276.0491 - mae: 276.0491 - mse: 374895.8125 - val_loss: 1539.4847 - val_mae: 1539.4847 - val_mse: 7364822.5000\n",
            "Epoch 13/100\n",
            "18/18 [==============================] - 0s 27ms/step - loss: 272.3232 - mae: 272.3232 - mse: 365701.9375 - val_loss: 1459.5269 - val_mae: 1459.5269 - val_mse: 6738909.0000\n",
            "Epoch 14/100\n",
            "18/18 [==============================] - 0s 25ms/step - loss: 270.6817 - mae: 270.6817 - mse: 367210.9688 - val_loss: 1417.0792 - val_mae: 1417.0792 - val_mse: 6493178.5000\n",
            "Epoch 15/100\n",
            "18/18 [==============================] - 0s 4ms/step - loss: 263.8875 - mae: 263.8875 - mse: 351648.9062 - val_loss: 1541.0621 - val_mae: 1541.0621 - val_mse: 7139703.0000\n",
            "Epoch 16/100\n",
            "18/18 [==============================] - 0s 5ms/step - loss: 265.9065 - mae: 265.9065 - mse: 352247.7188 - val_loss: 1441.2795 - val_mae: 1441.2795 - val_mse: 6551795.5000\n",
            "Epoch 17/100\n",
            "18/18 [==============================] - 0s 4ms/step - loss: 262.9132 - mae: 262.9132 - mse: 348013.6875 - val_loss: 1505.8213 - val_mae: 1505.8213 - val_mse: 7021491.0000\n",
            "Epoch 18/100\n",
            "18/18 [==============================] - 0s 4ms/step - loss: 260.1363 - mae: 260.1363 - mse: 338809.7500 - val_loss: 1446.3213 - val_mae: 1446.3213 - val_mse: 6640532.0000\n",
            "Epoch 19/100\n",
            "18/18 [==============================] - 0s 4ms/step - loss: 258.2223 - mae: 258.2223 - mse: 337048.7188 - val_loss: 1522.3828 - val_mae: 1522.3828 - val_mse: 7158658.5000\n",
            "Epoch 20/100\n",
            "18/18 [==============================] - 0s 4ms/step - loss: 263.9978 - mae: 263.9978 - mse: 342797.9375 - val_loss: 1425.1411 - val_mae: 1425.1411 - val_mse: 6555956.0000\n",
            "Epoch 21/100\n",
            "18/18 [==============================] - 0s 4ms/step - loss: 255.4174 - mae: 255.4174 - mse: 328356.0625 - val_loss: 1460.1968 - val_mae: 1460.1968 - val_mse: 6717267.5000\n",
            "Epoch 22/100\n",
            "18/18 [==============================] - 0s 4ms/step - loss: 255.3434 - mae: 255.3434 - mse: 327904.4375 - val_loss: 1419.4122 - val_mae: 1419.4122 - val_mse: 6416547.0000\n",
            "Epoch 23/100\n",
            "18/18 [==============================] - 0s 25ms/step - loss: 258.0463 - mae: 258.0463 - mse: 330457.5625 - val_loss: 1384.9282 - val_mae: 1384.9282 - val_mse: 6376790.5000\n",
            "Epoch 24/100\n",
            "18/18 [==============================] - 0s 26ms/step - loss: 269.2109 - mae: 269.2109 - mse: 348474.7188 - val_loss: 1377.6122 - val_mae: 1377.6122 - val_mse: 6264392.5000\n",
            "Epoch 25/100\n",
            "18/18 [==============================] - 0s 4ms/step - loss: 253.5239 - mae: 253.5239 - mse: 322304.0625 - val_loss: 1452.3351 - val_mae: 1452.3351 - val_mse: 6649548.5000\n",
            "Epoch 26/100\n",
            "18/18 [==============================] - 0s 4ms/step - loss: 252.1648 - mae: 252.1648 - mse: 319006.6250 - val_loss: 1388.5122 - val_mae: 1388.5122 - val_mse: 6325646.5000\n",
            "Epoch 27/100\n",
            "18/18 [==============================] - 0s 4ms/step - loss: 251.8276 - mae: 251.8276 - mse: 322080.4375 - val_loss: 1451.5784 - val_mae: 1451.5784 - val_mse: 6515207.5000\n",
            "Epoch 28/100\n",
            "18/18 [==============================] - 0s 4ms/step - loss: 247.8791 - mae: 247.8791 - mse: 313790.8750 - val_loss: 1391.4445 - val_mae: 1391.4445 - val_mse: 6381010.5000\n",
            "Epoch 29/100\n",
            "18/18 [==============================] - 0s 4ms/step - loss: 246.0225 - mae: 246.0225 - mse: 310989.5000 - val_loss: 1382.1858 - val_mae: 1382.1858 - val_mse: 6307697.0000\n",
            "Epoch 30/100\n",
            "18/18 [==============================] - 0s 26ms/step - loss: 248.2236 - mae: 248.2236 - mse: 317049.2812 - val_loss: 1336.2773 - val_mae: 1336.2773 - val_mse: 6054735.5000\n",
            "Epoch 31/100\n",
            "18/18 [==============================] - 0s 26ms/step - loss: 242.1411 - mae: 242.1411 - mse: 303474.5312 - val_loss: 1334.8569 - val_mae: 1334.8569 - val_mse: 6053588.0000\n",
            "Epoch 32/100\n",
            "18/18 [==============================] - 0s 26ms/step - loss: 245.8559 - mae: 245.8559 - mse: 309413.2188 - val_loss: 1329.1195 - val_mae: 1329.1195 - val_mse: 5981315.0000\n",
            "Epoch 33/100\n",
            "18/18 [==============================] - 0s 4ms/step - loss: 246.9277 - mae: 246.9277 - mse: 310413.8438 - val_loss: 1372.8105 - val_mae: 1372.8105 - val_mse: 6171215.0000\n",
            "Epoch 34/100\n",
            "18/18 [==============================] - 0s 4ms/step - loss: 244.2540 - mae: 244.2540 - mse: 305681.9375 - val_loss: 1373.9778 - val_mae: 1373.9778 - val_mse: 6200631.5000\n",
            "Epoch 35/100\n",
            "18/18 [==============================] - 0s 4ms/step - loss: 244.3824 - mae: 244.3824 - mse: 305912.8125 - val_loss: 1349.5087 - val_mae: 1349.5087 - val_mse: 6108202.0000\n",
            "Epoch 36/100\n",
            "18/18 [==============================] - 0s 4ms/step - loss: 241.3231 - mae: 241.3231 - mse: 303293.1250 - val_loss: 1427.5961 - val_mae: 1427.5961 - val_mse: 6570097.5000\n",
            "Epoch 37/100\n",
            "18/18 [==============================] - 0s 4ms/step - loss: 257.3803 - mae: 257.3803 - mse: 322964.4688 - val_loss: 1363.9797 - val_mae: 1363.9797 - val_mse: 6108615.5000\n",
            "Epoch 38/100\n",
            "18/18 [==============================] - 0s 5ms/step - loss: 240.1044 - mae: 240.1044 - mse: 299731.3125 - val_loss: 1376.8528 - val_mae: 1376.8528 - val_mse: 6250287.0000\n",
            "Epoch 39/100\n",
            "18/18 [==============================] - 0s 4ms/step - loss: 245.4610 - mae: 245.4610 - mse: 302870.8125 - val_loss: 1412.0402 - val_mae: 1412.0402 - val_mse: 6445713.0000\n",
            "Epoch 40/100\n",
            "18/18 [==============================] - 0s 4ms/step - loss: 239.6820 - mae: 239.6820 - mse: 299266.2500 - val_loss: 1426.0742 - val_mae: 1426.0742 - val_mse: 6408169.5000\n",
            "Epoch 41/100\n",
            "18/18 [==============================] - 0s 5ms/step - loss: 239.1188 - mae: 239.1188 - mse: 295875.4688 - val_loss: 1442.6663 - val_mae: 1442.6663 - val_mse: 6566415.0000\n",
            "Epoch 42/100\n",
            "18/18 [==============================] - 0s 4ms/step - loss: 246.8635 - mae: 246.8635 - mse: 311109.9062 - val_loss: 1347.2452 - val_mae: 1347.2452 - val_mse: 6057585.5000\n",
            "Epoch 43/100\n",
            "18/18 [==============================] - 0s 5ms/step - loss: 239.3242 - mae: 239.3242 - mse: 295104.0000 - val_loss: 1365.7219 - val_mae: 1365.7219 - val_mse: 6103318.0000\n",
            "Epoch 44/100\n",
            "18/18 [==============================] - 0s 25ms/step - loss: 250.1504 - mae: 250.1504 - mse: 311073.4688 - val_loss: 1293.0472 - val_mae: 1293.0472 - val_mse: 5793364.5000\n",
            "Epoch 45/100\n",
            "18/18 [==============================] - 0s 4ms/step - loss: 243.7763 - mae: 243.7763 - mse: 300905.0000 - val_loss: 1505.8341 - val_mae: 1505.8341 - val_mse: 6827288.5000\n",
            "Epoch 46/100\n",
            "18/18 [==============================] - 0s 4ms/step - loss: 241.1997 - mae: 241.1997 - mse: 298801.0000 - val_loss: 1299.8013 - val_mae: 1299.8013 - val_mse: 5822393.5000\n",
            "Epoch 47/100\n",
            "18/18 [==============================] - 0s 4ms/step - loss: 236.0368 - mae: 236.0368 - mse: 294210.6875 - val_loss: 1339.0396 - val_mae: 1339.0396 - val_mse: 5972380.5000\n",
            "Epoch 48/100\n",
            "18/18 [==============================] - 0s 4ms/step - loss: 235.2749 - mae: 235.2749 - mse: 289513.3750 - val_loss: 1329.4685 - val_mae: 1329.4685 - val_mse: 5933925.5000\n",
            "Epoch 49/100\n",
            "18/18 [==============================] - 0s 5ms/step - loss: 238.4083 - mae: 238.4083 - mse: 292709.6562 - val_loss: 1326.4941 - val_mae: 1326.4941 - val_mse: 6016930.0000\n",
            "Epoch 50/100\n",
            "18/18 [==============================] - 0s 5ms/step - loss: 236.0985 - mae: 236.0985 - mse: 291910.3125 - val_loss: 1318.6080 - val_mae: 1318.6080 - val_mse: 5844584.0000\n",
            "Epoch 51/100\n",
            "18/18 [==============================] - 0s 4ms/step - loss: 247.4354 - mae: 247.4354 - mse: 298867.6562 - val_loss: 1389.7017 - val_mae: 1389.7017 - val_mse: 6310916.5000\n",
            "Epoch 52/100\n",
            "18/18 [==============================] - 0s 5ms/step - loss: 233.8826 - mae: 233.8826 - mse: 286212.8438 - val_loss: 1293.4277 - val_mae: 1293.4277 - val_mse: 5711541.0000\n",
            "Epoch 53/100\n",
            "18/18 [==============================] - 1s 34ms/step - loss: 232.7012 - mae: 232.7012 - mse: 286820.6875 - val_loss: 1284.7607 - val_mae: 1284.7607 - val_mse: 5749309.0000\n",
            "Epoch 54/100\n",
            "18/18 [==============================] - 1s 29ms/step - loss: 235.9017 - mae: 235.9017 - mse: 291542.7188 - val_loss: 1284.3806 - val_mae: 1284.3806 - val_mse: 5748808.5000\n",
            "Epoch 55/100\n",
            "18/18 [==============================] - 0s 7ms/step - loss: 232.9453 - mae: 232.9453 - mse: 282204.3750 - val_loss: 1312.6141 - val_mae: 1312.6141 - val_mse: 5854618.5000\n",
            "Epoch 56/100\n",
            "18/18 [==============================] - 0s 7ms/step - loss: 231.0590 - mae: 231.0590 - mse: 283601.1562 - val_loss: 1355.7415 - val_mae: 1355.7415 - val_mse: 5982999.0000\n",
            "Epoch 57/100\n",
            "18/18 [==============================] - 0s 4ms/step - loss: 235.9913 - mae: 235.9913 - mse: 289773.3750 - val_loss: 1363.5928 - val_mae: 1363.5928 - val_mse: 6065964.0000\n",
            "Epoch 58/100\n",
            "18/18 [==============================] - 0s 4ms/step - loss: 231.6387 - mae: 231.6387 - mse: 281294.2500 - val_loss: 1306.6425 - val_mae: 1306.6425 - val_mse: 5727832.5000\n",
            "Epoch 59/100\n",
            "18/18 [==============================] - 0s 6ms/step - loss: 230.8834 - mae: 230.8834 - mse: 281998.1250 - val_loss: 1288.3002 - val_mae: 1288.3002 - val_mse: 5697831.5000\n",
            "Epoch 60/100\n",
            "18/18 [==============================] - 1s 37ms/step - loss: 230.1366 - mae: 230.1366 - mse: 280421.1562 - val_loss: 1259.6017 - val_mae: 1259.6017 - val_mse: 5612471.0000\n",
            "Epoch 61/100\n",
            "18/18 [==============================] - 0s 9ms/step - loss: 230.5381 - mae: 230.5381 - mse: 282358.5312 - val_loss: 1406.2996 - val_mae: 1406.2996 - val_mse: 6253862.5000\n",
            "Epoch 62/100\n",
            "18/18 [==============================] - 0s 7ms/step - loss: 231.8386 - mae: 231.8386 - mse: 280512.9062 - val_loss: 1291.0713 - val_mae: 1291.0713 - val_mse: 5756396.5000\n",
            "Epoch 63/100\n",
            "18/18 [==============================] - 0s 6ms/step - loss: 233.6788 - mae: 233.6788 - mse: 285109.7500 - val_loss: 1368.6284 - val_mae: 1368.6284 - val_mse: 6087166.0000\n",
            "Epoch 64/100\n",
            "18/18 [==============================] - 1s 38ms/step - loss: 232.2232 - mae: 232.2232 - mse: 280256.0312 - val_loss: 1251.2312 - val_mae: 1251.2312 - val_mse: 5499588.5000\n",
            "Epoch 65/100\n",
            "18/18 [==============================] - 0s 5ms/step - loss: 232.8093 - mae: 232.8093 - mse: 286747.3438 - val_loss: 1346.9840 - val_mae: 1346.9840 - val_mse: 5905306.5000\n",
            "Epoch 66/100\n",
            "18/18 [==============================] - 0s 8ms/step - loss: 231.5086 - mae: 231.5086 - mse: 281108.9375 - val_loss: 1429.1592 - val_mae: 1429.1592 - val_mse: 6378788.0000\n",
            "Epoch 67/100\n",
            "18/18 [==============================] - 0s 7ms/step - loss: 234.4316 - mae: 234.4316 - mse: 283984.4062 - val_loss: 1291.2920 - val_mae: 1291.2920 - val_mse: 5649027.0000\n",
            "Epoch 68/100\n",
            "18/18 [==============================] - 0s 7ms/step - loss: 228.4419 - mae: 228.4419 - mse: 276119.7500 - val_loss: 1320.3304 - val_mae: 1320.3304 - val_mse: 5815860.5000\n",
            "Epoch 69/100\n",
            "18/18 [==============================] - 0s 7ms/step - loss: 227.7240 - mae: 227.7240 - mse: 270948.4375 - val_loss: 1519.1730 - val_mae: 1519.1730 - val_mse: 6928610.5000\n",
            "Epoch 70/100\n",
            "18/18 [==============================] - 0s 7ms/step - loss: 233.6939 - mae: 233.6939 - mse: 282986.3750 - val_loss: 1278.3643 - val_mae: 1278.3643 - val_mse: 5591982.0000\n",
            "Epoch 71/100\n",
            "18/18 [==============================] - 0s 8ms/step - loss: 227.1845 - mae: 227.1845 - mse: 277117.5938 - val_loss: 1261.8005 - val_mae: 1261.8005 - val_mse: 5517604.5000\n",
            "Epoch 72/100\n",
            "18/18 [==============================] - 0s 7ms/step - loss: 229.9134 - mae: 229.9134 - mse: 276164.3750 - val_loss: 1251.5463 - val_mae: 1251.5463 - val_mse: 5564067.0000\n",
            "Epoch 73/100\n",
            "18/18 [==============================] - 0s 7ms/step - loss: 227.0497 - mae: 227.0497 - mse: 275501.1562 - val_loss: 1270.7107 - val_mae: 1270.7107 - val_mse: 5572510.0000\n",
            "Epoch 74/100\n",
            "18/18 [==============================] - 0s 8ms/step - loss: 230.8764 - mae: 230.8764 - mse: 280781.9375 - val_loss: 1387.2860 - val_mae: 1387.2860 - val_mse: 6085277.5000\n",
            "Epoch 75/100\n",
            "18/18 [==============================] - 0s 7ms/step - loss: 228.8457 - mae: 228.8457 - mse: 274044.4062 - val_loss: 1356.4390 - val_mae: 1356.4390 - val_mse: 5924470.0000\n",
            "Epoch 76/100\n",
            "18/18 [==============================] - 0s 6ms/step - loss: 228.9847 - mae: 228.9847 - mse: 279526.8438 - val_loss: 1287.2343 - val_mae: 1287.2343 - val_mse: 5667253.0000\n",
            "Epoch 77/100\n",
            "18/18 [==============================] - 1s 37ms/step - loss: 225.3239 - mae: 225.3239 - mse: 272094.2500 - val_loss: 1237.5065 - val_mae: 1237.5065 - val_mse: 5405198.5000\n",
            "Epoch 78/100\n",
            "18/18 [==============================] - 0s 7ms/step - loss: 229.2194 - mae: 229.2194 - mse: 274318.4688 - val_loss: 1248.6913 - val_mae: 1248.6913 - val_mse: 5431387.0000\n",
            "Epoch 79/100\n",
            "18/18 [==============================] - 0s 7ms/step - loss: 227.7465 - mae: 227.7465 - mse: 270252.6562 - val_loss: 1286.5439 - val_mae: 1286.5439 - val_mse: 5594558.5000\n",
            "Epoch 80/100\n",
            "18/18 [==============================] - 0s 8ms/step - loss: 225.9967 - mae: 225.9967 - mse: 270396.1875 - val_loss: 1329.9921 - val_mae: 1329.9921 - val_mse: 5849621.5000\n",
            "Epoch 81/100\n",
            "18/18 [==============================] - 0s 7ms/step - loss: 228.1217 - mae: 228.1217 - mse: 277564.4375 - val_loss: 1262.6129 - val_mae: 1262.6129 - val_mse: 5568036.0000\n",
            "Epoch 82/100\n",
            "18/18 [==============================] - 0s 7ms/step - loss: 225.3166 - mae: 225.3166 - mse: 273099.7500 - val_loss: 1273.8380 - val_mae: 1273.8380 - val_mse: 5537963.0000\n",
            "Epoch 83/100\n",
            "18/18 [==============================] - 0s 6ms/step - loss: 225.2265 - mae: 225.2265 - mse: 271168.5312 - val_loss: 1279.3624 - val_mae: 1279.3624 - val_mse: 5627999.5000\n",
            "Epoch 84/100\n",
            "18/18 [==============================] - 0s 4ms/step - loss: 224.9336 - mae: 224.9336 - mse: 269869.2500 - val_loss: 1249.8484 - val_mae: 1249.8484 - val_mse: 5513098.0000\n",
            "Epoch 85/100\n",
            "18/18 [==============================] - 0s 5ms/step - loss: 226.8255 - mae: 226.8255 - mse: 273469.9062 - val_loss: 1248.8396 - val_mae: 1248.8396 - val_mse: 5451508.5000\n",
            "Epoch 86/100\n",
            "18/18 [==============================] - 0s 4ms/step - loss: 224.7192 - mae: 224.7192 - mse: 271943.3750 - val_loss: 1295.6708 - val_mae: 1295.6708 - val_mse: 5696024.0000\n",
            "Epoch 87/100\n",
            "18/18 [==============================] - 0s 4ms/step - loss: 227.7314 - mae: 227.7314 - mse: 270321.6250 - val_loss: 1312.5576 - val_mae: 1312.5576 - val_mse: 5685570.5000\n",
            "Epoch 88/100\n",
            "18/18 [==============================] - 0s 6ms/step - loss: 226.0089 - mae: 226.0089 - mse: 271724.2812 - val_loss: 1531.1237 - val_mae: 1531.1237 - val_mse: 6729364.0000\n",
            "Epoch 89/100\n",
            "18/18 [==============================] - 0s 5ms/step - loss: 232.9869 - mae: 232.9869 - mse: 273172.6562 - val_loss: 1280.1622 - val_mae: 1280.1622 - val_mse: 5573279.0000\n",
            "Epoch 90/100\n",
            "18/18 [==============================] - 0s 5ms/step - loss: 231.6928 - mae: 231.6928 - mse: 278982.4062 - val_loss: 1342.9247 - val_mae: 1342.9247 - val_mse: 5812115.5000\n",
            "Epoch 91/100\n",
            "18/18 [==============================] - 0s 7ms/step - loss: 226.7606 - mae: 226.7606 - mse: 271052.1562 - val_loss: 1259.4496 - val_mae: 1259.4496 - val_mse: 5500164.5000\n",
            "Epoch 92/100\n",
            "18/18 [==============================] - 0s 4ms/step - loss: 225.4304 - mae: 225.4304 - mse: 269325.4688 - val_loss: 1244.5863 - val_mae: 1244.5863 - val_mse: 5482781.5000\n",
            "Epoch 93/100\n",
            "18/18 [==============================] - 0s 4ms/step - loss: 232.3920 - mae: 232.3920 - mse: 274117.9375 - val_loss: 1305.4161 - val_mae: 1305.4161 - val_mse: 5619281.5000\n",
            "Epoch 94/100\n",
            "18/18 [==============================] - 0s 4ms/step - loss: 227.1455 - mae: 227.1455 - mse: 268565.8750 - val_loss: 1278.3680 - val_mae: 1278.3680 - val_mse: 5547783.0000\n",
            "Epoch 95/100\n",
            "18/18 [==============================] - 0s 6ms/step - loss: 226.4553 - mae: 226.4553 - mse: 269101.6250 - val_loss: 1282.0594 - val_mae: 1282.0594 - val_mse: 5621684.0000\n",
            "Epoch 96/100\n",
            "18/18 [==============================] - 0s 7ms/step - loss: 229.8147 - mae: 229.8147 - mse: 273974.4375 - val_loss: 1359.4149 - val_mae: 1359.4149 - val_mse: 5903701.0000\n",
            "Epoch 97/100\n",
            "18/18 [==============================] - 0s 7ms/step - loss: 226.3261 - mae: 226.3261 - mse: 267818.1250 - val_loss: 1261.2341 - val_mae: 1261.2341 - val_mse: 5482404.0000\n",
            "Epoch 98/100\n",
            "18/18 [==============================] - 0s 5ms/step - loss: 227.1718 - mae: 227.1718 - mse: 273941.6875 - val_loss: 1369.7389 - val_mae: 1369.7389 - val_mse: 5913570.0000\n",
            "Epoch 99/100\n",
            "18/18 [==============================] - 0s 4ms/step - loss: 228.8833 - mae: 228.8833 - mse: 273331.1562 - val_loss: 1241.8301 - val_mae: 1241.8301 - val_mse: 5379831.0000\n",
            "Epoch 100/100\n",
            "18/18 [==============================] - 0s 5ms/step - loss: 223.2735 - mae: 223.2735 - mse: 266898.3125 - val_loss: 1300.1525 - val_mae: 1300.1525 - val_mse: 5599956.5000\n"
          ]
        }
      ]
    },
    {
      "cell_type": "code",
      "source": [
        "model3 = tf.keras.models.load_model('model_experiments/model_3_dense')\n",
        "model3_preds = make_preds(model3, test_windows)\n",
        "model3_results = evaluate_preds(tf.squeeze(test_labels), model3_preds)\n",
        "model3_results"
      ],
      "metadata": {
        "colab": {
          "base_uri": "https://localhost:8080/"
        },
        "id": "LR94_wDe-8Ka",
        "outputId": "6516bb97-40be-4dd7-ff63-9d457e80e579"
      },
      "execution_count": null,
      "outputs": [
        {
          "output_type": "execute_result",
          "data": {
            "text/plain": [
              "{'mae': 1237.5063,\n",
              " 'mse': 5405198.5,\n",
              " 'rsme': 1425.7478,\n",
              " 'mape': 5.5588784,\n",
              " 'mase': 2.2020733}"
            ]
          },
          "metadata": {},
          "execution_count": 107
        }
      ]
    },
    {
      "cell_type": "code",
      "source": [
        "offset = 300\n",
        "plt.figure(figsize=(10,7))\n",
        "plot_time_series(x_test[-len(test_windows):], test_labels[:, 0], start=offset, label='test')\n",
        "plot_time_series(x_test[-len(test_windows):], tf.reduce_mean(model3_preds, axis=1), \n",
        "                 format='-', start=offset, label='model3_preds')"
      ],
      "metadata": {
        "colab": {
          "base_uri": "https://localhost:8080/",
          "height": 428
        },
        "id": "o0MS8JF__Sbg",
        "outputId": "1d610ab7-f5f1-436c-e196-075acedff8bd"
      },
      "execution_count": null,
      "outputs": [
        {
          "output_type": "display_data",
          "data": {
            "text/plain": [
              "<Figure size 720x504 with 1 Axes>"
            ],
            "image/png": "[encoded data removed]"
          },
          "metadata": {
            "needs_background": "light"
          }
        }
      ]
    },
    {
      "cell_type": "code",
      "source": [
        "# Conv1D\n",
        "horizon = 1\n",
        "window_size = 7\n",
        "full_windows, full_labels = make_windows(btc_price, window_size, horizon)"
      ],
      "metadata": {
        "id": "82aNLUfjBIDN"
      },
      "execution_count": null,
      "outputs": []
    },
    {
      "cell_type": "code",
      "source": [
        "train_windows, test_windows, train_labels, test_labels = make_train_test_split(full_windows, full_labels)"
      ],
      "metadata": {
        "id": "JX6i5g_rGCsT"
      },
      "execution_count": null,
      "outputs": []
    },
    {
      "cell_type": "code",
      "source": [
        "expand_dims_layer = layers.Lambda(lambda x: tf.expand_dims(x, axis=1))"
      ],
      "metadata": {
        "id": "fw55QubcGJME"
      },
      "execution_count": null,
      "outputs": []
    },
    {
      "cell_type": "code",
      "source": [
        "tf.random.set_seed(42)\n",
        "\n",
        "model4 = tf.keras.Sequential([\n",
        "    layers.Lambda(lambda x: tf.expand_dims(x, axis=1)),\n",
        "    layers.Conv1D(filters=128, kernel_size=5, padding='causal', activation='relu'),\n",
        "    layers.Dense(horizon)\n",
        "], name='model_4_Conv1D')\n",
        "\n",
        "model4.compile(loss='mae',\n",
        "               optimizer='Adam',\n",
        "               metrics=['mae', 'mse'])\n",
        "\n",
        "history4 = model4.fit(train_windows,\n",
        "                      train_labels,\n",
        "                      epochs=100,\n",
        "                      batch_size=128,\n",
        "                      validation_data=(test_windows, test_labels),\n",
        "                      callbacks=[create_model_checkpoint(model4.name)])"
      ],
      "metadata": {
        "colab": {
          "base_uri": "https://localhost:8080/"
        },
        "id": "NkZMN6nEHIPa",
        "outputId": "d48b3bb4-8016-402c-c499-9dcd6d669946"
      },
      "execution_count": null,
      "outputs": [
        {
          "output_type": "stream",
          "name": "stdout",
          "text": [
            "Epoch 1/100\n",
            "18/18 [==============================] - 10s 55ms/step - loss: 1207.3817 - mae: 1207.3817 - mse: 5128398.0000 - val_loss: 2320.6218 - val_mae: 2320.6218 - val_mse: 13063541.0000\n",
            "Epoch 2/100\n",
            "18/18 [==============================] - 1s 36ms/step - loss: 316.2171 - mae: 316.2171 - mse: 408753.9375 - val_loss: 1467.2799 - val_mae: 1467.2799 - val_mse: 5375009.5000\n",
            "Epoch 3/100\n",
            "18/18 [==============================] - 1s 37ms/step - loss: 192.6853 - mae: 192.6853 - mse: 187429.8281 - val_loss: 1164.7074 - val_mae: 1164.7074 - val_mse: 3801948.0000\n",
            "Epoch 4/100\n",
            "18/18 [==============================] - 1s 39ms/step - loss: 177.3535 - mae: 177.3535 - mse: 166088.1562 - val_loss: 981.6695 - val_mae: 981.6695 - val_mse: 3154571.5000\n",
            "Epoch 5/100\n",
            "18/18 [==============================] - 1s 37ms/step - loss: 172.3467 - mae: 172.3467 - mse: 159527.5469 - val_loss: 960.8708 - val_mae: 960.8708 - val_mse: 3055978.0000\n",
            "Epoch 6/100\n",
            "18/18 [==============================] - 1s 70ms/step - loss: 171.9753 - mae: 171.9753 - mse: 156367.9844 - val_loss: 950.2026 - val_mae: 950.2026 - val_mse: 3054649.0000\n",
            "Epoch 7/100\n",
            "18/18 [==============================] - 3s 162ms/step - loss: 167.1943 - mae: 167.1943 - mse: 149199.9531 - val_loss: 943.2872 - val_mae: 943.2872 - val_mse: 2886476.2500\n",
            "Epoch 8/100\n",
            "18/18 [==============================] - 1s 83ms/step - loss: 163.5990 - mae: 163.5990 - mse: 144668.8438 - val_loss: 905.5262 - val_mae: 905.5262 - val_mse: 2758449.7500\n",
            "Epoch 9/100\n",
            "18/18 [==============================] - 0s 6ms/step - loss: 162.5455 - mae: 162.5455 - mse: 142410.2344 - val_loss: 929.7607 - val_mae: 929.7607 - val_mse: 2723885.0000\n",
            "Epoch 10/100\n",
            "18/18 [==============================] - 1s 38ms/step - loss: 158.5780 - mae: 158.5780 - mse: 137094.5781 - val_loss: 871.9778 - val_mae: 871.9778 - val_mse: 2543123.0000\n",
            "Epoch 11/100\n",
            "18/18 [==============================] - 1s 37ms/step - loss: 154.0058 - mae: 154.0058 - mse: 129600.4766 - val_loss: 852.7120 - val_mae: 852.7120 - val_mse: 2436986.2500\n",
            "Epoch 12/100\n",
            "18/18 [==============================] - 0s 5ms/step - loss: 151.2620 - mae: 151.2620 - mse: 124661.1328 - val_loss: 944.1970 - val_mae: 944.1970 - val_mse: 2601012.2500\n",
            "Epoch 13/100\n",
            "18/18 [==============================] - 0s 5ms/step - loss: 150.2688 - mae: 150.2688 - mse: 125091.0625 - val_loss: 881.1826 - val_mae: 881.1826 - val_mse: 2375321.2500\n",
            "Epoch 14/100\n",
            "18/18 [==============================] - 1s 37ms/step - loss: 145.4593 - mae: 145.4593 - mse: 116202.5312 - val_loss: 849.1818 - val_mae: 849.1818 - val_mse: 2246609.2500\n",
            "Epoch 15/100\n",
            "18/18 [==============================] - 1s 38ms/step - loss: 143.3640 - mae: 143.3640 - mse: 113840.8594 - val_loss: 844.4007 - val_mae: 844.4007 - val_mse: 2190368.2500\n",
            "Epoch 16/100\n",
            "18/18 [==============================] - 1s 37ms/step - loss: 139.8764 - mae: 139.8764 - mse: 109100.1953 - val_loss: 806.7261 - val_mae: 806.7261 - val_mse: 2055003.3750\n",
            "Epoch 17/100\n",
            "18/18 [==============================] - 0s 5ms/step - loss: 138.1677 - mae: 138.1677 - mse: 104690.9531 - val_loss: 812.6340 - val_mae: 812.6340 - val_mse: 2030382.7500\n",
            "Epoch 18/100\n",
            "18/18 [==============================] - 1s 38ms/step - loss: 137.9497 - mae: 137.9497 - mse: 106266.0078 - val_loss: 775.2100 - val_mae: 775.2100 - val_mse: 1904604.6250\n",
            "Epoch 19/100\n",
            "18/18 [==============================] - 1s 37ms/step - loss: 131.1450 - mae: 131.1450 - mse: 97691.8906 - val_loss: 755.4260 - val_mae: 755.4260 - val_mse: 1826982.1250\n",
            "Epoch 20/100\n",
            "18/18 [==============================] - 1s 37ms/step - loss: 132.4057 - mae: 132.4057 - mse: 99905.6719 - val_loss: 712.2014 - val_mae: 712.2014 - val_mse: 1729327.0000\n",
            "Epoch 21/100\n",
            "18/18 [==============================] - 1s 37ms/step - loss: 131.0829 - mae: 131.0829 - mse: 97808.9531 - val_loss: 707.4122 - val_mae: 707.4122 - val_mse: 1665285.6250\n",
            "Epoch 22/100\n",
            "18/18 [==============================] - 1s 53ms/step - loss: 126.9511 - mae: 126.9511 - mse: 92542.6797 - val_loss: 692.9736 - val_mae: 692.9736 - val_mse: 1612671.2500\n",
            "Epoch 23/100\n",
            "18/18 [==============================] - 1s 37ms/step - loss: 125.1489 - mae: 125.1489 - mse: 89912.6797 - val_loss: 682.4753 - val_mae: 682.4753 - val_mse: 1570821.5000\n",
            "Epoch 24/100\n",
            "18/18 [==============================] - 1s 36ms/step - loss: 124.3786 - mae: 124.3786 - mse: 88815.1328 - val_loss: 670.8320 - val_mae: 670.8320 - val_mse: 1547312.1250\n",
            "Epoch 25/100\n",
            "18/18 [==============================] - 1s 38ms/step - loss: 121.6896 - mae: 121.6896 - mse: 85134.2266 - val_loss: 662.6083 - val_mae: 662.6083 - val_mse: 1515859.3750\n",
            "Epoch 26/100\n",
            "18/18 [==============================] - 1s 37ms/step - loss: 121.5705 - mae: 121.5705 - mse: 84747.4922 - val_loss: 654.6090 - val_mae: 654.6090 - val_mse: 1471183.1250\n",
            "Epoch 27/100\n",
            "18/18 [==============================] - 1s 37ms/step - loss: 122.6445 - mae: 122.6445 - mse: 84560.6562 - val_loss: 650.9058 - val_mae: 650.9058 - val_mse: 1442083.0000\n",
            "Epoch 28/100\n",
            "18/18 [==============================] - 1s 38ms/step - loss: 117.9562 - mae: 117.9562 - mse: 81453.9219 - val_loss: 645.4808 - val_mae: 645.4808 - val_mse: 1420867.6250\n",
            "Epoch 29/100\n",
            "18/18 [==============================] - 1s 38ms/step - loss: 117.1769 - mae: 117.1769 - mse: 80815.1797 - val_loss: 639.9748 - val_mae: 639.9748 - val_mse: 1400477.7500\n",
            "Epoch 30/100\n",
            "18/18 [==============================] - 1s 37ms/step - loss: 121.0468 - mae: 121.0468 - mse: 82429.1094 - val_loss: 630.7950 - val_mae: 630.7950 - val_mse: 1388349.3750\n",
            "Epoch 31/100\n",
            "18/18 [==============================] - 0s 6ms/step - loss: 114.9061 - mae: 114.9061 - mse: 78196.6953 - val_loss: 652.6464 - val_mae: 652.6464 - val_mse: 1413817.7500\n",
            "Epoch 32/100\n",
            "18/18 [==============================] - 1s 53ms/step - loss: 116.4313 - mae: 116.4313 - mse: 81174.0234 - val_loss: 623.4980 - val_mae: 623.4980 - val_mse: 1350015.8750\n",
            "Epoch 33/100\n",
            "18/18 [==============================] - 0s 5ms/step - loss: 115.7972 - mae: 115.7972 - mse: 78665.5938 - val_loss: 664.3209 - val_mae: 664.3209 - val_mse: 1430615.8750\n",
            "Epoch 34/100\n",
            "18/18 [==============================] - 1s 38ms/step - loss: 117.2043 - mae: 117.2043 - mse: 80827.8750 - val_loss: 613.7654 - val_mae: 613.7654 - val_mse: 1334183.3750\n",
            "Epoch 35/100\n",
            "18/18 [==============================] - 0s 5ms/step - loss: 113.4074 - mae: 113.4074 - mse: 78210.3125 - val_loss: 619.6227 - val_mae: 619.6227 - val_mse: 1348779.8750\n",
            "Epoch 36/100\n",
            "18/18 [==============================] - 1s 38ms/step - loss: 116.8330 - mae: 116.8330 - mse: 78300.6875 - val_loss: 605.7616 - val_mae: 605.7616 - val_mse: 1305431.5000\n",
            "Epoch 37/100\n",
            "18/18 [==============================] - 1s 36ms/step - loss: 114.7925 - mae: 114.7925 - mse: 79040.6562 - val_loss: 603.6094 - val_mae: 603.6094 - val_mse: 1294560.0000\n",
            "Epoch 38/100\n",
            "18/18 [==============================] - 1s 39ms/step - loss: 113.0861 - mae: 113.0861 - mse: 77563.4375 - val_loss: 602.5891 - val_mae: 602.5891 - val_mse: 1295688.1250\n",
            "Epoch 39/100\n",
            "18/18 [==============================] - 1s 39ms/step - loss: 111.9831 - mae: 111.9831 - mse: 75947.3672 - val_loss: 602.2945 - val_mae: 602.2945 - val_mse: 1280478.1250\n",
            "Epoch 40/100\n",
            "18/18 [==============================] - 1s 37ms/step - loss: 111.2691 - mae: 111.2691 - mse: 74966.6172 - val_loss: 600.5515 - val_mae: 600.5515 - val_mse: 1286574.0000\n",
            "Epoch 41/100\n",
            "18/18 [==============================] - 0s 6ms/step - loss: 112.0727 - mae: 112.0727 - mse: 76083.7734 - val_loss: 623.0615 - val_mae: 623.0615 - val_mse: 1344014.5000\n",
            "Epoch 42/100\n",
            "18/18 [==============================] - 0s 5ms/step - loss: 116.7095 - mae: 116.7095 - mse: 79633.6172 - val_loss: 645.0155 - val_mae: 645.0155 - val_mse: 1360183.7500\n",
            "Epoch 43/100\n",
            "18/18 [==============================] - 0s 5ms/step - loss: 118.9676 - mae: 118.9676 - mse: 76665.8672 - val_loss: 659.5667 - val_mae: 659.5667 - val_mse: 1435150.0000\n",
            "Epoch 44/100\n",
            "18/18 [==============================] - 0s 6ms/step - loss: 125.4497 - mae: 125.4497 - mse: 84966.2109 - val_loss: 678.8228 - val_mae: 678.8228 - val_mse: 1486618.5000\n",
            "Epoch 45/100\n",
            "18/18 [==============================] - 0s 5ms/step - loss: 115.4361 - mae: 115.4361 - mse: 78383.8984 - val_loss: 611.8370 - val_mae: 611.8370 - val_mse: 1281823.8750\n",
            "Epoch 46/100\n",
            "18/18 [==============================] - 1s 38ms/step - loss: 114.1717 - mae: 114.1717 - mse: 75834.5469 - val_loss: 589.6738 - val_mae: 589.6738 - val_mse: 1249182.1250\n",
            "Epoch 47/100\n",
            "18/18 [==============================] - 0s 6ms/step - loss: 113.7248 - mae: 113.7248 - mse: 77126.5000 - val_loss: 720.2481 - val_mae: 720.2481 - val_mse: 1539007.0000\n",
            "Epoch 48/100\n",
            "18/18 [==============================] - 0s 5ms/step - loss: 112.0136 - mae: 112.0136 - mse: 74307.4766 - val_loss: 597.4332 - val_mae: 597.4332 - val_mse: 1251159.2500\n",
            "Epoch 49/100\n",
            "18/18 [==============================] - 0s 5ms/step - loss: 110.5680 - mae: 110.5680 - mse: 74564.1094 - val_loss: 665.2030 - val_mae: 665.2030 - val_mse: 1391443.2500\n",
            "Epoch 50/100\n",
            "18/18 [==============================] - 0s 5ms/step - loss: 119.7653 - mae: 119.7653 - mse: 78599.2812 - val_loss: 635.1696 - val_mae: 635.1696 - val_mse: 1326078.8750\n",
            "Epoch 51/100\n",
            "18/18 [==============================] - 1s 38ms/step - loss: 110.7739 - mae: 110.7739 - mse: 72887.1484 - val_loss: 586.0245 - val_mae: 586.0245 - val_mse: 1230914.5000\n",
            "Epoch 52/100\n",
            "18/18 [==============================] - 0s 5ms/step - loss: 111.2179 - mae: 111.2179 - mse: 75390.1172 - val_loss: 595.2483 - val_mae: 595.2483 - val_mse: 1259352.8750\n",
            "Epoch 53/100\n",
            "18/18 [==============================] - 0s 6ms/step - loss: 113.6466 - mae: 113.6466 - mse: 75888.1406 - val_loss: 670.5778 - val_mae: 670.5778 - val_mse: 1404337.5000\n",
            "Epoch 54/100\n",
            "18/18 [==============================] - 0s 6ms/step - loss: 126.7883 - mae: 126.7883 - mse: 84224.8828 - val_loss: 648.2971 - val_mae: 648.2971 - val_mse: 1349457.0000\n",
            "Epoch 55/100\n",
            "18/18 [==============================] - 0s 5ms/step - loss: 110.6968 - mae: 110.6968 - mse: 73118.6250 - val_loss: 593.8555 - val_mae: 593.8555 - val_mse: 1253418.3750\n",
            "Epoch 56/100\n",
            "18/18 [==============================] - 0s 5ms/step - loss: 109.8592 - mae: 109.8592 - mse: 73091.6406 - val_loss: 766.5007 - val_mae: 766.5007 - val_mse: 1748317.3750\n",
            "Epoch 57/100\n",
            "18/18 [==============================] - 0s 6ms/step - loss: 124.8183 - mae: 124.8183 - mse: 83669.0469 - val_loss: 712.2674 - val_mae: 712.2674 - val_mse: 1569274.8750\n",
            "Epoch 58/100\n",
            "18/18 [==============================] - 0s 6ms/step - loss: 120.3515 - mae: 120.3515 - mse: 78561.4844 - val_loss: 698.5149 - val_mae: 698.5149 - val_mse: 1531341.8750\n",
            "Epoch 59/100\n",
            "18/18 [==============================] - 0s 6ms/step - loss: 110.8185 - mae: 110.8185 - mse: 72761.7891 - val_loss: 592.1150 - val_mae: 592.1150 - val_mse: 1249138.1250\n",
            "Epoch 60/100\n",
            "18/18 [==============================] - 0s 5ms/step - loss: 110.2038 - mae: 110.2038 - mse: 73907.9531 - val_loss: 616.9358 - val_mae: 616.9358 - val_mse: 1274930.7500\n",
            "Epoch 61/100\n",
            "18/18 [==============================] - 0s 6ms/step - loss: 111.0310 - mae: 111.0310 - mse: 74839.8828 - val_loss: 588.4846 - val_mae: 588.4846 - val_mse: 1222549.3750\n",
            "Epoch 62/100\n",
            "18/18 [==============================] - 1s 39ms/step - loss: 108.1684 - mae: 108.1684 - mse: 71816.4766 - val_loss: 577.6281 - val_mae: 577.6281 - val_mse: 1210658.5000\n",
            "Epoch 63/100\n",
            "18/18 [==============================] - 0s 5ms/step - loss: 108.7932 - mae: 108.7932 - mse: 72142.8438 - val_loss: 610.1495 - val_mae: 610.1495 - val_mse: 1257679.2500\n",
            "Epoch 64/100\n",
            "18/18 [==============================] - 0s 5ms/step - loss: 110.4675 - mae: 110.4675 - mse: 72716.8594 - val_loss: 652.9427 - val_mae: 652.9427 - val_mse: 1345044.0000\n",
            "Epoch 65/100\n",
            "18/18 [==============================] - 0s 5ms/step - loss: 110.7312 - mae: 110.7312 - mse: 73138.0078 - val_loss: 583.0664 - val_mae: 583.0664 - val_mse: 1220851.7500\n",
            "Epoch 66/100\n",
            "18/18 [==============================] - 0s 5ms/step - loss: 108.3487 - mae: 108.3487 - mse: 71602.4609 - val_loss: 587.8362 - val_mae: 587.8362 - val_mse: 1217078.8750\n",
            "Epoch 67/100\n",
            "18/18 [==============================] - 0s 6ms/step - loss: 108.0646 - mae: 108.0646 - mse: 71081.4922 - val_loss: 648.5150 - val_mae: 648.5150 - val_mse: 1374668.0000\n",
            "Epoch 68/100\n",
            "18/18 [==============================] - 0s 5ms/step - loss: 113.6957 - mae: 113.6957 - mse: 71269.9141 - val_loss: 675.1595 - val_mae: 675.1595 - val_mse: 1451091.6250\n",
            "Epoch 69/100\n",
            "18/18 [==============================] - 0s 5ms/step - loss: 124.3082 - mae: 124.3082 - mse: 81327.2188 - val_loss: 632.9845 - val_mae: 632.9845 - val_mse: 1335854.7500\n",
            "Epoch 70/100\n",
            "18/18 [==============================] - 0s 5ms/step - loss: 124.3231 - mae: 124.3231 - mse: 83497.1484 - val_loss: 588.5080 - val_mae: 588.5080 - val_mse: 1236638.0000\n",
            "Epoch 71/100\n",
            "18/18 [==============================] - 0s 6ms/step - loss: 111.2923 - mae: 111.2923 - mse: 73238.6250 - val_loss: 618.2580 - val_mae: 618.2580 - val_mse: 1269222.5000\n",
            "Epoch 72/100\n",
            "18/18 [==============================] - 0s 5ms/step - loss: 110.1688 - mae: 110.1688 - mse: 72318.2969 - val_loss: 581.8317 - val_mae: 581.8317 - val_mse: 1203245.5000\n",
            "Epoch 73/100\n",
            "18/18 [==============================] - 0s 5ms/step - loss: 108.6783 - mae: 108.6783 - mse: 71350.8984 - val_loss: 582.9406 - val_mae: 582.9406 - val_mse: 1221468.3750\n",
            "Epoch 74/100\n",
            "18/18 [==============================] - 0s 5ms/step - loss: 108.4709 - mae: 108.4709 - mse: 71973.1016 - val_loss: 578.2971 - val_mae: 578.2971 - val_mse: 1207266.3750\n",
            "Epoch 75/100\n",
            "18/18 [==============================] - 0s 5ms/step - loss: 110.1821 - mae: 110.1821 - mse: 71984.3125 - val_loss: 663.3145 - val_mae: 663.3145 - val_mse: 1366845.7500\n",
            "Epoch 76/100\n",
            "18/18 [==============================] - 0s 5ms/step - loss: 112.4488 - mae: 112.4488 - mse: 73906.6953 - val_loss: 582.5887 - val_mae: 582.5887 - val_mse: 1216322.2500\n",
            "Epoch 77/100\n",
            "18/18 [==============================] - 0s 6ms/step - loss: 110.0107 - mae: 110.0107 - mse: 71571.9219 - val_loss: 579.8843 - val_mae: 579.8843 - val_mse: 1214061.3750\n",
            "Epoch 78/100\n",
            "18/18 [==============================] - 0s 5ms/step - loss: 107.3413 - mae: 107.3413 - mse: 70098.1641 - val_loss: 582.0062 - val_mae: 582.0062 - val_mse: 1212881.0000\n",
            "Epoch 79/100\n",
            "18/18 [==============================] - 0s 5ms/step - loss: 109.0300 - mae: 109.0300 - mse: 73715.5156 - val_loss: 591.4006 - val_mae: 591.4006 - val_mse: 1231911.3750\n",
            "Epoch 80/100\n",
            "18/18 [==============================] - 0s 6ms/step - loss: 106.9308 - mae: 106.9308 - mse: 71066.4062 - val_loss: 585.3931 - val_mae: 585.3931 - val_mse: 1204676.7500\n",
            "Epoch 81/100\n",
            "18/18 [==============================] - 1s 38ms/step - loss: 106.6291 - mae: 106.6291 - mse: 70787.0469 - val_loss: 575.4403 - val_mae: 575.4403 - val_mse: 1188854.5000\n",
            "Epoch 82/100\n",
            "18/18 [==============================] - 1s 54ms/step - loss: 114.2934 - mae: 114.2934 - mse: 76018.5625 - val_loss: 571.6199 - val_mae: 571.6199 - val_mse: 1187042.2500\n",
            "Epoch 83/100\n",
            "18/18 [==============================] - 0s 6ms/step - loss: 111.1759 - mae: 111.1759 - mse: 73076.8438 - val_loss: 666.0590 - val_mae: 666.0590 - val_mse: 1412631.5000\n",
            "Epoch 84/100\n",
            "18/18 [==============================] - 0s 5ms/step - loss: 112.2543 - mae: 112.2543 - mse: 73349.9531 - val_loss: 580.0314 - val_mae: 580.0314 - val_mse: 1207805.2500\n",
            "Epoch 85/100\n",
            "18/18 [==============================] - 0s 5ms/step - loss: 107.7741 - mae: 107.7741 - mse: 71110.7266 - val_loss: 599.6221 - val_mae: 599.6221 - val_mse: 1227340.8750\n",
            "Epoch 86/100\n",
            "18/18 [==============================] - 0s 5ms/step - loss: 108.7533 - mae: 108.7533 - mse: 70520.8906 - val_loss: 599.0880 - val_mae: 599.0880 - val_mse: 1224121.1250\n",
            "Epoch 87/100\n",
            "18/18 [==============================] - 0s 5ms/step - loss: 106.9682 - mae: 106.9682 - mse: 69222.3047 - val_loss: 596.5336 - val_mae: 596.5336 - val_mse: 1238882.2500\n",
            "Epoch 88/100\n",
            "18/18 [==============================] - 0s 6ms/step - loss: 107.9607 - mae: 107.9607 - mse: 72432.0156 - val_loss: 598.1052 - val_mae: 598.1052 - val_mse: 1246356.1250\n",
            "Epoch 89/100\n",
            "18/18 [==============================] - 1s 39ms/step - loss: 107.3045 - mae: 107.3045 - mse: 70395.3672 - val_loss: 570.8284 - val_mae: 570.8284 - val_mse: 1176671.2500\n",
            "Epoch 90/100\n",
            "18/18 [==============================] - 0s 5ms/step - loss: 108.0094 - mae: 108.0094 - mse: 68407.0469 - val_loss: 642.3939 - val_mae: 642.3939 - val_mse: 1315218.7500\n",
            "Epoch 91/100\n",
            "18/18 [==============================] - 0s 5ms/step - loss: 113.7574 - mae: 113.7574 - mse: 74075.8281 - val_loss: 625.3716 - val_mae: 625.3716 - val_mse: 1308408.6250\n",
            "Epoch 92/100\n",
            "18/18 [==============================] - 0s 6ms/step - loss: 108.0017 - mae: 108.0017 - mse: 71807.3828 - val_loss: 627.3054 - val_mae: 627.3054 - val_mse: 1310373.0000\n",
            "Epoch 93/100\n",
            "18/18 [==============================] - 0s 5ms/step - loss: 118.0999 - mae: 118.0999 - mse: 76482.9141 - val_loss: 637.1274 - val_mae: 637.1274 - val_mse: 1337077.1250\n",
            "Epoch 94/100\n",
            "18/18 [==============================] - 0s 6ms/step - loss: 111.3195 - mae: 111.3195 - mse: 73715.8047 - val_loss: 579.6985 - val_mae: 579.6985 - val_mse: 1190053.2500\n",
            "Epoch 95/100\n",
            "18/18 [==============================] - 0s 5ms/step - loss: 106.8561 - mae: 106.8561 - mse: 69873.7422 - val_loss: 572.8486 - val_mae: 572.8486 - val_mse: 1182019.0000\n",
            "Epoch 96/100\n",
            "18/18 [==============================] - 0s 5ms/step - loss: 115.0598 - mae: 115.0598 - mse: 74459.8594 - val_loss: 602.3210 - val_mae: 602.3210 - val_mse: 1255578.0000\n",
            "Epoch 97/100\n",
            "18/18 [==============================] - 0s 6ms/step - loss: 109.4901 - mae: 109.4901 - mse: 72031.7734 - val_loss: 616.3585 - val_mae: 616.3585 - val_mse: 1285077.2500\n",
            "Epoch 98/100\n",
            "18/18 [==============================] - 0s 6ms/step - loss: 111.2816 - mae: 111.2816 - mse: 72326.6484 - val_loss: 586.7990 - val_mae: 586.7990 - val_mse: 1201505.3750\n",
            "Epoch 99/100\n",
            "18/18 [==============================] - 0s 6ms/step - loss: 111.2904 - mae: 111.2904 - mse: 72101.9141 - val_loss: 581.4893 - val_mae: 581.4893 - val_mse: 1189068.8750\n",
            "Epoch 100/100\n",
            "18/18 [==============================] - 0s 5ms/step - loss: 107.0190 - mae: 107.0190 - mse: 69488.1094 - val_loss: 610.1541 - val_mae: 610.1541 - val_mse: 1242910.6250\n"
          ]
        }
      ]
    },
    {
      "cell_type": "code",
      "source": [
        "model4 = tf.keras.models.load_model('model_experiments/model_4_Conv1D')\n",
        "model4_preds = make_preds(model4, test_windows)\n",
        "model4_results = evaluate_preds(tf.squeeze(test_labels), model4_preds)\n",
        "model4_results"
      ],
      "metadata": {
        "colab": {
          "base_uri": "https://localhost:8080/"
        },
        "id": "nLuCilqEH1TN",
        "outputId": "0cc3a8d6-3924-4d92-ec68-5b11cebfd78b"
      },
      "execution_count": null,
      "outputs": [
        {
          "output_type": "execute_result",
          "data": {
            "text/plain": [
              "{'mae': 570.82837,\n",
              " 'mse': 1176671.2,\n",
              " 'rsme': 1084.7448,\n",
              " 'mape': 2.5593357,\n",
              " 'mase': 1.0027874}"
            ]
          },
          "metadata": {},
          "execution_count": 115
        }
      ]
    },
    {
      "cell_type": "code",
      "source": [
        "# LSTM\n",
        "tf.random.set_seed(42)\n",
        "\n",
        "inputs = layers.Input(shape=(window_size,))\n",
        "x = layers.Lambda(lambda x: tf.expand_dims(x, axis=1))(inputs)\n",
        "x = layers.LSTM(128, activation='relu')(x)\n",
        "output = layers.Dense(horizon)(x)\n",
        "model5 = tf.keras.Model(inputs, output, name='model_5_LSTM')\n",
        "\n",
        "model5.compile(loss='mae',\n",
        "               optimizer='Adam',\n",
        "               metrics=['mae', 'mse'])\n",
        "\n",
        "history5 = model5.fit(train_windows,\n",
        "                      train_labels,\n",
        "                      epochs=100,\n",
        "                      batch_size=128,\n",
        "                      validation_data=(test_windows, test_labels),\n",
        "                      callbacks=[create_model_checkpoint(model5.name)])"
      ],
      "metadata": {
        "colab": {
          "base_uri": "https://localhost:8080/"
        },
        "id": "LYjXU0z5Iygl",
        "outputId": "5d46af1e-a8c1-4ba4-8b5d-c6e6ef40a53a"
      },
      "execution_count": null,
      "outputs": [
        {
          "output_type": "stream",
          "name": "stderr",
          "text": [
            "WARNING:tensorflow:Layer lstm_1 will not use cuDNN kernels since it doesn't meet the criteria. It will use a generic GPU kernel as fallback when running on GPU.\n"
          ]
        },
        {
          "output_type": "stream",
          "name": "stdout",
          "text": [
            "Epoch 1/100\n",
            "15/18 [========================>.....] - ETA: 0s - loss: 2405.3933 - mae: 2405.3933 - mse: 14310813.0000"
          ]
        },
        {
          "output_type": "stream",
          "name": "stderr",
          "text": [
            "WARNING:absl:<keras.layers.recurrent.LSTMCell object at 0x7f08e770ac10> has the same name 'LSTMCell' as a built-in Keras object. Consider renaming <class 'keras.layers.recurrent.LSTMCell'> to avoid naming conflicts when loading with `tf.keras.models.load_model`. If renaming is not possible, pass the object in the `custom_objects` parameter of the load function.\n"
          ]
        },
        {
          "output_type": "stream",
          "name": "stdout",
          "text": [
            "\b\b\b\b\b\b\b\b\b\b\b\b\b\b\b\b\b\b\b\b\b\b\b\b\b\b\b\b\b\b\b\b\b\b\b\b\b\b\b\b\b\b\b\b\b\b\b\b\b\b\b\b\b\b\b\b\b\b\b\b\b\b\b\b\b\b\b\b\b\b\b\b\b\b\b\b\b\b\b\b\b\b\b\b\b\b\b\b\b\b\b\b\b\b\b\b\b\b\b\b\b\b\b\b\r18/18 [==============================] - 5s 148ms/step - loss: 2323.6082 - mae: 2323.6082 - mse: 13451164.0000 - val_loss: 9222.6523 - val_mae: 9222.6523 - val_mse: 150544848.0000\n",
            "Epoch 2/100\n",
            "10/18 [===============>..............] - ETA: 0s - loss: 989.3721 - mae: 989.3721 - mse: 2641875.5000  "
          ]
        },
        {
          "output_type": "stream",
          "name": "stderr",
          "text": [
            "WARNING:absl:<keras.layers.recurrent.LSTMCell object at 0x7f08e770ac10> has the same name 'LSTMCell' as a built-in Keras object. Consider renaming <class 'keras.layers.recurrent.LSTMCell'> to avoid naming conflicts when loading with `tf.keras.models.load_model`. If renaming is not possible, pass the object in the `custom_objects` parameter of the load function.\n"
          ]
        },
        {
          "output_type": "stream",
          "name": "stdout",
          "text": [
            "\b\b\b\b\b\b\b\b\b\b\b\b\b\b\b\b\b\b\b\b\b\b\b\b\b\b\b\b\b\b\b\b\b\b\b\b\b\b\b\b\b\b\b\b\b\b\b\b\b\b\b\b\b\b\b\b\b\b\b\b\b\b\b\b\b\b\b\b\b\b\b\b\b\b\b\b\b\b\b\b\b\b\b\b\b\b\b\b\b\b\b\b\b\b\b\b\b\b\b\b\b\r18/18 [==============================] - 2s 119ms/step - loss: 695.4739 - mae: 695.4739 - mse: 1664331.0000 - val_loss: 1486.0555 - val_mae: 1486.0555 - val_mse: 6266154.5000\n",
            "Epoch 3/100\n",
            "11/18 [=================>............] - ETA: 0s - loss: 270.4985 - mae: 270.4985 - mse: 286965.4688"
          ]
        },
        {
          "output_type": "stream",
          "name": "stderr",
          "text": [
            "WARNING:absl:<keras.layers.recurrent.LSTMCell object at 0x7f08e770ac10> has the same name 'LSTMCell' as a built-in Keras object. Consider renaming <class 'keras.layers.recurrent.LSTMCell'> to avoid naming conflicts when loading with `tf.keras.models.load_model`. If renaming is not possible, pass the object in the `custom_objects` parameter of the load function.\n"
          ]
        },
        {
          "output_type": "stream",
          "name": "stdout",
          "text": [
            "\b\b\b\b\b\b\b\b\b\b\b\b\b\b\b\b\b\b\b\b\b\b\b\b\b\b\b\b\b\b\b\b\b\b\b\b\b\b\b\b\b\b\b\b\b\b\b\b\b\b\b\b\b\b\b\b\b\b\b\b\b\b\b\b\b\b\b\b\b\b\b\b\b\b\b\b\b\b\b\b\b\b\b\b\b\b\b\b\b\b\b\b\b\b\b\b\b\b\b\b\r18/18 [==============================] - 2s 99ms/step - loss: 237.3967 - mae: 237.3967 - mse: 238510.3281 - val_loss: 1298.9084 - val_mae: 1298.9084 - val_mse: 4394857.5000\n",
            "Epoch 4/100\n",
            "11/18 [=================>............] - ETA: 0s - loss: 196.5330 - mae: 196.5330 - mse: 197479.2500"
          ]
        },
        {
          "output_type": "stream",
          "name": "stderr",
          "text": [
            "WARNING:absl:<keras.layers.recurrent.LSTMCell object at 0x7f08e770ac10> has the same name 'LSTMCell' as a built-in Keras object. Consider renaming <class 'keras.layers.recurrent.LSTMCell'> to avoid naming conflicts when loading with `tf.keras.models.load_model`. If renaming is not possible, pass the object in the `custom_objects` parameter of the load function.\n"
          ]
        },
        {
          "output_type": "stream",
          "name": "stdout",
          "text": [
            "\b\b\b\b\b\b\b\b\b\b\b\b\b\b\b\b\b\b\b\b\b\b\b\b\b\b\b\b\b\b\b\b\b\b\b\b\b\b\b\b\b\b\b\b\b\b\b\b\b\b\b\b\b\b\b\b\b\b\b\b\b\b\b\b\b\b\b\b\b\b\b\b\b\b\b\b\b\b\b\b\b\b\b\b\b\b\b\b\b\b\b\b\b\b\b\b\b\b\b\b\r18/18 [==============================] - 2s 98ms/step - loss: 181.9180 - mae: 181.9180 - mse: 168791.5625 - val_loss: 966.6431 - val_mae: 966.6431 - val_mse: 3159459.2500\n",
            "Epoch 5/100\n",
            "18/18 [==============================] - 0s 7ms/step - loss: 173.4022 - mae: 173.4022 - mse: 159026.5625 - val_loss: 970.9295 - val_mae: 970.9295 - val_mse: 3095508.5000\n",
            "Epoch 6/100\n",
            "10/18 [===============>..............] - ETA: 0s - loss: 169.4068 - mae: 169.4068 - mse: 138980.6875"
          ]
        },
        {
          "output_type": "stream",
          "name": "stderr",
          "text": [
            "WARNING:absl:<keras.layers.recurrent.LSTMCell object at 0x7f08e770ac10> has the same name 'LSTMCell' as a built-in Keras object. Consider renaming <class 'keras.layers.recurrent.LSTMCell'> to avoid naming conflicts when loading with `tf.keras.models.load_model`. If renaming is not possible, pass the object in the `custom_objects` parameter of the load function.\n"
          ]
        },
        {
          "output_type": "stream",
          "name": "stdout",
          "text": [
            "\b\b\b\b\b\b\b\b\b\b\b\b\b\b\b\b\b\b\b\b\b\b\b\b\b\b\b\b\b\b\b\b\b\b\b\b\b\b\b\b\b\b\b\b\b\b\b\b\b\b\b\b\b\b\b\b\b\b\b\b\b\b\b\b\b\b\b\b\b\b\b\b\b\b\b\b\b\b\b\b\b\b\b\b\b\b\b\b\b\b\b\b\b\b\b\b\b\b\b\b\r18/18 [==============================] - 2s 125ms/step - loss: 173.5414 - mae: 173.5414 - mse: 154012.8281 - val_loss: 941.4746 - val_mae: 941.4746 - val_mse: 2827413.2500\n",
            "Epoch 7/100\n",
            "17/18 [===========================>..] - ETA: 0s - loss: 171.3403 - mae: 171.3403 - mse: 158090.1406"
          ]
        },
        {
          "output_type": "stream",
          "name": "stderr",
          "text": [
            "WARNING:absl:<keras.layers.recurrent.LSTMCell object at 0x7f08e770ac10> has the same name 'LSTMCell' as a built-in Keras object. Consider renaming <class 'keras.layers.recurrent.LSTMCell'> to avoid naming conflicts when loading with `tf.keras.models.load_model`. If renaming is not possible, pass the object in the `custom_objects` parameter of the load function.\n"
          ]
        },
        {
          "output_type": "stream",
          "name": "stdout",
          "text": [
            "\b\b\b\b\b\b\b\b\b\b\b\b\b\b\b\b\b\b\b\b\b\b\b\b\b\b\b\b\b\b\b\b\b\b\b\b\b\b\b\b\b\b\b\b\b\b\b\b\b\b\b\b\b\b\b\b\b\b\b\b\b\b\b\b\b\b\b\b\b\b\b\b\b\b\b\b\b\b\b\b\b\b\b\b\b\b\b\b\b\b\b\b\b\b\b\b\b\b\b\b\r18/18 [==============================] - 2s 130ms/step - loss: 170.3566 - mae: 170.3566 - mse: 155902.1719 - val_loss: 898.5215 - val_mae: 898.5215 - val_mse: 2614158.7500\n",
            "Epoch 8/100\n",
            "18/18 [==============================] - 0s 7ms/step - loss: 157.6712 - mae: 157.6712 - mse: 136152.3125 - val_loss: 914.8642 - val_mae: 914.8642 - val_mse: 2657904.7500\n",
            "Epoch 9/100\n",
            "18/18 [==============================] - 0s 8ms/step - loss: 166.5143 - mae: 166.5143 - mse: 146057.1719 - val_loss: 1079.0776 - val_mae: 1079.0776 - val_mse: 3372638.7500\n",
            "Epoch 10/100\n",
            "10/18 [===============>..............] - ETA: 0s - loss: 162.4181 - mae: 162.4181 - mse: 130218.3594"
          ]
        },
        {
          "output_type": "stream",
          "name": "stderr",
          "text": [
            "WARNING:absl:<keras.layers.recurrent.LSTMCell object at 0x7f08e770ac10> has the same name 'LSTMCell' as a built-in Keras object. Consider renaming <class 'keras.layers.recurrent.LSTMCell'> to avoid naming conflicts when loading with `tf.keras.models.load_model`. If renaming is not possible, pass the object in the `custom_objects` parameter of the load function.\n"
          ]
        },
        {
          "output_type": "stream",
          "name": "stdout",
          "text": [
            "\b\b\b\b\b\b\b\b\b\b\b\b\b\b\b\b\b\b\b\b\b\b\b\b\b\b\b\b\b\b\b\b\b\b\b\b\b\b\b\b\b\b\b\b\b\b\b\b\b\b\b\b\b\b\b\b\b\b\b\b\b\b\b\b\b\b\b\b\b\b\b\b\b\b\b\b\b\b\b\b\b\b\b\b\b\b\b\b\b\b\b\b\b\b\b\b\b\b\b\b\r18/18 [==============================] - 2s 100ms/step - loss: 162.3369 - mae: 162.3369 - mse: 134529.5469 - val_loss: 877.1690 - val_mae: 877.1690 - val_mse: 2416075.5000\n",
            "Epoch 11/100\n",
            "18/18 [==============================] - 0s 8ms/step - loss: 163.0841 - mae: 163.0841 - mse: 142166.6875 - val_loss: 924.1126 - val_mae: 924.1127 - val_mse: 2880439.5000\n",
            "Epoch 12/100\n",
            "18/18 [==============================] - 0s 7ms/step - loss: 168.5598 - mae: 168.5598 - mse: 149940.1094 - val_loss: 941.6025 - val_mae: 941.6025 - val_mse: 2945409.0000\n",
            "Epoch 13/100\n",
            "18/18 [==============================] - 0s 7ms/step - loss: 166.4726 - mae: 166.4726 - mse: 149715.0000 - val_loss: 934.8436 - val_mae: 934.8436 - val_mse: 2894061.0000\n",
            "Epoch 14/100\n",
            "18/18 [==============================] - 0s 7ms/step - loss: 163.9537 - mae: 163.9537 - mse: 144073.3438 - val_loss: 920.2160 - val_mae: 920.2160 - val_mse: 2636641.0000\n",
            "Epoch 15/100\n",
            "11/18 [=================>............] - ETA: 0s - loss: 151.0251 - mae: 151.0251 - mse: 118955.1484"
          ]
        },
        {
          "output_type": "stream",
          "name": "stderr",
          "text": [
            "WARNING:absl:<keras.layers.recurrent.LSTMCell object at 0x7f08e770ac10> has the same name 'LSTMCell' as a built-in Keras object. Consider renaming <class 'keras.layers.recurrent.LSTMCell'> to avoid naming conflicts when loading with `tf.keras.models.load_model`. If renaming is not possible, pass the object in the `custom_objects` parameter of the load function.\n"
          ]
        },
        {
          "output_type": "stream",
          "name": "stdout",
          "text": [
            "\b\b\b\b\b\b\b\b\b\b\b\b\b\b\b\b\b\b\b\b\b\b\b\b\b\b\b\b\b\b\b\b\b\b\b\b\b\b\b\b\b\b\b\b\b\b\b\b\b\b\b\b\b\b\b\b\b\b\b\b\b\b\b\b\b\b\b\b\b\b\b\b\b\b\b\b\b\b\b\b\b\b\b\b\b\b\b\b\b\b\b\b\b\b\b\b\b\b\b\b\r18/18 [==============================] - 2s 100ms/step - loss: 152.9470 - mae: 152.9470 - mse: 123160.4453 - val_loss: 856.2653 - val_mae: 856.2653 - val_mse: 2465898.5000\n",
            "Epoch 16/100\n",
            "18/18 [==============================] - 0s 7ms/step - loss: 147.4420 - mae: 147.4420 - mse: 116629.3828 - val_loss: 898.9914 - val_mae: 898.9914 - val_mse: 2276295.7500\n",
            "Epoch 17/100\n",
            "18/18 [==============================] - 0s 8ms/step - loss: 151.0533 - mae: 151.0533 - mse: 118490.4844 - val_loss: 943.1418 - val_mae: 943.1418 - val_mse: 2741249.7500\n",
            "Epoch 18/100\n",
            "18/18 [==============================] - 0s 7ms/step - loss: 157.8232 - mae: 157.8232 - mse: 135940.5000 - val_loss: 924.0046 - val_mae: 924.0046 - val_mse: 2666361.0000\n",
            "Epoch 19/100\n",
            "18/18 [==============================] - 0s 7ms/step - loss: 155.9198 - mae: 155.9198 - mse: 133608.1875 - val_loss: 911.4753 - val_mae: 911.4753 - val_mse: 2607185.5000\n",
            "Epoch 20/100\n",
            "18/18 [==============================] - 0s 7ms/step - loss: 155.6456 - mae: 155.6456 - mse: 132747.7812 - val_loss: 862.6680 - val_mae: 862.6680 - val_mse: 2480259.0000\n",
            "Epoch 21/100\n",
            "18/18 [==============================] - 0s 8ms/step - loss: 153.1514 - mae: 153.1514 - mse: 129590.4453 - val_loss: 862.5831 - val_mae: 862.5831 - val_mse: 2438788.2500\n",
            "Epoch 22/100\n",
            "18/18 [==============================] - 0s 7ms/step - loss: 151.4883 - mae: 151.4883 - mse: 126814.4922 - val_loss: 863.8172 - val_mae: 863.8172 - val_mse: 2407638.5000\n",
            "Epoch 23/100\n",
            "18/18 [==============================] - 0s 7ms/step - loss: 150.7770 - mae: 150.7770 - mse: 125334.4453 - val_loss: 886.8356 - val_mae: 886.8356 - val_mse: 2435268.2500\n",
            "Epoch 24/100\n",
            "18/18 [==============================] - 0s 8ms/step - loss: 148.6539 - mae: 148.6539 - mse: 121406.0547 - val_loss: 861.3270 - val_mae: 861.3270 - val_mse: 2346643.0000\n",
            "Epoch 25/100\n",
            "11/18 [=================>............] - ETA: 0s - loss: 153.1637 - mae: 153.1637 - mse: 130836.1172"
          ]
        },
        {
          "output_type": "stream",
          "name": "stderr",
          "text": [
            "WARNING:absl:<keras.layers.recurrent.LSTMCell object at 0x7f08e770ac10> has the same name 'LSTMCell' as a built-in Keras object. Consider renaming <class 'keras.layers.recurrent.LSTMCell'> to avoid naming conflicts when loading with `tf.keras.models.load_model`. If renaming is not possible, pass the object in the `custom_objects` parameter of the load function.\n"
          ]
        },
        {
          "output_type": "stream",
          "name": "stdout",
          "text": [
            "\b\b\b\b\b\b\b\b\b\b\b\b\b\b\b\b\b\b\b\b\b\b\b\b\b\b\b\b\b\b\b\b\b\b\b\b\b\b\b\b\b\b\b\b\b\b\b\b\b\b\b\b\b\b\b\b\b\b\b\b\b\b\b\b\b\b\b\b\b\b\b\b\b\b\b\b\b\b\b\b\b\b\b\b\b\b\b\b\b\b\b\b\b\b\b\b\b\b\b\b\r18/18 [==============================] - 2s 100ms/step - loss: 146.8467 - mae: 146.8467 - mse: 120590.7266 - val_loss: 845.2782 - val_mae: 845.2782 - val_mse: 2279688.0000\n",
            "Epoch 26/100\n",
            "10/18 [===============>..............] - ETA: 0s - loss: 148.7083 - mae: 148.7083 - mse: 114816.8516"
          ]
        },
        {
          "output_type": "stream",
          "name": "stderr",
          "text": [
            "WARNING:absl:<keras.layers.recurrent.LSTMCell object at 0x7f08e770ac10> has the same name 'LSTMCell' as a built-in Keras object. Consider renaming <class 'keras.layers.recurrent.LSTMCell'> to avoid naming conflicts when loading with `tf.keras.models.load_model`. If renaming is not possible, pass the object in the `custom_objects` parameter of the load function.\n"
          ]
        },
        {
          "output_type": "stream",
          "name": "stdout",
          "text": [
            "\b\b\b\b\b\b\b\b\b\b\b\b\b\b\b\b\b\b\b\b\b\b\b\b\b\b\b\b\b\b\b\b\b\b\b\b\b\b\b\b\b\b\b\b\b\b\b\b\b\b\b\b\b\b\b\b\b\b\b\b\b\b\b\b\b\b\b\b\b\b\b\b\b\b\b\b\b\b\b\b\b\b\b\b\b\b\b\b\b\b\b\b\b\b\b\b\b\b\b\b\r18/18 [==============================] - 2s 98ms/step - loss: 145.9843 - mae: 145.9843 - mse: 118008.3594 - val_loss: 818.6807 - val_mae: 818.6807 - val_mse: 2195707.0000\n",
            "Epoch 27/100\n",
            "11/18 [=================>............] - ETA: 0s - loss: 153.2509 - mae: 153.2509 - mse: 131652.0938"
          ]
        },
        {
          "output_type": "stream",
          "name": "stderr",
          "text": [
            "WARNING:absl:<keras.layers.recurrent.LSTMCell object at 0x7f08e770ac10> has the same name 'LSTMCell' as a built-in Keras object. Consider renaming <class 'keras.layers.recurrent.LSTMCell'> to avoid naming conflicts when loading with `tf.keras.models.load_model`. If renaming is not possible, pass the object in the `custom_objects` parameter of the load function.\n"
          ]
        },
        {
          "output_type": "stream",
          "name": "stdout",
          "text": [
            "\b\b\b\b\b\b\b\b\b\b\b\b\b\b\b\b\b\b\b\b\b\b\b\b\b\b\b\b\b\b\b\b\b\b\b\b\b\b\b\b\b\b\b\b\b\b\b\b\b\b\b\b\b\b\b\b\b\b\b\b\b\b\b\b\b\b\b\b\b\b\b\b\b\b\b\b\b\b\b\b\b\b\b\b\b\b\b\b\b\b\b\b\b\b\b\b\b\b\b\b\r18/18 [==============================] - 2s 101ms/step - loss: 144.4289 - mae: 144.4289 - mse: 116627.6328 - val_loss: 804.3279 - val_mae: 804.3279 - val_mse: 2141244.2500\n",
            "Epoch 28/100\n",
            "11/18 [=================>............] - ETA: 0s - loss: 145.3607 - mae: 145.3607 - mse: 115623.1719"
          ]
        },
        {
          "output_type": "stream",
          "name": "stderr",
          "text": [
            "WARNING:absl:<keras.layers.recurrent.LSTMCell object at 0x7f08e770ac10> has the same name 'LSTMCell' as a built-in Keras object. Consider renaming <class 'keras.layers.recurrent.LSTMCell'> to avoid naming conflicts when loading with `tf.keras.models.load_model`. If renaming is not possible, pass the object in the `custom_objects` parameter of the load function.\n"
          ]
        },
        {
          "output_type": "stream",
          "name": "stdout",
          "text": [
            "\b\b\b\b\b\b\b\b\b\b\b\b\b\b\b\b\b\b\b\b\b\b\b\b\b\b\b\b\b\b\b\b\b\b\b\b\b\b\b\b\b\b\b\b\b\b\b\b\b\b\b\b\b\b\b\b\b\b\b\b\b\b\b\b\b\b\b\b\b\b\b\b\b\b\b\b\b\b\b\b\b\b\b\b\b\b\b\b\b\b\b\b\b\b\b\b\b\b\b\b\r18/18 [==============================] - 2s 119ms/step - loss: 142.4610 - mae: 142.4610 - mse: 115313.7578 - val_loss: 789.0859 - val_mae: 789.0859 - val_mse: 2095049.6250\n",
            "Epoch 29/100\n",
            "18/18 [==============================] - 0s 7ms/step - loss: 141.8739 - mae: 141.8739 - mse: 112794.9297 - val_loss: 806.6758 - val_mae: 806.6758 - val_mse: 2090220.2500\n",
            "Epoch 30/100\n",
            "18/18 [==============================] - 0s 7ms/step - loss: 142.0521 - mae: 142.0521 - mse: 112808.3359 - val_loss: 794.8836 - val_mae: 794.8837 - val_mse: 2040775.6250\n",
            "Epoch 31/100\n",
            "10/18 [===============>..............] - ETA: 0s - loss: 142.2655 - mae: 142.2655 - mse: 112298.5859"
          ]
        },
        {
          "output_type": "stream",
          "name": "stderr",
          "text": [
            "WARNING:absl:<keras.layers.recurrent.LSTMCell object at 0x7f08e770ac10> has the same name 'LSTMCell' as a built-in Keras object. Consider renaming <class 'keras.layers.recurrent.LSTMCell'> to avoid naming conflicts when loading with `tf.keras.models.load_model`. If renaming is not possible, pass the object in the `custom_objects` parameter of the load function.\n"
          ]
        },
        {
          "output_type": "stream",
          "name": "stdout",
          "text": [
            "\b\b\b\b\b\b\b\b\b\b\b\b\b\b\b\b\b\b\b\b\b\b\b\b\b\b\b\b\b\b\b\b\b\b\b\b\b\b\b\b\b\b\b\b\b\b\b\b\b\b\b\b\b\b\b\b\b\b\b\b\b\b\b\b\b\b\b\b\b\b\b\b\b\b\b\b\b\b\b\b\b\b\b\b\b\b\b\b\b\b\b\b\b\b\b\b\b\b\b\b\r18/18 [==============================] - 2s 97ms/step - loss: 138.4690 - mae: 138.4690 - mse: 107980.4766 - val_loss: 773.2812 - val_mae: 773.2812 - val_mse: 1972856.3750\n",
            "Epoch 32/100\n",
            "11/18 [=================>............] - ETA: 0s - loss: 137.6196 - mae: 137.6196 - mse: 98855.5234"
          ]
        },
        {
          "output_type": "stream",
          "name": "stderr",
          "text": [
            "WARNING:absl:<keras.layers.recurrent.LSTMCell object at 0x7f08e770ac10> has the same name 'LSTMCell' as a built-in Keras object. Consider renaming <class 'keras.layers.recurrent.LSTMCell'> to avoid naming conflicts when loading with `tf.keras.models.load_model`. If renaming is not possible, pass the object in the `custom_objects` parameter of the load function.\n"
          ]
        },
        {
          "output_type": "stream",
          "name": "stdout",
          "text": [
            "\b\b\b\b\b\b\b\b\b\b\b\b\b\b\b\b\b\b\b\b\b\b\b\b\b\b\b\b\b\b\b\b\b\b\b\b\b\b\b\b\b\b\b\b\b\b\b\b\b\b\b\b\b\b\b\b\b\b\b\b\b\b\b\b\b\b\b\b\b\b\b\b\b\b\b\b\b\b\b\b\b\b\b\b\b\b\b\b\b\b\b\b\b\b\b\b\b\b\b\r18/18 [==============================] - 2s 98ms/step - loss: 137.1986 - mae: 137.1986 - mse: 106284.4766 - val_loss: 772.2625 - val_mae: 772.2625 - val_mse: 1948036.6250\n",
            "Epoch 33/100\n",
            "18/18 [==============================] - 0s 8ms/step - loss: 135.9342 - mae: 135.9342 - mse: 103751.0312 - val_loss: 786.4805 - val_mae: 786.4805 - val_mse: 1961976.8750\n",
            "Epoch 34/100\n",
            "11/18 [=================>............] - ETA: 0s - loss: 142.0283 - mae: 142.0283 - mse: 118156.6328"
          ]
        },
        {
          "output_type": "stream",
          "name": "stderr",
          "text": [
            "WARNING:absl:<keras.layers.recurrent.LSTMCell object at 0x7f08e770ac10> has the same name 'LSTMCell' as a built-in Keras object. Consider renaming <class 'keras.layers.recurrent.LSTMCell'> to avoid naming conflicts when loading with `tf.keras.models.load_model`. If renaming is not possible, pass the object in the `custom_objects` parameter of the load function.\n"
          ]
        },
        {
          "output_type": "stream",
          "name": "stdout",
          "text": [
            "\b\b\b\b\b\b\b\b\b\b\b\b\b\b\b\b\b\b\b\b\b\b\b\b\b\b\b\b\b\b\b\b\b\b\b\b\b\b\b\b\b\b\b\b\b\b\b\b\b\b\b\b\b\b\b\b\b\b\b\b\b\b\b\b\b\b\b\b\b\b\b\b\b\b\b\b\b\b\b\b\b\b\b\b\b\b\b\b\b\b\b\b\b\b\b\b\b\b\b\b\r18/18 [==============================] - 2s 97ms/step - loss: 136.1931 - mae: 136.1931 - mse: 104538.6016 - val_loss: 744.4506 - val_mae: 744.4506 - val_mse: 1886289.3750\n",
            "Epoch 35/100\n",
            "18/18 [==============================] - 0s 8ms/step - loss: 133.4513 - mae: 133.4513 - mse: 102255.5938 - val_loss: 756.2970 - val_mae: 756.2970 - val_mse: 1852667.6250\n",
            "Epoch 36/100\n",
            "10/18 [===============>..............] - ETA: 0s - loss: 128.8641 - mae: 128.8641 - mse: 99836.8750 "
          ]
        },
        {
          "output_type": "stream",
          "name": "stderr",
          "text": [
            "WARNING:absl:<keras.layers.recurrent.LSTMCell object at 0x7f08e770ac10> has the same name 'LSTMCell' as a built-in Keras object. Consider renaming <class 'keras.layers.recurrent.LSTMCell'> to avoid naming conflicts when loading with `tf.keras.models.load_model`. If renaming is not possible, pass the object in the `custom_objects` parameter of the load function.\n"
          ]
        },
        {
          "output_type": "stream",
          "name": "stdout",
          "text": [
            "\b\b\b\b\b\b\b\b\b\b\b\b\b\b\b\b\b\b\b\b\b\b\b\b\b\b\b\b\b\b\b\b\b\b\b\b\b\b\b\b\b\b\b\b\b\b\b\b\b\b\b\b\b\b\b\b\b\b\b\b\b\b\b\b\b\b\b\b\b\b\b\b\b\b\b\b\b\b\b\b\b\b\b\b\b\b\b\b\b\b\b\b\b\b\b\b\b\b\b\r18/18 [==============================] - 2s 99ms/step - loss: 134.0992 - mae: 134.0992 - mse: 103215.3203 - val_loss: 735.1729 - val_mae: 735.1729 - val_mse: 1840291.6250\n",
            "Epoch 37/100\n",
            "18/18 [==============================] - 0s 7ms/step - loss: 130.6932 - mae: 130.6932 - mse: 99329.6328 - val_loss: 745.9099 - val_mae: 745.9099 - val_mse: 1796193.8750\n",
            "Epoch 38/100\n",
            "10/18 [===============>..............] - ETA: 0s - loss: 137.2887 - mae: 137.2887 - mse: 103603.9531"
          ]
        },
        {
          "output_type": "stream",
          "name": "stderr",
          "text": [
            "WARNING:absl:<keras.layers.recurrent.LSTMCell object at 0x7f08e770ac10> has the same name 'LSTMCell' as a built-in Keras object. Consider renaming <class 'keras.layers.recurrent.LSTMCell'> to avoid naming conflicts when loading with `tf.keras.models.load_model`. If renaming is not possible, pass the object in the `custom_objects` parameter of the load function.\n"
          ]
        },
        {
          "output_type": "stream",
          "name": "stdout",
          "text": [
            "\b\b\b\b\b\b\b\b\b\b\b\b\b\b\b\b\b\b\b\b\b\b\b\b\b\b\b\b\b\b\b\b\b\b\b\b\b\b\b\b\b\b\b\b\b\b\b\b\b\b\b\b\b\b\b\b\b\b\b\b\b\b\b\b\b\b\b\b\b\b\b\b\b\b\b\b\b\b\b\b\b\b\b\b\b\b\b\b\b\b\b\b\b\b\b\b\b\b\b\b\r18/18 [==============================] - 2s 139ms/step - loss: 129.2891 - mae: 129.2891 - mse: 96651.1484 - val_loss: 717.2498 - val_mae: 717.2498 - val_mse: 1739678.7500\n",
            "Epoch 39/100\n",
            "18/18 [==============================] - 0s 7ms/step - loss: 129.6088 - mae: 129.6088 - mse: 97402.8438 - val_loss: 719.0665 - val_mae: 719.0665 - val_mse: 1764965.1250\n",
            "Epoch 40/100\n",
            "18/18 [==============================] - 0s 7ms/step - loss: 129.6111 - mae: 129.6111 - mse: 96268.3438 - val_loss: 732.0632 - val_mae: 732.0632 - val_mse: 1722418.6250\n",
            "Epoch 41/100\n",
            "10/18 [===============>..............] - ETA: 0s - loss: 133.3553 - mae: 133.3553 - mse: 103149.5156"
          ]
        },
        {
          "output_type": "stream",
          "name": "stderr",
          "text": [
            "WARNING:absl:<keras.layers.recurrent.LSTMCell object at 0x7f08e770ac10> has the same name 'LSTMCell' as a built-in Keras object. Consider renaming <class 'keras.layers.recurrent.LSTMCell'> to avoid naming conflicts when loading with `tf.keras.models.load_model`. If renaming is not possible, pass the object in the `custom_objects` parameter of the load function.\n"
          ]
        },
        {
          "output_type": "stream",
          "name": "stdout",
          "text": [
            "\b\b\b\b\b\b\b\b\b\b\b\b\b\b\b\b\b\b\b\b\b\b\b\b\b\b\b\b\b\b\b\b\b\b\b\b\b\b\b\b\b\b\b\b\b\b\b\b\b\b\b\b\b\b\b\b\b\b\b\b\b\b\b\b\b\b\b\b\b\b\b\b\b\b\b\b\b\b\b\b\b\b\b\b\b\b\b\b\b\b\b\b\b\b\b\b\b\b\b\b\r18/18 [==============================] - 2s 126ms/step - loss: 127.1393 - mae: 127.1393 - mse: 94059.6016 - val_loss: 702.9354 - val_mae: 702.9354 - val_mse: 1654539.1250\n",
            "Epoch 42/100\n",
            "11/18 [=================>............] - ETA: 0s - loss: 126.7599 - mae: 126.7599 - mse: 98185.7188"
          ]
        },
        {
          "output_type": "stream",
          "name": "stderr",
          "text": [
            "WARNING:absl:<keras.layers.recurrent.LSTMCell object at 0x7f08e770ac10> has the same name 'LSTMCell' as a built-in Keras object. Consider renaming <class 'keras.layers.recurrent.LSTMCell'> to avoid naming conflicts when loading with `tf.keras.models.load_model`. If renaming is not possible, pass the object in the `custom_objects` parameter of the load function.\n"
          ]
        },
        {
          "output_type": "stream",
          "name": "stdout",
          "text": [
            "\b\b\b\b\b\b\b\b\b\b\b\b\b\b\b\b\b\b\b\b\b\b\b\b\b\b\b\b\b\b\b\b\b\b\b\b\b\b\b\b\b\b\b\b\b\b\b\b\b\b\b\b\b\b\b\b\b\b\b\b\b\b\b\b\b\b\b\b\b\b\b\b\b\b\b\b\b\b\b\b\b\b\b\b\b\b\b\b\b\b\b\b\b\b\b\b\b\b\b\r18/18 [==============================] - 2s 100ms/step - loss: 125.6113 - mae: 125.6113 - mse: 93062.1250 - val_loss: 700.8702 - val_mae: 700.8702 - val_mse: 1632477.6250\n",
            "Epoch 43/100\n",
            "18/18 [==============================] - 0s 7ms/step - loss: 125.9959 - mae: 125.9959 - mse: 91461.9453 - val_loss: 704.3682 - val_mae: 704.3682 - val_mse: 1634230.3750\n",
            "Epoch 44/100\n",
            "10/18 [===============>..............] - ETA: 0s - loss: 119.9876 - mae: 119.9876 - mse: 82793.8906"
          ]
        },
        {
          "output_type": "stream",
          "name": "stderr",
          "text": [
            "WARNING:absl:<keras.layers.recurrent.LSTMCell object at 0x7f08e770ac10> has the same name 'LSTMCell' as a built-in Keras object. Consider renaming <class 'keras.layers.recurrent.LSTMCell'> to avoid naming conflicts when loading with `tf.keras.models.load_model`. If renaming is not possible, pass the object in the `custom_objects` parameter of the load function.\n"
          ]
        },
        {
          "output_type": "stream",
          "name": "stdout",
          "text": [
            "\b\b\b\b\b\b\b\b\b\b\b\b\b\b\b\b\b\b\b\b\b\b\b\b\b\b\b\b\b\b\b\b\b\b\b\b\b\b\b\b\b\b\b\b\b\b\b\b\b\b\b\b\b\b\b\b\b\b\b\b\b\b\b\b\b\b\b\b\b\b\b\b\b\b\b\b\b\b\b\b\b\b\b\b\b\b\b\b\b\b\b\b\b\b\b\b\b\b\b\r18/18 [==============================] - 2s 99ms/step - loss: 125.2241 - mae: 125.2241 - mse: 91130.9141 - val_loss: 698.7766 - val_mae: 698.7766 - val_mse: 1611164.0000\n",
            "Epoch 45/100\n",
            "11/18 [=================>............] - ETA: 0s - loss: 121.2221 - mae: 121.2221 - mse: 81012.4062"
          ]
        },
        {
          "output_type": "stream",
          "name": "stderr",
          "text": [
            "WARNING:absl:<keras.layers.recurrent.LSTMCell object at 0x7f08e770ac10> has the same name 'LSTMCell' as a built-in Keras object. Consider renaming <class 'keras.layers.recurrent.LSTMCell'> to avoid naming conflicts when loading with `tf.keras.models.load_model`. If renaming is not possible, pass the object in the `custom_objects` parameter of the load function.\n"
          ]
        },
        {
          "output_type": "stream",
          "name": "stdout",
          "text": [
            "\b\b\b\b\b\b\b\b\b\b\b\b\b\b\b\b\b\b\b\b\b\b\b\b\b\b\b\b\b\b\b\b\b\b\b\b\b\b\b\b\b\b\b\b\b\b\b\b\b\b\b\b\b\b\b\b\b\b\b\b\b\b\b\b\b\b\b\b\b\b\b\b\b\b\b\b\b\b\b\b\b\b\b\b\b\b\b\b\b\b\b\b\b\b\b\b\b\b\b\r18/18 [==============================] - 2s 97ms/step - loss: 122.5007 - mae: 122.5007 - mse: 87852.5938 - val_loss: 683.0590 - val_mae: 683.0590 - val_mse: 1587455.5000\n",
            "Epoch 46/100\n",
            "11/18 [=================>............] - ETA: 0s - loss: 130.6197 - mae: 130.6197 - mse: 103183.5234"
          ]
        },
        {
          "output_type": "stream",
          "name": "stderr",
          "text": [
            "WARNING:absl:<keras.layers.recurrent.LSTMCell object at 0x7f08e770ac10> has the same name 'LSTMCell' as a built-in Keras object. Consider renaming <class 'keras.layers.recurrent.LSTMCell'> to avoid naming conflicts when loading with `tf.keras.models.load_model`. If renaming is not possible, pass the object in the `custom_objects` parameter of the load function.\n"
          ]
        },
        {
          "output_type": "stream",
          "name": "stdout",
          "text": [
            "\b\b\b\b\b\b\b\b\b\b\b\b\b\b\b\b\b\b\b\b\b\b\b\b\b\b\b\b\b\b\b\b\b\b\b\b\b\b\b\b\b\b\b\b\b\b\b\b\b\b\b\b\b\b\b\b\b\b\b\b\b\b\b\b\b\b\b\b\b\b\b\b\b\b\b\b\b\b\b\b\b\b\b\b\b\b\b\b\b\b\b\b\b\b\b\b\b\b\b\b\r18/18 [==============================] - 2s 99ms/step - loss: 124.4726 - mae: 124.4726 - mse: 89115.8672 - val_loss: 679.1873 - val_mae: 679.1873 - val_mse: 1563189.8750\n",
            "Epoch 47/100\n",
            "18/18 [==============================] - 0s 8ms/step - loss: 122.1862 - mae: 122.1862 - mse: 88216.1328 - val_loss: 705.4241 - val_mae: 705.4241 - val_mse: 1601601.6250\n",
            "Epoch 48/100\n",
            "11/18 [=================>............] - ETA: 0s - loss: 120.7927 - mae: 120.7927 - mse: 84421.3828"
          ]
        },
        {
          "output_type": "stream",
          "name": "stderr",
          "text": [
            "WARNING:absl:<keras.layers.recurrent.LSTMCell object at 0x7f08e770ac10> has the same name 'LSTMCell' as a built-in Keras object. Consider renaming <class 'keras.layers.recurrent.LSTMCell'> to avoid naming conflicts when loading with `tf.keras.models.load_model`. If renaming is not possible, pass the object in the `custom_objects` parameter of the load function.\n"
          ]
        },
        {
          "output_type": "stream",
          "name": "stdout",
          "text": [
            "\b\b\b\b\b\b\b\b\b\b\b\b\b\b\b\b\b\b\b\b\b\b\b\b\b\b\b\b\b\b\b\b\b\b\b\b\b\b\b\b\b\b\b\b\b\b\b\b\b\b\b\b\b\b\b\b\b\b\b\b\b\b\b\b\b\b\b\b\b\b\b\b\b\b\b\b\b\b\b\b\b\b\b\b\b\b\b\b\b\b\b\b\b\b\b\b\b\b\b\r18/18 [==============================] - 2s 97ms/step - loss: 122.0458 - mae: 122.0458 - mse: 86790.4453 - val_loss: 677.0784 - val_mae: 677.0784 - val_mse: 1531911.8750\n",
            "Epoch 49/100\n",
            "11/18 [=================>............] - ETA: 0s - loss: 127.1128 - mae: 127.1128 - mse: 101568.7031"
          ]
        },
        {
          "output_type": "stream",
          "name": "stderr",
          "text": [
            "WARNING:absl:<keras.layers.recurrent.LSTMCell object at 0x7f08e770ac10> has the same name 'LSTMCell' as a built-in Keras object. Consider renaming <class 'keras.layers.recurrent.LSTMCell'> to avoid naming conflicts when loading with `tf.keras.models.load_model`. If renaming is not possible, pass the object in the `custom_objects` parameter of the load function.\n"
          ]
        },
        {
          "output_type": "stream",
          "name": "stdout",
          "text": [
            "\b\b\b\b\b\b\b\b\b\b\b\b\b\b\b\b\b\b\b\b\b\b\b\b\b\b\b\b\b\b\b\b\b\b\b\b\b\b\b\b\b\b\b\b\b\b\b\b\b\b\b\b\b\b\b\b\b\b\b\b\b\b\b\b\b\b\b\b\b\b\b\b\b\b\b\b\b\b\b\b\b\b\b\b\b\b\b\b\b\b\b\b\b\b\b\b\b\b\b\b\r18/18 [==============================] - 2s 100ms/step - loss: 121.1548 - mae: 121.1548 - mse: 86714.9219 - val_loss: 674.6848 - val_mae: 674.6848 - val_mse: 1519799.5000\n",
            "Epoch 50/100\n",
            "18/18 [==============================] - 0s 7ms/step - loss: 122.8890 - mae: 122.8890 - mse: 86371.2188 - val_loss: 691.4816 - val_mae: 691.4816 - val_mse: 1621967.2500\n",
            "Epoch 51/100\n",
            "18/18 [==============================] - 0s 8ms/step - loss: 122.2994 - mae: 122.2994 - mse: 84443.6250 - val_loss: 737.3929 - val_mae: 737.3929 - val_mse: 1666765.1250\n",
            "Epoch 52/100\n",
            "10/18 [===============>..............] - ETA: 0s - loss: 126.4967 - mae: 126.4967 - mse: 89806.3594"
          ]
        },
        {
          "output_type": "stream",
          "name": "stderr",
          "text": [
            "WARNING:absl:<keras.layers.recurrent.LSTMCell object at 0x7f08e770ac10> has the same name 'LSTMCell' as a built-in Keras object. Consider renaming <class 'keras.layers.recurrent.LSTMCell'> to avoid naming conflicts when loading with `tf.keras.models.load_model`. If renaming is not possible, pass the object in the `custom_objects` parameter of the load function.\n"
          ]
        },
        {
          "output_type": "stream",
          "name": "stdout",
          "text": [
            "\b\b\b\b\b\b\b\b\b\b\b\b\b\b\b\b\b\b\b\b\b\b\b\b\b\b\b\b\b\b\b\b\b\b\b\b\b\b\b\b\b\b\b\b\b\b\b\b\b\b\b\b\b\b\b\b\b\b\b\b\b\b\b\b\b\b\b\b\b\b\b\b\b\b\b\b\b\b\b\b\b\b\b\b\b\b\b\b\b\b\b\b\b\b\b\b\b\b\b\r18/18 [==============================] - 2s 129ms/step - loss: 121.2944 - mae: 121.2944 - mse: 86066.5625 - val_loss: 657.2365 - val_mae: 657.2365 - val_mse: 1474019.0000\n",
            "Epoch 53/100\n",
            "11/18 [=================>............] - ETA: 0s - loss: 118.0734 - mae: 118.0734 - mse: 83804.3281"
          ]
        },
        {
          "output_type": "stream",
          "name": "stderr",
          "text": [
            "WARNING:absl:<keras.layers.recurrent.LSTMCell object at 0x7f08e770ac10> has the same name 'LSTMCell' as a built-in Keras object. Consider renaming <class 'keras.layers.recurrent.LSTMCell'> to avoid naming conflicts when loading with `tf.keras.models.load_model`. If renaming is not possible, pass the object in the `custom_objects` parameter of the load function.\n"
          ]
        },
        {
          "output_type": "stream",
          "name": "stdout",
          "text": [
            "\b\b\b\b\b\b\b\b\b\b\b\b\b\b\b\b\b\b\b\b\b\b\b\b\b\b\b\b\b\b\b\b\b\b\b\b\b\b\b\b\b\b\b\b\b\b\b\b\b\b\b\b\b\b\b\b\b\b\b\b\b\b\b\b\b\b\b\b\b\b\b\b\b\b\b\b\b\b\b\b\b\b\b\b\b\b\b\b\b\b\b\b\b\b\b\b\b\b\b\r18/18 [==============================] - 2s 100ms/step - loss: 119.7668 - mae: 119.7668 - mse: 85063.6797 - val_loss: 652.7970 - val_mae: 652.7970 - val_mse: 1469353.0000\n",
            "Epoch 54/100\n",
            "18/18 [==============================] - 0s 8ms/step - loss: 120.1222 - mae: 120.1222 - mse: 85026.6719 - val_loss: 654.4439 - val_mae: 654.4439 - val_mse: 1453347.0000\n",
            "Epoch 55/100\n",
            "10/18 [===============>..............] - ETA: 0s - loss: 127.0469 - mae: 127.0469 - mse: 97727.2891 "
          ]
        },
        {
          "output_type": "stream",
          "name": "stderr",
          "text": [
            "WARNING:absl:<keras.layers.recurrent.LSTMCell object at 0x7f08e770ac10> has the same name 'LSTMCell' as a built-in Keras object. Consider renaming <class 'keras.layers.recurrent.LSTMCell'> to avoid naming conflicts when loading with `tf.keras.models.load_model`. If renaming is not possible, pass the object in the `custom_objects` parameter of the load function.\n"
          ]
        },
        {
          "output_type": "stream",
          "name": "stdout",
          "text": [
            "\b\b\b\b\b\b\b\b\b\b\b\b\b\b\b\b\b\b\b\b\b\b\b\b\b\b\b\b\b\b\b\b\b\b\b\b\b\b\b\b\b\b\b\b\b\b\b\b\b\b\b\b\b\b\b\b\b\b\b\b\b\b\b\b\b\b\b\b\b\b\b\b\b\b\b\b\b\b\b\b\b\b\b\b\b\b\b\b\b\b\b\b\b\b\b\b\b\b\b\r18/18 [==============================] - 2s 99ms/step - loss: 119.2566 - mae: 119.2566 - mse: 84235.1953 - val_loss: 647.2831 - val_mae: 647.2831 - val_mse: 1439385.5000\n",
            "Epoch 56/100\n",
            "10/18 [===============>..............] - ETA: 0s - loss: 124.2149 - mae: 124.2149 - mse: 98407.2266 "
          ]
        },
        {
          "output_type": "stream",
          "name": "stderr",
          "text": [
            "WARNING:absl:<keras.layers.recurrent.LSTMCell object at 0x7f08e770ac10> has the same name 'LSTMCell' as a built-in Keras object. Consider renaming <class 'keras.layers.recurrent.LSTMCell'> to avoid naming conflicts when loading with `tf.keras.models.load_model`. If renaming is not possible, pass the object in the `custom_objects` parameter of the load function.\n"
          ]
        },
        {
          "output_type": "stream",
          "name": "stdout",
          "text": [
            "\b\b\b\b\b\b\b\b\b\b\b\b\b\b\b\b\b\b\b\b\b\b\b\b\b\b\b\b\b\b\b\b\b\b\b\b\b\b\b\b\b\b\b\b\b\b\b\b\b\b\b\b\b\b\b\b\b\b\b\b\b\b\b\b\b\b\b\b\b\b\b\b\b\b\b\b\b\b\b\b\b\b\b\b\b\b\b\b\b\b\b\b\b\b\b\b\b\b\b\r18/18 [==============================] - 2s 100ms/step - loss: 120.0544 - mae: 120.0544 - mse: 85208.3594 - val_loss: 643.7808 - val_mae: 643.7808 - val_mse: 1432413.0000\n",
            "Epoch 57/100\n",
            "18/18 [==============================] - 0s 7ms/step - loss: 123.1243 - mae: 123.1243 - mse: 86718.4453 - val_loss: 671.1797 - val_mae: 671.1797 - val_mse: 1477136.8750\n",
            "Epoch 58/100\n",
            "10/18 [===============>..............] - ETA: 0s - loss: 120.0865 - mae: 120.0865 - mse: 90863.8672"
          ]
        },
        {
          "output_type": "stream",
          "name": "stderr",
          "text": [
            "WARNING:absl:<keras.layers.recurrent.LSTMCell object at 0x7f08e770ac10> has the same name 'LSTMCell' as a built-in Keras object. Consider renaming <class 'keras.layers.recurrent.LSTMCell'> to avoid naming conflicts when loading with `tf.keras.models.load_model`. If renaming is not possible, pass the object in the `custom_objects` parameter of the load function.\n"
          ]
        },
        {
          "output_type": "stream",
          "name": "stdout",
          "text": [
            "\b\b\b\b\b\b\b\b\b\b\b\b\b\b\b\b\b\b\b\b\b\b\b\b\b\b\b\b\b\b\b\b\b\b\b\b\b\b\b\b\b\b\b\b\b\b\b\b\b\b\b\b\b\b\b\b\b\b\b\b\b\b\b\b\b\b\b\b\b\b\b\b\b\b\b\b\b\b\b\b\b\b\b\b\b\b\b\b\b\b\b\b\b\b\b\b\b\b\b\r18/18 [==============================] - 2s 100ms/step - loss: 118.4059 - mae: 118.4059 - mse: 83857.0469 - val_loss: 640.2656 - val_mae: 640.2656 - val_mse: 1413273.5000\n",
            "Epoch 59/100\n",
            "18/18 [==============================] - 0s 8ms/step - loss: 117.7119 - mae: 117.7119 - mse: 82616.7344 - val_loss: 645.3837 - val_mae: 645.3837 - val_mse: 1449263.0000\n",
            "Epoch 60/100\n",
            "10/18 [===============>..............] - ETA: 0s - loss: 120.4500 - mae: 120.4500 - mse: 84969.8594"
          ]
        },
        {
          "output_type": "stream",
          "name": "stderr",
          "text": [
            "WARNING:absl:<keras.layers.recurrent.LSTMCell object at 0x7f08e770ac10> has the same name 'LSTMCell' as a built-in Keras object. Consider renaming <class 'keras.layers.recurrent.LSTMCell'> to avoid naming conflicts when loading with `tf.keras.models.load_model`. If renaming is not possible, pass the object in the `custom_objects` parameter of the load function.\n"
          ]
        },
        {
          "output_type": "stream",
          "name": "stdout",
          "text": [
            "\b\b\b\b\b\b\b\b\b\b\b\b\b\b\b\b\b\b\b\b\b\b\b\b\b\b\b\b\b\b\b\b\b\b\b\b\b\b\b\b\b\b\b\b\b\b\b\b\b\b\b\b\b\b\b\b\b\b\b\b\b\b\b\b\b\b\b\b\b\b\b\b\b\b\b\b\b\b\b\b\b\b\b\b\b\b\b\b\b\b\b\b\b\b\b\b\b\b\b\r18/18 [==============================] - 2s 98ms/step - loss: 118.5346 - mae: 118.5346 - mse: 81290.9062 - val_loss: 638.7429 - val_mae: 638.7429 - val_mse: 1401002.2500\n",
            "Epoch 61/100\n",
            "18/18 [==============================] - 0s 7ms/step - loss: 118.3129 - mae: 118.3129 - mse: 83193.3750 - val_loss: 689.4144 - val_mae: 689.4144 - val_mse: 1512748.3750\n",
            "Epoch 62/100\n",
            "18/18 [==============================] - 0s 8ms/step - loss: 121.4350 - mae: 121.4350 - mse: 81419.4453 - val_loss: 748.5565 - val_mae: 748.5565 - val_mse: 1786019.2500\n",
            "Epoch 63/100\n",
            "18/18 [==============================] - 0s 7ms/step - loss: 123.1006 - mae: 123.1006 - mse: 86016.2266 - val_loss: 651.8298 - val_mae: 651.8298 - val_mse: 1418997.8750\n",
            "Epoch 64/100\n",
            "18/18 [==============================] - 0s 8ms/step - loss: 115.9679 - mae: 115.9679 - mse: 81176.8672 - val_loss: 672.9166 - val_mae: 672.9166 - val_mse: 1467748.0000\n",
            "Epoch 65/100\n",
            "11/18 [=================>............] - ETA: 0s - loss: 120.7008 - mae: 120.7008 - mse: 91196.8281 "
          ]
        },
        {
          "output_type": "stream",
          "name": "stderr",
          "text": [
            "WARNING:absl:<keras.layers.recurrent.LSTMCell object at 0x7f08e770ac10> has the same name 'LSTMCell' as a built-in Keras object. Consider renaming <class 'keras.layers.recurrent.LSTMCell'> to avoid naming conflicts when loading with `tf.keras.models.load_model`. If renaming is not possible, pass the object in the `custom_objects` parameter of the load function.\n"
          ]
        },
        {
          "output_type": "stream",
          "name": "stdout",
          "text": [
            "\b\b\b\b\b\b\b\b\b\b\b\b\b\b\b\b\b\b\b\b\b\b\b\b\b\b\b\b\b\b\b\b\b\b\b\b\b\b\b\b\b\b\b\b\b\b\b\b\b\b\b\b\b\b\b\b\b\b\b\b\b\b\b\b\b\b\b\b\b\b\b\b\b\b\b\b\b\b\b\b\b\b\b\b\b\b\b\b\b\b\b\b\b\b\b\b\b\b\b\r18/18 [==============================] - 2s 99ms/step - loss: 118.8341 - mae: 118.8341 - mse: 83323.3047 - val_loss: 631.7538 - val_mae: 631.7538 - val_mse: 1396571.8750\n",
            "Epoch 66/100\n",
            "18/18 [==============================] - 0s 7ms/step - loss: 116.2212 - mae: 116.2212 - mse: 80563.0859 - val_loss: 634.5445 - val_mae: 634.5445 - val_mse: 1376238.3750\n",
            "Epoch 67/100\n",
            "18/18 [==============================] - ETA: 0s - loss: 116.1580 - mae: 116.1580 - mse: 81177.6484"
          ]
        },
        {
          "output_type": "stream",
          "name": "stderr",
          "text": [
            "WARNING:absl:<keras.layers.recurrent.LSTMCell object at 0x7f08e770ac10> has the same name 'LSTMCell' as a built-in Keras object. Consider renaming <class 'keras.layers.recurrent.LSTMCell'> to avoid naming conflicts when loading with `tf.keras.models.load_model`. If renaming is not possible, pass the object in the `custom_objects` parameter of the load function.\n"
          ]
        },
        {
          "output_type": "stream",
          "name": "stdout",
          "text": [
            "\b\b\b\b\b\b\b\b\b\b\b\b\b\b\b\b\b\b\b\b\b\b\b\b\b\b\b\b\b\b\b\b\b\b\b\b\b\b\b\b\b\b\b\b\b\b\b\b\b\b\b\b\b\b\b\b\b\b\b\b\b\b\b\b\b\b\b\b\b\b\b\b\b\b\b\b\b\b\b\b\b\b\b\b\b\b\b\b\b\b\b\b\b\b\b\b\b\b\b\r18/18 [==============================] - 2s 100ms/step - loss: 116.1580 - mae: 116.1580 - mse: 81177.6484 - val_loss: 623.8932 - val_mae: 623.8932 - val_mse: 1357601.1250\n",
            "Epoch 68/100\n",
            "18/18 [==============================] - 0s 7ms/step - loss: 115.5543 - mae: 115.5543 - mse: 79794.0156 - val_loss: 635.4929 - val_mae: 635.4929 - val_mse: 1408539.1250\n",
            "Epoch 69/100\n",
            "18/18 [==============================] - 0s 8ms/step - loss: 120.5866 - mae: 120.5866 - mse: 83005.6328 - val_loss: 626.3387 - val_mae: 626.3387 - val_mse: 1375137.2500\n",
            "Epoch 70/100\n",
            "10/18 [===============>..............] - ETA: 0s - loss: 115.4515 - mae: 115.4515 - mse: 85093.7891 "
          ]
        },
        {
          "output_type": "stream",
          "name": "stderr",
          "text": [
            "WARNING:absl:<keras.layers.recurrent.LSTMCell object at 0x7f08e770ac10> has the same name 'LSTMCell' as a built-in Keras object. Consider renaming <class 'keras.layers.recurrent.LSTMCell'> to avoid naming conflicts when loading with `tf.keras.models.load_model`. If renaming is not possible, pass the object in the `custom_objects` parameter of the load function.\n"
          ]
        },
        {
          "output_type": "stream",
          "name": "stdout",
          "text": [
            "\b\b\b\b\b\b\b\b\b\b\b\b\b\b\b\b\b\b\b\b\b\b\b\b\b\b\b\b\b\b\b\b\b\b\b\b\b\b\b\b\b\b\b\b\b\b\b\b\b\b\b\b\b\b\b\b\b\b\b\b\b\b\b\b\b\b\b\b\b\b\b\b\b\b\b\b\b\b\b\b\b\b\b\b\b\b\b\b\b\b\b\b\b\b\b\b\b\b\b\r18/18 [==============================] - 2s 99ms/step - loss: 114.9188 - mae: 114.9188 - mse: 79743.3516 - val_loss: 619.3181 - val_mae: 619.3181 - val_mse: 1348408.0000\n",
            "Epoch 71/100\n",
            "18/18 [==============================] - 0s 8ms/step - loss: 114.8998 - mae: 114.8998 - mse: 79444.4609 - val_loss: 650.9373 - val_mae: 650.9373 - val_mse: 1404147.1250\n",
            "Epoch 72/100\n",
            "18/18 [==============================] - 0s 7ms/step - loss: 118.2033 - mae: 118.2033 - mse: 80784.2656 - val_loss: 630.5287 - val_mae: 630.5287 - val_mse: 1389130.3750\n",
            "Epoch 73/100\n",
            "18/18 [==============================] - 0s 7ms/step - loss: 115.3612 - mae: 115.3612 - mse: 80023.2188 - val_loss: 623.0369 - val_mae: 623.0369 - val_mse: 1362779.1250\n",
            "Epoch 74/100\n",
            "18/18 [==============================] - 0s 7ms/step - loss: 115.0345 - mae: 115.0345 - mse: 80069.8906 - val_loss: 623.0776 - val_mae: 623.0776 - val_mse: 1339281.8750\n",
            "Epoch 75/100\n",
            "18/18 [==============================] - 0s 7ms/step - loss: 115.2057 - mae: 115.2057 - mse: 79451.5391 - val_loss: 640.5281 - val_mae: 640.5281 - val_mse: 1374319.0000\n",
            "Epoch 76/100\n",
            "11/18 [=================>............] - ETA: 0s - loss: 114.5117 - mae: 114.5117 - mse: 77867.2266"
          ]
        },
        {
          "output_type": "stream",
          "name": "stderr",
          "text": [
            "WARNING:absl:<keras.layers.recurrent.LSTMCell object at 0x7f08e770ac10> has the same name 'LSTMCell' as a built-in Keras object. Consider renaming <class 'keras.layers.recurrent.LSTMCell'> to avoid naming conflicts when loading with `tf.keras.models.load_model`. If renaming is not possible, pass the object in the `custom_objects` parameter of the load function.\n"
          ]
        },
        {
          "output_type": "stream",
          "name": "stdout",
          "text": [
            "\b\b\b\b\b\b\b\b\b\b\b\b\b\b\b\b\b\b\b\b\b\b\b\b\b\b\b\b\b\b\b\b\b\b\b\b\b\b\b\b\b\b\b\b\b\b\b\b\b\b\b\b\b\b\b\b\b\b\b\b\b\b\b\b\b\b\b\b\b\b\b\b\b\b\b\b\b\b\b\b\b\b\b\b\b\b\b\b\b\b\b\b\b\b\b\b\b\b\b\r18/18 [==============================] - 2s 142ms/step - loss: 114.1402 - mae: 114.1402 - mse: 78923.9688 - val_loss: 614.4062 - val_mae: 614.4062 - val_mse: 1321707.2500\n",
            "Epoch 77/100\n",
            "18/18 [==============================] - 0s 7ms/step - loss: 115.5973 - mae: 115.5973 - mse: 77964.8750 - val_loss: 689.8776 - val_mae: 689.8776 - val_mse: 1484028.1250\n",
            "Epoch 78/100\n",
            "18/18 [==============================] - 0s 7ms/step - loss: 117.2611 - mae: 117.2611 - mse: 80703.7891 - val_loss: 645.2790 - val_mae: 645.2790 - val_mse: 1380985.1250\n",
            "Epoch 79/100\n",
            "10/18 [===============>..............] - ETA: 0s - loss: 112.2463 - mae: 112.2463 - mse: 70272.1641"
          ]
        },
        {
          "output_type": "stream",
          "name": "stderr",
          "text": [
            "WARNING:absl:<keras.layers.recurrent.LSTMCell object at 0x7f08e770ac10> has the same name 'LSTMCell' as a built-in Keras object. Consider renaming <class 'keras.layers.recurrent.LSTMCell'> to avoid naming conflicts when loading with `tf.keras.models.load_model`. If renaming is not possible, pass the object in the `custom_objects` parameter of the load function.\n"
          ]
        },
        {
          "output_type": "stream",
          "name": "stdout",
          "text": [
            "\b\b\b\b\b\b\b\b\b\b\b\b\b\b\b\b\b\b\b\b\b\b\b\b\b\b\b\b\b\b\b\b\b\b\b\b\b\b\b\b\b\b\b\b\b\b\b\b\b\b\b\b\b\b\b\b\b\b\b\b\b\b\b\b\b\b\b\b\b\b\b\b\b\b\b\b\b\b\b\b\b\b\b\b\b\b\b\b\b\b\b\b\b\b\b\b\b\b\b\r18/18 [==============================] - 2s 99ms/step - loss: 114.1995 - mae: 114.1995 - mse: 78555.1484 - val_loss: 608.7159 - val_mae: 608.7159 - val_mse: 1312046.2500\n",
            "Epoch 80/100\n",
            "18/18 [==============================] - 0s 8ms/step - loss: 112.7125 - mae: 112.7125 - mse: 77826.6797 - val_loss: 614.9222 - val_mae: 614.9222 - val_mse: 1316068.3750\n",
            "Epoch 81/100\n",
            "18/18 [==============================] - 0s 7ms/step - loss: 113.3684 - mae: 113.3684 - mse: 77013.3125 - val_loss: 634.8466 - val_mae: 634.8466 - val_mse: 1353791.8750\n",
            "Epoch 82/100\n",
            "10/18 [===============>..............] - ETA: 0s - loss: 123.8416 - mae: 123.8416 - mse: 97898.8672 "
          ]
        },
        {
          "output_type": "stream",
          "name": "stderr",
          "text": [
            "WARNING:absl:<keras.layers.recurrent.LSTMCell object at 0x7f08e770ac10> has the same name 'LSTMCell' as a built-in Keras object. Consider renaming <class 'keras.layers.recurrent.LSTMCell'> to avoid naming conflicts when loading with `tf.keras.models.load_model`. If renaming is not possible, pass the object in the `custom_objects` parameter of the load function.\n"
          ]
        },
        {
          "output_type": "stream",
          "name": "stdout",
          "text": [
            "\b\b\b\b\b\b\b\b\b\b\b\b\b\b\b\b\b\b\b\b\b\b\b\b\b\b\b\b\b\b\b\b\b\b\b\b\b\b\b\b\b\b\b\b\b\b\b\b\b\b\b\b\b\b\b\b\b\b\b\b\b\b\b\b\b\b\b\b\b\b\b\b\b\b\b\b\b\b\b\b\b\b\b\b\b\b\b\b\b\b\b\b\b\b\b\b\b\b\b\r18/18 [==============================] - 2s 99ms/step - loss: 115.9701 - mae: 115.9701 - mse: 80798.4531 - val_loss: 607.8510 - val_mae: 607.8510 - val_mse: 1310004.2500\n",
            "Epoch 83/100\n",
            "18/18 [==============================] - 0s 7ms/step - loss: 113.3599 - mae: 113.3599 - mse: 77364.0781 - val_loss: 628.8181 - val_mae: 628.8181 - val_mse: 1372628.6250\n",
            "Epoch 84/100\n",
            "18/18 [==============================] - 0s 8ms/step - loss: 114.4113 - mae: 114.4113 - mse: 77286.6094 - val_loss: 628.5579 - val_mae: 628.5579 - val_mse: 1336987.6250\n",
            "Epoch 85/100\n",
            "18/18 [==============================] - 0s 7ms/step - loss: 114.8363 - mae: 114.8363 - mse: 77763.7812 - val_loss: 634.7715 - val_mae: 634.7715 - val_mse: 1349507.5000\n",
            "Epoch 86/100\n",
            "18/18 [==============================] - 0s 7ms/step - loss: 115.5462 - mae: 115.5462 - mse: 79288.0938 - val_loss: 613.5223 - val_mae: 613.5223 - val_mse: 1306160.1250\n",
            "Epoch 87/100\n",
            "11/18 [=================>............] - ETA: 0s - loss: 116.9523 - mae: 116.9523 - mse: 80370.1953"
          ]
        },
        {
          "output_type": "stream",
          "name": "stderr",
          "text": [
            "WARNING:absl:<keras.layers.recurrent.LSTMCell object at 0x7f08e770ac10> has the same name 'LSTMCell' as a built-in Keras object. Consider renaming <class 'keras.layers.recurrent.LSTMCell'> to avoid naming conflicts when loading with `tf.keras.models.load_model`. If renaming is not possible, pass the object in the `custom_objects` parameter of the load function.\n"
          ]
        },
        {
          "output_type": "stream",
          "name": "stdout",
          "text": [
            "\b\b\b\b\b\b\b\b\b\b\b\b\b\b\b\b\b\b\b\b\b\b\b\b\b\b\b\b\b\b\b\b\b\b\b\b\b\b\b\b\b\b\b\b\b\b\b\b\b\b\b\b\b\b\b\b\b\b\b\b\b\b\b\b\b\b\b\b\b\b\b\b\b\b\b\b\b\b\b\b\b\b\b\b\b\b\b\b\b\b\b\b\b\b\b\b\b\b\b\r18/18 [==============================] - 2s 98ms/step - loss: 112.5059 - mae: 112.5059 - mse: 77122.9297 - val_loss: 604.7603 - val_mae: 604.7603 - val_mse: 1301087.5000\n",
            "Epoch 88/100\n",
            "10/18 [===============>..............] - ETA: 0s - loss: 118.3664 - mae: 118.3664 - mse: 90908.5234 "
          ]
        },
        {
          "output_type": "stream",
          "name": "stderr",
          "text": [
            "WARNING:absl:<keras.layers.recurrent.LSTMCell object at 0x7f08e770ac10> has the same name 'LSTMCell' as a built-in Keras object. Consider renaming <class 'keras.layers.recurrent.LSTMCell'> to avoid naming conflicts when loading with `tf.keras.models.load_model`. If renaming is not possible, pass the object in the `custom_objects` parameter of the load function.\n"
          ]
        },
        {
          "output_type": "stream",
          "name": "stdout",
          "text": [
            "\b\b\b\b\b\b\b\b\b\b\b\b\b\b\b\b\b\b\b\b\b\b\b\b\b\b\b\b\b\b\b\b\b\b\b\b\b\b\b\b\b\b\b\b\b\b\b\b\b\b\b\b\b\b\b\b\b\b\b\b\b\b\b\b\b\b\b\b\b\b\b\b\b\b\b\b\b\b\b\b\b\b\b\b\b\b\b\b\b\b\b\b\b\b\b\b\b\b\b\r18/18 [==============================] - 2s 98ms/step - loss: 111.7706 - mae: 111.7706 - mse: 77141.2969 - val_loss: 601.5748 - val_mae: 601.5748 - val_mse: 1286722.7500\n",
            "Epoch 89/100\n",
            "18/18 [==============================] - 0s 8ms/step - loss: 111.8470 - mae: 111.8470 - mse: 75809.6328 - val_loss: 624.0131 - val_mae: 624.0131 - val_mse: 1322086.5000\n",
            "Epoch 90/100\n",
            "18/18 [==============================] - 0s 8ms/step - loss: 115.6354 - mae: 115.6354 - mse: 80153.7109 - val_loss: 662.9452 - val_mae: 662.9452 - val_mse: 1405283.7500\n",
            "Epoch 91/100\n",
            "18/18 [==============================] - 0s 8ms/step - loss: 116.1836 - mae: 116.1836 - mse: 80057.3125 - val_loss: 636.0310 - val_mae: 636.0310 - val_mse: 1382068.7500\n",
            "Epoch 92/100\n",
            "18/18 [==============================] - 0s 7ms/step - loss: 113.1700 - mae: 113.1700 - mse: 78196.5156 - val_loss: 606.0366 - val_mae: 606.0366 - val_mse: 1286721.3750\n",
            "Epoch 93/100\n",
            "10/18 [===============>..............] - ETA: 0s - loss: 111.9717 - mae: 111.9717 - mse: 81111.4844"
          ]
        },
        {
          "output_type": "stream",
          "name": "stderr",
          "text": [
            "WARNING:absl:<keras.layers.recurrent.LSTMCell object at 0x7f08e770ac10> has the same name 'LSTMCell' as a built-in Keras object. Consider renaming <class 'keras.layers.recurrent.LSTMCell'> to avoid naming conflicts when loading with `tf.keras.models.load_model`. If renaming is not possible, pass the object in the `custom_objects` parameter of the load function.\n"
          ]
        },
        {
          "output_type": "stream",
          "name": "stdout",
          "text": [
            "\b\b\b\b\b\b\b\b\b\b\b\b\b\b\b\b\b\b\b\b\b\b\b\b\b\b\b\b\b\b\b\b\b\b\b\b\b\b\b\b\b\b\b\b\b\b\b\b\b\b\b\b\b\b\b\b\b\b\b\b\b\b\b\b\b\b\b\b\b\b\b\b\b\b\b\b\b\b\b\b\b\b\b\b\b\b\b\b\b\b\b\b\b\b\b\b\b\b\b\r18/18 [==============================] - 2s 99ms/step - loss: 112.4748 - mae: 112.4748 - mse: 77981.4766 - val_loss: 599.8319 - val_mae: 599.8319 - val_mse: 1284409.1250\n",
            "Epoch 94/100\n",
            "18/18 [==============================] - 0s 7ms/step - loss: 111.2637 - mae: 111.2637 - mse: 76411.6094 - val_loss: 601.3256 - val_mae: 601.3256 - val_mse: 1288764.7500\n",
            "Epoch 95/100\n",
            "11/18 [=================>............] - ETA: 0s - loss: 106.7242 - mae: 106.7242 - mse: 71542.6953 "
          ]
        },
        {
          "output_type": "stream",
          "name": "stderr",
          "text": [
            "WARNING:absl:<keras.layers.recurrent.LSTMCell object at 0x7f08e770ac10> has the same name 'LSTMCell' as a built-in Keras object. Consider renaming <class 'keras.layers.recurrent.LSTMCell'> to avoid naming conflicts when loading with `tf.keras.models.load_model`. If renaming is not possible, pass the object in the `custom_objects` parameter of the load function.\n"
          ]
        },
        {
          "output_type": "stream",
          "name": "stdout",
          "text": [
            "\b\b\b\b\b\b\b\b\b\b\b\b\b\b\b\b\b\b\b\b\b\b\b\b\b\b\b\b\b\b\b\b\b\b\b\b\b\b\b\b\b\b\b\b\b\b\b\b\b\b\b\b\b\b\b\b\b\b\b\b\b\b\b\b\b\b\b\b\b\b\b\b\b\b\b\b\b\b\b\b\b\b\b\b\b\b\b\b\b\b\b\b\b\b\b\b\b\b\b\r18/18 [==============================] - 2s 97ms/step - loss: 111.0185 - mae: 111.0185 - mse: 76521.2891 - val_loss: 597.1485 - val_mae: 597.1485 - val_mse: 1275455.1250\n",
            "Epoch 96/100\n",
            "18/18 [==============================] - 0s 8ms/step - loss: 112.3787 - mae: 112.3787 - mse: 76603.7578 - val_loss: 601.1596 - val_mae: 601.1596 - val_mse: 1274792.6250\n",
            "Epoch 97/100\n",
            "18/18 [==============================] - 0s 7ms/step - loss: 111.4700 - mae: 111.4700 - mse: 75130.8672 - val_loss: 626.1573 - val_mae: 626.1573 - val_mse: 1351349.1250\n",
            "Epoch 98/100\n",
            "18/18 [==============================] - 0s 8ms/step - loss: 111.7326 - mae: 111.7326 - mse: 76162.0078 - val_loss: 601.0142 - val_mae: 601.0142 - val_mse: 1286545.6250\n",
            "Epoch 99/100\n",
            "11/18 [=================>............] - ETA: 0s - loss: 109.1518 - mae: 109.1518 - mse: 66958.1719 "
          ]
        },
        {
          "output_type": "stream",
          "name": "stderr",
          "text": [
            "WARNING:absl:<keras.layers.recurrent.LSTMCell object at 0x7f08e770ac10> has the same name 'LSTMCell' as a built-in Keras object. Consider renaming <class 'keras.layers.recurrent.LSTMCell'> to avoid naming conflicts when loading with `tf.keras.models.load_model`. If renaming is not possible, pass the object in the `custom_objects` parameter of the load function.\n"
          ]
        },
        {
          "output_type": "stream",
          "name": "stdout",
          "text": [
            "\b\b\b\b\b\b\b\b\b\b\b\b\b\b\b\b\b\b\b\b\b\b\b\b\b\b\b\b\b\b\b\b\b\b\b\b\b\b\b\b\b\b\b\b\b\b\b\b\b\b\b\b\b\b\b\b\b\b\b\b\b\b\b\b\b\b\b\b\b\b\b\b\b\b\b\b\b\b\b\b\b\b\b\b\b\b\b\b\b\b\b\b\b\b\b\b\b\b\b\r18/18 [==============================] - 2s 101ms/step - loss: 110.7480 - mae: 110.7480 - mse: 75896.9531 - val_loss: 594.6030 - val_mae: 594.6030 - val_mse: 1267231.8750\n",
            "Epoch 100/100\n",
            "18/18 [==============================] - 0s 7ms/step - loss: 111.9943 - mae: 111.9943 - mse: 75638.7734 - val_loss: 595.9847 - val_mae: 595.9847 - val_mse: 1271473.0000\n"
          ]
        }
      ]
    },
    {
      "cell_type": "code",
      "source": [
        "model5 = tf.keras.models.load_model('model_experiments/model_5_LSTM')\n",
        "model5_preds = make_preds(model5, test_windows)\n",
        "model5_results = evaluate_preds(tf.squeeze(test_labels), model5_preds)\n",
        "model5_results"
      ],
      "metadata": {
        "colab": {
          "base_uri": "https://localhost:8080/"
        },
        "id": "GxIUc2OoJbbj",
        "outputId": "cd868456-ccb9-4f4e-9f2b-4da76eac5ba9"
      },
      "execution_count": null,
      "outputs": [
        {
          "output_type": "stream",
          "name": "stderr",
          "text": [
            "WARNING:tensorflow:Layer lstm_1 will not use cuDNN kernels since it doesn't meet the criteria. It will use a generic GPU kernel as fallback when running on GPU.\n"
          ]
        },
        {
          "output_type": "execute_result",
          "data": {
            "text/plain": [
              "{'mae': 594.60297,\n",
              " 'mse': 1267231.9,\n",
              " 'rsme': 1125.7139,\n",
              " 'mape': 2.6717565,\n",
              " 'mase': 1.0445527}"
            ]
          },
          "metadata": {},
          "execution_count": 118
        }
      ]
    },
    {
      "cell_type": "code",
      "source": [
        "# multivariate time series\n",
        "bitcoin_prices.head()"
      ],
      "metadata": {
        "colab": {
          "base_uri": "https://localhost:8080/",
          "height": 237
        },
        "id": "QRUJ9u5eKK1O",
        "outputId": "481ca325-4d57-4b04-dedd-71347e0b321a"
      },
      "execution_count": null,
      "outputs": [
        {
          "output_type": "execute_result",
          "data": {
            "text/plain": [
              "                Price\n",
              "Date                 \n",
              "2013-10-01  123.65499\n",
              "2013-10-02  125.45500\n",
              "2013-10-03  108.58483\n",
              "2013-10-04  118.67466\n",
              "2013-10-05  121.33866"
            ],
            "text/html": [
              "\n",
              "  <div id=\"df-f7bcf626-0318-4a53-946d-b97609142bb2\">\n",
              "    <div class=\"colab-df-container\">\n",
              "      <div>\n",
              "<style scoped>\n",
              "    .dataframe tbody tr th:only-of-type {\n",
              "        vertical-align: middle;\n",
              "    }\n",
              "\n",
              "    .dataframe tbody tr th {\n",
              "        vertical-align: top;\n",
              "    }\n",
              "\n",
              "    .dataframe thead th {\n",
              "        text-align: right;\n",
              "    }\n",
              "</style>\n",
              "<table border=\"1\" class=\"dataframe\">\n",
              "  <thead>\n",
              "    <tr style=\"text-align: right;\">\n",
              "      <th></th>\n",
              "      <th>Price</th>\n",
              "    </tr>\n",
              "    <tr>\n",
              "      <th>Date</th>\n",
              "      <th></th>\n",
              "    </tr>\n",
              "  </thead>\n",
              "  <tbody>\n",
              "    <tr>\n",
              "      <th>2013-10-01</th>\n",
              "      <td>123.65499</td>\n",
              "    </tr>\n",
              "    <tr>\n",
              "      <th>2013-10-02</th>\n",
              "      <td>125.45500</td>\n",
              "    </tr>\n",
              "    <tr>\n",
              "      <th>2013-10-03</th>\n",
              "      <td>108.58483</td>\n",
              "    </tr>\n",
              "    <tr>\n",
              "      <th>2013-10-04</th>\n",
              "      <td>118.67466</td>\n",
              "    </tr>\n",
              "    <tr>\n",
              "      <th>2013-10-05</th>\n",
              "      <td>121.33866</td>\n",
              "    </tr>\n",
              "  </tbody>\n",
              "</table>\n",
              "</div>\n",
              "      <button class=\"colab-df-convert\" onclick=\"convertToInteractive('df-f7bcf626-0318-4a53-946d-b97609142bb2')\"\n",
              "              title=\"Convert this dataframe to an interactive table.\"\n",
              "              style=\"display:none;\">\n",
              "        \n",
              "  <svg xmlns=\"http://www.w3.org/2000/svg\" height=\"24px\"viewBox=\"0 0 24 24\"\n",
              "       width=\"24px\">\n",
              "    <path d=\"M0 0h24v24H0V0z\" fill=\"none\"/>\n",
              "    <path d=\"M18.56 5.44l.94 2.06.94-2.06 2.06-.94-2.06-.94-.94-2.06-.94 2.06-2.06.94zm-11 1L8.5 8.5l.94-2.06 2.06-.94-2.06-.94L8.5 2.5l-.94 2.06-2.06.94zm10 10l.94 2.06.94-2.06 2.06-.94-2.06-.94-.94-2.06-.94 2.06-2.06.94z\"/><path d=\"M17.41 7.96l-1.37-1.37c-.4-.4-.92-.59-1.43-.59-.52 0-1.04.2-1.43.59L10.3 9.45l-7.72 7.72c-.78.78-.78 2.05 0 2.83L4 21.41c.39.39.9.59 1.41.59.51 0 1.02-.2 1.41-.59l7.78-7.78 2.81-2.81c.8-.78.8-2.07 0-2.86zM5.41 20L4 18.59l7.72-7.72 1.47 1.35L5.41 20z\"/>\n",
              "  </svg>\n",
              "      </button>\n",
              "      \n",
              "  <style>\n",
              "    .colab-df-container {\n",
              "      display:flex;\n",
              "      flex-wrap:wrap;\n",
              "      gap: 12px;\n",
              "    }\n",
              "\n",
              "    .colab-df-convert {\n",
              "      background-color: #E8F0FE;\n",
              "      border: none;\n",
              "      border-radius: 50%;\n",
              "      cursor: pointer;\n",
              "      display: none;\n",
              "      fill: #1967D2;\n",
              "      height: 32px;\n",
              "      padding: 0 0 0 0;\n",
              "      width: 32px;\n",
              "    }\n",
              "\n",
              "    .colab-df-convert:hover {\n",
              "      background-color: #E2EBFA;\n",
              "      box-shadow: 0px 1px 2px rgba(60, 64, 67, 0.3), 0px 1px 3px 1px rgba(60, 64, 67, 0.15);\n",
              "      fill: #174EA6;\n",
              "    }\n",
              "\n",
              "    [theme=dark] .colab-df-convert {\n",
              "      background-color: #3B4455;\n",
              "      fill: #D2E3FC;\n",
              "    }\n",
              "\n",
              "    [theme=dark] .colab-df-convert:hover {\n",
              "      background-color: #434B5C;\n",
              "      box-shadow: 0px 1px 3px 1px rgba(0, 0, 0, 0.15);\n",
              "      filter: drop-shadow(0px 1px 2px rgba(0, 0, 0, 0.3));\n",
              "      fill: #FFFFFF;\n",
              "    }\n",
              "  </style>\n",
              "\n",
              "      <script>\n",
              "        const buttonEl =\n",
              "          document.querySelector('#df-f7bcf626-0318-4a53-946d-b97609142bb2 button.colab-df-convert');\n",
              "        buttonEl.style.display =\n",
              "          google.colab.kernel.accessAllowed ? 'block' : 'none';\n",
              "\n",
              "        async function convertToInteractive(key) {\n",
              "          const element = document.querySelector('#df-f7bcf626-0318-4a53-946d-b97609142bb2');\n",
              "          const dataTable =\n",
              "            await google.colab.kernel.invokeFunction('convertToInteractive',\n",
              "                                                     [key], {});\n",
              "          if (!dataTable) return;\n",
              "\n",
              "          const docLinkHtml = 'Like what you see? Visit the ' +\n",
              "            '<a target=\"_blank\" href=https://colab.research.google.com/notebooks/data_table.ipynb>data table notebook</a>'\n",
              "            + ' to learn more about interactive tables.';\n",
              "          element.innerHTML = '';\n",
              "          dataTable['output_type'] = 'display_data';\n",
              "          await google.colab.output.renderOutput(dataTable, element);\n",
              "          const docLink = document.createElement('div');\n",
              "          docLink.innerHTML = docLinkHtml;\n",
              "          element.appendChild(docLink);\n",
              "        }\n",
              "      </script>\n",
              "    </div>\n",
              "  </div>\n",
              "  "
            ]
          },
          "metadata": {},
          "execution_count": 119
        }
      ]
    },
    {
      "cell_type": "code",
      "source": [
        "# Add halving events to dataset\n",
        "block_reward_1 = 50 # 3 Jan 2009\n",
        "block_reward_2 = 25 # 8 Nov 2012\n",
        "block_reward_3 =  12.5 # 9 Jul 2016\n",
        "block_reward_4 = 6.25 # 18 May 2020\n",
        "\n",
        "block_reward_2_datetime = np.datetime64('2012-11-28')\n",
        "block_reward_3_datetime = np.datetime64('2016-07-09')\n",
        "block_reward_4_datetime = np.datetime64('2020-05-18')"
      ],
      "metadata": {
        "id": "SLMw7POGLQHR"
      },
      "execution_count": null,
      "outputs": []
    },
    {
      "cell_type": "code",
      "source": [
        "# Create date ranges where specific block reward values should be\n",
        "block_reward_2_days = (block_reward_3_datetime - bitcoin_prices.index[0]).days\n",
        "block_reward_3_days = (block_reward_4_datetime - bitcoin_prices.index[0]).days\n",
        "block_reward_2_days, block_reward_3_days"
      ],
      "metadata": {
        "colab": {
          "base_uri": "https://localhost:8080/"
        },
        "id": "w3XN8DejMDPg",
        "outputId": "e11f81c1-7ff9-444a-e8ba-544d994bb190"
      },
      "execution_count": null,
      "outputs": [
        {
          "output_type": "execute_result",
          "data": {
            "text/plain": [
              "(1012, 2421)"
            ]
          },
          "metadata": {},
          "execution_count": 122
        }
      ]
    },
    {
      "cell_type": "code",
      "source": [
        "# Add in block reward column\n",
        "bitcoin_prices_block = bitcoin_prices.copy()\n",
        "bitcoin_prices_block['block reward'] = None\n",
        "bitcoin_prices_block.iloc[:block_reward_2_days, -1] = block_reward_2\n",
        "bitcoin_prices_block.iloc[block_reward_2_days:block_reward_3_days, -1] = block_reward_3\n",
        "bitcoin_prices_block.iloc[block_reward_3_days:, -1] = block_reward_4"
      ],
      "metadata": {
        "id": "bZBJazFIMmPJ"
      },
      "execution_count": null,
      "outputs": []
    },
    {
      "cell_type": "code",
      "source": [
        "from sklearn.preprocessing import minmax_scale\n",
        "scaled_price_block_df = pd.DataFrame(minmax_scale(bitcoin_prices_block[['Price', 'block reward']]),\n",
        "                                                  columns=bitcoin_prices_block.columns,\n",
        "                                                  index=bitcoin_prices_block.index)\n",
        "\n",
        "scaled_price_block_df.plot(figsize=(10,7))"
      ],
      "metadata": {
        "colab": {
          "base_uri": "https://localhost:8080/",
          "height": 459
        },
        "id": "ilVhG7cFNNRu",
        "outputId": "e3160a43-0437-42f1-bd6e-306da6876ec5"
      },
      "execution_count": null,
      "outputs": [
        {
          "output_type": "execute_result",
          "data": {
            "text/plain": [
              "<matplotlib.axes._subplots.AxesSubplot at 0x7f08af4e5f10>"
            ]
          },
          "metadata": {},
          "execution_count": 124
        },
        {
          "output_type": "display_data",
          "data": {
            "text/plain": [
              "<Figure size 720x504 with 1 Axes>"
            ],
            "image/png": "[encoded data removed]"
          },
          "metadata": {
            "needs_background": "light"
          }
        }
      ]
    },
    {
      "cell_type": "code",
      "source": [
        "horizon = 1\n",
        "window_size = 7"
      ],
      "metadata": {
        "id": "_9M5zgIXN4dK"
      },
      "execution_count": null,
      "outputs": []
    },
    {
      "cell_type": "code",
      "source": [
        "bitcoin_prices_windowed = bitcoin_prices_block.copy()\n",
        "for i in range(window_size): # shift values for each step in window size\n",
        "  bitcoin_prices_windowed[f\"Price+{i+1}\"] = bitcoin_prices_windowed['Price'].shift(periods=i+1)\n",
        "bitcoin_prices_windowed.head(10)"
      ],
      "metadata": {
        "colab": {
          "base_uri": "https://localhost:8080/",
          "height": 394
        },
        "id": "VapYHPFYODjo",
        "outputId": "1e362b67-5174-401e-93f8-dcca7c400b5f"
      },
      "execution_count": null,
      "outputs": [
        {
          "output_type": "execute_result",
          "data": {
            "text/plain": [
              "                Price block reward    Price+1    Price+2    Price+3  \\\n",
              "Date                                                                  \n",
              "2013-10-01  123.65499           25        NaN        NaN        NaN   \n",
              "2013-10-02  125.45500           25  123.65499        NaN        NaN   \n",
              "2013-10-03  108.58483           25  125.45500  123.65499        NaN   \n",
              "2013-10-04  118.67466           25  108.58483  125.45500  123.65499   \n",
              "2013-10-05  121.33866           25  118.67466  108.58483  125.45500   \n",
              "2013-10-06  120.65533           25  121.33866  118.67466  108.58483   \n",
              "2013-10-07  121.79500           25  120.65533  121.33866  118.67466   \n",
              "2013-10-08  123.03300           25  121.79500  120.65533  121.33866   \n",
              "2013-10-09  124.04900           25  123.03300  121.79500  120.65533   \n",
              "2013-10-10  125.96116           25  124.04900  123.03300  121.79500   \n",
              "\n",
              "              Price+4    Price+5    Price+6    Price+7  \n",
              "Date                                                    \n",
              "2013-10-01        NaN        NaN        NaN        NaN  \n",
              "2013-10-02        NaN        NaN        NaN        NaN  \n",
              "2013-10-03        NaN        NaN        NaN        NaN  \n",
              "2013-10-04        NaN        NaN        NaN        NaN  \n",
              "2013-10-05  123.65499        NaN        NaN        NaN  \n",
              "2013-10-06  125.45500  123.65499        NaN        NaN  \n",
              "2013-10-07  108.58483  125.45500  123.65499        NaN  \n",
              "2013-10-08  118.67466  108.58483  125.45500  123.65499  \n",
              "2013-10-09  121.33866  118.67466  108.58483  125.45500  \n",
              "2013-10-10  120.65533  121.33866  118.67466  108.58483  "
            ],
            "text/html": [
              "\n",
              "  <div id=\"df-38c8bc3b-d02e-4633-a8db-7455b2519f49\">\n",
              "    <div class=\"colab-df-container\">\n",
              "      <div>\n",
              "<style scoped>\n",
              "    .dataframe tbody tr th:only-of-type {\n",
              "        vertical-align: middle;\n",
              "    }\n",
              "\n",
              "    .dataframe tbody tr th {\n",
              "        vertical-align: top;\n",
              "    }\n",
              "\n",
              "    .dataframe thead th {\n",
              "        text-align: right;\n",
              "    }\n",
              "</style>\n",
              "<table border=\"1\" class=\"dataframe\">\n",
              "  <thead>\n",
              "    <tr style=\"text-align: right;\">\n",
              "      <th></th>\n",
              "      <th>Price</th>\n",
              "      <th>block reward</th>\n",
              "      <th>Price+1</th>\n",
              "      <th>Price+2</th>\n",
              "      <th>Price+3</th>\n",
              "      <th>Price+4</th>\n",
              "      <th>Price+5</th>\n",
              "      <th>Price+6</th>\n",
              "      <th>Price+7</th>\n",
              "    </tr>\n",
              "    <tr>\n",
              "      <th>Date</th>\n",
              "      <th></th>\n",
              "      <th></th>\n",
              "      <th></th>\n",
              "      <th></th>\n",
              "      <th></th>\n",
              "      <th></th>\n",
              "      <th></th>\n",
              "      <th></th>\n",
              "      <th></th>\n",
              "    </tr>\n",
              "  </thead>\n",
              "  <tbody>\n",
              "    <tr>\n",
              "      <th>2013-10-01</th>\n",
              "      <td>123.65499</td>\n",
              "      <td>25</td>\n",
              "      <td>NaN</td>\n",
              "      <td>NaN</td>\n",
              "      <td>NaN</td>\n",
              "      <td>NaN</td>\n",
              "      <td>NaN</td>\n",
              "      <td>NaN</td>\n",
              "      <td>NaN</td>\n",
              "    </tr>\n",
              "    <tr>\n",
              "      <th>2013-10-02</th>\n",
              "      <td>125.45500</td>\n",
              "      <td>25</td>\n",
              "      <td>123.65499</td>\n",
              "      <td>NaN</td>\n",
              "      <td>NaN</td>\n",
              "      <td>NaN</td>\n",
              "      <td>NaN</td>\n",
              "      <td>NaN</td>\n",
              "      <td>NaN</td>\n",
              "    </tr>\n",
              "    <tr>\n",
              "      <th>2013-10-03</th>\n",
              "      <td>108.58483</td>\n",
              "      <td>25</td>\n",
              "      <td>125.45500</td>\n",
              "      <td>123.65499</td>\n",
              "      <td>NaN</td>\n",
              "      <td>NaN</td>\n",
              "      <td>NaN</td>\n",
              "      <td>NaN</td>\n",
              "      <td>NaN</td>\n",
              "    </tr>\n",
              "    <tr>\n",
              "      <th>2013-10-04</th>\n",
              "      <td>118.67466</td>\n",
              "      <td>25</td>\n",
              "      <td>108.58483</td>\n",
              "      <td>125.45500</td>\n",
              "      <td>123.65499</td>\n",
              "      <td>NaN</td>\n",
              "      <td>NaN</td>\n",
              "      <td>NaN</td>\n",
              "      <td>NaN</td>\n",
              "    </tr>\n",
              "    <tr>\n",
              "      <th>2013-10-05</th>\n",
              "      <td>121.33866</td>\n",
              "      <td>25</td>\n",
              "      <td>118.67466</td>\n",
              "      <td>108.58483</td>\n",
              "      <td>125.45500</td>\n",
              "      <td>123.65499</td>\n",
              "      <td>NaN</td>\n",
              "      <td>NaN</td>\n",
              "      <td>NaN</td>\n",
              "    </tr>\n",
              "    <tr>\n",
              "      <th>2013-10-06</th>\n",
              "      <td>120.65533</td>\n",
              "      <td>25</td>\n",
              "      <td>121.33866</td>\n",
              "      <td>118.67466</td>\n",
              "      <td>108.58483</td>\n",
              "      <td>125.45500</td>\n",
              "      <td>123.65499</td>\n",
              "      <td>NaN</td>\n",
              "      <td>NaN</td>\n",
              "    </tr>\n",
              "    <tr>\n",
              "      <th>2013-10-07</th>\n",
              "      <td>121.79500</td>\n",
              "      <td>25</td>\n",
              "      <td>120.65533</td>\n",
              "      <td>121.33866</td>\n",
              "      <td>118.67466</td>\n",
              "      <td>108.58483</td>\n",
              "      <td>125.45500</td>\n",
              "      <td>123.65499</td>\n",
              "      <td>NaN</td>\n",
              "    </tr>\n",
              "    <tr>\n",
              "      <th>2013-10-08</th>\n",
              "      <td>123.03300</td>\n",
              "      <td>25</td>\n",
              "      <td>121.79500</td>\n",
              "      <td>120.65533</td>\n",
              "      <td>121.33866</td>\n",
              "      <td>118.67466</td>\n",
              "      <td>108.58483</td>\n",
              "      <td>125.45500</td>\n",
              "      <td>123.65499</td>\n",
              "    </tr>\n",
              "    <tr>\n",
              "      <th>2013-10-09</th>\n",
              "      <td>124.04900</td>\n",
              "      <td>25</td>\n",
              "      <td>123.03300</td>\n",
              "      <td>121.79500</td>\n",
              "      <td>120.65533</td>\n",
              "      <td>121.33866</td>\n",
              "      <td>118.67466</td>\n",
              "      <td>108.58483</td>\n",
              "      <td>125.45500</td>\n",
              "    </tr>\n",
              "    <tr>\n",
              "      <th>2013-10-10</th>\n",
              "      <td>125.96116</td>\n",
              "      <td>25</td>\n",
              "      <td>124.04900</td>\n",
              "      <td>123.03300</td>\n",
              "      <td>121.79500</td>\n",
              "      <td>120.65533</td>\n",
              "      <td>121.33866</td>\n",
              "      <td>118.67466</td>\n",
              "      <td>108.58483</td>\n",
              "    </tr>\n",
              "  </tbody>\n",
              "</table>\n",
              "</div>\n",
              "      <button class=\"colab-df-convert\" onclick=\"convertToInteractive('df-38c8bc3b-d02e-4633-a8db-7455b2519f49')\"\n",
              "              title=\"Convert this dataframe to an interactive table.\"\n",
              "              style=\"display:none;\">\n",
              "        \n",
              "  <svg xmlns=\"http://www.w3.org/2000/svg\" height=\"24px\"viewBox=\"0 0 24 24\"\n",
              "       width=\"24px\">\n",
              "    <path d=\"M0 0h24v24H0V0z\" fill=\"none\"/>\n",
              "    <path d=\"M18.56 5.44l.94 2.06.94-2.06 2.06-.94-2.06-.94-.94-2.06-.94 2.06-2.06.94zm-11 1L8.5 8.5l.94-2.06 2.06-.94-2.06-.94L8.5 2.5l-.94 2.06-2.06.94zm10 10l.94 2.06.94-2.06 2.06-.94-2.06-.94-.94-2.06-.94 2.06-2.06.94z\"/><path d=\"M17.41 7.96l-1.37-1.37c-.4-.4-.92-.59-1.43-.59-.52 0-1.04.2-1.43.59L10.3 9.45l-7.72 7.72c-.78.78-.78 2.05 0 2.83L4 21.41c.39.39.9.59 1.41.59.51 0 1.02-.2 1.41-.59l7.78-7.78 2.81-2.81c.8-.78.8-2.07 0-2.86zM5.41 20L4 18.59l7.72-7.72 1.47 1.35L5.41 20z\"/>\n",
              "  </svg>\n",
              "      </button>\n",
              "      \n",
              "  <style>\n",
              "    .colab-df-container {\n",
              "      display:flex;\n",
              "      flex-wrap:wrap;\n",
              "      gap: 12px;\n",
              "    }\n",
              "\n",
              "    .colab-df-convert {\n",
              "      background-color: #E8F0FE;\n",
              "      border: none;\n",
              "      border-radius: 50%;\n",
              "      cursor: pointer;\n",
              "      display: none;\n",
              "      fill: #1967D2;\n",
              "      height: 32px;\n",
              "      padding: 0 0 0 0;\n",
              "      width: 32px;\n",
              "    }\n",
              "\n",
              "    .colab-df-convert:hover {\n",
              "      background-color: #E2EBFA;\n",
              "      box-shadow: 0px 1px 2px rgba(60, 64, 67, 0.3), 0px 1px 3px 1px rgba(60, 64, 67, 0.15);\n",
              "      fill: #174EA6;\n",
              "    }\n",
              "\n",
              "    [theme=dark] .colab-df-convert {\n",
              "      background-color: #3B4455;\n",
              "      fill: #D2E3FC;\n",
              "    }\n",
              "\n",
              "    [theme=dark] .colab-df-convert:hover {\n",
              "      background-color: #434B5C;\n",
              "      box-shadow: 0px 1px 3px 1px rgba(0, 0, 0, 0.15);\n",
              "      filter: drop-shadow(0px 1px 2px rgba(0, 0, 0, 0.3));\n",
              "      fill: #FFFFFF;\n",
              "    }\n",
              "  </style>\n",
              "\n",
              "      <script>\n",
              "        const buttonEl =\n",
              "          document.querySelector('#df-38c8bc3b-d02e-4633-a8db-7455b2519f49 button.colab-df-convert');\n",
              "        buttonEl.style.display =\n",
              "          google.colab.kernel.accessAllowed ? 'block' : 'none';\n",
              "\n",
              "        async function convertToInteractive(key) {\n",
              "          const element = document.querySelector('#df-38c8bc3b-d02e-4633-a8db-7455b2519f49');\n",
              "          const dataTable =\n",
              "            await google.colab.kernel.invokeFunction('convertToInteractive',\n",
              "                                                     [key], {});\n",
              "          if (!dataTable) return;\n",
              "\n",
              "          const docLinkHtml = 'Like what you see? Visit the ' +\n",
              "            '<a target=\"_blank\" href=https://colab.research.google.com/notebooks/data_table.ipynb>data table notebook</a>'\n",
              "            + ' to learn more about interactive tables.';\n",
              "          element.innerHTML = '';\n",
              "          dataTable['output_type'] = 'display_data';\n",
              "          await google.colab.output.renderOutput(dataTable, element);\n",
              "          const docLink = document.createElement('div');\n",
              "          docLink.innerHTML = docLinkHtml;\n",
              "          element.appendChild(docLink);\n",
              "        }\n",
              "      </script>\n",
              "    </div>\n",
              "  </div>\n",
              "  "
            ]
          },
          "metadata": {},
          "execution_count": 126
        }
      ]
    },
    {
      "cell_type": "code",
      "source": [
        "x = bitcoin_prices_windowed.dropna().drop('Price', axis=1).astype(np.float32)\n",
        "y = bitcoin_prices_windowed.dropna()['Price'].astype(np.float32)"
      ],
      "metadata": {
        "id": "S7-79dblOx-v"
      },
      "execution_count": null,
      "outputs": []
    },
    {
      "cell_type": "code",
      "source": [
        "split_size = int(len(x)*0.8)\n",
        "x_train, y_train = x[:split_size], y[:split_size]\n",
        "x_test, y_test = x[split_size:], y[split_size:]"
      ],
      "metadata": {
        "id": "OY92WfVgPNkA"
      },
      "execution_count": null,
      "outputs": []
    },
    {
      "cell_type": "code",
      "source": [
        "# multivariate model\n",
        "tf.random.set_seed(42)\n",
        "\n",
        "model6 = tf.keras.Sequential([\n",
        "    layers.Dense(128, activation='relu'),\n",
        "    layers.Dense(horizon)\n",
        "], name='model_6_dense_multivariate')\n",
        "\n",
        "model6.compile(loss='mae',\n",
        "               optimizer='Adam',\n",
        "               metrics=['mae', 'mse'])\n",
        "\n",
        "history6 = model6.fit(x_train,\n",
        "                      y_train,\n",
        "                      batch_size=128,\n",
        "                      epochs=100,\n",
        "                      validation_data=(x_test, y_test),\n",
        "                      callbacks=[create_model_checkpoint(model6.name)])"
      ],
      "metadata": {
        "colab": {
          "base_uri": "https://localhost:8080/"
        },
        "id": "d2ObJ6MUPWEs",
        "outputId": "532fcb2a-68b7-4898-bad2-c3d613678e2f"
      },
      "execution_count": null,
      "outputs": [
        {
          "output_type": "stream",
          "name": "stdout",
          "text": [
            "Epoch 1/100\n",
            "18/18 [==============================] - 1s 55ms/step - loss: 1234.6804 - mae: 1234.6804 - mse: 5282005.5000 - val_loss: 2061.9077 - val_mae: 2061.9077 - val_mse: 11377605.0000\n",
            "Epoch 2/100\n",
            "18/18 [==============================] - 1s 44ms/step - loss: 351.5053 - mae: 351.5053 - mse: 499358.0312 - val_loss: 1908.6733 - val_mae: 1908.6733 - val_mse: 8719443.0000\n",
            "Epoch 3/100\n",
            "18/18 [==============================] - 1s 42ms/step - loss: 235.4153 - mae: 235.4153 - mse: 276006.8125 - val_loss: 1329.0585 - val_mae: 1329.0585 - val_mse: 4991872.0000\n",
            "Epoch 4/100\n",
            "18/18 [==============================] - 48s 3s/step - loss: 208.6112 - mae: 208.6112 - mse: 219502.7188 - val_loss: 1102.1342 - val_mae: 1102.1342 - val_mse: 3934655.5000\n",
            "Epoch 5/100\n",
            "18/18 [==============================] - 0s 7ms/step - loss: 196.5770 - mae: 196.5770 - mse: 204309.3750 - val_loss: 1107.8474 - val_mae: 1107.8474 - val_mse: 3822059.0000\n",
            "Epoch 6/100\n",
            "18/18 [==============================] - 1s 44ms/step - loss: 187.2245 - mae: 187.2245 - mse: 185754.2344 - val_loss: 1036.1720 - val_mae: 1036.1720 - val_mse: 3602705.0000\n",
            "Epoch 7/100\n",
            "18/18 [==============================] - 1s 45ms/step - loss: 182.0245 - mae: 182.0245 - mse: 177482.7188 - val_loss: 1019.2928 - val_mae: 1019.2928 - val_mse: 3334209.5000\n",
            "Epoch 8/100\n",
            "18/18 [==============================] - 1s 44ms/step - loss: 175.7059 - mae: 175.7059 - mse: 166085.1875 - val_loss: 977.8488 - val_mae: 977.8488 - val_mse: 3114359.7500\n",
            "Epoch 9/100\n",
            "18/18 [==============================] - 1s 44ms/step - loss: 170.1784 - mae: 170.1784 - mse: 157931.9844 - val_loss: 954.4037 - val_mae: 954.4037 - val_mse: 2930253.0000\n",
            "Epoch 10/100\n",
            "18/18 [==============================] - 1s 44ms/step - loss: 164.4430 - mae: 164.4430 - mse: 149624.9688 - val_loss: 913.5148 - val_mae: 913.5148 - val_mse: 2725004.0000\n",
            "Epoch 11/100\n",
            "18/18 [==============================] - 1s 44ms/step - loss: 158.6892 - mae: 158.6892 - mse: 137497.7188 - val_loss: 874.2507 - val_mae: 874.2507 - val_mse: 2503844.0000\n",
            "Epoch 12/100\n",
            "18/18 [==============================] - 1s 43ms/step - loss: 152.0732 - mae: 152.0732 - mse: 128314.8047 - val_loss: 861.0418 - val_mae: 861.0418 - val_mse: 2380361.5000\n",
            "Epoch 13/100\n",
            "18/18 [==============================] - 0s 7ms/step - loss: 151.1057 - mae: 151.1057 - mse: 126204.8906 - val_loss: 886.1207 - val_mae: 886.1207 - val_mse: 2378220.7500\n",
            "Epoch 14/100\n",
            "18/18 [==============================] - 1s 43ms/step - loss: 147.5482 - mae: 147.5482 - mse: 118020.3594 - val_loss: 837.8616 - val_mae: 837.8616 - val_mse: 2199054.2500\n",
            "Epoch 15/100\n",
            "18/18 [==============================] - 1s 43ms/step - loss: 142.3497 - mae: 142.3497 - mse: 113288.9844 - val_loss: 794.4788 - val_mae: 794.4788 - val_mse: 2039430.5000\n",
            "Epoch 16/100\n",
            "18/18 [==============================] - 1s 44ms/step - loss: 137.5206 - mae: 137.5206 - mse: 106858.8672 - val_loss: 778.4052 - val_mae: 778.4052 - val_mse: 1954907.1250\n",
            "Epoch 17/100\n",
            "18/18 [==============================] - 1s 44ms/step - loss: 135.8190 - mae: 135.8190 - mse: 104154.0156 - val_loss: 772.4532 - val_mae: 772.4532 - val_mse: 1901520.8750\n",
            "Epoch 18/100\n",
            "18/18 [==============================] - 1s 42ms/step - loss: 134.8562 - mae: 134.8562 - mse: 102955.3984 - val_loss: 747.4802 - val_mae: 747.4802 - val_mse: 1804914.0000\n",
            "Epoch 19/100\n",
            "18/18 [==============================] - 0s 6ms/step - loss: 130.3347 - mae: 130.3347 - mse: 96741.8359 - val_loss: 761.0554 - val_mae: 761.0554 - val_mse: 1809536.7500\n",
            "Epoch 20/100\n",
            "18/18 [==============================] - 1s 42ms/step - loss: 128.6775 - mae: 128.6775 - mse: 93855.7109 - val_loss: 701.8977 - val_mae: 701.8977 - val_mse: 1664374.8750\n",
            "Epoch 21/100\n",
            "18/18 [==============================] - 1s 43ms/step - loss: 129.5576 - mae: 129.5576 - mse: 95792.1094 - val_loss: 691.0128 - val_mae: 691.0128 - val_mse: 1604253.0000\n",
            "Epoch 22/100\n",
            "18/18 [==============================] - 1s 44ms/step - loss: 125.8060 - mae: 125.8060 - mse: 90966.0625 - val_loss: 684.4119 - val_mae: 684.4119 - val_mse: 1561598.2500\n",
            "Epoch 23/100\n",
            "18/18 [==============================] - 0s 8ms/step - loss: 125.5263 - mae: 125.5263 - mse: 90267.1250 - val_loss: 692.1298 - val_mae: 692.1298 - val_mse: 1560176.5000\n",
            "Epoch 24/100\n",
            "18/18 [==============================] - 1s 44ms/step - loss: 122.4765 - mae: 122.4765 - mse: 86726.8125 - val_loss: 674.2216 - val_mae: 674.2216 - val_mse: 1504522.2500\n",
            "Epoch 25/100\n",
            "18/18 [==============================] - 1s 42ms/step - loss: 121.1171 - mae: 121.1171 - mse: 84265.1875 - val_loss: 669.6441 - val_mae: 669.6441 - val_mse: 1546640.7500\n",
            "Epoch 26/100\n",
            "18/18 [==============================] - 0s 7ms/step - loss: 127.2623 - mae: 127.2623 - mse: 87325.4219 - val_loss: 690.0403 - val_mae: 690.0403 - val_mse: 1606595.7500\n",
            "Epoch 27/100\n",
            "18/18 [==============================] - 1s 44ms/step - loss: 124.6204 - mae: 124.6204 - mse: 87496.1406 - val_loss: 643.9724 - val_mae: 643.9724 - val_mse: 1437325.8750\n",
            "Epoch 28/100\n",
            "18/18 [==============================] - 0s 7ms/step - loss: 118.2544 - mae: 118.2544 - mse: 81311.5938 - val_loss: 656.2767 - val_mae: 656.2767 - val_mse: 1431099.6250\n",
            "Epoch 29/100\n",
            "18/18 [==============================] - 1s 44ms/step - loss: 119.6374 - mae: 119.6374 - mse: 82266.8438 - val_loss: 633.4547 - val_mae: 633.4547 - val_mse: 1375091.7500\n",
            "Epoch 30/100\n",
            "18/18 [==============================] - 1s 44ms/step - loss: 119.5001 - mae: 119.5001 - mse: 81478.4141 - val_loss: 625.3953 - val_mae: 625.3953 - val_mse: 1360549.6250\n",
            "Epoch 31/100\n",
            "18/18 [==============================] - 0s 7ms/step - loss: 114.5633 - mae: 114.5633 - mse: 78351.5078 - val_loss: 668.5064 - val_mae: 668.5064 - val_mse: 1448343.6250\n",
            "Epoch 32/100\n",
            "18/18 [==============================] - 1s 43ms/step - loss: 116.9750 - mae: 116.9750 - mse: 80914.8359 - val_loss: 617.1061 - val_mae: 617.1061 - val_mse: 1328561.7500\n",
            "Epoch 33/100\n",
            "18/18 [==============================] - 0s 7ms/step - loss: 115.2438 - mae: 115.2438 - mse: 78368.7969 - val_loss: 649.0989 - val_mae: 649.0989 - val_mse: 1390663.2500\n",
            "Epoch 34/100\n",
            "18/18 [==============================] - 0s 7ms/step - loss: 114.5187 - mae: 114.5187 - mse: 78831.3516 - val_loss: 632.1375 - val_mae: 632.1375 - val_mse: 1383321.0000\n",
            "Epoch 35/100\n",
            "18/18 [==============================] - 1s 45ms/step - loss: 113.6357 - mae: 113.6357 - mse: 76610.7734 - val_loss: 607.4173 - val_mae: 607.4173 - val_mse: 1299839.2500\n",
            "Epoch 36/100\n",
            "18/18 [==============================] - 0s 8ms/step - loss: 115.2605 - mae: 115.2605 - mse: 77254.8047 - val_loss: 626.4319 - val_mae: 626.4319 - val_mse: 1328738.0000\n",
            "Epoch 37/100\n",
            "18/18 [==============================] - 1s 43ms/step - loss: 113.7020 - mae: 113.7020 - mse: 76909.3125 - val_loss: 606.2318 - val_mae: 606.2318 - val_mse: 1299941.2500\n",
            "Epoch 38/100\n",
            "18/18 [==============================] - 1s 44ms/step - loss: 111.4061 - mae: 111.4061 - mse: 75382.8672 - val_loss: 603.2919 - val_mae: 603.2919 - val_mse: 1290358.8750\n",
            "Epoch 39/100\n",
            "18/18 [==============================] - 1s 44ms/step - loss: 112.7722 - mae: 112.7722 - mse: 75144.9219 - val_loss: 596.0060 - val_mae: 596.0060 - val_mse: 1267989.0000\n",
            "Epoch 40/100\n",
            "18/18 [==============================] - 1s 44ms/step - loss: 110.5418 - mae: 110.5418 - mse: 73266.8750 - val_loss: 593.2170 - val_mae: 593.2170 - val_mse: 1259325.6250\n",
            "Epoch 41/100\n",
            "18/18 [==============================] - 0s 7ms/step - loss: 110.8671 - mae: 110.8671 - mse: 73493.2266 - val_loss: 609.1062 - val_mae: 609.1062 - val_mse: 1298276.8750\n",
            "Epoch 42/100\n",
            "18/18 [==============================] - 0s 7ms/step - loss: 115.7249 - mae: 115.7249 - mse: 78316.4062 - val_loss: 607.4877 - val_mae: 607.4877 - val_mse: 1271583.1250\n",
            "Epoch 43/100\n",
            "18/18 [==============================] - 0s 7ms/step - loss: 111.3313 - mae: 111.3313 - mse: 72553.7578 - val_loss: 606.2029 - val_mae: 606.2029 - val_mse: 1287464.5000\n",
            "Epoch 44/100\n",
            "18/18 [==============================] - 1s 43ms/step - loss: 109.7027 - mae: 109.7027 - mse: 72483.3438 - val_loss: 586.1215 - val_mae: 586.1215 - val_mse: 1236946.1250\n",
            "Epoch 45/100\n",
            "18/18 [==============================] - 0s 7ms/step - loss: 107.8748 - mae: 107.8748 - mse: 72189.4844 - val_loss: 593.8445 - val_mae: 593.8445 - val_mse: 1256011.2500\n",
            "Epoch 46/100\n",
            "18/18 [==============================] - 0s 7ms/step - loss: 109.8641 - mae: 109.8641 - mse: 72053.2969 - val_loss: 586.4581 - val_mae: 586.4581 - val_mse: 1224364.6250\n",
            "Epoch 47/100\n",
            "18/18 [==============================] - 0s 7ms/step - loss: 112.3587 - mae: 112.3587 - mse: 74881.6719 - val_loss: 655.4489 - val_mae: 655.4489 - val_mse: 1368206.2500\n",
            "Epoch 48/100\n",
            "18/18 [==============================] - 0s 7ms/step - loss: 109.1614 - mae: 109.1614 - mse: 72981.2266 - val_loss: 598.7234 - val_mae: 598.7234 - val_mse: 1244141.6250\n",
            "Epoch 49/100\n",
            "18/18 [==============================] - 0s 7ms/step - loss: 109.3029 - mae: 109.3029 - mse: 72229.5234 - val_loss: 589.2489 - val_mae: 589.2489 - val_mse: 1225537.0000\n",
            "Epoch 50/100\n",
            "18/18 [==============================] - 0s 7ms/step - loss: 111.1971 - mae: 111.1971 - mse: 72569.8750 - val_loss: 649.3788 - val_mae: 649.3788 - val_mse: 1382788.1250\n",
            "Epoch 51/100\n",
            "18/18 [==============================] - 0s 7ms/step - loss: 110.8514 - mae: 110.8514 - mse: 72277.3438 - val_loss: 602.7667 - val_mae: 602.7667 - val_mse: 1247517.2500\n",
            "Epoch 52/100\n",
            "18/18 [==============================] - 0s 7ms/step - loss: 111.8331 - mae: 111.8331 - mse: 74581.8906 - val_loss: 599.2957 - val_mae: 599.2957 - val_mse: 1255800.1250\n",
            "Epoch 53/100\n",
            "18/18 [==============================] - 0s 8ms/step - loss: 110.8895 - mae: 110.8895 - mse: 72969.3906 - val_loss: 652.1644 - val_mae: 652.1644 - val_mse: 1355600.7500\n",
            "Epoch 54/100\n",
            "18/18 [==============================] - 0s 7ms/step - loss: 113.8169 - mae: 113.8169 - mse: 73914.2656 - val_loss: 600.8459 - val_mae: 600.8459 - val_mse: 1241452.5000\n",
            "Epoch 55/100\n",
            "18/18 [==============================] - 1s 80ms/step - loss: 110.4068 - mae: 110.4068 - mse: 73627.0078 - val_loss: 575.7752 - val_mae: 575.7752 - val_mse: 1197731.0000\n",
            "Epoch 56/100\n",
            "18/18 [==============================] - 0s 7ms/step - loss: 108.6609 - mae: 108.6609 - mse: 71261.1172 - val_loss: 785.9749 - val_mae: 785.9749 - val_mse: 1798977.1250\n",
            "Epoch 57/100\n",
            "18/18 [==============================] - 0s 7ms/step - loss: 124.9823 - mae: 124.9823 - mse: 82843.3438 - val_loss: 670.3782 - val_mae: 670.3782 - val_mse: 1435153.7500\n",
            "Epoch 58/100\n",
            "18/18 [==============================] - 0s 7ms/step - loss: 112.8591 - mae: 112.8591 - mse: 71915.3750 - val_loss: 580.2877 - val_mae: 580.2877 - val_mse: 1201588.0000\n",
            "Epoch 59/100\n",
            "18/18 [==============================] - 0s 7ms/step - loss: 107.2513 - mae: 107.2513 - mse: 70587.5000 - val_loss: 597.5082 - val_mae: 597.5082 - val_mse: 1251075.6250\n",
            "Epoch 60/100\n",
            "18/18 [==============================] - 0s 7ms/step - loss: 109.2322 - mae: 109.2322 - mse: 73329.4219 - val_loss: 632.2958 - val_mae: 632.2958 - val_mse: 1301528.0000\n",
            "Epoch 61/100\n",
            "18/18 [==============================] - 0s 8ms/step - loss: 109.3519 - mae: 109.3519 - mse: 72859.1094 - val_loss: 591.5412 - val_mae: 591.5412 - val_mse: 1217412.0000\n",
            "Epoch 62/100\n",
            "18/18 [==============================] - 0s 8ms/step - loss: 108.4084 - mae: 108.4084 - mse: 70926.0625 - val_loss: 617.5801 - val_mae: 617.5801 - val_mse: 1290846.8750\n",
            "Epoch 63/100\n",
            "18/18 [==============================] - 0s 7ms/step - loss: 113.5326 - mae: 113.5326 - mse: 74343.1719 - val_loss: 613.1476 - val_mae: 613.1476 - val_mse: 1262290.2500\n",
            "Epoch 64/100\n",
            "18/18 [==============================] - 0s 7ms/step - loss: 110.6625 - mae: 110.6625 - mse: 71658.9531 - val_loss: 689.1802 - val_mae: 689.1802 - val_mse: 1434197.3750\n",
            "Epoch 65/100\n",
            "18/18 [==============================] - 1s 44ms/step - loss: 112.0475 - mae: 112.0475 - mse: 73420.1875 - val_loss: 575.5540 - val_mae: 575.5540 - val_mse: 1191943.0000\n",
            "Epoch 66/100\n",
            "18/18 [==============================] - 0s 10ms/step - loss: 111.2830 - mae: 111.2830 - mse: 71301.0156 - val_loss: 590.7802 - val_mae: 590.7802 - val_mse: 1225397.0000\n",
            "Epoch 67/100\n",
            "18/18 [==============================] - 0s 8ms/step - loss: 106.7918 - mae: 106.7918 - mse: 69382.4531 - val_loss: 586.8840 - val_mae: 586.8840 - val_mse: 1218027.7500\n",
            "Epoch 68/100\n",
            "18/18 [==============================] - 0s 7ms/step - loss: 112.2987 - mae: 112.2987 - mse: 70631.5625 - val_loss: 696.5287 - val_mae: 696.5287 - val_mse: 1492195.5000\n",
            "Epoch 69/100\n",
            "18/18 [==============================] - 0s 8ms/step - loss: 124.7808 - mae: 124.7808 - mse: 81109.6016 - val_loss: 698.5261 - val_mae: 698.5261 - val_mse: 1498611.2500\n",
            "Epoch 70/100\n",
            "18/18 [==============================] - 0s 7ms/step - loss: 119.3443 - mae: 119.3443 - mse: 78076.1328 - val_loss: 581.2100 - val_mae: 581.2100 - val_mse: 1206247.6250\n",
            "Epoch 71/100\n",
            "18/18 [==============================] - 0s 7ms/step - loss: 109.9960 - mae: 109.9960 - mse: 71315.7578 - val_loss: 607.6742 - val_mae: 607.6742 - val_mse: 1245709.7500\n",
            "Epoch 72/100\n",
            "18/18 [==============================] - 1s 45ms/step - loss: 106.7711 - mae: 106.7711 - mse: 70055.2266 - val_loss: 573.6142 - val_mae: 573.6142 - val_mse: 1185168.7500\n",
            "Epoch 73/100\n",
            "18/18 [==============================] - 0s 7ms/step - loss: 110.2485 - mae: 110.2485 - mse: 71589.1328 - val_loss: 618.8947 - val_mae: 618.8947 - val_mse: 1289601.2500\n",
            "Epoch 74/100\n",
            "18/18 [==============================] - 0s 7ms/step - loss: 105.5330 - mae: 105.5330 - mse: 69883.2891 - val_loss: 574.9452 - val_mae: 574.9452 - val_mse: 1189282.1250\n",
            "Epoch 75/100\n",
            "18/18 [==============================] - 0s 7ms/step - loss: 107.3177 - mae: 107.3177 - mse: 69894.7344 - val_loss: 606.1979 - val_mae: 606.1979 - val_mse: 1240848.5000\n",
            "Epoch 76/100\n",
            "18/18 [==============================] - 0s 8ms/step - loss: 107.8084 - mae: 107.8084 - mse: 70983.0625 - val_loss: 582.2403 - val_mae: 582.2403 - val_mse: 1206271.7500\n",
            "Epoch 77/100\n",
            "18/18 [==============================] - 1s 42ms/step - loss: 107.2528 - mae: 107.2528 - mse: 69628.3203 - val_loss: 571.8563 - val_mae: 571.8563 - val_mse: 1180512.1250\n",
            "Epoch 78/100\n",
            "18/18 [==============================] - 0s 7ms/step - loss: 106.2309 - mae: 106.2309 - mse: 69008.9922 - val_loss: 572.2830 - val_mae: 572.2830 - val_mse: 1174658.7500\n",
            "Epoch 79/100\n",
            "18/18 [==============================] - 0s 7ms/step - loss: 105.8568 - mae: 105.8568 - mse: 70072.8047 - val_loss: 596.5461 - val_mae: 596.5461 - val_mse: 1236695.8750\n",
            "Epoch 80/100\n",
            "18/18 [==============================] - 0s 7ms/step - loss: 107.8418 - mae: 107.8418 - mse: 70822.2656 - val_loss: 577.2400 - val_mae: 577.2400 - val_mse: 1181263.0000\n",
            "Epoch 81/100\n",
            "18/18 [==============================] - 1s 43ms/step - loss: 105.1101 - mae: 105.1101 - mse: 68809.2188 - val_loss: 568.4897 - val_mae: 568.4897 - val_mse: 1169003.5000\n",
            "Epoch 82/100\n",
            "18/18 [==============================] - 0s 10ms/step - loss: 114.1867 - mae: 114.1867 - mse: 75576.8047 - val_loss: 592.5609 - val_mae: 592.5609 - val_mse: 1228614.6250\n",
            "Epoch 83/100\n",
            "18/18 [==============================] - 0s 7ms/step - loss: 107.9631 - mae: 107.9631 - mse: 70494.2969 - val_loss: 651.6213 - val_mae: 651.6213 - val_mse: 1362898.3750\n",
            "Epoch 84/100\n",
            "18/18 [==============================] - 0s 7ms/step - loss: 109.6690 - mae: 109.6690 - mse: 71213.1641 - val_loss: 568.9340 - val_mae: 568.9340 - val_mse: 1170230.7500\n",
            "Epoch 85/100\n",
            "18/18 [==============================] - 0s 7ms/step - loss: 105.8219 - mae: 105.8219 - mse: 69465.5859 - val_loss: 571.5334 - val_mae: 571.5334 - val_mse: 1169862.0000\n",
            "Epoch 86/100\n",
            "18/18 [==============================] - 0s 7ms/step - loss: 104.8628 - mae: 104.8628 - mse: 68310.5625 - val_loss: 579.3859 - val_mae: 579.3859 - val_mse: 1182463.2500\n",
            "Epoch 87/100\n",
            "18/18 [==============================] - 0s 7ms/step - loss: 104.7148 - mae: 104.7148 - mse: 67432.9766 - val_loss: 582.9178 - val_mae: 582.9178 - val_mse: 1203504.6250\n",
            "Epoch 88/100\n",
            "18/18 [==============================] - 0s 7ms/step - loss: 106.8899 - mae: 106.8899 - mse: 69952.0000 - val_loss: 569.0820 - val_mae: 569.0820 - val_mse: 1170116.8750\n",
            "Epoch 89/100\n",
            "18/18 [==============================] - 0s 7ms/step - loss: 105.4376 - mae: 105.4376 - mse: 67957.0703 - val_loss: 569.3439 - val_mae: 569.3439 - val_mse: 1170367.2500\n",
            "Epoch 90/100\n",
            "18/18 [==============================] - 0s 7ms/step - loss: 105.1583 - mae: 105.1583 - mse: 66715.0391 - val_loss: 600.5422 - val_mae: 600.5422 - val_mse: 1223465.5000\n",
            "Epoch 91/100\n",
            "18/18 [==============================] - 0s 8ms/step - loss: 111.8188 - mae: 111.8188 - mse: 72127.2891 - val_loss: 632.4727 - val_mae: 632.4727 - val_mse: 1316192.5000\n",
            "Epoch 92/100\n",
            "18/18 [==============================] - 0s 7ms/step - loss: 106.8183 - mae: 106.8183 - mse: 69972.6719 - val_loss: 601.6358 - val_mae: 601.6358 - val_mse: 1248457.2500\n",
            "Epoch 93/100\n",
            "18/18 [==============================] - 0s 7ms/step - loss: 114.4035 - mae: 114.4035 - mse: 73548.4297 - val_loss: 647.1910 - val_mae: 647.1910 - val_mse: 1346768.6250\n",
            "Epoch 94/100\n",
            "18/18 [==============================] - 0s 7ms/step - loss: 110.5867 - mae: 110.5867 - mse: 72333.4375 - val_loss: 571.2924 - val_mae: 571.2924 - val_mse: 1168205.8750\n",
            "Epoch 95/100\n",
            "18/18 [==============================] - 0s 7ms/step - loss: 105.7926 - mae: 105.7926 - mse: 68822.1016 - val_loss: 584.9744 - val_mae: 584.9744 - val_mse: 1191992.8750\n",
            "Epoch 96/100\n",
            "18/18 [==============================] - 0s 7ms/step - loss: 112.4480 - mae: 112.4480 - mse: 72328.8438 - val_loss: 624.2061 - val_mae: 624.2061 - val_mse: 1296119.6250\n",
            "Epoch 97/100\n",
            "18/18 [==============================] - 0s 8ms/step - loss: 108.2609 - mae: 108.2609 - mse: 70828.8359 - val_loss: 581.7926 - val_mae: 581.7926 - val_mse: 1203547.7500\n",
            "Epoch 98/100\n",
            "18/18 [==============================] - 0s 7ms/step - loss: 108.0625 - mae: 108.0625 - mse: 69591.1797 - val_loss: 573.6556 - val_mae: 573.6556 - val_mse: 1173146.3750\n",
            "Epoch 99/100\n",
            "18/18 [==============================] - 1s 44ms/step - loss: 107.7017 - mae: 107.7017 - mse: 69536.8750 - val_loss: 567.8899 - val_mae: 567.8899 - val_mse: 1164816.6250\n",
            "Epoch 100/100\n",
            "18/18 [==============================] - 0s 7ms/step - loss: 107.9951 - mae: 107.9951 - mse: 68321.1641 - val_loss: 626.7441 - val_mae: 626.7441 - val_mse: 1282530.1250\n"
          ]
        }
      ]
    },
    {
      "cell_type": "code",
      "source": [
        "model6 = tf.keras.models.load_model('model_experiments/model_6_dense_multivariate')\n",
        "model6_preds = make_preds(model6, x_test)\n",
        "model6_results = evaluate_preds(tf.squeeze(y_test), model6_preds)\n",
        "model6_results"
      ],
      "metadata": {
        "colab": {
          "base_uri": "https://localhost:8080/"
        },
        "id": "pq910yBcP95G",
        "outputId": "ec303c94-5aaa-4cfc-d82a-cd00746e4cb6"
      },
      "execution_count": null,
      "outputs": [
        {
          "output_type": "execute_result",
          "data": {
            "text/plain": [
              "{'mae': 567.8899,\n",
              " 'mse': 1164816.4,\n",
              " 'rsme': 1079.2666,\n",
              " 'mape': 2.5460758,\n",
              " 'mase': 0.99762523}"
            ]
          },
          "metadata": {},
          "execution_count": 131
        }
      ]
    },
    {
      "cell_type": "code",
      "source": [
        "# Create NBeatsBlock custom layer \n",
        "class NBeatsBlock(tf.keras.layers.Layer):\n",
        "  def __init__(self, # the constructor takes all the hyperparameters for the layer\n",
        "               input_size: int,\n",
        "               theta_size: int,\n",
        "               horizon: int,\n",
        "               n_neurons: int,\n",
        "               n_layers: int,\n",
        "               **kwargs): # the **kwargs argument takes care of all of the arguments for the parent class (input_shape, trainable, name)\n",
        "    super().__init__(**kwargs)\n",
        "    self.input_size = input_size\n",
        "    self.theta_size = theta_size\n",
        "    self.horizon = horizon\n",
        "    self.n_neurons = n_neurons\n",
        "    self.n_layers = n_layers\n",
        "\n",
        "    # Block contains stack of 4 fully connected layers each has ReLU activation\n",
        "    self.hidden = [tf.keras.layers.Dense(n_neurons, activation=\"relu\") for _ in range(n_layers)]\n",
        "    # Output of block is a theta layer with linear activation\n",
        "    self.theta_layer = tf.keras.layers.Dense(theta_size, activation=\"linear\", name=\"theta\")\n",
        "\n",
        "  def call(self, inputs): # the call method is what runs when the layer is called \n",
        "    x = inputs \n",
        "    for layer in self.hidden: # pass inputs through each hidden layer \n",
        "      x = layer(x)\n",
        "    theta = self.theta_layer(x) \n",
        "    # Output the backcast and forecast from theta\n",
        "    backcast, forecast = theta[:, :self.input_size], theta[:, -self.horizon:]\n",
        "    return backcast, forecast"
      ],
      "metadata": {
        "id": "ppZgSvJ_QgFM"
      },
      "execution_count": null,
      "outputs": []
    },
    {
      "cell_type": "code",
      "source": [
        "# Set up dummy NBeatsBlock layer to represent inputs and outputs\n",
        "dummy_nbeats_block_layer = NBeatsBlock(input_size=window_size, \n",
        "                                       theta_size=window_size+horizon, # backcast + forecast \n",
        "                                       horizon=horizon,\n",
        "                                       n_neurons=128,\n",
        "                                       n_layers=4)"
      ],
      "metadata": {
        "id": "NcoKeRgmUZp7"
      },
      "execution_count": null,
      "outputs": []
    },
    {
      "cell_type": "code",
      "source": [
        "# Create dummy inputs (have to be same size as input_size)\n",
        "dummy_inputs = tf.expand_dims(tf.range(window_size) + 1, axis=0) # input shape to the model has to reflect Dense layer input requirements (ndim=2)\n",
        "dummy_inputs"
      ],
      "metadata": {
        "colab": {
          "base_uri": "https://localhost:8080/"
        },
        "id": "2S53FsgKU41E",
        "outputId": "d4f0b178-a621-4e9b-9120-b323e5ecaaf9"
      },
      "execution_count": null,
      "outputs": [
        {
          "output_type": "execute_result",
          "data": {
            "text/plain": [
              "<tf.Tensor: shape=(1, 7), dtype=int32, numpy=array([[1, 2, 3, 4, 5, 6, 7]], dtype=int32)>"
            ]
          },
          "metadata": {},
          "execution_count": 145
        }
      ]
    },
    {
      "cell_type": "code",
      "source": [
        "# Pass dummy inputs to dummy NBeatsBlock layer\n",
        "backcast, forecast = dummy_nbeats_block_layer(dummy_inputs)\n",
        "# These are the activation outputs of the theta layer (they'll be random due to no training of the model)\n",
        "print(f\"Backcast: {tf.squeeze(backcast.numpy())}\")\n",
        "print(f\"Forecast: {tf.squeeze(forecast.numpy())}\")"
      ],
      "metadata": {
        "colab": {
          "base_uri": "https://localhost:8080/"
        },
        "id": "aEnko6aiVV-7",
        "outputId": "543f0aa7-6693-47d7-8aca-3be461925624"
      },
      "execution_count": null,
      "outputs": [
        {
          "output_type": "stream",
          "name": "stdout",
          "text": [
            "Backcast: [ 0.48976913 -0.12239711  0.91753995  0.30589288  0.4072049  -0.07078186\n",
            " -0.8910993 ]\n",
            "Forecast: -0.19478601217269897\n"
          ]
        }
      ]
    },
    {
      "cell_type": "code",
      "source": [
        "# Prepare data for N-BEAT algorithm using tf.data\n",
        "bitcoin_prices_nbeats = bitcoin_prices.copy()\n",
        "for i in range(window_size):\n",
        "  bitcoin_prices_nbeats[f\"Price+{i+1}\"] = bitcoin_prices_nbeats['Price'].shift(periods=i+1)\n",
        "bitcoin_prices_nbeats"
      ],
      "metadata": {
        "colab": {
          "base_uri": "https://localhost:8080/",
          "height": 455
        },
        "id": "AatHT8ZjV-9K",
        "outputId": "57999774-fe4c-4640-b5bd-37773e0ef3cb"
      },
      "execution_count": null,
      "outputs": [
        {
          "output_type": "execute_result",
          "data": {
            "text/plain": [
              "                   Price       Price+1       Price+2       Price+3  \\\n",
              "Date                                                                 \n",
              "2013-10-01    123.654990           NaN           NaN           NaN   \n",
              "2013-10-02    125.455000    123.654990           NaN           NaN   \n",
              "2013-10-03    108.584830    125.455000    123.654990           NaN   \n",
              "2013-10-04    118.674660    108.584830    125.455000    123.654990   \n",
              "2013-10-05    121.338660    118.674660    108.584830    125.455000   \n",
              "...                  ...           ...           ...           ...   \n",
              "2021-05-14  49764.132082  52147.821187  56573.555472  55715.546651   \n",
              "2021-05-15  50032.693137  49764.132082  52147.821187  56573.555472   \n",
              "2021-05-16  47885.625255  50032.693137  49764.132082  52147.821187   \n",
              "2021-05-17  45604.615754  47885.625255  50032.693137  49764.132082   \n",
              "2021-05-18  43144.471291  45604.615754  47885.625255  50032.693137   \n",
              "\n",
              "                 Price+4       Price+5       Price+6       Price+7  \n",
              "Date                                                                \n",
              "2013-10-01           NaN           NaN           NaN           NaN  \n",
              "2013-10-02           NaN           NaN           NaN           NaN  \n",
              "2013-10-03           NaN           NaN           NaN           NaN  \n",
              "2013-10-04           NaN           NaN           NaN           NaN  \n",
              "2013-10-05    123.654990           NaN           NaN           NaN  \n",
              "...                  ...           ...           ...           ...  \n",
              "2021-05-14  58102.191426  58788.209679  57107.120672  56583.849879  \n",
              "2021-05-15  55715.546651  58102.191426  58788.209679  57107.120672  \n",
              "2021-05-16  56573.555472  55715.546651  58102.191426  58788.209679  \n",
              "2021-05-17  52147.821187  56573.555472  55715.546651  58102.191426  \n",
              "2021-05-18  49764.132082  52147.821187  56573.555472  55715.546651  \n",
              "\n",
              "[2787 rows x 8 columns]"
            ],
            "text/html": [
              "\n",
              "  <div id=\"df-49ca72d2-11c9-4c77-a3f6-58f0a396b74f\">\n",
              "    <div class=\"colab-df-container\">\n",
              "      <div>\n",
              "<style scoped>\n",
              "    .dataframe tbody tr th:only-of-type {\n",
              "        vertical-align: middle;\n",
              "    }\n",
              "\n",
              "    .dataframe tbody tr th {\n",
              "        vertical-align: top;\n",
              "    }\n",
              "\n",
              "    .dataframe thead th {\n",
              "        text-align: right;\n",
              "    }\n",
              "</style>\n",
              "<table border=\"1\" class=\"dataframe\">\n",
              "  <thead>\n",
              "    <tr style=\"text-align: right;\">\n",
              "      <th></th>\n",
              "      <th>Price</th>\n",
              "      <th>Price+1</th>\n",
              "      <th>Price+2</th>\n",
              "      <th>Price+3</th>\n",
              "      <th>Price+4</th>\n",
              "      <th>Price+5</th>\n",
              "      <th>Price+6</th>\n",
              "      <th>Price+7</th>\n",
              "    </tr>\n",
              "    <tr>\n",
              "      <th>Date</th>\n",
              "      <th></th>\n",
              "      <th></th>\n",
              "      <th></th>\n",
              "      <th></th>\n",
              "      <th></th>\n",
              "      <th></th>\n",
              "      <th></th>\n",
              "      <th></th>\n",
              "    </tr>\n",
              "  </thead>\n",
              "  <tbody>\n",
              "    <tr>\n",
              "      <th>2013-10-01</th>\n",
              "      <td>123.654990</td>\n",
              "      <td>NaN</td>\n",
              "      <td>NaN</td>\n",
              "      <td>NaN</td>\n",
              "      <td>NaN</td>\n",
              "      <td>NaN</td>\n",
              "      <td>NaN</td>\n",
              "      <td>NaN</td>\n",
              "    </tr>\n",
              "    <tr>\n",
              "      <th>2013-10-02</th>\n",
              "      <td>125.455000</td>\n",
              "      <td>123.654990</td>\n",
              "      <td>NaN</td>\n",
              "      <td>NaN</td>\n",
              "      <td>NaN</td>\n",
              "      <td>NaN</td>\n",
              "      <td>NaN</td>\n",
              "      <td>NaN</td>\n",
              "    </tr>\n",
              "    <tr>\n",
              "      <th>2013-10-03</th>\n",
              "      <td>108.584830</td>\n",
              "      <td>125.455000</td>\n",
              "      <td>123.654990</td>\n",
              "      <td>NaN</td>\n",
              "      <td>NaN</td>\n",
              "      <td>NaN</td>\n",
              "      <td>NaN</td>\n",
              "      <td>NaN</td>\n",
              "    </tr>\n",
              "    <tr>\n",
              "      <th>2013-10-04</th>\n",
              "      <td>118.674660</td>\n",
              "      <td>108.584830</td>\n",
              "      <td>125.455000</td>\n",
              "      <td>123.654990</td>\n",
              "      <td>NaN</td>\n",
              "      <td>NaN</td>\n",
              "      <td>NaN</td>\n",
              "      <td>NaN</td>\n",
              "    </tr>\n",
              "    <tr>\n",
              "      <th>2013-10-05</th>\n",
              "      <td>121.338660</td>\n",
              "      <td>118.674660</td>\n",
              "      <td>108.584830</td>\n",
              "      <td>125.455000</td>\n",
              "      <td>123.654990</td>\n",
              "      <td>NaN</td>\n",
              "      <td>NaN</td>\n",
              "      <td>NaN</td>\n",
              "    </tr>\n",
              "    <tr>\n",
              "      <th>...</th>\n",
              "      <td>...</td>\n",
              "      <td>...</td>\n",
              "      <td>...</td>\n",
              "      <td>...</td>\n",
              "      <td>...</td>\n",
              "      <td>...</td>\n",
              "      <td>...</td>\n",
              "      <td>...</td>\n",
              "    </tr>\n",
              "    <tr>\n",
              "      <th>2021-05-14</th>\n",
              "      <td>49764.132082</td>\n",
              "      <td>52147.821187</td>\n",
              "      <td>56573.555472</td>\n",
              "      <td>55715.546651</td>\n",
              "      <td>58102.191426</td>\n",
              "      <td>58788.209679</td>\n",
              "      <td>57107.120672</td>\n",
              "      <td>56583.849879</td>\n",
              "    </tr>\n",
              "    <tr>\n",
              "      <th>2021-05-15</th>\n",
              "      <td>50032.693137</td>\n",
              "      <td>49764.132082</td>\n",
              "      <td>52147.821187</td>\n",
              "      <td>56573.555472</td>\n",
              "      <td>55715.546651</td>\n",
              "      <td>58102.191426</td>\n",
              "      <td>58788.209679</td>\n",
              "      <td>57107.120672</td>\n",
              "    </tr>\n",
              "    <tr>\n",
              "      <th>2021-05-16</th>\n",
              "      <td>47885.625255</td>\n",
              "      <td>50032.693137</td>\n",
              "      <td>49764.132082</td>\n",
              "      <td>52147.821187</td>\n",
              "      <td>56573.555472</td>\n",
              "      <td>55715.546651</td>\n",
              "      <td>58102.191426</td>\n",
              "      <td>58788.209679</td>\n",
              "    </tr>\n",
              "    <tr>\n",
              "      <th>2021-05-17</th>\n",
              "      <td>45604.615754</td>\n",
              "      <td>47885.625255</td>\n",
              "      <td>50032.693137</td>\n",
              "      <td>49764.132082</td>\n",
              "      <td>52147.821187</td>\n",
              "      <td>56573.555472</td>\n",
              "      <td>55715.546651</td>\n",
              "      <td>58102.191426</td>\n",
              "    </tr>\n",
              "    <tr>\n",
              "      <th>2021-05-18</th>\n",
              "      <td>43144.471291</td>\n",
              "      <td>45604.615754</td>\n",
              "      <td>47885.625255</td>\n",
              "      <td>50032.693137</td>\n",
              "      <td>49764.132082</td>\n",
              "      <td>52147.821187</td>\n",
              "      <td>56573.555472</td>\n",
              "      <td>55715.546651</td>\n",
              "    </tr>\n",
              "  </tbody>\n",
              "</table>\n",
              "<p>2787 rows × 8 columns</p>\n",
              "</div>\n",
              "      <button class=\"colab-df-convert\" onclick=\"convertToInteractive('df-49ca72d2-11c9-4c77-a3f6-58f0a396b74f')\"\n",
              "              title=\"Convert this dataframe to an interactive table.\"\n",
              "              style=\"display:none;\">\n",
              "        \n",
              "  <svg xmlns=\"http://www.w3.org/2000/svg\" height=\"24px\"viewBox=\"0 0 24 24\"\n",
              "       width=\"24px\">\n",
              "    <path d=\"M0 0h24v24H0V0z\" fill=\"none\"/>\n",
              "    <path d=\"M18.56 5.44l.94 2.06.94-2.06 2.06-.94-2.06-.94-.94-2.06-.94 2.06-2.06.94zm-11 1L8.5 8.5l.94-2.06 2.06-.94-2.06-.94L8.5 2.5l-.94 2.06-2.06.94zm10 10l.94 2.06.94-2.06 2.06-.94-2.06-.94-.94-2.06-.94 2.06-2.06.94z\"/><path d=\"M17.41 7.96l-1.37-1.37c-.4-.4-.92-.59-1.43-.59-.52 0-1.04.2-1.43.59L10.3 9.45l-7.72 7.72c-.78.78-.78 2.05 0 2.83L4 21.41c.39.39.9.59 1.41.59.51 0 1.02-.2 1.41-.59l7.78-7.78 2.81-2.81c.8-.78.8-2.07 0-2.86zM5.41 20L4 18.59l7.72-7.72 1.47 1.35L5.41 20z\"/>\n",
              "  </svg>\n",
              "      </button>\n",
              "      \n",
              "  <style>\n",
              "    .colab-df-container {\n",
              "      display:flex;\n",
              "      flex-wrap:wrap;\n",
              "      gap: 12px;\n",
              "    }\n",
              "\n",
              "    .colab-df-convert {\n",
              "      background-color: #E8F0FE;\n",
              "      border: none;\n",
              "      border-radius: 50%;\n",
              "      cursor: pointer;\n",
              "      display: none;\n",
              "      fill: #1967D2;\n",
              "      height: 32px;\n",
              "      padding: 0 0 0 0;\n",
              "      width: 32px;\n",
              "    }\n",
              "\n",
              "    .colab-df-convert:hover {\n",
              "      background-color: #E2EBFA;\n",
              "      box-shadow: 0px 1px 2px rgba(60, 64, 67, 0.3), 0px 1px 3px 1px rgba(60, 64, 67, 0.15);\n",
              "      fill: #174EA6;\n",
              "    }\n",
              "\n",
              "    [theme=dark] .colab-df-convert {\n",
              "      background-color: #3B4455;\n",
              "      fill: #D2E3FC;\n",
              "    }\n",
              "\n",
              "    [theme=dark] .colab-df-convert:hover {\n",
              "      background-color: #434B5C;\n",
              "      box-shadow: 0px 1px 3px 1px rgba(0, 0, 0, 0.15);\n",
              "      filter: drop-shadow(0px 1px 2px rgba(0, 0, 0, 0.3));\n",
              "      fill: #FFFFFF;\n",
              "    }\n",
              "  </style>\n",
              "\n",
              "      <script>\n",
              "        const buttonEl =\n",
              "          document.querySelector('#df-49ca72d2-11c9-4c77-a3f6-58f0a396b74f button.colab-df-convert');\n",
              "        buttonEl.style.display =\n",
              "          google.colab.kernel.accessAllowed ? 'block' : 'none';\n",
              "\n",
              "        async function convertToInteractive(key) {\n",
              "          const element = document.querySelector('#df-49ca72d2-11c9-4c77-a3f6-58f0a396b74f');\n",
              "          const dataTable =\n",
              "            await google.colab.kernel.invokeFunction('convertToInteractive',\n",
              "                                                     [key], {});\n",
              "          if (!dataTable) return;\n",
              "\n",
              "          const docLinkHtml = 'Like what you see? Visit the ' +\n",
              "            '<a target=\"_blank\" href=https://colab.research.google.com/notebooks/data_table.ipynb>data table notebook</a>'\n",
              "            + ' to learn more about interactive tables.';\n",
              "          element.innerHTML = '';\n",
              "          dataTable['output_type'] = 'display_data';\n",
              "          await google.colab.output.renderOutput(dataTable, element);\n",
              "          const docLink = document.createElement('div');\n",
              "          docLink.innerHTML = docLinkHtml;\n",
              "          element.appendChild(docLink);\n",
              "        }\n",
              "      </script>\n",
              "    </div>\n",
              "  </div>\n",
              "  "
            ]
          },
          "metadata": {},
          "execution_count": 148
        }
      ]
    },
    {
      "cell_type": "code",
      "source": [
        "x = bitcoin_prices_nbeats.dropna().drop('Price', axis=1)\n",
        "y = bitcoin_prices_nbeats.dropna()['Price']\n",
        "\n",
        "split_size = int(len(x)*0.8)\n",
        "x_train, y_train = x[:split_size], y[:split_size]\n",
        "x_test, y_test = x[split_size:], y[split_size:]"
      ],
      "metadata": {
        "id": "dR--rVZ4ZBLX"
      },
      "execution_count": null,
      "outputs": []
    },
    {
      "cell_type": "code",
      "source": [
        "train_features_dataset = tf.data.Dataset.from_tensor_slices(x_train)\n",
        "train_labels_dataset = tf.data.Dataset.from_tensor_slices(y_train)\n",
        "\n",
        "test_features_dataset = tf.data.Dataset.from_tensor_slices(x_test)\n",
        "test_labels_dataset = tf.data.Dataset.from_tensor_slices(y_test)\n",
        "\n",
        "batch_size = 1024\n",
        "\n",
        "train_dataset = tf.data.Dataset.zip((train_features_dataset, train_labels_dataset)).batch(batch_size).prefetch(tf.data.AUTOTUNE)\n",
        "test_dataset = tf.data.Dataset.zip((test_features_dataset, test_labels_dataset)).batch(batch_size).prefetch(tf.data.AUTOTUNE)"
      ],
      "metadata": {
        "id": "pjgOed3naFeb"
      },
      "execution_count": null,
      "outputs": []
    },
    {
      "cell_type": "code",
      "source": [
        "# Values from N-Beats paper\n",
        "n_epochs = 5000\n",
        "n_neurons = 512\n",
        "n_layers = 4\n",
        "n_stacks = 30\n",
        "\n",
        "input_size = window_size * horizon\n",
        "theta_size = input_size + horizon"
      ],
      "metadata": {
        "id": "3RYVTUPUaR5I"
      },
      "execution_count": null,
      "outputs": []
    },
    {
      "cell_type": "code",
      "source": [
        "# Double residual stacking\n",
        "\n",
        "%%time\n",
        "\n",
        "tf.random.set_seed(42)\n",
        "\n",
        "nbeats_block_layer = NBeatsBlock(input_size,\n",
        "                                 theta_size,\n",
        "                                 horizon,\n",
        "                                 n_neurons,\n",
        "                                 n_layers,\n",
        "                                 name='InitialBlock')\n",
        "\n",
        "# Create input to stack\n",
        "stack_input = layers.Input(shape=(input_size), name='stack_input')\n",
        "\n",
        "# Create initial backcast and ofrecast input\n",
        "residuals, forecast = nbeats_block_layer(stack_input)\n",
        "\n",
        "# Create stacks of block layers\n",
        "for i, _ in enumerate(range(n_stacks-1)):\n",
        "  # Use NBeatsBlock to calculate backcast and forecast\n",
        "  backcast, block_forecast = NBeatsBlock(\n",
        "      input_size,\n",
        "      theta_size,\n",
        "      horizon,\n",
        "      n_neurons,\n",
        "      n_layers,\n",
        "      name=f\"NBeatsBlock_{i}\"\n",
        "  )(residuals) # pass in residuals\n",
        "\n",
        "  # Create double residual stacking\n",
        "  residuals = layers.subtract([residuals, backcast], name=f'subtract_{i}')\n",
        "  forecast = layers.add([forecast, block_forecast], name=f'add_{i}')\n",
        "\n",
        "# Put stack model together\n",
        "model7 = tf.keras.Model(stack_input, forecast, name='model_7_NBeats')\n",
        "model7.compile(loss='mae',\n",
        "               optimizer='Adam')\n",
        "\n",
        "# Fit model with early stopping and ReduceLROnPlateau callbacks\n",
        "model7.fit(train_dataset,\n",
        "           epochs=n_epochs,\n",
        "           validation_data=test_dataset,\n",
        "           verbose=0,\n",
        "           callbacks=[tf.keras.callbacks.EarlyStopping(monitor='val_loss',\n",
        "                                                       patience=200,\n",
        "                                                       restore_best_weights=True),\n",
        "                      tf.keras.callbacks.ReduceLROnPlateau(monitor='val_loss',\n",
        "                                                           patience=100,\n",
        "                                                           verbose=1)])"
      ],
      "metadata": {
        "colab": {
          "base_uri": "https://localhost:8080/"
        },
        "id": "z16tMf5zcjjv",
        "outputId": "50eeb8e5-de19-458b-b68c-fe1cfaa291ba"
      },
      "execution_count": null,
      "outputs": [
        {
          "output_type": "stream",
          "name": "stdout",
          "text": [
            "\n",
            "Epoch 714: ReduceLROnPlateau reducing learning rate to 0.00010000000474974513.\n",
            "\n",
            "Epoch 942: ReduceLROnPlateau reducing learning rate to 1.0000000474974514e-05.\n",
            "\n",
            "Epoch 1042: ReduceLROnPlateau reducing learning rate to 1.0000000656873453e-06.\n",
            "CPU times: user 3min 50s, sys: 6.38 s, total: 3min 56s\n",
            "Wall time: 5min 46s\n"
          ]
        },
        {
          "output_type": "execute_result",
          "data": {
            "text/plain": [
              "<keras.callbacks.History at 0x7f08e7a11190>"
            ]
          },
          "metadata": {},
          "execution_count": 156
        }
      ]
    },
    {
      "cell_type": "code",
      "source": [
        "model7_preds = make_preds(model7, test_dataset)\n",
        "model7_results = evaluate_preds(y_test, model7_preds)\n",
        "model7_results"
      ],
      "metadata": {
        "colab": {
          "base_uri": "https://localhost:8080/"
        },
        "id": "UdnMRNHNeSpV",
        "outputId": "6816f866-b340-480e-e89f-8f644b2dd8d5"
      },
      "execution_count": null,
      "outputs": [
        {
          "output_type": "execute_result",
          "data": {
            "text/plain": [
              "{'mae': 572.1128,\n",
              " 'mse': 1171146.1,\n",
              " 'rsme': 1082.1951,\n",
              " 'mape': 2.5804524,\n",
              " 'mase': 1.0050437}"
            ]
          },
          "metadata": {},
          "execution_count": 158
        }
      ]
    },
    {
      "cell_type": "code",
      "source": [
        "# Ensemble model\n",
        "def get_ensemble_models(horizon=horizon,\n",
        "                        train_data=train_dataset,\n",
        "                        test_data=test_dataset,\n",
        "                        num_iter=10,\n",
        "                        num_epochs=1000,\n",
        "                        loss_fn=['mae', 'mse', 'mape']):\n",
        "  ensemble_models = []\n",
        "  for i in range(num_iter):\n",
        "    for loss_function in loss_fn:\n",
        "      model = tf.keras.Sequential([\n",
        "          layers.Dense(128, kernel_initializer='he_normal', activation='relu'),\n",
        "          layers.Dense(128, kernel_initializer='he_normal', activation='relu'),\n",
        "          layers.Dense(horizon)\n",
        "      ])\n",
        "\n",
        "      model.compile(loss=loss_function,\n",
        "                    optimizer='Adam',\n",
        "                    metrics=['mae', 'mse'])\n",
        "      \n",
        "      model.fit(train_data,\n",
        "                epochs=num_epochs,\n",
        "                verbose=0,\n",
        "                validation_data=test_data,\n",
        "                callbacks=[tf.keras.callbacks.EarlyStopping(monitor='val_loss',\n",
        "                                                            patience=200,\n",
        "                                                            restore_best_weights=True),\n",
        "                           tf.keras.callbacks.ReduceLROnPlateau(monitor='val_loss',\n",
        "                                                                patience=100,\n",
        "                                                                verbose=1)])\n",
        "      \n",
        "      ensemble_models.append(model)\n",
        "  return ensemble_models"
      ],
      "metadata": {
        "id": "Il4-w3uvg_9P"
      },
      "execution_count": null,
      "outputs": []
    },
    {
      "cell_type": "code",
      "source": [
        "%%time\n",
        "ensemble_models = get_ensemble_models(num_iter=5,\n",
        "                                      num_epochs=1000)"
      ],
      "metadata": {
        "colab": {
          "base_uri": "https://localhost:8080/"
        },
        "id": "QoqQ5OyFjS8m",
        "outputId": "a27023ea-3e0e-4e73-876b-f9fd4f9db97a"
      },
      "execution_count": null,
      "outputs": [
        {
          "output_type": "stream",
          "name": "stdout",
          "text": [
            "\n",
            "Epoch 931: ReduceLROnPlateau reducing learning rate to 0.00010000000474974513.\n",
            "\n",
            "Epoch 409: ReduceLROnPlateau reducing learning rate to 0.00010000000474974513.\n",
            "\n",
            "Epoch 509: ReduceLROnPlateau reducing learning rate to 1.0000000474974514e-05.\n",
            "\n",
            "Epoch 177: ReduceLROnPlateau reducing learning rate to 0.00010000000474974513.\n",
            "\n",
            "Epoch 947: ReduceLROnPlateau reducing learning rate to 1.0000000474974514e-05.\n",
            "\n",
            "Epoch 895: ReduceLROnPlateau reducing learning rate to 0.00010000000474974513.\n",
            "\n",
            "Epoch 172: ReduceLROnPlateau reducing learning rate to 0.00010000000474974513.\n",
            "\n",
            "Epoch 289: ReduceLROnPlateau reducing learning rate to 1.0000000474974514e-05.\n",
            "\n",
            "Epoch 389: ReduceLROnPlateau reducing learning rate to 1.0000000656873453e-06.\n",
            "\n",
            "Epoch 908: ReduceLROnPlateau reducing learning rate to 0.00010000000474974513.\n",
            "\n",
            "Epoch 334: ReduceLROnPlateau reducing learning rate to 0.00010000000474974513.\n",
            "\n",
            "Epoch 434: ReduceLROnPlateau reducing learning rate to 1.0000000474974514e-05.\n",
            "\n",
            "Epoch 256: ReduceLROnPlateau reducing learning rate to 0.00010000000474974513.\n",
            "\n",
            "Epoch 356: ReduceLROnPlateau reducing learning rate to 1.0000000474974514e-05.\n",
            "\n",
            "Epoch 684: ReduceLROnPlateau reducing learning rate to 0.00010000000474974513.\n",
            "\n",
            "Epoch 784: ReduceLROnPlateau reducing learning rate to 1.0000000474974514e-05.\n",
            "\n",
            "Epoch 132: ReduceLROnPlateau reducing learning rate to 0.00010000000474974513.\n",
            "\n",
            "Epoch 594: ReduceLROnPlateau reducing learning rate to 1.0000000474974514e-05.\n",
            "\n",
            "Epoch 694: ReduceLROnPlateau reducing learning rate to 1.0000000656873453e-06.\n",
            "\n",
            "Epoch 211: ReduceLROnPlateau reducing learning rate to 0.00010000000474974513.\n",
            "\n",
            "Epoch 504: ReduceLROnPlateau reducing learning rate to 0.00010000000474974513.\n",
            "\n",
            "Epoch 604: ReduceLROnPlateau reducing learning rate to 1.0000000474974514e-05.\n",
            "\n",
            "Epoch 251: ReduceLROnPlateau reducing learning rate to 0.00010000000474974513.\n",
            "\n",
            "Epoch 572: ReduceLROnPlateau reducing learning rate to 1.0000000474974514e-05.\n",
            "\n",
            "Epoch 672: ReduceLROnPlateau reducing learning rate to 1.0000000656873453e-06.\n",
            "CPU times: user 6min 24s, sys: 27.9 s, total: 6min 52s\n",
            "Wall time: 7min 5s\n"
          ]
        }
      ]
    },
    {
      "cell_type": "code",
      "source": [
        "def make_ensemble_preds(ensemble_models, data):\n",
        "  ensemble_preds = []\n",
        "  for model in ensemble_models:\n",
        "    preds = model.predict(data)\n",
        "    ensemble_preds.append(preds)\n",
        "  return tf.constant(tf.squeeze(ensemble_preds))"
      ],
      "metadata": {
        "id": "oB_F6B95jnV4"
      },
      "execution_count": null,
      "outputs": []
    },
    {
      "cell_type": "code",
      "source": [
        "%%time\n",
        "ensemble_preds = make_ensemble_preds(ensemble_models, test_dataset)\n",
        "ensemble_preds"
      ],
      "metadata": {
        "colab": {
          "base_uri": "https://localhost:8080/"
        },
        "id": "3Ss_h87fkFyo",
        "outputId": "008f9c56-2bee-4d49-a232-535025dcfebc"
      },
      "execution_count": null,
      "outputs": [
        {
          "output_type": "stream",
          "name": "stderr",
          "text": [
            "WARNING:tensorflow:6 out of the last 24 calls to <function Model.make_predict_function.<locals>.predict_function at 0x7f080e116d40> triggered tf.function retracing. Tracing is expensive and the excessive number of tracings could be due to (1) creating @tf.function repeatedly in a loop, (2) passing tensors with different shapes, (3) passing Python objects instead of tensors. For (1), please define your @tf.function outside of the loop. For (2), @tf.function has experimental_relax_shapes=True option that relaxes argument shapes that can avoid unnecessary retracing. For (3), please refer to https://www.tensorflow.org/guide/function#controlling_retracing and https://www.tensorflow.org/api_docs/python/tf/function for  more details.\n"
          ]
        },
        {
          "output_type": "stream",
          "name": "stdout",
          "text": [
            "CPU times: user 606 ms, sys: 25.6 ms, total: 632 ms\n",
            "Wall time: 596 ms\n"
          ]
        },
        {
          "output_type": "execute_result",
          "data": {
            "text/plain": [
              "<tf.Tensor: shape=(15, 556), dtype=float32, numpy=\n",
              "array([[ 8785.723,  8800.278,  9098.358, ..., 49763.574, 48647.38 ,\n",
              "        46108.523],\n",
              "       [ 8792.273,  8813.668,  9060.536, ..., 50094.62 , 47593.094,\n",
              "        45865.97 ],\n",
              "       [ 8808.443,  8777.689,  9027.759, ..., 49869.68 , 48506.152,\n",
              "        45897.37 ],\n",
              "       ...,\n",
              "       [ 8829.275,  8730.214,  9034.569, ..., 50138.168, 48557.8  ,\n",
              "        46575.457],\n",
              "       [ 8736.973,  8727.444,  8993.957, ..., 49682.875, 48470.785,\n",
              "        46712.67 ],\n",
              "       [ 8795.199,  8784.987,  9077.272, ..., 49381.027, 48158.45 ,\n",
              "        46441.727]], dtype=float32)>"
            ]
          },
          "metadata": {},
          "execution_count": 168
        }
      ]
    },
    {
      "cell_type": "code",
      "source": [
        "ensemble_mean = tf.reduce_mean(ensemble_preds, axis=0)\n",
        "ensemble_results = evaluate_preds(y_test, ensemble_mean)\n",
        "ensemble_results"
      ],
      "metadata": {
        "colab": {
          "base_uri": "https://localhost:8080/"
        },
        "id": "8U4cudv8kMVP",
        "outputId": "fc073827-82cb-4a69-bf7b-719f738a650f"
      },
      "execution_count": null,
      "outputs": [
        {
          "output_type": "execute_result",
          "data": {
            "text/plain": [
              "{'mae': 567.48883,\n",
              " 'mse': 1142778.5,\n",
              " 'rsme': 1069.0082,\n",
              " 'mape': 2.5836112,\n",
              " 'mase': 0.9969207}"
            ]
          },
          "metadata": {},
          "execution_count": 169
        }
      ]
    },
    {
      "cell_type": "code",
      "source": [
        "# Find upper and lower bounds of predictions\n",
        "def get_upper_lower(preds):\n",
        "  std = tf.math.reduce_std(preds, axis=0)\n",
        "  interval = 1.96 * std\n",
        "  preds_mean = tf.reduce_mean(preds, axis=0)\n",
        "  lower, upper = preds_mean - interval, preds_mean + interval\n",
        "  return lower, upper"
      ],
      "metadata": {
        "id": "8pnV-Ph7k81m"
      },
      "execution_count": null,
      "outputs": []
    },
    {
      "cell_type": "code",
      "source": [
        "lower, upper = get_upper_lower(ensemble_preds)\n",
        "lower, upper"
      ],
      "metadata": {
        "colab": {
          "base_uri": "https://localhost:8080/"
        },
        "id": "wT1tF_2mn0lr",
        "outputId": "95131ca1-c85f-4bde-85e5-ad9899d846cd"
      },
      "execution_count": null,
      "outputs": [
        {
          "output_type": "execute_result",
          "data": {
            "text/plain": [
              "(<tf.Tensor: shape=(556,), dtype=float32, numpy=\n",
              " array([ 8603.102 ,  8627.39  ,  8923.282 ,  8535.562 ,  8584.835 ,\n",
              "         8558.381 ,  8509.97  ,  8314.789 ,  8304.821 ,  8383.918 ,\n",
              "         8038.601 ,  7964.102 ,  7915.8804,  7468.3555,  7123.812 ,\n",
              "         7166.743 ,  6925.8994,  7097.711 ,  6962.4976,  7413.9927,\n",
              "         7218.5435,  7605.348 ,  7376.013 ,  7229.5444,  7186.126 ,\n",
              "         7179.0107,  7074.5376,  7269.0454,  7372.625 ,  7401.174 ,\n",
              "         7395.5547,  7184.5776,  7111.478 ,  7056.6587,  7068.8325,\n",
              "         7106.823 ,  6947.5547,  6980.089 ,  6730.029 ,  6458.6753,\n",
              "         7247.8325,  6994.7607,  7044.682 ,  7110.1313,  7039.253 ,\n",
              "         7000.4487,  7087.2637,  7077.3394,  7049.9956,  7085.5605,\n",
              "         7177.3936,  7248.9033,  7098.7856,  7042.057 ,  7032.7246,\n",
              "         6815.736 ,  7164.008 ,  7190.3647,  7236.473 ,  7543.2427,\n",
              "         7890.011 ,  7979.842 ,  7700.076 ,  7939.516 ,  7911.4707,\n",
              "         8019.525 ,  7927.275 ,  8589.294 ,  8699.915 ,  8611.745 ,\n",
              "         8780.593 ,  8761.266 ,  8486.899 ,  8486.599 ,  8543.617 ,\n",
              "         8485.445 ,  8205.881 ,  8286.779 ,  8185.989 ,  8427.645 ,\n",
              "         8696.143 ,  8985.894 ,  9171.149 ,  9388.729 ,  9258.119 ,\n",
              "         9209.621 ,  9213.918 ,  9097.127 ,  8998.282 ,  9452.452 ,\n",
              "         9505.938 ,  9644.911 ,  9733.562 ,  9954.574 ,  9674.857 ,\n",
              "        10060.745 , 10145.491 , 10057.158 , 10154.338 ,  9699.761 ,\n",
              "         9690.24  ,  9423.468 , 10041.727 ,  9464.981 ,  9442.495 ,\n",
              "         9438.507 ,  9517.355 ,  9693.827 ,  9434.15  ,  9203.401 ,\n",
              "         8591.619 ,  8649.814 ,  8613.645 ,  8494.137 ,  8361.744 ,\n",
              "         8758.333 ,  8620.149 ,  8596.049 ,  8876.257 ,  8955.043 ,\n",
              "         8775.386 ,  7977.5933,  7766.6973,  7824.55  ,  7831.121 ,\n",
              "         5581.048 ,  5583.491 ,  5165.667 ,  5067.535 ,  4382.656 ,\n",
              "         4870.601 ,  5183.653 ,  6042.3066,  5911.4644,  6059.758 ,\n",
              "         5774.629 ,  6166.152 ,  6565.8853,  6623.05  ,  6590.0576,\n",
              "         6528.3022,  6101.7607,  5825.4126,  6352.6304,  6291.6904,\n",
              "         6401.7383,  6625.4033,  6614.518 ,  6716.1826,  6675.818 ,\n",
              "         7155.233 ,  7043.434 ,  7253.1313,  7175.7085,  6732.2275,\n",
              "         6739.08  ,  6912.165 ,  6766.097 ,  6745.1157,  6559.9004,\n",
              "         7047.9385,  6911.8315,  7172.604 ,  7015.6055,  6708.0396,\n",
              "         6766.297 ,  6991.2793,  7432.737 ,  7355.2065,  7408.4307,\n",
              "         7504.455 ,  7635.2134,  7617.86  ,  8609.254 ,  8624.159 ,\n",
              "         8756.474 ,  8788.634 ,  8688.028 ,  8678.181 ,  8801.041 ,\n",
              "         9217.207 ,  9741.782 ,  9776.985 ,  9499.717 ,  8650.23  ,\n",
              "         8427.951 ,  8631.546 ,  9145.287 ,  9383.196 ,  9124.341 ,\n",
              "         9273.658 ,  9507.758 ,  9553.943 ,  9521.206 ,  9328.119 ,\n",
              "         8955.136 ,  9017.044 ,  9054.352 ,  8891.741 ,  8722.461 ,\n",
              "         8658.232 ,  8960.988 ,  9328.522 ,  9281.389 ,  9528.419 ,\n",
              "         9249.288 , 10041.794 ,  9303.215 ,  9451.092 ,  9530.613 ,\n",
              "         9467.381 ,  9435.677 ,  9529.122 ,  9620.828 ,  9591.096 ,\n",
              "         9684.558 ,  9043.068 ,  9284.68  ,  9258.483 ,  9205.315 ,\n",
              "         9224.039 ,  9323.956 ,  9279.359 ,  9208.008 ,  9089.559 ,\n",
              "         9184.01  ,  9111.639 ,  9522.207 ,  9406.413 ,  9121.505 ,\n",
              "         9073.6875,  8988.409 ,  8858.24  ,  8933.1   ,  9026.414 ,\n",
              "         8985.483 ,  9057.166 ,  8907.824 ,  8926.359 ,  8941.718 ,\n",
              "         8891.494 ,  9108.869 ,  9060.801 ,  9317.045 ,  9026.207 ,\n",
              "         9078.652 ,  9034.113 ,  9131.081 ,  9049.039 ,  9087.344 ,\n",
              "         9027.793 ,  8960.833 ,  8985.688 ,  9008.072 ,  9023.411 ,\n",
              "         8995.453 ,  9222.453 ,  9353.247 ,  9447.935 ,  9384.4795,\n",
              "         9538.928 ,  9755.803 , 10970.699 , 10793.662 , 11077.129 ,\n",
              "        10946.783 , 11068.54  , 11425.994 , 10889.949 , 11056.39  ,\n",
              "        10974.315 , 11481.965 , 11521.556 , 11392.927 , 11535.625 ,\n",
              "        11439.723 , 11622.949 , 11071.379 , 11343.112 , 11502.674 ,\n",
              "        11602.294 , 11635.305 , 11640.771 , 12194.286 , 11821.538 ,\n",
              "        11523.436 , 11603.819 , 11354.177 , 11473.545 , 11433.288 ,\n",
              "        11546.04  , 11123.44  , 11242.921 , 11067.439 , 11301.193 ,\n",
              "        11274.189 , 11456.331 , 11428.595 , 11750.163 , 11177.47  ,\n",
              "        10508.065 , 10368.418 ,  9907.5625, 10090.334 , 10122.436 ,\n",
              "         9861.848 , 10056.12  , 10127.788 , 10219.332 , 10201.451 ,\n",
              "        10094.801 , 10489.979 , 10618.92  , 10862.206 , 10718.5625,\n",
              "        10737.766 , 10847.435 , 10640.2295, 10311.868 , 10323.457 ,\n",
              "        10060.131 , 10504.823 , 10510.258 , 10562.752 , 10517.387 ,\n",
              "        10640.99  , 10552.179 , 10535.874 , 10407.91  , 10371.836 ,\n",
              "        10354.038 , 10473.934 , 10559.433 , 10379.411 , 10437.65  ,\n",
              "        10685.217 , 10865.793 , 11157.35  , 11109.384 , 11486.272 ,\n",
              "        11234.649 , 11200.239 , 11268.304 , 11144.072 , 11140.932 ,\n",
              "        11249.413 , 11580.055 , 11711.735 , 12881.388 , 12932.182 ,\n",
              "        12850.071 , 12862.187 , 12727.607 , 12746.284 , 13451.125 ,\n",
              "        13014.199 , 13244.419 , 13273.732 , 13664.67  , 13425.312 ,\n",
              "        13354.27  , 13562.529 , 13920.911 , 15160.9   , 15306.685 ,\n",
              "        14722.522 , 15172.76  , 14923.402 , 15089.172 , 15419.084 ,\n",
              "        15922.25  , 16096.494 , 15687.736 , 15645.8   , 16433.762 ,\n",
              "        17319.398 , 17607.041 , 17666.941 , 18302.334 , 18285.518 ,\n",
              "        18338.645 , 18128.898 , 18711.059 , 18341.676 , 16817.078 ,\n",
              "        16725.182 , 17475.459 , 17802.744 , 18686.592 , 18471.52  ,\n",
              "        18842.096 , 19122.56  , 18444.723 , 18655.133 , 18729.506 ,\n",
              "        18794.738 , 18264.184 , 18164.7   , 17997.518 , 17815.326 ,\n",
              "        18540.09  , 18709.191 , 18938.414 , 19054.81  , 20952.445 ,\n",
              "        22275.945 , 22675.94  , 23406.074 , 23142.465 , 22792.809 ,\n",
              "        22955.646 , 22785.879 , 23195.28  , 24100.576 , 25978.3   ,\n",
              "        26041.518 , 26307.426 , 26565.385 , 28059.604 , 28670.314 ,\n",
              "        28973.68  , 31343.309 , 32192.402 , 31505.467 , 33480.203 ,\n",
              "        35294.098 , 37808.605 , 39154.094 , 39545.906 , 38416.133 ,\n",
              "        33858.664 , 33292.348 , 36449.258 , 37544.36  , 35293.75  ,\n",
              "        35090.16  , 35604.426 , 35578.477 , 35862.254 , 34199.105 ,\n",
              "        30017.676 , 32416.521 , 31296.463 , 31838.906 , 31123.28  ,\n",
              "        31541.166 , 29892.088 , 32638.375 , 34120.9   , 34320.383 ,\n",
              "        32477.027 , 32770.01  , 34716.574 , 36956.496 , 36565.875 ,\n",
              "        37211.207 , 39409.3   , 38175.867 , 42904.4   , 45143.168 ,\n",
              "        44576.293 , 45800.31  , 46441.227 , 46339.074 , 48079.9   ,\n",
              "        47033.656 , 47958.32  , 50967.293 , 50845.848 , 54392.68  ,\n",
              "        53681.977 , 55677.586 , 53282.547 , 47528.31  , 47450.84  ,\n",
              "        47519.67  , 44992.06  , 45147.75  , 43890.957 , 48426.027 ,\n",
              "        46702.176 , 49950.234 , 47055.49  , 47841.055 , 47528.203 ,\n",
              "        49766.47  , 50183.117 , 53522.586 , 55873.996 , 56746.664 ,\n",
              "        56776.188 , 59403.55  , 59261.812 , 55593.402 , 55636.023 ,\n",
              "        57343.094 , 57022.01  , 57119.66  , 57236.76  , 56679.613 ,\n",
              "        53191.758 , 53719.92  , 51633.703 , 51440.164 , 53227.875 ,\n",
              "        55349.73  , 54480.207 , 56560.332 , 57639.203 , 57943.258 ,\n",
              "        57909.832 , 57680.824 , 56485.51  , 57079.273 , 57742.035 ,\n",
              "        56983.223 , 55267.176 , 56764.21  , 57083.43  , 58323.215 ,\n",
              "        58523.02  , 58667.22  , 62070.03  , 61775.438 , 62420.957 ,\n",
              "        60777.95  , 59397.31  , 55668.34  , 55292.19  , 55608.047 ,\n",
              "        53121.664 , 50889.31  , 49598.598 , 49943.58  , 47610.93  ,\n",
              "        52134.8   , 53684.56  , 53928.918 , 52247.2   , 55736.49  ,\n",
              "        56615.33  , 55756.305 , 56167.023 , 52398.918 , 55874.258 ,\n",
              "        55129.2   , 56326.95  , 57158.28  , 56702.152 , 54725.65  ,\n",
              "        55493.81  , 50756.07  , 48944.465 , 49008.254 , 47152.68  ,\n",
              "        44670.69  ], dtype=float32)>,\n",
              " <tf.Tensor: shape=(556,), dtype=float32, numpy=\n",
              " array([ 8959.18  ,  8904.6045,  9165.364 ,  8881.194 ,  8883.022 ,\n",
              "         8863.41  ,  8782.3955,  8624.635 ,  8583.177 ,  8630.146 ,\n",
              "         8335.514 ,  8222.946 ,  8167.764 ,  7763.492 ,  7422.521 ,\n",
              "         7399.4473,  7207.383 ,  7285.754 ,  7225.808 ,  7623.105 ,\n",
              "         7526.647 ,  7860.987 ,  7705.85  ,  7536.905 ,  7419.8057,\n",
              "         7426.1445,  7318.653 ,  7478.608 ,  7609.256 ,  7649.302 ,\n",
              "         7669.246 ,  7453.4595,  7330.1606,  7280.775 ,  7274.055 ,\n",
              "         7327.46  ,  7188.964 ,  7198.9014,  6992.5747,  6698.9917,\n",
              "         7513.351 ,  7302.9834,  7275.6636,  7394.5337,  7454.6104,\n",
              "         7356.599 ,  7329.8633,  7310.099 ,  7284.6284,  7315.08  ,\n",
              "         7402.6504,  7488.2676,  7370.5903,  7278.3345,  7261.9385,\n",
              "         7062.6274,  7360.3564,  7442.475 ,  7466.433 ,  7849.6196,\n",
              "         8202.519 ,  8262.873 ,  7973.421 ,  8201.639 ,  8226.809 ,\n",
              "         8297.318 ,  8244.154 ,  8867.737 ,  9045.677 ,  8898.782 ,\n",
              "         9052.499 ,  9125.152 ,  8807.323 ,  8745.493 ,  8812.822 ,\n",
              "         8761.4375,  8510.768 ,  8557.334 ,  8451.837 ,  8661.162 ,\n",
              "         9006.703 ,  9290.144 ,  9522.003 ,  9744.189 ,  9604.469 ,\n",
              "         9526.66  ,  9507.25  ,  9408.418 ,  9298.946 ,  9721.872 ,\n",
              "         9836.665 ,  9956.71  , 10093.431 , 10325.51  , 10035.949 ,\n",
              "        10368.007 , 10536.136 , 10409.1   , 10525.51  , 10119.454 ,\n",
              "        10019.281 ,  9762.2295, 10298.199 ,  9892.892 ,  9801.245 ,\n",
              "         9774.333 ,  9852.195 , 10101.86  ,  9810.578 ,  9549.56  ,\n",
              "         8960.361 ,  8927.361 ,  8881.07  ,  8802.8125,  8644.107 ,\n",
              "         9031.722 ,  8937.638 ,  8893.244 ,  9193.778 ,  9297.797 ,\n",
              "         9091.915 ,  8356.078 ,  8043.8213,  8062.9336,  8145.076 ,\n",
              "         7061.4814,  6942.583 ,  6883.5967,  7275.917 ,  6257.5005,\n",
              "         6123.3696,  5469.144 ,  6425.827 ,  6350.3833,  6405.7676,\n",
              "         6045.5186,  6631.2056,  7050.7144,  6846.0273,  6882.8604,\n",
              "         6864.486 ,  6392.9746,  6037.7104,  6529.555 ,  6599.5615,\n",
              "         6639.997 ,  6999.088 ,  6999.97  ,  7041.1826,  6911.932 ,\n",
              "         7399.9663,  7336.5728,  7505.265 ,  7460.685 ,  7023.0186,\n",
              "         6964.71  ,  7111.9395,  7017.5757,  6989.0317,  6837.2607,\n",
              "         7249.504 ,  7194.563 ,  7390.8667,  7323.374 ,  7011.6187,\n",
              "         6985.8477,  7195.083 ,  7702.9   ,  7633.7144,  7700.6514,\n",
              "         7737.67  ,  7930.822 ,  7926.569 ,  8877.289 ,  8961.776 ,\n",
              "         9103.485 ,  9135.991 ,  9198.058 ,  9132.489 ,  9090.127 ,\n",
              "         9502.469 , 10083.714 , 10133.622 ,  9836.146 ,  9003.266 ,\n",
              "         8819.293 ,  8936.923 ,  9500.131 ,  9907.733 ,  9583.661 ,\n",
              "         9580.494 ,  9814.734 ,  9922.799 ,  9907.267 ,  9702.732 ,\n",
              "         9291.491 ,  9300.028 ,  9320.443 ,  9185.7   ,  9023.379 ,\n",
              "         8958.625 ,  9204.391 ,  9652.353 ,  9580.633 ,  9849.872 ,\n",
              "         9607.755 , 10468.485 ,  9749.324 ,  9872.271 ,  9948.283 ,\n",
              "         9886.086 ,  9880.636 ,  9897.288 ,  9927.355 ,  9925.668 ,\n",
              "        10003.071 ,  9451.213 ,  9571.543 ,  9562.323 ,  9503.253 ,\n",
              "         9572.25  ,  9659.274 ,  9600.631 ,  9530.35  ,  9414.604 ,\n",
              "         9457.375 ,  9409.916 ,  9788.998 ,  9766.966 ,  9490.835 ,\n",
              "         9353.801 ,  9307.405 ,  9150.121 ,  9200.615 ,  9296.629 ,\n",
              "         9280.839 ,  9355.066 ,  9237.404 ,  9214.191 ,  9232.323 ,\n",
              "         9178.504 ,  9386.07  ,  9376.385 ,  9602.518 ,  9398.705 ,\n",
              "         9372.494 ,  9345.377 ,  9406.167 ,  9373.662 ,  9384.236 ,\n",
              "         9333.594 ,  9259.073 ,  9267.79  ,  9288.336 ,  9310.724 ,\n",
              "         9294.443 ,  9504.76  ,  9669.183 ,  9777.341 ,  9730.509 ,\n",
              "         9852.533 , 10103.992 , 11332.57  , 11206.539 , 11600.184 ,\n",
              "        11309.6   , 11714.833 , 12138.66  , 11404.059 , 11416.54  ,\n",
              "        11369.946 , 11828.043 , 12025.735 , 11876.411 , 11915.594 ,\n",
              "        11858.109 , 12012.297 , 11554.32  , 11681.2705, 11885.508 ,\n",
              "        11973.218 , 12085.592 , 12097.037 , 12598.36  , 12314.007 ,\n",
              "        11955.051 , 11941.093 , 11768.993 , 11825.137 , 11805.651 ,\n",
              "        11900.321 , 11571.081 , 11603.341 , 11448.512 , 11616.094 ,\n",
              "        11673.947 , 11817.96  , 11853.929 , 12132.806 , 11649.089 ,\n",
              "        10921.415 , 10714.104 , 10277.574 , 10369.137 , 10494.998 ,\n",
              "        10209.055 , 10396.054 , 10487.36  , 10544.994 , 10599.018 ,\n",
              "        10485.33  , 10825.838 , 10996.395 , 11225.198 , 11145.572 ,\n",
              "        11114.412 , 11212.312 , 11026.2   , 10691.001 , 10656.457 ,\n",
              "        10402.705 , 10778.737 , 10884.83  , 10918.416 , 10919.174 ,\n",
              "        11045.811 , 10944.966 , 10887.655 , 10772.424 , 10703.916 ,\n",
              "        10679.493 , 10784.984 , 10896.226 , 10756.849 , 10782.441 ,\n",
              "        11026.781 , 11218.818 , 11553.361 , 11553.688 , 11861.864 ,\n",
              "        11669.788 , 11574.772 , 11650.099 , 11523.84  , 11510.477 ,\n",
              "        11604.093 , 11923.607 , 12127.36  , 13292.517 , 13445.947 ,\n",
              "        13293.167 , 13275.81  , 13301.713 , 13320.519 , 13895.283 ,\n",
              "        13541.551 , 13671.802 , 13758.109 , 14129.258 , 14018.288 ,\n",
              "        13852.375 , 14001.262 , 14361.802 , 15704.342 , 15847.2295,\n",
              "        15169.8955, 15727.297 , 15610.402 , 15734.275 , 16059.518 ,\n",
              "        16591.033 , 16705.021 , 16291.939 , 16127.671 , 16987.684 ,\n",
              "        17906.465 , 18179.549 , 18348.758 , 18946.709 , 19043.697 ,\n",
              "        19011.64  , 18755.2   , 19326.852 , 19081.898 , 17564.723 ,\n",
              "        17266.908 , 18001.791 , 18467.764 , 19763.01  , 19437.438 ,\n",
              "        19658.13  , 19768.955 , 19219.625 , 19359.617 , 19346.143 ,\n",
              "        19388.234 , 18977.746 , 18821.875 , 18585.47  , 18357.967 ,\n",
              "        19075.39  , 19339.586 , 19551.312 , 19763.451 , 21604.652 ,\n",
              "        23382.75  , 23510.943 , 24328.043 , 24137.215 , 23842.023 ,\n",
              "        23824.74  , 23578.645 , 23951.67  , 24897.56  , 26795.734 ,\n",
              "        27006.893 , 27396.074 , 27442.936 , 29288.018 , 29870.256 ,\n",
              "        29956.965 , 32703.23  , 33811.082 , 32372.658 , 35078.57  ,\n",
              "        36919.746 , 41021.62  , 41242.453 , 41239.6   , 39561.914 ,\n",
              "        35610.477 , 35544.7   , 37349.367 , 39278.75  , 37356.633 ,\n",
              "        36978.418 , 36910.105 , 37058.617 , 37151.598 , 35630.48  ,\n",
              "        31825.508 , 34009.6   , 32910.51  , 33138.043 , 32802.926 ,\n",
              "        33235.867 , 31117.842 , 33817.508 , 35453.586 , 35286.758 ,\n",
              "        33948.66  , 34342.45  , 36409.16  , 38101.99  , 38008.65  ,\n",
              "        38665.902 , 40904.223 , 39471.25  , 45763.33  , 47571.004 ,\n",
              "        46807.105 , 49187.676 , 49449.023 , 48601.574 , 50072.67  ,\n",
              "        49157.914 , 49821.297 , 53055.99  , 52922.387 , 57178.72  ,\n",
              "        56294.164 , 58711.33  , 55365.43  , 49929.94  , 49954.24  ,\n",
              "        49444.625 , 47790.074 , 47177.094 , 46238.51  , 49919.02  ,\n",
              "        48784.34  , 51728.03  , 49433.24  , 50455.625 , 49862.797 ,\n",
              "        51485.32  , 52709.9   , 55431.812 , 58096.137 , 59164.594 ,\n",
              "        58488.938 , 61781.69  , 61691.695 , 57547.77  , 57225.195 ,\n",
              "        59336.1   , 59160.605 , 59432.56  , 59611.88  , 58759.87  ,\n",
              "        55308.625 , 55521.164 , 53672.453 , 53027.39  , 54881.86  ,\n",
              "        57064.99  , 56310.457 , 58495.12  , 59932.42  , 60010.703 ,\n",
              "        60096.418 , 59834.848 , 58385.043 , 58817.75  , 59513.168 ,\n",
              "        58946.496 , 57426.87  , 58495.57  , 58927.086 , 60162.49  ,\n",
              "        60743.45  , 60892.438 , 64365.57  , 64283.414 , 64560.16  ,\n",
              "        62998.81  , 61565.01  , 57895.3   , 57204.63  , 57198.18  ,\n",
              "        55538.047 , 52903.91  , 51635.137 , 51520.17  , 49571.703 ,\n",
              "        54205.113 , 56110.62  , 55707.152 , 54497.09  , 58457.254 ,\n",
              "        59131.188 , 57550.703 , 58033.375 , 54824.098 , 58328.35  ,\n",
              "        57507.668 , 58099.95  , 59884.164 , 59624.246 , 56816.734 ,\n",
              "        57131.05  , 53359.96  , 51222.355 , 50477.246 , 49550.86  ,\n",
              "        47057.285 ], dtype=float32)>)"
            ]
          },
          "metadata": {},
          "execution_count": 173
        }
      ]
    },
    {
      "cell_type": "code",
      "source": [
        "tf.reduce_mean(ensemble_preds,axis=0)"
      ],
      "metadata": {
        "colab": {
          "base_uri": "https://localhost:8080/"
        },
        "id": "0nbTT1gpn6A1",
        "outputId": "aa03c73c-05cc-4e81-92b8-91782aed4a55"
      },
      "execution_count": null,
      "outputs": [
        {
          "output_type": "execute_result",
          "data": {
            "text/plain": [
              "<tf.Tensor: shape=(556,), dtype=float32, numpy=\n",
              "array([ 8781.141 ,  8765.997 ,  9044.323 ,  8708.378 ,  8733.929 ,\n",
              "        8710.8955,  8646.183 ,  8469.712 ,  8443.999 ,  8507.032 ,\n",
              "        8187.057 ,  8093.524 ,  8041.8223,  7615.924 ,  7273.1665,\n",
              "        7283.095 ,  7066.641 ,  7191.7324,  7094.153 ,  7518.549 ,\n",
              "        7372.595 ,  7733.1675,  7540.9316,  7383.2246,  7302.966 ,\n",
              "        7302.5776,  7196.595 ,  7373.8267,  7490.9404,  7525.238 ,\n",
              "        7532.4004,  7319.0186,  7220.8193,  7168.717 ,  7171.444 ,\n",
              "        7217.1416,  7068.2593,  7089.495 ,  6861.302 ,  6578.8335,\n",
              "        7380.592 ,  7148.872 ,  7160.173 ,  7252.3325,  7246.9316,\n",
              "        7178.524 ,  7208.5635,  7193.719 ,  7167.312 ,  7200.3203,\n",
              "        7290.022 ,  7368.5854,  7234.688 ,  7160.196 ,  7147.3315,\n",
              "        6939.1816,  7262.182 ,  7316.42  ,  7351.453 ,  7696.431 ,\n",
              "        8046.265 ,  8121.3574,  7836.7485,  8070.5776,  8069.1396,\n",
              "        8158.422 ,  8085.7144,  8728.516 ,  8872.796 ,  8755.264 ,\n",
              "        8916.546 ,  8943.209 ,  8647.111 ,  8616.046 ,  8678.22  ,\n",
              "        8623.441 ,  8358.324 ,  8422.057 ,  8318.913 ,  8544.403 ,\n",
              "        8851.423 ,  9138.019 ,  9346.576 ,  9566.459 ,  9431.294 ,\n",
              "        9368.141 ,  9360.584 ,  9252.772 ,  9148.614 ,  9587.162 ,\n",
              "        9671.302 ,  9800.811 ,  9913.496 , 10140.042 ,  9855.403 ,\n",
              "       10214.376 , 10340.813 , 10233.129 , 10339.924 ,  9909.607 ,\n",
              "        9854.761 ,  9592.849 , 10169.963 ,  9678.937 ,  9621.87  ,\n",
              "        9606.42  ,  9684.775 ,  9897.844 ,  9622.364 ,  9376.48  ,\n",
              "        8775.99  ,  8788.588 ,  8747.357 ,  8648.475 ,  8502.926 ,\n",
              "        8895.027 ,  8778.894 ,  8744.646 ,  9035.018 ,  9126.42  ,\n",
              "        8933.65  ,  8166.8354,  7905.2593,  7943.7417,  7988.0986,\n",
              "        6321.2646,  6263.037 ,  6024.632 ,  6171.726 ,  5320.078 ,\n",
              "        5496.9854,  5326.3984,  6234.067 ,  6130.924 ,  6232.7627,\n",
              "        5910.0737,  6398.6787,  6808.3   ,  6734.5386,  6736.459 ,\n",
              "        6696.394 ,  6247.3677,  5931.5615,  6441.093 ,  6445.626 ,\n",
              "        6520.8677,  6812.2456,  6807.244 ,  6878.6826,  6793.875 ,\n",
              "        7277.5996,  7190.0034,  7379.198 ,  7318.197 ,  6877.623 ,\n",
              "        6851.895 ,  7012.0522,  6891.8364,  6867.0737,  6698.5806,\n",
              "        7148.721 ,  7053.1973,  7281.7354,  7169.4897,  6859.829 ,\n",
              "        6876.0723,  7093.181 ,  7567.8184,  7494.4604,  7554.541 ,\n",
              "        7621.0625,  7783.0176,  7772.2144,  8743.271 ,  8792.968 ,\n",
              "        8929.9795,  8962.3125,  8943.043 ,  8905.335 ,  8945.584 ,\n",
              "        9359.838 ,  9912.748 ,  9955.304 ,  9667.932 ,  8826.748 ,\n",
              "        8623.622 ,  8784.234 ,  9322.709 ,  9645.465 ,  9354.001 ,\n",
              "        9427.076 ,  9661.246 ,  9738.371 ,  9714.236 ,  9515.426 ,\n",
              "        9123.313 ,  9158.536 ,  9187.397 ,  9038.721 ,  8872.92  ,\n",
              "        8808.429 ,  9082.689 ,  9490.4375,  9431.011 ,  9689.1455,\n",
              "        9428.521 , 10255.14  ,  9526.27  ,  9661.682 ,  9739.448 ,\n",
              "        9676.733 ,  9658.156 ,  9713.205 ,  9774.092 ,  9758.382 ,\n",
              "        9843.814 ,  9247.141 ,  9428.111 ,  9410.403 ,  9354.284 ,\n",
              "        9398.145 ,  9491.615 ,  9439.995 ,  9369.179 ,  9252.081 ,\n",
              "        9320.692 ,  9260.777 ,  9655.603 ,  9586.689 ,  9306.17  ,\n",
              "        9213.744 ,  9147.907 ,  9004.181 ,  9066.857 ,  9161.521 ,\n",
              "        9133.161 ,  9206.116 ,  9072.614 ,  9070.275 ,  9087.0205,\n",
              "        9034.999 ,  9247.47  ,  9218.593 ,  9459.781 ,  9212.456 ,\n",
              "        9225.573 ,  9189.745 ,  9268.624 ,  9211.351 ,  9235.79  ,\n",
              "        9180.693 ,  9109.953 ,  9126.739 ,  9148.204 ,  9167.067 ,\n",
              "        9144.948 ,  9363.606 ,  9511.215 ,  9612.638 ,  9557.494 ,\n",
              "        9695.73  ,  9929.897 , 11151.635 , 11000.101 , 11338.656 ,\n",
              "       11128.191 , 11391.687 , 11782.327 , 11147.004 , 11236.465 ,\n",
              "       11172.131 , 11655.004 , 11773.6455, 11634.669 , 11725.609 ,\n",
              "       11648.916 , 11817.623 , 11312.85  , 11512.191 , 11694.091 ,\n",
              "       11787.756 , 11860.448 , 11868.904 , 12396.323 , 12067.772 ,\n",
              "       11739.243 , 11772.456 , 11561.585 , 11649.341 , 11619.47  ,\n",
              "       11723.181 , 11347.261 , 11423.131 , 11257.976 , 11458.644 ,\n",
              "       11474.068 , 11637.1455, 11641.262 , 11941.484 , 11413.279 ,\n",
              "       10714.74  , 10541.261 , 10092.568 , 10229.735 , 10308.717 ,\n",
              "       10035.451 , 10226.087 , 10307.574 , 10382.163 , 10400.234 ,\n",
              "       10290.065 , 10657.908 , 10807.657 , 11043.702 , 10932.067 ,\n",
              "       10926.089 , 11029.873 , 10833.215 , 10501.435 , 10489.957 ,\n",
              "       10231.418 , 10641.78  , 10697.544 , 10740.584 , 10718.28  ,\n",
              "       10843.4   , 10748.572 , 10711.765 , 10590.167 , 10537.876 ,\n",
              "       10516.766 , 10629.459 , 10727.829 , 10568.13  , 10610.046 ,\n",
              "       10855.999 , 11042.306 , 11355.355 , 11331.536 , 11674.068 ,\n",
              "       11452.219 , 11387.506 , 11459.201 , 11333.956 , 11325.704 ,\n",
              "       11426.753 , 11751.831 , 11919.548 , 13086.952 , 13189.064 ,\n",
              "       13071.619 , 13068.998 , 13014.66  , 13033.401 , 13673.204 ,\n",
              "       13277.875 , 13458.11  , 13515.921 , 13896.964 , 13721.8   ,\n",
              "       13603.322 , 13781.8955, 14141.356 , 15432.621 , 15576.957 ,\n",
              "       14946.209 , 15450.028 , 15266.902 , 15411.724 , 15739.301 ,\n",
              "       16256.642 , 16400.758 , 15989.838 , 15886.735 , 16710.723 ,\n",
              "       17612.932 , 17893.295 , 18007.85  , 18624.521 , 18664.607 ,\n",
              "       18675.143 , 18442.049 , 19018.955 , 18711.787 , 17190.9   ,\n",
              "       16996.045 , 17738.625 , 18135.254 , 19224.8   , 18954.479 ,\n",
              "       19250.113 , 19445.758 , 18832.174 , 19007.375 , 19037.824 ,\n",
              "       19091.486 , 18620.965 , 18493.287 , 18291.494 , 18086.646 ,\n",
              "       18807.74  , 19024.389 , 19244.863 , 19409.13  , 21278.549 ,\n",
              "       22829.348 , 23093.441 , 23867.059 , 23639.84  , 23317.416 ,\n",
              "       23390.193 , 23182.262 , 23573.475 , 24499.068 , 26387.018 ,\n",
              "       26524.205 , 26851.75  , 27004.16  , 28673.81  , 29270.285 ,\n",
              "       29465.322 , 32023.27  , 33001.742 , 31939.062 , 34279.387 ,\n",
              "       36106.92  , 39415.113 , 40198.273 , 40392.754 , 38989.023 ,\n",
              "       34734.57  , 34418.523 , 36899.312 , 38411.555 , 36325.19  ,\n",
              "       36034.29  , 36257.266 , 36318.547 , 36506.926 , 34914.793 ,\n",
              "       30921.592 , 33213.062 , 32103.488 , 32488.475 , 31963.104 ,\n",
              "       32388.518 , 30504.965 , 33227.94  , 34787.242 , 34803.57  ,\n",
              "       33212.844 , 33556.23  , 35562.867 , 37529.242 , 37287.26  ,\n",
              "       37938.555 , 40156.76  , 38823.56  , 44333.863 , 46357.086 ,\n",
              "       45691.7   , 47493.992 , 47945.125 , 47470.324 , 49076.285 ,\n",
              "       48095.785 , 48889.81  , 52011.64  , 51884.117 , 55785.7   ,\n",
              "       54988.07  , 57194.457 , 54323.99  , 48729.125 , 48702.54  ,\n",
              "       48482.15  , 46391.066 , 46162.42  , 45064.734 , 49172.523 ,\n",
              "       47743.258 , 50839.133 , 48244.363 , 49148.34  , 48695.5   ,\n",
              "       50625.895 , 51446.508 , 54477.2   , 56985.066 , 57955.63  ,\n",
              "       57632.562 , 60592.62  , 60476.754 , 56570.586 , 56430.61  ,\n",
              "       58339.598 , 58091.31  , 58276.11  , 58424.32  , 57719.742 ,\n",
              "       54250.19  , 54620.543 , 52653.08  , 52233.777 , 54054.867 ,\n",
              "       56207.36  , 55395.332 , 57527.727 , 58785.812 , 58976.98  ,\n",
              "       59003.125 , 58757.836 , 57435.277 , 57948.51  , 58627.6   ,\n",
              "       57964.86  , 56347.023 , 57629.89  , 58005.258 , 59242.85  ,\n",
              "       59633.234 , 59779.83  , 63217.8   , 63029.426 , 63490.56  ,\n",
              "       61888.38  , 60481.16  , 56781.82  , 56248.41  , 56403.113 ,\n",
              "       54329.855 , 51896.61  , 50616.867 , 50731.875 , 48591.316 ,\n",
              "       53169.957 , 54897.59  , 54818.035 , 53372.145 , 57096.87  ,\n",
              "       57873.258 , 56653.504 , 57100.2   , 53611.508 , 57101.305 ,\n",
              "       56318.434 , 57213.45  , 58521.223 , 58163.2   , 55771.19  ,\n",
              "       56312.43  , 52058.016 , 50083.41  , 49742.75  , 48351.77  ,\n",
              "       45863.99  ], dtype=float32)>"
            ]
          },
          "metadata": {},
          "execution_count": 175
        }
      ]
    },
    {
      "cell_type": "code",
      "source": [
        "ensemble_median = np.median(ensemble_preds, axis=0)\n",
        "\n",
        "offset=500\n",
        "plt.figure(figsize=(10,7))\n",
        "plt.plot(x_test.index[offset:], y_test[offset:], 'g', label='test')\n",
        "plt.plot(x_test.index[offset:], ensemble_median[offset:], 'k-', label='ensemble median')\n",
        "plt.fill_between(x_test.index[offset:],\n",
        "                 (lower)[offset:],\n",
        "                 (upper)[offset:], label='prediction interval')\n",
        "plt.legend()"
      ],
      "metadata": {
        "colab": {
          "base_uri": "https://localhost:8080/",
          "height": 445
        },
        "id": "a44UPfMLoJbo",
        "outputId": "8af94a14-7b06-4c8b-e2e2-5363be843ae2"
      },
      "execution_count": null,
      "outputs": [
        {
          "output_type": "execute_result",
          "data": {
            "text/plain": [
              "<matplotlib.legend.Legend at 0x7f07bbe27ed0>"
            ]
          },
          "metadata": {},
          "execution_count": 180
        },
        {
          "output_type": "display_data",
          "data": {
            "text/plain": [
              "<Figure size 720x504 with 1 Axes>"
            ],
            "image/png": "[encoded data removed]"
          },
          "metadata": {
            "needs_background": "light"
          }
        }
      ]
    },
    {
      "cell_type": "code",
      "source": [
        "# train on full historical data to make predictions\n",
        "x_all = bitcoin_prices_windowed.dropna().drop(['Price', 'block reward'], axis=1).to_numpy()\n",
        "y_all = bitcoin_prices_windowed.dropna()['Price'].to_numpy()\n",
        "x_all[:5]"
      ],
      "metadata": {
        "colab": {
          "base_uri": "https://localhost:8080/"
        },
        "id": "0O_maNGupgWQ",
        "outputId": "728997ca-f509-4125-9986-0d8822698d70"
      },
      "execution_count": null,
      "outputs": [
        {
          "output_type": "execute_result",
          "data": {
            "text/plain": [
              "array([[121.795  , 120.65533, 121.33866, 118.67466, 108.58483, 125.455  ,\n",
              "        123.65499],\n",
              "       [123.033  , 121.795  , 120.65533, 121.33866, 118.67466, 108.58483,\n",
              "        125.455  ],\n",
              "       [124.049  , 123.033  , 121.795  , 120.65533, 121.33866, 118.67466,\n",
              "        108.58483],\n",
              "       [125.96116, 124.049  , 123.033  , 121.795  , 120.65533, 121.33866,\n",
              "        118.67466],\n",
              "       [125.27966, 125.96116, 124.049  , 123.033  , 121.795  , 120.65533,\n",
              "        121.33866]])"
            ]
          },
          "metadata": {},
          "execution_count": 182
        }
      ]
    },
    {
      "cell_type": "code",
      "source": [
        "# Turn data into tensors\n",
        "features_dataset_all = tf.data.Dataset.from_tensor_slices(x_all)\n",
        "labels_dataset_all = tf.data.Dataset.from_tensor_slices(y_all)\n",
        "dataset_all = tf.data.Dataset.zip((features_dataset_all, labels_dataset_all)).batch(1024).prefetch(tf.data.AUTOTUNE)\n",
        "dataset_all"
      ],
      "metadata": {
        "colab": {
          "base_uri": "https://localhost:8080/"
        },
        "id": "BCPpYl8xq1Jt",
        "outputId": "bb65e414-2b6d-4375-d1b6-acadfee49d66"
      },
      "execution_count": null,
      "outputs": [
        {
          "output_type": "execute_result",
          "data": {
            "text/plain": [
              "<PrefetchDataset element_spec=(TensorSpec(shape=(None, 7), dtype=tf.float64, name=None), TensorSpec(shape=(None,), dtype=tf.float64, name=None))>"
            ]
          },
          "metadata": {},
          "execution_count": 184
        }
      ]
    },
    {
      "cell_type": "code",
      "source": [
        "tf.random.set_seed(42)\n",
        "\n",
        "model9 = tf.keras.Sequential([\n",
        "    layers.Dense(128, activation='relu'),\n",
        "    layers.Dense(128, activation='relu'),\n",
        "    layers.Dense(horizon)\n",
        "], name='model_9_future_model')\n",
        "\n",
        "model9.compile(loss='mae',\n",
        "               optimizer='Adam')\n",
        "\n",
        "model9.fit(dataset_all,\n",
        "           epochs=100,\n",
        "           verbose=0)"
      ],
      "metadata": {
        "colab": {
          "base_uri": "https://localhost:8080/"
        },
        "id": "bmOdtnr8ri-g",
        "outputId": "b9a4732d-5d91-4bec-fdbe-410e28174870"
      },
      "execution_count": null,
      "outputs": [
        {
          "output_type": "execute_result",
          "data": {
            "text/plain": [
              "<keras.callbacks.History at 0x7f07bbfa8550>"
            ]
          },
          "metadata": {},
          "execution_count": 185
        }
      ]
    },
    {
      "cell_type": "code",
      "source": [
        "# Future predictions\n",
        "into_future = 14\n",
        "def make_future_forecasts(values, model, into_future, window_size=window_size):\n",
        "  future_forecast = []\n",
        "  last_window = values[-window_size:]\n",
        "  for _ in range(into_future):\n",
        "    future_pred = model.predict(tf.expand_dims(last_window, axis=0))\n",
        "    future_forecast.append(tf.squeeze(future_pred).numpy())\n",
        "    last_window = np.append(last_window, future_pred)[-window_size:]\n",
        "  return future_forecast"
      ],
      "metadata": {
        "id": "xt7J_-F3sMBv"
      },
      "execution_count": null,
      "outputs": []
    },
    {
      "cell_type": "code",
      "source": [
        "future_forecast = make_future_forecasts(y_all,\n",
        "                                        model9,\n",
        "                                        into_future,\n",
        "                                        window_size)\n",
        "future_forecast"
      ],
      "metadata": {
        "colab": {
          "base_uri": "https://localhost:8080/"
        },
        "id": "x-Bvvcp3suuu",
        "outputId": "7d2f89f8-0864-4f4e-f9a3-45627455b5bd"
      },
      "execution_count": null,
      "outputs": [
        {
          "output_type": "execute_result",
          "data": {
            "text/plain": [
              "[55764.473,\n",
              " 50985.93,\n",
              " 48522.96,\n",
              " 48137.2,\n",
              " 47880.633,\n",
              " 46879.715,\n",
              " 48227.594,\n",
              " 53963.684,\n",
              " 49685.543,\n",
              " 47596.176,\n",
              " 48114.418,\n",
              " 48807.996,\n",
              " 48623.85,\n",
              " 50178.715]"
            ]
          },
          "metadata": {},
          "execution_count": 188
        }
      ]
    },
    {
      "cell_type": "code",
      "source": [
        "def get_future_dates(start_date, into_future, offset=1):\n",
        "  start_date = start_date + np.timedelta64(offset, \"D\")\n",
        "  end_date = start_date + np.timedelta64(into_future, \"D\")\n",
        "  return np.arange(start_date, end_date, dtype='datetime64[D]')"
      ],
      "metadata": {
        "id": "OuNUdWQpt_oV"
      },
      "execution_count": null,
      "outputs": []
    },
    {
      "cell_type": "code",
      "source": [
        "last_timestamp = bitcoin_prices.index[-1]\n",
        "next_timestep = get_future_dates(last_timestamp, into_future)\n",
        "next_timestep"
      ],
      "metadata": {
        "colab": {
          "base_uri": "https://localhost:8080/"
        },
        "id": "kvvHfO7kuf-7",
        "outputId": "e48a635b-2de1-4995-bebc-0ccf38a25a5b"
      },
      "execution_count": null,
      "outputs": [
        {
          "output_type": "execute_result",
          "data": {
            "text/plain": [
              "array(['2021-05-19', '2021-05-20', '2021-05-21', '2021-05-22',\n",
              "       '2021-05-23', '2021-05-24', '2021-05-25', '2021-05-26',\n",
              "       '2021-05-27', '2021-05-28', '2021-05-29', '2021-05-30',\n",
              "       '2021-05-31', '2021-06-01'], dtype='datetime64[D]')"
            ]
          },
          "metadata": {},
          "execution_count": 190
        }
      ]
    },
    {
      "cell_type": "code",
      "source": [
        "next_timestep = np.insert(next_timestep, 0, last_timestamp)\n",
        "future_forecast = np.insert(future_forecast, 0, btc_price[-1])"
      ],
      "metadata": {
        "id": "0r0f68FcvYTl"
      },
      "execution_count": null,
      "outputs": []
    },
    {
      "cell_type": "code",
      "source": [
        "plt.figure(figsize=(10,7))\n",
        "plot_time_series(bitcoin_prices.index, btc_price, start=2500, format='-', label='actual BTC price')\n",
        "plot_time_series(next_timestep, future_forecast, format='-', label='predicted BTC price')"
      ],
      "metadata": {
        "colab": {
          "base_uri": "https://localhost:8080/",
          "height": 428
        },
        "id": "Iq1_3KDfvGk_",
        "outputId": "d6bab361-736a-4b50-d620-ef8aa10bdfb9"
      },
      "execution_count": null,
      "outputs": [
        {
          "output_type": "display_data",
          "data": {
            "text/plain": [
              "<Figure size 720x504 with 1 Axes>"
            ],
            "image/png": "[encoded data removed]"
          },
          "metadata": {
            "needs_background": "light"
          }
        }
      ]
    },
    {
      "cell_type": "code",
      "source": [
        "# turkey problem\n",
        "btc_price_turkey = btc_price.copy()\n",
        "btc_price_turkey[-1] = btc_price_turkey[-1]/100"
      ],
      "metadata": {
        "id": "wUB1hUvKvWzz"
      },
      "execution_count": null,
      "outputs": []
    },
    {
      "cell_type": "code",
      "source": [
        "btc_timesteps_turkey = np.array(bitcoin_prices.index)\n",
        "btc_timesteps_turkey[:-10]"
      ],
      "metadata": {
        "colab": {
          "base_uri": "https://localhost:8080/"
        },
        "id": "Pu9_PAp9vl2k",
        "outputId": "809ea69f-1e6e-40b2-b903-6b61315e353b"
      },
      "execution_count": null,
      "outputs": [
        {
          "output_type": "execute_result",
          "data": {
            "text/plain": [
              "array(['2013-10-01T00:00:00.000000000', '2013-10-02T00:00:00.000000000',\n",
              "       '2013-10-03T00:00:00.000000000', ...,\n",
              "       '2021-05-06T00:00:00.000000000', '2021-05-07T00:00:00.000000000',\n",
              "       '2021-05-08T00:00:00.000000000'], dtype='datetime64[ns]')"
            ]
          },
          "metadata": {},
          "execution_count": 197
        }
      ]
    },
    {
      "cell_type": "code",
      "source": [
        "plt.figure(figsize=(10,7))\n",
        "plot_time_series(btc_timesteps_turkey, btc_price_turkey, format='-', start=2500)"
      ],
      "metadata": {
        "colab": {
          "base_uri": "https://localhost:8080/",
          "height": 428
        },
        "id": "ipRSu7Gwwa5q",
        "outputId": "d6b8eba7-ea81-4ece-e485-9aa1d1525d8a"
      },
      "execution_count": null,
      "outputs": [
        {
          "output_type": "display_data",
          "data": {
            "text/plain": [
              "<Figure size 720x504 with 1 Axes>"
            ],
            "image/png": "[encoded data removed]"
          },
          "metadata": {
            "needs_background": "light"
          }
        }
      ]
    },
    {
      "cell_type": "code",
      "source": [
        "full_windows, full_labels = make_windows(np.array(btc_price_turkey), window_size, horizon)\n",
        "x_train, x_test, y_train, y_test = make_train_test_split(full_windows, full_labels)"
      ],
      "metadata": {
        "id": "Cq4fPaQownab"
      },
      "execution_count": null,
      "outputs": []
    },
    {
      "cell_type": "code",
      "source": [
        "turkey_model = tf.keras.models.clone_model(model1)\n",
        "turkey_model._name = 'model10_turkey_model'\n",
        "turkey_model.compile(loss='mae',\n",
        "                     optimizer='Adam')\n",
        "turkey_model.fit(x_train,\n",
        "                 y_train,\n",
        "                 epochs=100,\n",
        "                 verbose=0,\n",
        "                 validation_data=(x_test, y_test),\n",
        "                 callbacks=[create_model_checkpoint(turkey_model.name)])"
      ],
      "metadata": {
        "colab": {
          "base_uri": "https://localhost:8080/"
        },
        "id": "wdjyQTVwxCB_",
        "outputId": "aa87bf90-9e82-4861-c555-368eece773a4"
      },
      "execution_count": null,
      "outputs": [
        {
          "output_type": "execute_result",
          "data": {
            "text/plain": [
              "<keras.callbacks.History at 0x7f08c93bf050>"
            ]
          },
          "metadata": {},
          "execution_count": 206
        }
      ]
    },
    {
      "cell_type": "code",
      "source": [
        "turkey_model = tf.keras.models.load_model('model_experiments/model10_turkey_model')\n",
        "turkey_preds = make_preds(turkey_model, x_test)\n",
        "turkey_results = evaluate_preds(y_test, turkey_preds)\n",
        "turkey_results"
      ],
      "metadata": {
        "colab": {
          "base_uri": "https://localhost:8080/"
        },
        "id": "LRcCISAhxdUG",
        "outputId": "a964dd65-9a6a-4b12-b94f-b89250d600c4"
      },
      "execution_count": null,
      "outputs": [
        {
          "output_type": "execute_result",
          "data": {
            "text/plain": [
              "{'mae': 17114.004,\n",
              " 'mse': 613259460.0,\n",
              " 'rsme': 23682.756,\n",
              " 'mape': 121.13946,\n",
              " 'mase': 26.483976}"
            ]
          },
          "metadata": {},
          "execution_count": 207
        }
      ]
    },
    {
      "cell_type": "code",
      "source": [
        "plt.figure(figsize=(10,7))\n",
        "offset=300\n",
        "plot_time_series(btc_timesteps_turkey[-len(x_test):],\n",
        "                 btc_price_turkey[-len(x_test):],\n",
        "                 format='-',\n",
        "                 label='test',\n",
        "                 start=offset)\n",
        "plot_time_series(btc_timesteps_turkey[-len(x_test):],\n",
        "                 turkey_preds,\n",
        "                 label='prediction',\n",
        "                 start=offset)"
      ],
      "metadata": {
        "colab": {
          "base_uri": "https://localhost:8080/",
          "height": 428
        },
        "id": "hko0GAiHxzSp",
        "outputId": "3da3a634-7217-465e-89f2-d3f3c836007d"
      },
      "execution_count": null,
      "outputs": [
        {
          "output_type": "display_data",
          "data": {
            "text/plain": [
              "<Figure size 720x504 with 1 Axes>"
            ],
            "image/png": "[encoded data removed]"
          },
          "metadata": {
            "needs_background": "light"
          }
        }
      ]
    },
    {
      "cell_type": "code",
      "source": [
        "  "
      ],
      "metadata": {
        "id": "9QlXKpJWzLef"
      },
      "execution_count": null,
      "outputs": []
    }
  ]
}
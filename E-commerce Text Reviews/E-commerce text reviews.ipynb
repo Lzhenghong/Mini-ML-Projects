{
  "cells": [
    {
      "cell_type": "markdown",
      "metadata": {
        "id": "UPds2K6C53Ln"
      },
      "source": [
        "# Import Libraries"
      ]
    },
    {
      "cell_type": "code",
      "execution_count": 5,
      "metadata": {
        "colab": {
          "base_uri": "https://localhost:8080/"
        },
        "execution": {
          "iopub.execute_input": "2022-11-09T19:30:19.163992Z",
          "iopub.status.busy": "2022-11-09T19:30:19.162989Z",
          "iopub.status.idle": "2022-11-09T19:30:19.176122Z",
          "shell.execute_reply": "2022-11-09T19:30:19.174824Z",
          "shell.execute_reply.started": "2022-11-09T19:30:19.163953Z"
        },
        "id": "jTTUncKw53Lq",
        "outputId": "b228ab83-fba7-4752-b15f-c692eb5918d8"
      },
      "outputs": [
        {
          "output_type": "stream",
          "name": "stderr",
          "text": [
            "[nltk_data] Downloading package omw-1.4 to /root/nltk_data...\n",
            "[nltk_data]   Package omw-1.4 is already up-to-date!\n",
            "[nltk_data] Downloading package punkt to /root/nltk_data...\n",
            "[nltk_data]   Package punkt is already up-to-date!\n",
            "[nltk_data] Downloading package stopwords to /root/nltk_data...\n",
            "[nltk_data]   Package stopwords is already up-to-date!\n",
            "[nltk_data] Downloading package wordnet to /root/nltk_data...\n",
            "[nltk_data]   Package wordnet is already up-to-date!\n",
            "[nltk_data] Downloading package averaged_perceptron_tagger to\n",
            "[nltk_data]     /root/nltk_data...\n",
            "[nltk_data]   Package averaged_perceptron_tagger is already up-to-\n",
            "[nltk_data]       date!\n"
          ]
        }
      ],
      "source": [
        "import numpy as np\n",
        "import pandas as pd\n",
        "import matplotlib.pyplot as plt\n",
        "import string\n",
        "import math\n",
        "\n",
        "from wordcloud import WordCloud, STOPWORDS\n",
        "\n",
        "import sklearn\n",
        "from sklearn.model_selection import train_test_split\n",
        "from sklearn.model_selection import GridSearchCV\n",
        "from sklearn.model_selection import RepeatedStratifiedKFold\n",
        "from sklearn.feature_extraction.text import CountVectorizer\n",
        "from sklearn.feature_extraction.text import TfidfVectorizer\n",
        "from sklearn.linear_model import LogisticRegression\n",
        "from sklearn.svm import SVC\n",
        "from sklearn.ensemble import RandomForestClassifier\n",
        "from sklearn.naive_bayes import MultinomialNB\n",
        "from sklearn.metrics import confusion_matrix\n",
        "from sklearn.metrics import accuracy_score\n",
        "from sklearn.metrics import recall_score\n",
        "from sklearn.metrics import precision_score\n",
        "from sklearn.metrics import f1_score\n",
        "from sklearn.metrics import roc_curve\n",
        "from sklearn.metrics import roc_auc_score\n",
        "from sklearn.metrics import fbeta_score\n",
        "from sklearn.preprocessing import MinMaxScaler\n",
        "\n",
        "import tensorflow as tf\n",
        "from tensorflow.keras.layers.experimental.preprocessing import TextVectorization\n",
        "from tensorflow.keras import layers\n",
        "import tensorflow_hub as hub\n",
        "\n",
        "import nltk\n",
        "nltk.download('omw-1.4')\n",
        "nltk.download('punkt')\n",
        "nltk.download('stopwords')\n",
        "nltk.download('wordnet')\n",
        "nltk.download('averaged_perceptron_tagger')\n",
        "from nltk.tokenize import word_tokenize\n",
        "from nltk.corpus import stopwords\n",
        "from nltk.stem import WordNetLemmatizer\n",
        "from nltk.stem import PorterStemmer\n",
        "from nltk import pos_tag"
      ]
    },
    {
      "cell_type": "markdown",
      "metadata": {
        "id": "zIx2aBsj53Ls"
      },
      "source": [
        "# Import Dataset"
      ]
    },
    {
      "cell_type": "code",
      "execution_count": 6,
      "metadata": {
        "colab": {
          "base_uri": "https://localhost:8080/",
          "height": 300
        },
        "execution": {
          "iopub.execute_input": "2022-11-09T18:08:38.655078Z",
          "iopub.status.busy": "2022-11-09T18:08:38.654597Z",
          "iopub.status.idle": "2022-11-09T18:08:39.030463Z",
          "shell.execute_reply": "2022-11-09T18:08:39.028987Z",
          "shell.execute_reply.started": "2022-11-09T18:08:38.655021Z"
        },
        "id": "wf8imqUD53Ls",
        "outputId": "7e4d6317-0218-49c9-89ed-9dc9182d2e5c"
      },
      "outputs": [
        {
          "output_type": "execute_result",
          "data": {
            "text/plain": [
              "        Clothing ID           Age        Rating  Recommended IND  \\\n",
              "count  23486.000000  23486.000000  23486.000000     23486.000000   \n",
              "mean     918.118709     43.198544      4.196032         0.822362   \n",
              "std      203.298980     12.279544      1.110031         0.382216   \n",
              "min        0.000000     18.000000      1.000000         0.000000   \n",
              "25%      861.000000     34.000000      4.000000         1.000000   \n",
              "50%      936.000000     41.000000      5.000000         1.000000   \n",
              "75%     1078.000000     52.000000      5.000000         1.000000   \n",
              "max     1205.000000     99.000000      5.000000         1.000000   \n",
              "\n",
              "       Positive Feedback Count  \n",
              "count             23486.000000  \n",
              "mean                  2.535936  \n",
              "std                   5.702202  \n",
              "min                   0.000000  \n",
              "25%                   0.000000  \n",
              "50%                   1.000000  \n",
              "75%                   3.000000  \n",
              "max                 122.000000  "
            ],
            "text/html": [
              "\n",
              "  <div id=\"df-306e6c3e-9866-4ff2-92d1-270def3b32a0\">\n",
              "    <div class=\"colab-df-container\">\n",
              "      <div>\n",
              "<style scoped>\n",
              "    .dataframe tbody tr th:only-of-type {\n",
              "        vertical-align: middle;\n",
              "    }\n",
              "\n",
              "    .dataframe tbody tr th {\n",
              "        vertical-align: top;\n",
              "    }\n",
              "\n",
              "    .dataframe thead th {\n",
              "        text-align: right;\n",
              "    }\n",
              "</style>\n",
              "<table border=\"1\" class=\"dataframe\">\n",
              "  <thead>\n",
              "    <tr style=\"text-align: right;\">\n",
              "      <th></th>\n",
              "      <th>Clothing ID</th>\n",
              "      <th>Age</th>\n",
              "      <th>Rating</th>\n",
              "      <th>Recommended IND</th>\n",
              "      <th>Positive Feedback Count</th>\n",
              "    </tr>\n",
              "  </thead>\n",
              "  <tbody>\n",
              "    <tr>\n",
              "      <th>count</th>\n",
              "      <td>23486.000000</td>\n",
              "      <td>23486.000000</td>\n",
              "      <td>23486.000000</td>\n",
              "      <td>23486.000000</td>\n",
              "      <td>23486.000000</td>\n",
              "    </tr>\n",
              "    <tr>\n",
              "      <th>mean</th>\n",
              "      <td>918.118709</td>\n",
              "      <td>43.198544</td>\n",
              "      <td>4.196032</td>\n",
              "      <td>0.822362</td>\n",
              "      <td>2.535936</td>\n",
              "    </tr>\n",
              "    <tr>\n",
              "      <th>std</th>\n",
              "      <td>203.298980</td>\n",
              "      <td>12.279544</td>\n",
              "      <td>1.110031</td>\n",
              "      <td>0.382216</td>\n",
              "      <td>5.702202</td>\n",
              "    </tr>\n",
              "    <tr>\n",
              "      <th>min</th>\n",
              "      <td>0.000000</td>\n",
              "      <td>18.000000</td>\n",
              "      <td>1.000000</td>\n",
              "      <td>0.000000</td>\n",
              "      <td>0.000000</td>\n",
              "    </tr>\n",
              "    <tr>\n",
              "      <th>25%</th>\n",
              "      <td>861.000000</td>\n",
              "      <td>34.000000</td>\n",
              "      <td>4.000000</td>\n",
              "      <td>1.000000</td>\n",
              "      <td>0.000000</td>\n",
              "    </tr>\n",
              "    <tr>\n",
              "      <th>50%</th>\n",
              "      <td>936.000000</td>\n",
              "      <td>41.000000</td>\n",
              "      <td>5.000000</td>\n",
              "      <td>1.000000</td>\n",
              "      <td>1.000000</td>\n",
              "    </tr>\n",
              "    <tr>\n",
              "      <th>75%</th>\n",
              "      <td>1078.000000</td>\n",
              "      <td>52.000000</td>\n",
              "      <td>5.000000</td>\n",
              "      <td>1.000000</td>\n",
              "      <td>3.000000</td>\n",
              "    </tr>\n",
              "    <tr>\n",
              "      <th>max</th>\n",
              "      <td>1205.000000</td>\n",
              "      <td>99.000000</td>\n",
              "      <td>5.000000</td>\n",
              "      <td>1.000000</td>\n",
              "      <td>122.000000</td>\n",
              "    </tr>\n",
              "  </tbody>\n",
              "</table>\n",
              "</div>\n",
              "      <button class=\"colab-df-convert\" onclick=\"convertToInteractive('df-306e6c3e-9866-4ff2-92d1-270def3b32a0')\"\n",
              "              title=\"Convert this dataframe to an interactive table.\"\n",
              "              style=\"display:none;\">\n",
              "        \n",
              "  <svg xmlns=\"http://www.w3.org/2000/svg\" height=\"24px\"viewBox=\"0 0 24 24\"\n",
              "       width=\"24px\">\n",
              "    <path d=\"M0 0h24v24H0V0z\" fill=\"none\"/>\n",
              "    <path d=\"M18.56 5.44l.94 2.06.94-2.06 2.06-.94-2.06-.94-.94-2.06-.94 2.06-2.06.94zm-11 1L8.5 8.5l.94-2.06 2.06-.94-2.06-.94L8.5 2.5l-.94 2.06-2.06.94zm10 10l.94 2.06.94-2.06 2.06-.94-2.06-.94-.94-2.06-.94 2.06-2.06.94z\"/><path d=\"M17.41 7.96l-1.37-1.37c-.4-.4-.92-.59-1.43-.59-.52 0-1.04.2-1.43.59L10.3 9.45l-7.72 7.72c-.78.78-.78 2.05 0 2.83L4 21.41c.39.39.9.59 1.41.59.51 0 1.02-.2 1.41-.59l7.78-7.78 2.81-2.81c.8-.78.8-2.07 0-2.86zM5.41 20L4 18.59l7.72-7.72 1.47 1.35L5.41 20z\"/>\n",
              "  </svg>\n",
              "      </button>\n",
              "      \n",
              "  <style>\n",
              "    .colab-df-container {\n",
              "      display:flex;\n",
              "      flex-wrap:wrap;\n",
              "      gap: 12px;\n",
              "    }\n",
              "\n",
              "    .colab-df-convert {\n",
              "      background-color: #E8F0FE;\n",
              "      border: none;\n",
              "      border-radius: 50%;\n",
              "      cursor: pointer;\n",
              "      display: none;\n",
              "      fill: #1967D2;\n",
              "      height: 32px;\n",
              "      padding: 0 0 0 0;\n",
              "      width: 32px;\n",
              "    }\n",
              "\n",
              "    .colab-df-convert:hover {\n",
              "      background-color: #E2EBFA;\n",
              "      box-shadow: 0px 1px 2px rgba(60, 64, 67, 0.3), 0px 1px 3px 1px rgba(60, 64, 67, 0.15);\n",
              "      fill: #174EA6;\n",
              "    }\n",
              "\n",
              "    [theme=dark] .colab-df-convert {\n",
              "      background-color: #3B4455;\n",
              "      fill: #D2E3FC;\n",
              "    }\n",
              "\n",
              "    [theme=dark] .colab-df-convert:hover {\n",
              "      background-color: #434B5C;\n",
              "      box-shadow: 0px 1px 3px 1px rgba(0, 0, 0, 0.15);\n",
              "      filter: drop-shadow(0px 1px 2px rgba(0, 0, 0, 0.3));\n",
              "      fill: #FFFFFF;\n",
              "    }\n",
              "  </style>\n",
              "\n",
              "      <script>\n",
              "        const buttonEl =\n",
              "          document.querySelector('#df-306e6c3e-9866-4ff2-92d1-270def3b32a0 button.colab-df-convert');\n",
              "        buttonEl.style.display =\n",
              "          google.colab.kernel.accessAllowed ? 'block' : 'none';\n",
              "\n",
              "        async function convertToInteractive(key) {\n",
              "          const element = document.querySelector('#df-306e6c3e-9866-4ff2-92d1-270def3b32a0');\n",
              "          const dataTable =\n",
              "            await google.colab.kernel.invokeFunction('convertToInteractive',\n",
              "                                                     [key], {});\n",
              "          if (!dataTable) return;\n",
              "\n",
              "          const docLinkHtml = 'Like what you see? Visit the ' +\n",
              "            '<a target=\"_blank\" href=https://colab.research.google.com/notebooks/data_table.ipynb>data table notebook</a>'\n",
              "            + ' to learn more about interactive tables.';\n",
              "          element.innerHTML = '';\n",
              "          dataTable['output_type'] = 'display_data';\n",
              "          await google.colab.output.renderOutput(dataTable, element);\n",
              "          const docLink = document.createElement('div');\n",
              "          docLink.innerHTML = docLinkHtml;\n",
              "          element.appendChild(docLink);\n",
              "        }\n",
              "      </script>\n",
              "    </div>\n",
              "  </div>\n",
              "  "
            ]
          },
          "metadata": {},
          "execution_count": 6
        }
      ],
      "source": [
        "DIR = \"Womens Clothing E-Commerce Reviews.csv\"\n",
        "clothing_data = pd.read_csv(DIR, index_col=[0], engine='python')\n",
        "clothing_data.describe()"
      ]
    },
    {
      "cell_type": "markdown",
      "metadata": {
        "id": "0xLmiFsO53Lt"
      },
      "source": [
        "# Cleaning Dataset"
      ]
    },
    {
      "cell_type": "code",
      "execution_count": 7,
      "metadata": {
        "colab": {
          "base_uri": "https://localhost:8080/"
        },
        "execution": {
          "iopub.execute_input": "2022-11-09T18:08:39.034323Z",
          "iopub.status.busy": "2022-11-09T18:08:39.032409Z",
          "iopub.status.idle": "2022-11-09T18:08:39.065411Z",
          "shell.execute_reply": "2022-11-09T18:08:39.064268Z",
          "shell.execute_reply.started": "2022-11-09T18:08:39.034268Z"
        },
        "id": "FS0AidTk53Lt",
        "outputId": "e5d17658-d525-44ae-829b-60bf7ac190fe"
      },
      "outputs": [
        {
          "output_type": "execute_result",
          "data": {
            "text/plain": [
              "Clothing ID                 0.000000\n",
              "Age                         0.000000\n",
              "Title                      16.222430\n",
              "Review Text                 3.597888\n",
              "Rating                      0.000000\n",
              "Recommended IND             0.000000\n",
              "Positive Feedback Count     0.000000\n",
              "Division Name               0.059610\n",
              "Department Name             0.059610\n",
              "Class Name                  0.059610\n",
              "dtype: float64"
            ]
          },
          "metadata": {},
          "execution_count": 7
        }
      ],
      "source": [
        "# Checking which essential columns have missing data\n",
        "\n",
        "clothing_data.isnull().sum() / len(clothing_data) * 100"
      ]
    },
    {
      "cell_type": "code",
      "execution_count": 8,
      "metadata": {
        "colab": {
          "base_uri": "https://localhost:8080/"
        },
        "execution": {
          "iopub.execute_input": "2022-11-09T18:08:39.076068Z",
          "iopub.status.busy": "2022-11-09T18:08:39.072880Z",
          "iopub.status.idle": "2022-11-09T18:08:39.120773Z",
          "shell.execute_reply": "2022-11-09T18:08:39.119554Z",
          "shell.execute_reply.started": "2022-11-09T18:08:39.075992Z"
        },
        "id": "wQrjBKGs53Lt",
        "outputId": "d2a1fc7f-8079-4476-921e-a52bd2f7dc4d"
      },
      "outputs": [
        {
          "output_type": "execute_result",
          "data": {
            "text/plain": [
              "Clothing ID                 0.000000\n",
              "Age                         0.000000\n",
              "Title                      13.107654\n",
              "Review Text                 0.000000\n",
              "Rating                      0.000000\n",
              "Recommended IND             0.000000\n",
              "Positive Feedback Count     0.000000\n",
              "Division Name               0.000000\n",
              "Department Name             0.000000\n",
              "Class Name                  0.000000\n",
              "dtype: float64"
            ]
          },
          "metadata": {},
          "execution_count": 8
        }
      ],
      "source": [
        "# Removing rows with essential missing data\n",
        "\n",
        "clothing_data = clothing_data[~clothing_data['Review Text'].isnull()]\n",
        "clothing_data = clothing_data[~clothing_data['Division Name'].isnull()]\n",
        "clothing_data.isnull().sum()/len(clothing_data)*100"
      ]
    },
    {
      "cell_type": "code",
      "execution_count": 9,
      "metadata": {
        "colab": {
          "base_uri": "https://localhost:8080/",
          "height": 354
        },
        "execution": {
          "iopub.execute_input": "2022-11-09T18:08:39.122760Z",
          "iopub.status.busy": "2022-11-09T18:08:39.122336Z",
          "iopub.status.idle": "2022-11-09T18:08:39.143284Z",
          "shell.execute_reply": "2022-11-09T18:08:39.142062Z",
          "shell.execute_reply.started": "2022-11-09T18:08:39.122719Z"
        },
        "id": "YMLypAb-53Lu",
        "outputId": "401990c5-7e79-4f87-c2d5-d3262ba13846"
      },
      "outputs": [
        {
          "output_type": "execute_result",
          "data": {
            "text/plain": [
              "   Clothing ID  Age                    Title  \\\n",
              "0          767   33                      NaN   \n",
              "1         1080   34                      NaN   \n",
              "2         1077   60  Some major design flaws   \n",
              "3         1049   50         My favorite buy!   \n",
              "4          847   47         Flattering shirt   \n",
              "\n",
              "                                         Review Text  Rating  Recommended IND  \\\n",
              "0  Absolutely wonderful - silky and sexy and comf...       4                1   \n",
              "1  Love this dress!  it's sooo pretty.  i happene...       5                1   \n",
              "2  I had such high hopes for this dress and reall...       3                0   \n",
              "3  I love, love, love this jumpsuit. it's fun, fl...       5                1   \n",
              "4  This shirt is very flattering to all due to th...       5                1   \n",
              "\n",
              "   Positive Feedback Count   Division Name Department Name Class Name  \n",
              "0                        0       Initmates        Intimate  Intimates  \n",
              "1                        4         General         Dresses    Dresses  \n",
              "2                        0         General         Dresses    Dresses  \n",
              "3                        0  General Petite         Bottoms      Pants  \n",
              "4                        6         General            Tops    Blouses  "
            ],
            "text/html": [
              "\n",
              "  <div id=\"df-908621e6-b5e5-41a1-989e-42b970c03e41\">\n",
              "    <div class=\"colab-df-container\">\n",
              "      <div>\n",
              "<style scoped>\n",
              "    .dataframe tbody tr th:only-of-type {\n",
              "        vertical-align: middle;\n",
              "    }\n",
              "\n",
              "    .dataframe tbody tr th {\n",
              "        vertical-align: top;\n",
              "    }\n",
              "\n",
              "    .dataframe thead th {\n",
              "        text-align: right;\n",
              "    }\n",
              "</style>\n",
              "<table border=\"1\" class=\"dataframe\">\n",
              "  <thead>\n",
              "    <tr style=\"text-align: right;\">\n",
              "      <th></th>\n",
              "      <th>Clothing ID</th>\n",
              "      <th>Age</th>\n",
              "      <th>Title</th>\n",
              "      <th>Review Text</th>\n",
              "      <th>Rating</th>\n",
              "      <th>Recommended IND</th>\n",
              "      <th>Positive Feedback Count</th>\n",
              "      <th>Division Name</th>\n",
              "      <th>Department Name</th>\n",
              "      <th>Class Name</th>\n",
              "    </tr>\n",
              "  </thead>\n",
              "  <tbody>\n",
              "    <tr>\n",
              "      <th>0</th>\n",
              "      <td>767</td>\n",
              "      <td>33</td>\n",
              "      <td>NaN</td>\n",
              "      <td>Absolutely wonderful - silky and sexy and comf...</td>\n",
              "      <td>4</td>\n",
              "      <td>1</td>\n",
              "      <td>0</td>\n",
              "      <td>Initmates</td>\n",
              "      <td>Intimate</td>\n",
              "      <td>Intimates</td>\n",
              "    </tr>\n",
              "    <tr>\n",
              "      <th>1</th>\n",
              "      <td>1080</td>\n",
              "      <td>34</td>\n",
              "      <td>NaN</td>\n",
              "      <td>Love this dress!  it's sooo pretty.  i happene...</td>\n",
              "      <td>5</td>\n",
              "      <td>1</td>\n",
              "      <td>4</td>\n",
              "      <td>General</td>\n",
              "      <td>Dresses</td>\n",
              "      <td>Dresses</td>\n",
              "    </tr>\n",
              "    <tr>\n",
              "      <th>2</th>\n",
              "      <td>1077</td>\n",
              "      <td>60</td>\n",
              "      <td>Some major design flaws</td>\n",
              "      <td>I had such high hopes for this dress and reall...</td>\n",
              "      <td>3</td>\n",
              "      <td>0</td>\n",
              "      <td>0</td>\n",
              "      <td>General</td>\n",
              "      <td>Dresses</td>\n",
              "      <td>Dresses</td>\n",
              "    </tr>\n",
              "    <tr>\n",
              "      <th>3</th>\n",
              "      <td>1049</td>\n",
              "      <td>50</td>\n",
              "      <td>My favorite buy!</td>\n",
              "      <td>I love, love, love this jumpsuit. it's fun, fl...</td>\n",
              "      <td>5</td>\n",
              "      <td>1</td>\n",
              "      <td>0</td>\n",
              "      <td>General Petite</td>\n",
              "      <td>Bottoms</td>\n",
              "      <td>Pants</td>\n",
              "    </tr>\n",
              "    <tr>\n",
              "      <th>4</th>\n",
              "      <td>847</td>\n",
              "      <td>47</td>\n",
              "      <td>Flattering shirt</td>\n",
              "      <td>This shirt is very flattering to all due to th...</td>\n",
              "      <td>5</td>\n",
              "      <td>1</td>\n",
              "      <td>6</td>\n",
              "      <td>General</td>\n",
              "      <td>Tops</td>\n",
              "      <td>Blouses</td>\n",
              "    </tr>\n",
              "  </tbody>\n",
              "</table>\n",
              "</div>\n",
              "      <button class=\"colab-df-convert\" onclick=\"convertToInteractive('df-908621e6-b5e5-41a1-989e-42b970c03e41')\"\n",
              "              title=\"Convert this dataframe to an interactive table.\"\n",
              "              style=\"display:none;\">\n",
              "        \n",
              "  <svg xmlns=\"http://www.w3.org/2000/svg\" height=\"24px\"viewBox=\"0 0 24 24\"\n",
              "       width=\"24px\">\n",
              "    <path d=\"M0 0h24v24H0V0z\" fill=\"none\"/>\n",
              "    <path d=\"M18.56 5.44l.94 2.06.94-2.06 2.06-.94-2.06-.94-.94-2.06-.94 2.06-2.06.94zm-11 1L8.5 8.5l.94-2.06 2.06-.94-2.06-.94L8.5 2.5l-.94 2.06-2.06.94zm10 10l.94 2.06.94-2.06 2.06-.94-2.06-.94-.94-2.06-.94 2.06-2.06.94z\"/><path d=\"M17.41 7.96l-1.37-1.37c-.4-.4-.92-.59-1.43-.59-.52 0-1.04.2-1.43.59L10.3 9.45l-7.72 7.72c-.78.78-.78 2.05 0 2.83L4 21.41c.39.39.9.59 1.41.59.51 0 1.02-.2 1.41-.59l7.78-7.78 2.81-2.81c.8-.78.8-2.07 0-2.86zM5.41 20L4 18.59l7.72-7.72 1.47 1.35L5.41 20z\"/>\n",
              "  </svg>\n",
              "      </button>\n",
              "      \n",
              "  <style>\n",
              "    .colab-df-container {\n",
              "      display:flex;\n",
              "      flex-wrap:wrap;\n",
              "      gap: 12px;\n",
              "    }\n",
              "\n",
              "    .colab-df-convert {\n",
              "      background-color: #E8F0FE;\n",
              "      border: none;\n",
              "      border-radius: 50%;\n",
              "      cursor: pointer;\n",
              "      display: none;\n",
              "      fill: #1967D2;\n",
              "      height: 32px;\n",
              "      padding: 0 0 0 0;\n",
              "      width: 32px;\n",
              "    }\n",
              "\n",
              "    .colab-df-convert:hover {\n",
              "      background-color: #E2EBFA;\n",
              "      box-shadow: 0px 1px 2px rgba(60, 64, 67, 0.3), 0px 1px 3px 1px rgba(60, 64, 67, 0.15);\n",
              "      fill: #174EA6;\n",
              "    }\n",
              "\n",
              "    [theme=dark] .colab-df-convert {\n",
              "      background-color: #3B4455;\n",
              "      fill: #D2E3FC;\n",
              "    }\n",
              "\n",
              "    [theme=dark] .colab-df-convert:hover {\n",
              "      background-color: #434B5C;\n",
              "      box-shadow: 0px 1px 3px 1px rgba(0, 0, 0, 0.15);\n",
              "      filter: drop-shadow(0px 1px 2px rgba(0, 0, 0, 0.3));\n",
              "      fill: #FFFFFF;\n",
              "    }\n",
              "  </style>\n",
              "\n",
              "      <script>\n",
              "        const buttonEl =\n",
              "          document.querySelector('#df-908621e6-b5e5-41a1-989e-42b970c03e41 button.colab-df-convert');\n",
              "        buttonEl.style.display =\n",
              "          google.colab.kernel.accessAllowed ? 'block' : 'none';\n",
              "\n",
              "        async function convertToInteractive(key) {\n",
              "          const element = document.querySelector('#df-908621e6-b5e5-41a1-989e-42b970c03e41');\n",
              "          const dataTable =\n",
              "            await google.colab.kernel.invokeFunction('convertToInteractive',\n",
              "                                                     [key], {});\n",
              "          if (!dataTable) return;\n",
              "\n",
              "          const docLinkHtml = 'Like what you see? Visit the ' +\n",
              "            '<a target=\"_blank\" href=https://colab.research.google.com/notebooks/data_table.ipynb>data table notebook</a>'\n",
              "            + ' to learn more about interactive tables.';\n",
              "          element.innerHTML = '';\n",
              "          dataTable['output_type'] = 'display_data';\n",
              "          await google.colab.output.renderOutput(dataTable, element);\n",
              "          const docLink = document.createElement('div');\n",
              "          docLink.innerHTML = docLinkHtml;\n",
              "          element.appendChild(docLink);\n",
              "        }\n",
              "      </script>\n",
              "    </div>\n",
              "  </div>\n",
              "  "
            ]
          },
          "metadata": {},
          "execution_count": 9
        }
      ],
      "source": [
        "clothing_data.head()"
      ]
    },
    {
      "cell_type": "markdown",
      "metadata": {
        "id": "hiHp3lc653Lv"
      },
      "source": [
        "# Exploratory Data Analysis (EDA)"
      ]
    },
    {
      "cell_type": "markdown",
      "metadata": {
        "id": "qJjgwPT553Lv"
      },
      "source": [
        "Categories of clothes by department"
      ]
    },
    {
      "cell_type": "code",
      "execution_count": 10,
      "metadata": {
        "colab": {
          "base_uri": "https://localhost:8080/",
          "height": 350
        },
        "execution": {
          "iopub.execute_input": "2022-11-09T18:08:39.147860Z",
          "iopub.status.busy": "2022-11-09T18:08:39.146990Z",
          "iopub.status.idle": "2022-11-09T18:08:39.546609Z",
          "shell.execute_reply": "2022-11-09T18:08:39.545407Z",
          "shell.execute_reply.started": "2022-11-09T18:08:39.147819Z"
        },
        "id": "a4qhyyFW53Lv",
        "outputId": "79a7ccff-279a-46f4-a125-14c06bb90aaa"
      },
      "outputs": [
        {
          "output_type": "display_data",
          "data": {
            "text/plain": [
              "<Figure size 1080x360 with 1 Axes>"
            ],
            "image/png": "[encoded data removed]"
          },
          "metadata": {
            "needs_background": "light"
          }
        }
      ],
      "source": [
        "fig, ax = plt.subplots(1,1)\n",
        "fig.set_size_inches(15,5)\n",
        "\n",
        "categories = clothing_data['Department Name'].value_counts().index\n",
        "counts = clothing_data['Department Name'].value_counts().values\n",
        "ax.bar(categories, counts, width=0.5, color=\"teal\")\n",
        "\n",
        "ax.set_title(\"Bar Plot of Categories of Clothes (by Department)\")\n",
        "ax.set_xlabel(\"Categories\")\n",
        "ax.set_ylabel(\"Count\")\n",
        "\n",
        "for i in ax.patches:\n",
        "  ax.text(i.get_x()+0.15, i.get_height() + 50, str(round(i.get_height())), fontsize = 10)"
      ]
    },
    {
      "cell_type": "markdown",
      "metadata": {
        "id": "Tb-229oO53Lw"
      },
      "source": [
        "Word cloud"
      ]
    },
    {
      "cell_type": "code",
      "execution_count": 11,
      "metadata": {
        "colab": {
          "base_uri": "https://localhost:8080/",
          "height": 449
        },
        "execution": {
          "iopub.execute_input": "2022-11-09T18:08:39.548471Z",
          "iopub.status.busy": "2022-11-09T18:08:39.548105Z",
          "iopub.status.idle": "2022-11-09T18:08:45.087324Z",
          "shell.execute_reply": "2022-11-09T18:08:45.086387Z",
          "shell.execute_reply.started": "2022-11-09T18:08:39.548434Z"
        },
        "id": "euyQcsLw53Lw",
        "outputId": "9857f246-8845-4ccb-adbe-acbb9156f639"
      },
      "outputs": [
        {
          "output_type": "display_data",
          "data": {
            "text/plain": [
              "<Figure size 1080x720 with 1 Axes>"
            ],
            "image/png": "[encoded data removed]"
          },
          "metadata": {
            "needs_background": "light"
          }
        }
      ],
      "source": [
        "reviews = clothing_data['Review Text'].tolist()\n",
        "reviews = ' '.join(reviews).lower()\n",
        "wordcloud = WordCloud(stopwords = STOPWORDS, collocations=True).generate(reviews)\n",
        "\n",
        "fig, ax = plt.subplots(1,1)\n",
        "fig.set_size_inches(15,10)\n",
        "plt.imshow(wordcloud, interpolation='bilInear')\n",
        "plt.axis('off')\n",
        "plt.show()"
      ]
    },
    {
      "cell_type": "markdown",
      "metadata": {
        "id": "ftC8vPVP53Lw"
      },
      "source": [
        "Ratings and Recommended INDs"
      ]
    },
    {
      "cell_type": "code",
      "execution_count": 12,
      "metadata": {
        "execution": {
          "iopub.execute_input": "2022-11-09T18:08:45.088854Z",
          "iopub.status.busy": "2022-11-09T18:08:45.088380Z",
          "iopub.status.idle": "2022-11-09T18:08:45.171949Z",
          "shell.execute_reply": "2022-11-09T18:08:45.170811Z",
          "shell.execute_reply.started": "2022-11-09T18:08:45.088815Z"
        },
        "id": "Pqs7iwp053Lw"
      },
      "outputs": [],
      "source": [
        "# Calculating mean and standard deviation \n",
        "\n",
        "dept_names = ['Tops', 'Dresses', 'Bottoms', 'Intimate', 'Jackets', 'Trend']\n",
        "avg_rating_by_dept = []\n",
        "avg_ind_by_dept = []\n",
        "std_rating_by_dept = []\n",
        "std_ind_by_dept = []\n",
        "\n",
        "for dept in dept_names:\n",
        "  avg_rating_by_dept.append(clothing_data[clothing_data['Department Name'] == dept]['Rating'].mean())\n",
        "  avg_ind_by_dept.append(clothing_data[clothing_data['Department Name'] == dept]['Recommended IND'].mean())\n",
        "  std_rating_by_dept.append(clothing_data[clothing_data['Department Name'] == dept]['Rating'].std())\n",
        "  std_ind_by_dept.append(clothing_data[clothing_data['Department Name'] == dept]['Recommended IND'].std())"
      ]
    },
    {
      "cell_type": "code",
      "execution_count": 13,
      "metadata": {
        "colab": {
          "base_uri": "https://localhost:8080/",
          "height": 350
        },
        "execution": {
          "iopub.execute_input": "2022-11-09T18:08:45.174566Z",
          "iopub.status.busy": "2022-11-09T18:08:45.174123Z",
          "iopub.status.idle": "2022-11-09T18:08:45.511642Z",
          "shell.execute_reply": "2022-11-09T18:08:45.510389Z",
          "shell.execute_reply.started": "2022-11-09T18:08:45.174525Z"
        },
        "id": "MfwznsQs53Lx",
        "outputId": "ae312244-989b-4ca0-f83c-3a00163c8b53"
      },
      "outputs": [
        {
          "output_type": "display_data",
          "data": {
            "text/plain": [
              "<Figure size 1080x360 with 1 Axes>"
            ],
            "image/png": "[encoded data removed]"
          },
          "metadata": {
            "needs_background": "light"
          }
        }
      ],
      "source": [
        "fig, ax = plt.subplots(1,1)\n",
        "fig.set_size_inches(15,5)\n",
        "\n",
        "x = np.arange(6)\n",
        "width = 0.4\n",
        "\n",
        "ax.bar(x-0.2, std_rating_by_dept, width, color=\"teal\")\n",
        "ax.bar(x+0.2, avg_rating_by_dept, width, color=\"brown\")\n",
        "\n",
        "ax.set_title(\"Bar Plot of Ratings (by Department)\")\n",
        "ax.set_xlabel(\"Categories\")\n",
        "ax.set_ylabel(\"Score\")\n",
        "ax.set_xticklabels(['null', 'Tops', 'Dresses', 'Bottoms', 'Intimate', 'Jackets', 'Trend'])\n",
        "plt.yticks(np.arange(0,6,1))\n",
        "ax.legend(['Standard Deviation', 'Mean'])\n",
        "\n",
        "for i in ax.patches:\n",
        "  ax.text(i.get_x()+0.1, i.get_height() + .05, str(round(i.get_height(),4)), fontsize = 10)"
      ]
    },
    {
      "cell_type": "code",
      "execution_count": 14,
      "metadata": {
        "colab": {
          "base_uri": "https://localhost:8080/",
          "height": 350
        },
        "execution": {
          "iopub.execute_input": "2022-11-09T18:08:45.514128Z",
          "iopub.status.busy": "2022-11-09T18:08:45.513694Z",
          "iopub.status.idle": "2022-11-09T18:08:45.830592Z",
          "shell.execute_reply": "2022-11-09T18:08:45.829500Z",
          "shell.execute_reply.started": "2022-11-09T18:08:45.514087Z"
        },
        "id": "-zEtwCXB53Lx",
        "outputId": "9b614dc6-c433-4205-a5d3-ce2c97f67366"
      },
      "outputs": [
        {
          "output_type": "display_data",
          "data": {
            "text/plain": [
              "<Figure size 1080x360 with 1 Axes>"
            ],
            "image/png": "[encoded data removed]"
          },
          "metadata": {
            "needs_background": "light"
          }
        }
      ],
      "source": [
        "fig, ax = plt.subplots(1,1)\n",
        "fig.set_size_inches(15,5)\n",
        "\n",
        "x = np.arange(6)\n",
        "width = 0.4\n",
        "\n",
        "ax.bar(x-0.2, std_ind_by_dept, width, color=\"teal\")\n",
        "ax.bar(x+0.2, avg_ind_by_dept, width, color=\"brown\")\n",
        "\n",
        "ax.set_title(\"Bar Plot of Recommended IND (by Department)\")\n",
        "ax.set_xlabel(\"Categories\")\n",
        "ax.set_ylabel(\"Score\")\n",
        "ax.set_xticklabels(['null', 'Tops', 'Dresses', 'Bottoms', 'Intimate', 'Jackets', 'Trend'])\n",
        "plt.yticks(np.arange(0,1.5,0.5))\n",
        "ax.legend(['Standard Deviation', 'Mean'])\n",
        "\n",
        "for i in ax.patches:\n",
        "  ax.text(i.get_x()+0.1, i.get_height() + .05, str(round(i.get_height(),4)), fontsize = 10)"
      ]
    },
    {
      "cell_type": "markdown",
      "metadata": {
        "id": "j6FnjUtS53Lx"
      },
      "source": [
        "# Rating Strength"
      ]
    },
    {
      "cell_type": "code",
      "execution_count": 15,
      "metadata": {
        "execution": {
          "iopub.execute_input": "2022-11-09T18:08:45.835572Z",
          "iopub.status.busy": "2022-11-09T18:08:45.835231Z",
          "iopub.status.idle": "2022-11-09T18:08:45.841960Z",
          "shell.execute_reply": "2022-11-09T18:08:45.840603Z",
          "shell.execute_reply.started": "2022-11-09T18:08:45.835544Z"
        },
        "id": "Hc38dGvr53Lx"
      },
      "outputs": [],
      "source": [
        "def rating_exp(x):\n",
        "    return math.exp((np.mean(x.Rating)+1)*(np.mean(x['Recommended IND'])+1)/((np.std(x.Rating)+1)*(np.std(x['Recommended IND'])+1)))"
      ]
    },
    {
      "cell_type": "code",
      "execution_count": 16,
      "metadata": {
        "colab": {
          "base_uri": "https://localhost:8080/",
          "height": 424
        },
        "execution": {
          "iopub.execute_input": "2022-11-09T18:08:45.844178Z",
          "iopub.status.busy": "2022-11-09T18:08:45.843739Z",
          "iopub.status.idle": "2022-11-09T18:08:46.577322Z",
          "shell.execute_reply": "2022-11-09T18:08:46.576052Z",
          "shell.execute_reply.started": "2022-11-09T18:08:45.844140Z"
        },
        "id": "FtgI67Cs53Ly",
        "outputId": "a7bdc186-d5e6-4105-ca81-0a439432a613"
      },
      "outputs": [
        {
          "output_type": "execute_result",
          "data": {
            "text/plain": [
              "         Exp Factor  Clothing ID\n",
              "1         10.442751            1\n",
              "2      22026.465795            2\n",
              "3     162754.791419            3\n",
              "4     162754.791419            4\n",
              "5     162754.791419            5\n",
              "...             ...          ...\n",
              "1200      54.598150         1200\n",
              "1202     354.997025         1202\n",
              "1203      40.801395         1203\n",
              "1204    1530.474862         1204\n",
              "1205  162754.791419         1205\n",
              "\n",
              "[1172 rows x 2 columns]"
            ],
            "text/html": [
              "\n",
              "  <div id=\"df-ef7fa6b1-56f5-46dd-88c0-9fbbec0347c5\">\n",
              "    <div class=\"colab-df-container\">\n",
              "      <div>\n",
              "<style scoped>\n",
              "    .dataframe tbody tr th:only-of-type {\n",
              "        vertical-align: middle;\n",
              "    }\n",
              "\n",
              "    .dataframe tbody tr th {\n",
              "        vertical-align: top;\n",
              "    }\n",
              "\n",
              "    .dataframe thead th {\n",
              "        text-align: right;\n",
              "    }\n",
              "</style>\n",
              "<table border=\"1\" class=\"dataframe\">\n",
              "  <thead>\n",
              "    <tr style=\"text-align: right;\">\n",
              "      <th></th>\n",
              "      <th>Exp Factor</th>\n",
              "      <th>Clothing ID</th>\n",
              "    </tr>\n",
              "  </thead>\n",
              "  <tbody>\n",
              "    <tr>\n",
              "      <th>1</th>\n",
              "      <td>10.442751</td>\n",
              "      <td>1</td>\n",
              "    </tr>\n",
              "    <tr>\n",
              "      <th>2</th>\n",
              "      <td>22026.465795</td>\n",
              "      <td>2</td>\n",
              "    </tr>\n",
              "    <tr>\n",
              "      <th>3</th>\n",
              "      <td>162754.791419</td>\n",
              "      <td>3</td>\n",
              "    </tr>\n",
              "    <tr>\n",
              "      <th>4</th>\n",
              "      <td>162754.791419</td>\n",
              "      <td>4</td>\n",
              "    </tr>\n",
              "    <tr>\n",
              "      <th>5</th>\n",
              "      <td>162754.791419</td>\n",
              "      <td>5</td>\n",
              "    </tr>\n",
              "    <tr>\n",
              "      <th>...</th>\n",
              "      <td>...</td>\n",
              "      <td>...</td>\n",
              "    </tr>\n",
              "    <tr>\n",
              "      <th>1200</th>\n",
              "      <td>54.598150</td>\n",
              "      <td>1200</td>\n",
              "    </tr>\n",
              "    <tr>\n",
              "      <th>1202</th>\n",
              "      <td>354.997025</td>\n",
              "      <td>1202</td>\n",
              "    </tr>\n",
              "    <tr>\n",
              "      <th>1203</th>\n",
              "      <td>40.801395</td>\n",
              "      <td>1203</td>\n",
              "    </tr>\n",
              "    <tr>\n",
              "      <th>1204</th>\n",
              "      <td>1530.474862</td>\n",
              "      <td>1204</td>\n",
              "    </tr>\n",
              "    <tr>\n",
              "      <th>1205</th>\n",
              "      <td>162754.791419</td>\n",
              "      <td>1205</td>\n",
              "    </tr>\n",
              "  </tbody>\n",
              "</table>\n",
              "<p>1172 rows × 2 columns</p>\n",
              "</div>\n",
              "      <button class=\"colab-df-convert\" onclick=\"convertToInteractive('df-ef7fa6b1-56f5-46dd-88c0-9fbbec0347c5')\"\n",
              "              title=\"Convert this dataframe to an interactive table.\"\n",
              "              style=\"display:none;\">\n",
              "        \n",
              "  <svg xmlns=\"http://www.w3.org/2000/svg\" height=\"24px\"viewBox=\"0 0 24 24\"\n",
              "       width=\"24px\">\n",
              "    <path d=\"M0 0h24v24H0V0z\" fill=\"none\"/>\n",
              "    <path d=\"M18.56 5.44l.94 2.06.94-2.06 2.06-.94-2.06-.94-.94-2.06-.94 2.06-2.06.94zm-11 1L8.5 8.5l.94-2.06 2.06-.94-2.06-.94L8.5 2.5l-.94 2.06-2.06.94zm10 10l.94 2.06.94-2.06 2.06-.94-2.06-.94-.94-2.06-.94 2.06-2.06.94z\"/><path d=\"M17.41 7.96l-1.37-1.37c-.4-.4-.92-.59-1.43-.59-.52 0-1.04.2-1.43.59L10.3 9.45l-7.72 7.72c-.78.78-.78 2.05 0 2.83L4 21.41c.39.39.9.59 1.41.59.51 0 1.02-.2 1.41-.59l7.78-7.78 2.81-2.81c.8-.78.8-2.07 0-2.86zM5.41 20L4 18.59l7.72-7.72 1.47 1.35L5.41 20z\"/>\n",
              "  </svg>\n",
              "      </button>\n",
              "      \n",
              "  <style>\n",
              "    .colab-df-container {\n",
              "      display:flex;\n",
              "      flex-wrap:wrap;\n",
              "      gap: 12px;\n",
              "    }\n",
              "\n",
              "    .colab-df-convert {\n",
              "      background-color: #E8F0FE;\n",
              "      border: none;\n",
              "      border-radius: 50%;\n",
              "      cursor: pointer;\n",
              "      display: none;\n",
              "      fill: #1967D2;\n",
              "      height: 32px;\n",
              "      padding: 0 0 0 0;\n",
              "      width: 32px;\n",
              "    }\n",
              "\n",
              "    .colab-df-convert:hover {\n",
              "      background-color: #E2EBFA;\n",
              "      box-shadow: 0px 1px 2px rgba(60, 64, 67, 0.3), 0px 1px 3px 1px rgba(60, 64, 67, 0.15);\n",
              "      fill: #174EA6;\n",
              "    }\n",
              "\n",
              "    [theme=dark] .colab-df-convert {\n",
              "      background-color: #3B4455;\n",
              "      fill: #D2E3FC;\n",
              "    }\n",
              "\n",
              "    [theme=dark] .colab-df-convert:hover {\n",
              "      background-color: #434B5C;\n",
              "      box-shadow: 0px 1px 3px 1px rgba(0, 0, 0, 0.15);\n",
              "      filter: drop-shadow(0px 1px 2px rgba(0, 0, 0, 0.3));\n",
              "      fill: #FFFFFF;\n",
              "    }\n",
              "  </style>\n",
              "\n",
              "      <script>\n",
              "        const buttonEl =\n",
              "          document.querySelector('#df-ef7fa6b1-56f5-46dd-88c0-9fbbec0347c5 button.colab-df-convert');\n",
              "        buttonEl.style.display =\n",
              "          google.colab.kernel.accessAllowed ? 'block' : 'none';\n",
              "\n",
              "        async function convertToInteractive(key) {\n",
              "          const element = document.querySelector('#df-ef7fa6b1-56f5-46dd-88c0-9fbbec0347c5');\n",
              "          const dataTable =\n",
              "            await google.colab.kernel.invokeFunction('convertToInteractive',\n",
              "                                                     [key], {});\n",
              "          if (!dataTable) return;\n",
              "\n",
              "          const docLinkHtml = 'Like what you see? Visit the ' +\n",
              "            '<a target=\"_blank\" href=https://colab.research.google.com/notebooks/data_table.ipynb>data table notebook</a>'\n",
              "            + ' to learn more about interactive tables.';\n",
              "          element.innerHTML = '';\n",
              "          dataTable['output_type'] = 'display_data';\n",
              "          await google.colab.output.renderOutput(dataTable, element);\n",
              "          const docLink = document.createElement('div');\n",
              "          docLink.innerHTML = docLinkHtml;\n",
              "          element.appendChild(docLink);\n",
              "        }\n",
              "      </script>\n",
              "    </div>\n",
              "  </div>\n",
              "  "
            ]
          },
          "metadata": {},
          "execution_count": 16
        }
      ],
      "source": [
        "data_grouped = clothing_data.copy()\n",
        "exp_factor = data_grouped.groupby(['Clothing ID']).apply(rating_exp)\n",
        "exp_factor = pd.DataFrame({'Exp Factor': exp_factor})\n",
        "exp_factor['Clothing ID'] = exp_factor.index\n",
        "exp_factor.index.name = None\n",
        "exp_factor"
      ]
    },
    {
      "cell_type": "code",
      "execution_count": 17,
      "metadata": {
        "colab": {
          "base_uri": "https://localhost:8080/",
          "height": 832
        },
        "execution": {
          "iopub.execute_input": "2022-11-09T18:08:46.581404Z",
          "iopub.status.busy": "2022-11-09T18:08:46.580131Z",
          "iopub.status.idle": "2022-11-09T18:08:46.620583Z",
          "shell.execute_reply": "2022-11-09T18:08:46.619349Z",
          "shell.execute_reply.started": "2022-11-09T18:08:46.581355Z"
        },
        "id": "xo_GIzfz53Ly",
        "outputId": "2068a428-df00-4a26-837a-70fba93e0268"
      },
      "outputs": [
        {
          "output_type": "execute_result",
          "data": {
            "text/plain": [
              "       Clothing ID  Age                                              Title  \\\n",
              "0              767   33                                                NaN   \n",
              "1             1080   34                                                NaN   \n",
              "2             1077   60                            Some major design flaws   \n",
              "3             1049   50                                   My favorite buy!   \n",
              "4              847   47                                   Flattering shirt   \n",
              "...            ...  ...                                                ...   \n",
              "22623         1104   34                     Great dress for many occasions   \n",
              "22624          862   48                         Wish it was made of cotton   \n",
              "22625         1104   31                              Cute, but see through   \n",
              "22626         1084   28  Very cute dress, perfect for summer parties an...   \n",
              "22627         1104   52                    Please make more like this one!   \n",
              "\n",
              "                                             Review Text  Rating  \\\n",
              "0      Absolutely wonderful - silky and sexy and comf...       4   \n",
              "1      Love this dress!  it's sooo pretty.  i happene...       5   \n",
              "2      I had such high hopes for this dress and reall...       3   \n",
              "3      I love, love, love this jumpsuit. it's fun, fl...       5   \n",
              "4      This shirt is very flattering to all due to th...       5   \n",
              "...                                                  ...     ...   \n",
              "22623  I was very happy to snag this dress at such a ...       5   \n",
              "22624  It reminds me of maternity clothes. soft, stre...       3   \n",
              "22625  This fit well, but the top was very see throug...       3   \n",
              "22626  I bought this dress for a wedding i have this ...       3   \n",
              "22627  This dress in a lovely platinum is feminine an...       5   \n",
              "\n",
              "       Recommended IND  Positive Feedback Count   Division Name  \\\n",
              "0                    1                        0       Initmates   \n",
              "1                    1                        4         General   \n",
              "2                    0                        0         General   \n",
              "3                    1                        0  General Petite   \n",
              "4                    1                        6         General   \n",
              "...                ...                      ...             ...   \n",
              "22623                1                        0  General Petite   \n",
              "22624                1                        0  General Petite   \n",
              "22625                0                        1  General Petite   \n",
              "22626                1                        2         General   \n",
              "22627                1                       22  General Petite   \n",
              "\n",
              "      Department Name Class Name   Exp Factor  \n",
              "0            Intimate  Intimates  1530.474862  \n",
              "1             Dresses    Dresses    30.350995  \n",
              "2             Dresses    Dresses    20.565447  \n",
              "3             Bottoms      Pants    44.170108  \n",
              "4                Tops    Blouses    15.558265  \n",
              "...               ...        ...          ...  \n",
              "22623         Dresses    Dresses    17.602689  \n",
              "22624            Tops      Knits    23.918808  \n",
              "22625         Dresses    Dresses    17.602689  \n",
              "22626         Dresses    Dresses     8.912216  \n",
              "22627         Dresses    Dresses    17.602689  \n",
              "\n",
              "[22628 rows x 11 columns]"
            ],
            "text/html": [
              "\n",
              "  <div id=\"df-8112dd7e-d834-42b3-b30f-e506d5f810af\">\n",
              "    <div class=\"colab-df-container\">\n",
              "      <div>\n",
              "<style scoped>\n",
              "    .dataframe tbody tr th:only-of-type {\n",
              "        vertical-align: middle;\n",
              "    }\n",
              "\n",
              "    .dataframe tbody tr th {\n",
              "        vertical-align: top;\n",
              "    }\n",
              "\n",
              "    .dataframe thead th {\n",
              "        text-align: right;\n",
              "    }\n",
              "</style>\n",
              "<table border=\"1\" class=\"dataframe\">\n",
              "  <thead>\n",
              "    <tr style=\"text-align: right;\">\n",
              "      <th></th>\n",
              "      <th>Clothing ID</th>\n",
              "      <th>Age</th>\n",
              "      <th>Title</th>\n",
              "      <th>Review Text</th>\n",
              "      <th>Rating</th>\n",
              "      <th>Recommended IND</th>\n",
              "      <th>Positive Feedback Count</th>\n",
              "      <th>Division Name</th>\n",
              "      <th>Department Name</th>\n",
              "      <th>Class Name</th>\n",
              "      <th>Exp Factor</th>\n",
              "    </tr>\n",
              "  </thead>\n",
              "  <tbody>\n",
              "    <tr>\n",
              "      <th>0</th>\n",
              "      <td>767</td>\n",
              "      <td>33</td>\n",
              "      <td>NaN</td>\n",
              "      <td>Absolutely wonderful - silky and sexy and comf...</td>\n",
              "      <td>4</td>\n",
              "      <td>1</td>\n",
              "      <td>0</td>\n",
              "      <td>Initmates</td>\n",
              "      <td>Intimate</td>\n",
              "      <td>Intimates</td>\n",
              "      <td>1530.474862</td>\n",
              "    </tr>\n",
              "    <tr>\n",
              "      <th>1</th>\n",
              "      <td>1080</td>\n",
              "      <td>34</td>\n",
              "      <td>NaN</td>\n",
              "      <td>Love this dress!  it's sooo pretty.  i happene...</td>\n",
              "      <td>5</td>\n",
              "      <td>1</td>\n",
              "      <td>4</td>\n",
              "      <td>General</td>\n",
              "      <td>Dresses</td>\n",
              "      <td>Dresses</td>\n",
              "      <td>30.350995</td>\n",
              "    </tr>\n",
              "    <tr>\n",
              "      <th>2</th>\n",
              "      <td>1077</td>\n",
              "      <td>60</td>\n",
              "      <td>Some major design flaws</td>\n",
              "      <td>I had such high hopes for this dress and reall...</td>\n",
              "      <td>3</td>\n",
              "      <td>0</td>\n",
              "      <td>0</td>\n",
              "      <td>General</td>\n",
              "      <td>Dresses</td>\n",
              "      <td>Dresses</td>\n",
              "      <td>20.565447</td>\n",
              "    </tr>\n",
              "    <tr>\n",
              "      <th>3</th>\n",
              "      <td>1049</td>\n",
              "      <td>50</td>\n",
              "      <td>My favorite buy!</td>\n",
              "      <td>I love, love, love this jumpsuit. it's fun, fl...</td>\n",
              "      <td>5</td>\n",
              "      <td>1</td>\n",
              "      <td>0</td>\n",
              "      <td>General Petite</td>\n",
              "      <td>Bottoms</td>\n",
              "      <td>Pants</td>\n",
              "      <td>44.170108</td>\n",
              "    </tr>\n",
              "    <tr>\n",
              "      <th>4</th>\n",
              "      <td>847</td>\n",
              "      <td>47</td>\n",
              "      <td>Flattering shirt</td>\n",
              "      <td>This shirt is very flattering to all due to th...</td>\n",
              "      <td>5</td>\n",
              "      <td>1</td>\n",
              "      <td>6</td>\n",
              "      <td>General</td>\n",
              "      <td>Tops</td>\n",
              "      <td>Blouses</td>\n",
              "      <td>15.558265</td>\n",
              "    </tr>\n",
              "    <tr>\n",
              "      <th>...</th>\n",
              "      <td>...</td>\n",
              "      <td>...</td>\n",
              "      <td>...</td>\n",
              "      <td>...</td>\n",
              "      <td>...</td>\n",
              "      <td>...</td>\n",
              "      <td>...</td>\n",
              "      <td>...</td>\n",
              "      <td>...</td>\n",
              "      <td>...</td>\n",
              "      <td>...</td>\n",
              "    </tr>\n",
              "    <tr>\n",
              "      <th>22623</th>\n",
              "      <td>1104</td>\n",
              "      <td>34</td>\n",
              "      <td>Great dress for many occasions</td>\n",
              "      <td>I was very happy to snag this dress at such a ...</td>\n",
              "      <td>5</td>\n",
              "      <td>1</td>\n",
              "      <td>0</td>\n",
              "      <td>General Petite</td>\n",
              "      <td>Dresses</td>\n",
              "      <td>Dresses</td>\n",
              "      <td>17.602689</td>\n",
              "    </tr>\n",
              "    <tr>\n",
              "      <th>22624</th>\n",
              "      <td>862</td>\n",
              "      <td>48</td>\n",
              "      <td>Wish it was made of cotton</td>\n",
              "      <td>It reminds me of maternity clothes. soft, stre...</td>\n",
              "      <td>3</td>\n",
              "      <td>1</td>\n",
              "      <td>0</td>\n",
              "      <td>General Petite</td>\n",
              "      <td>Tops</td>\n",
              "      <td>Knits</td>\n",
              "      <td>23.918808</td>\n",
              "    </tr>\n",
              "    <tr>\n",
              "      <th>22625</th>\n",
              "      <td>1104</td>\n",
              "      <td>31</td>\n",
              "      <td>Cute, but see through</td>\n",
              "      <td>This fit well, but the top was very see throug...</td>\n",
              "      <td>3</td>\n",
              "      <td>0</td>\n",
              "      <td>1</td>\n",
              "      <td>General Petite</td>\n",
              "      <td>Dresses</td>\n",
              "      <td>Dresses</td>\n",
              "      <td>17.602689</td>\n",
              "    </tr>\n",
              "    <tr>\n",
              "      <th>22626</th>\n",
              "      <td>1084</td>\n",
              "      <td>28</td>\n",
              "      <td>Very cute dress, perfect for summer parties an...</td>\n",
              "      <td>I bought this dress for a wedding i have this ...</td>\n",
              "      <td>3</td>\n",
              "      <td>1</td>\n",
              "      <td>2</td>\n",
              "      <td>General</td>\n",
              "      <td>Dresses</td>\n",
              "      <td>Dresses</td>\n",
              "      <td>8.912216</td>\n",
              "    </tr>\n",
              "    <tr>\n",
              "      <th>22627</th>\n",
              "      <td>1104</td>\n",
              "      <td>52</td>\n",
              "      <td>Please make more like this one!</td>\n",
              "      <td>This dress in a lovely platinum is feminine an...</td>\n",
              "      <td>5</td>\n",
              "      <td>1</td>\n",
              "      <td>22</td>\n",
              "      <td>General Petite</td>\n",
              "      <td>Dresses</td>\n",
              "      <td>Dresses</td>\n",
              "      <td>17.602689</td>\n",
              "    </tr>\n",
              "  </tbody>\n",
              "</table>\n",
              "<p>22628 rows × 11 columns</p>\n",
              "</div>\n",
              "      <button class=\"colab-df-convert\" onclick=\"convertToInteractive('df-8112dd7e-d834-42b3-b30f-e506d5f810af')\"\n",
              "              title=\"Convert this dataframe to an interactive table.\"\n",
              "              style=\"display:none;\">\n",
              "        \n",
              "  <svg xmlns=\"http://www.w3.org/2000/svg\" height=\"24px\"viewBox=\"0 0 24 24\"\n",
              "       width=\"24px\">\n",
              "    <path d=\"M0 0h24v24H0V0z\" fill=\"none\"/>\n",
              "    <path d=\"M18.56 5.44l.94 2.06.94-2.06 2.06-.94-2.06-.94-.94-2.06-.94 2.06-2.06.94zm-11 1L8.5 8.5l.94-2.06 2.06-.94-2.06-.94L8.5 2.5l-.94 2.06-2.06.94zm10 10l.94 2.06.94-2.06 2.06-.94-2.06-.94-.94-2.06-.94 2.06-2.06.94z\"/><path d=\"M17.41 7.96l-1.37-1.37c-.4-.4-.92-.59-1.43-.59-.52 0-1.04.2-1.43.59L10.3 9.45l-7.72 7.72c-.78.78-.78 2.05 0 2.83L4 21.41c.39.39.9.59 1.41.59.51 0 1.02-.2 1.41-.59l7.78-7.78 2.81-2.81c.8-.78.8-2.07 0-2.86zM5.41 20L4 18.59l7.72-7.72 1.47 1.35L5.41 20z\"/>\n",
              "  </svg>\n",
              "      </button>\n",
              "      \n",
              "  <style>\n",
              "    .colab-df-container {\n",
              "      display:flex;\n",
              "      flex-wrap:wrap;\n",
              "      gap: 12px;\n",
              "    }\n",
              "\n",
              "    .colab-df-convert {\n",
              "      background-color: #E8F0FE;\n",
              "      border: none;\n",
              "      border-radius: 50%;\n",
              "      cursor: pointer;\n",
              "      display: none;\n",
              "      fill: #1967D2;\n",
              "      height: 32px;\n",
              "      padding: 0 0 0 0;\n",
              "      width: 32px;\n",
              "    }\n",
              "\n",
              "    .colab-df-convert:hover {\n",
              "      background-color: #E2EBFA;\n",
              "      box-shadow: 0px 1px 2px rgba(60, 64, 67, 0.3), 0px 1px 3px 1px rgba(60, 64, 67, 0.15);\n",
              "      fill: #174EA6;\n",
              "    }\n",
              "\n",
              "    [theme=dark] .colab-df-convert {\n",
              "      background-color: #3B4455;\n",
              "      fill: #D2E3FC;\n",
              "    }\n",
              "\n",
              "    [theme=dark] .colab-df-convert:hover {\n",
              "      background-color: #434B5C;\n",
              "      box-shadow: 0px 1px 3px 1px rgba(0, 0, 0, 0.15);\n",
              "      filter: drop-shadow(0px 1px 2px rgba(0, 0, 0, 0.3));\n",
              "      fill: #FFFFFF;\n",
              "    }\n",
              "  </style>\n",
              "\n",
              "      <script>\n",
              "        const buttonEl =\n",
              "          document.querySelector('#df-8112dd7e-d834-42b3-b30f-e506d5f810af button.colab-df-convert');\n",
              "        buttonEl.style.display =\n",
              "          google.colab.kernel.accessAllowed ? 'block' : 'none';\n",
              "\n",
              "        async function convertToInteractive(key) {\n",
              "          const element = document.querySelector('#df-8112dd7e-d834-42b3-b30f-e506d5f810af');\n",
              "          const dataTable =\n",
              "            await google.colab.kernel.invokeFunction('convertToInteractive',\n",
              "                                                     [key], {});\n",
              "          if (!dataTable) return;\n",
              "\n",
              "          const docLinkHtml = 'Like what you see? Visit the ' +\n",
              "            '<a target=\"_blank\" href=https://colab.research.google.com/notebooks/data_table.ipynb>data table notebook</a>'\n",
              "            + ' to learn more about interactive tables.';\n",
              "          element.innerHTML = '';\n",
              "          dataTable['output_type'] = 'display_data';\n",
              "          await google.colab.output.renderOutput(dataTable, element);\n",
              "          const docLink = document.createElement('div');\n",
              "          docLink.innerHTML = docLinkHtml;\n",
              "          element.appendChild(docLink);\n",
              "        }\n",
              "      </script>\n",
              "    </div>\n",
              "  </div>\n",
              "  "
            ]
          },
          "metadata": {},
          "execution_count": 17
        }
      ],
      "source": [
        "data_grouped = data_grouped.merge(exp_factor, how='left', on='Clothing ID')\n",
        "data_grouped"
      ]
    },
    {
      "cell_type": "code",
      "execution_count": 18,
      "metadata": {
        "execution": {
          "iopub.execute_input": "2022-11-09T18:08:46.624357Z",
          "iopub.status.busy": "2022-11-09T18:08:46.622244Z",
          "iopub.status.idle": "2022-11-09T18:08:46.632360Z",
          "shell.execute_reply": "2022-11-09T18:08:46.631180Z",
          "shell.execute_reply.started": "2022-11-09T18:08:46.624295Z"
        },
        "id": "pAxKZ6M153Ly"
      },
      "outputs": [],
      "source": [
        "data_grouped['Rating Factor'] = (1-data_grouped['Exp Factor'])/(1+data_grouped['Exp Factor'])\n"
      ]
    },
    {
      "cell_type": "code",
      "execution_count": 19,
      "metadata": {
        "colab": {
          "base_uri": "https://localhost:8080/",
          "height": 1000
        },
        "execution": {
          "iopub.execute_input": "2022-11-09T18:08:46.634790Z",
          "iopub.status.busy": "2022-11-09T18:08:46.634304Z",
          "iopub.status.idle": "2022-11-09T18:08:46.664706Z",
          "shell.execute_reply": "2022-11-09T18:08:46.663612Z",
          "shell.execute_reply.started": "2022-11-09T18:08:46.634749Z"
        },
        "id": "df26QrdE53Ly",
        "outputId": "17cfc182-ef04-487d-cfb4-cc2608d41246"
      },
      "outputs": [
        {
          "output_type": "execute_result",
          "data": {
            "text/plain": [
              "       Clothing ID  Age                                              Title  \\\n",
              "0              767   33                                                NaN   \n",
              "1             1080   34                                                NaN   \n",
              "2             1077   60                            Some major design flaws   \n",
              "3             1049   50                                   My favorite buy!   \n",
              "4              847   47                                   Flattering shirt   \n",
              "...            ...  ...                                                ...   \n",
              "22623         1104   34                     Great dress for many occasions   \n",
              "22624          862   48                         Wish it was made of cotton   \n",
              "22625         1104   31                              Cute, but see through   \n",
              "22626         1084   28  Very cute dress, perfect for summer parties an...   \n",
              "22627         1104   52                    Please make more like this one!   \n",
              "\n",
              "                                             Review Text  Rating  \\\n",
              "0      Absolutely wonderful - silky and sexy and comf...       4   \n",
              "1      Love this dress!  it's sooo pretty.  i happene...       5   \n",
              "2      I had such high hopes for this dress and reall...       3   \n",
              "3      I love, love, love this jumpsuit. it's fun, fl...       5   \n",
              "4      This shirt is very flattering to all due to th...       5   \n",
              "...                                                  ...     ...   \n",
              "22623  I was very happy to snag this dress at such a ...       5   \n",
              "22624  It reminds me of maternity clothes. soft, stre...       3   \n",
              "22625  This fit well, but the top was very see throug...       3   \n",
              "22626  I bought this dress for a wedding i have this ...       3   \n",
              "22627  This dress in a lovely platinum is feminine an...       5   \n",
              "\n",
              "       Recommended IND  Positive Feedback Count   Division Name  \\\n",
              "0                    1                        0       Initmates   \n",
              "1                    1                        4         General   \n",
              "2                    0                        0         General   \n",
              "3                    1                        0  General Petite   \n",
              "4                    1                        6         General   \n",
              "...                ...                      ...             ...   \n",
              "22623                1                        0  General Petite   \n",
              "22624                1                        0  General Petite   \n",
              "22625                0                        1  General Petite   \n",
              "22626                1                        2         General   \n",
              "22627                1                       22  General Petite   \n",
              "\n",
              "      Department Name Class Name   Exp Factor  Rating Factor  Rating Strength  \n",
              "0            Intimate  Intimates  1530.474862      -0.998694         0.996412  \n",
              "1             Dresses    Dresses    30.350995      -0.936206         0.828627  \n",
              "2             Dresses    Dresses    20.565447      -0.907259         0.754575  \n",
              "3             Bottoms      Pants    44.170108      -0.955723         0.879867  \n",
              "4                Tops    Blouses    15.558265      -0.879214         0.685050  \n",
              "...               ...        ...          ...            ...              ...  \n",
              "22623         Dresses    Dresses    17.602689      -0.892489         0.717686  \n",
              "22624            Tops      Knits    23.918808      -0.919739         0.786217  \n",
              "22625         Dresses    Dresses    17.602689      -0.892489         0.717686  \n",
              "22626         Dresses    Dresses     8.912216      -0.798229         0.496531  \n",
              "22627         Dresses    Dresses    17.602689      -0.892489         0.717686  \n",
              "\n",
              "[22628 rows x 13 columns]"
            ],
            "text/html": [
              "\n",
              "  <div id=\"df-28f7b843-78be-436f-924b-aff7e82bf83f\">\n",
              "    <div class=\"colab-df-container\">\n",
              "      <div>\n",
              "<style scoped>\n",
              "    .dataframe tbody tr th:only-of-type {\n",
              "        vertical-align: middle;\n",
              "    }\n",
              "\n",
              "    .dataframe tbody tr th {\n",
              "        vertical-align: top;\n",
              "    }\n",
              "\n",
              "    .dataframe thead th {\n",
              "        text-align: right;\n",
              "    }\n",
              "</style>\n",
              "<table border=\"1\" class=\"dataframe\">\n",
              "  <thead>\n",
              "    <tr style=\"text-align: right;\">\n",
              "      <th></th>\n",
              "      <th>Clothing ID</th>\n",
              "      <th>Age</th>\n",
              "      <th>Title</th>\n",
              "      <th>Review Text</th>\n",
              "      <th>Rating</th>\n",
              "      <th>Recommended IND</th>\n",
              "      <th>Positive Feedback Count</th>\n",
              "      <th>Division Name</th>\n",
              "      <th>Department Name</th>\n",
              "      <th>Class Name</th>\n",
              "      <th>Exp Factor</th>\n",
              "      <th>Rating Factor</th>\n",
              "      <th>Rating Strength</th>\n",
              "    </tr>\n",
              "  </thead>\n",
              "  <tbody>\n",
              "    <tr>\n",
              "      <th>0</th>\n",
              "      <td>767</td>\n",
              "      <td>33</td>\n",
              "      <td>NaN</td>\n",
              "      <td>Absolutely wonderful - silky and sexy and comf...</td>\n",
              "      <td>4</td>\n",
              "      <td>1</td>\n",
              "      <td>0</td>\n",
              "      <td>Initmates</td>\n",
              "      <td>Intimate</td>\n",
              "      <td>Intimates</td>\n",
              "      <td>1530.474862</td>\n",
              "      <td>-0.998694</td>\n",
              "      <td>0.996412</td>\n",
              "    </tr>\n",
              "    <tr>\n",
              "      <th>1</th>\n",
              "      <td>1080</td>\n",
              "      <td>34</td>\n",
              "      <td>NaN</td>\n",
              "      <td>Love this dress!  it's sooo pretty.  i happene...</td>\n",
              "      <td>5</td>\n",
              "      <td>1</td>\n",
              "      <td>4</td>\n",
              "      <td>General</td>\n",
              "      <td>Dresses</td>\n",
              "      <td>Dresses</td>\n",
              "      <td>30.350995</td>\n",
              "      <td>-0.936206</td>\n",
              "      <td>0.828627</td>\n",
              "    </tr>\n",
              "    <tr>\n",
              "      <th>2</th>\n",
              "      <td>1077</td>\n",
              "      <td>60</td>\n",
              "      <td>Some major design flaws</td>\n",
              "      <td>I had such high hopes for this dress and reall...</td>\n",
              "      <td>3</td>\n",
              "      <td>0</td>\n",
              "      <td>0</td>\n",
              "      <td>General</td>\n",
              "      <td>Dresses</td>\n",
              "      <td>Dresses</td>\n",
              "      <td>20.565447</td>\n",
              "      <td>-0.907259</td>\n",
              "      <td>0.754575</td>\n",
              "    </tr>\n",
              "    <tr>\n",
              "      <th>3</th>\n",
              "      <td>1049</td>\n",
              "      <td>50</td>\n",
              "      <td>My favorite buy!</td>\n",
              "      <td>I love, love, love this jumpsuit. it's fun, fl...</td>\n",
              "      <td>5</td>\n",
              "      <td>1</td>\n",
              "      <td>0</td>\n",
              "      <td>General Petite</td>\n",
              "      <td>Bottoms</td>\n",
              "      <td>Pants</td>\n",
              "      <td>44.170108</td>\n",
              "      <td>-0.955723</td>\n",
              "      <td>0.879867</td>\n",
              "    </tr>\n",
              "    <tr>\n",
              "      <th>4</th>\n",
              "      <td>847</td>\n",
              "      <td>47</td>\n",
              "      <td>Flattering shirt</td>\n",
              "      <td>This shirt is very flattering to all due to th...</td>\n",
              "      <td>5</td>\n",
              "      <td>1</td>\n",
              "      <td>6</td>\n",
              "      <td>General</td>\n",
              "      <td>Tops</td>\n",
              "      <td>Blouses</td>\n",
              "      <td>15.558265</td>\n",
              "      <td>-0.879214</td>\n",
              "      <td>0.685050</td>\n",
              "    </tr>\n",
              "    <tr>\n",
              "      <th>...</th>\n",
              "      <td>...</td>\n",
              "      <td>...</td>\n",
              "      <td>...</td>\n",
              "      <td>...</td>\n",
              "      <td>...</td>\n",
              "      <td>...</td>\n",
              "      <td>...</td>\n",
              "      <td>...</td>\n",
              "      <td>...</td>\n",
              "      <td>...</td>\n",
              "      <td>...</td>\n",
              "      <td>...</td>\n",
              "      <td>...</td>\n",
              "    </tr>\n",
              "    <tr>\n",
              "      <th>22623</th>\n",
              "      <td>1104</td>\n",
              "      <td>34</td>\n",
              "      <td>Great dress for many occasions</td>\n",
              "      <td>I was very happy to snag this dress at such a ...</td>\n",
              "      <td>5</td>\n",
              "      <td>1</td>\n",
              "      <td>0</td>\n",
              "      <td>General Petite</td>\n",
              "      <td>Dresses</td>\n",
              "      <td>Dresses</td>\n",
              "      <td>17.602689</td>\n",
              "      <td>-0.892489</td>\n",
              "      <td>0.717686</td>\n",
              "    </tr>\n",
              "    <tr>\n",
              "      <th>22624</th>\n",
              "      <td>862</td>\n",
              "      <td>48</td>\n",
              "      <td>Wish it was made of cotton</td>\n",
              "      <td>It reminds me of maternity clothes. soft, stre...</td>\n",
              "      <td>3</td>\n",
              "      <td>1</td>\n",
              "      <td>0</td>\n",
              "      <td>General Petite</td>\n",
              "      <td>Tops</td>\n",
              "      <td>Knits</td>\n",
              "      <td>23.918808</td>\n",
              "      <td>-0.919739</td>\n",
              "      <td>0.786217</td>\n",
              "    </tr>\n",
              "    <tr>\n",
              "      <th>22625</th>\n",
              "      <td>1104</td>\n",
              "      <td>31</td>\n",
              "      <td>Cute, but see through</td>\n",
              "      <td>This fit well, but the top was very see throug...</td>\n",
              "      <td>3</td>\n",
              "      <td>0</td>\n",
              "      <td>1</td>\n",
              "      <td>General Petite</td>\n",
              "      <td>Dresses</td>\n",
              "      <td>Dresses</td>\n",
              "      <td>17.602689</td>\n",
              "      <td>-0.892489</td>\n",
              "      <td>0.717686</td>\n",
              "    </tr>\n",
              "    <tr>\n",
              "      <th>22626</th>\n",
              "      <td>1084</td>\n",
              "      <td>28</td>\n",
              "      <td>Very cute dress, perfect for summer parties an...</td>\n",
              "      <td>I bought this dress for a wedding i have this ...</td>\n",
              "      <td>3</td>\n",
              "      <td>1</td>\n",
              "      <td>2</td>\n",
              "      <td>General</td>\n",
              "      <td>Dresses</td>\n",
              "      <td>Dresses</td>\n",
              "      <td>8.912216</td>\n",
              "      <td>-0.798229</td>\n",
              "      <td>0.496531</td>\n",
              "    </tr>\n",
              "    <tr>\n",
              "      <th>22627</th>\n",
              "      <td>1104</td>\n",
              "      <td>52</td>\n",
              "      <td>Please make more like this one!</td>\n",
              "      <td>This dress in a lovely platinum is feminine an...</td>\n",
              "      <td>5</td>\n",
              "      <td>1</td>\n",
              "      <td>22</td>\n",
              "      <td>General Petite</td>\n",
              "      <td>Dresses</td>\n",
              "      <td>Dresses</td>\n",
              "      <td>17.602689</td>\n",
              "      <td>-0.892489</td>\n",
              "      <td>0.717686</td>\n",
              "    </tr>\n",
              "  </tbody>\n",
              "</table>\n",
              "<p>22628 rows × 13 columns</p>\n",
              "</div>\n",
              "      <button class=\"colab-df-convert\" onclick=\"convertToInteractive('df-28f7b843-78be-436f-924b-aff7e82bf83f')\"\n",
              "              title=\"Convert this dataframe to an interactive table.\"\n",
              "              style=\"display:none;\">\n",
              "        \n",
              "  <svg xmlns=\"http://www.w3.org/2000/svg\" height=\"24px\"viewBox=\"0 0 24 24\"\n",
              "       width=\"24px\">\n",
              "    <path d=\"M0 0h24v24H0V0z\" fill=\"none\"/>\n",
              "    <path d=\"M18.56 5.44l.94 2.06.94-2.06 2.06-.94-2.06-.94-.94-2.06-.94 2.06-2.06.94zm-11 1L8.5 8.5l.94-2.06 2.06-.94-2.06-.94L8.5 2.5l-.94 2.06-2.06.94zm10 10l.94 2.06.94-2.06 2.06-.94-2.06-.94-.94-2.06-.94 2.06-2.06.94z\"/><path d=\"M17.41 7.96l-1.37-1.37c-.4-.4-.92-.59-1.43-.59-.52 0-1.04.2-1.43.59L10.3 9.45l-7.72 7.72c-.78.78-.78 2.05 0 2.83L4 21.41c.39.39.9.59 1.41.59.51 0 1.02-.2 1.41-.59l7.78-7.78 2.81-2.81c.8-.78.8-2.07 0-2.86zM5.41 20L4 18.59l7.72-7.72 1.47 1.35L5.41 20z\"/>\n",
              "  </svg>\n",
              "      </button>\n",
              "      \n",
              "  <style>\n",
              "    .colab-df-container {\n",
              "      display:flex;\n",
              "      flex-wrap:wrap;\n",
              "      gap: 12px;\n",
              "    }\n",
              "\n",
              "    .colab-df-convert {\n",
              "      background-color: #E8F0FE;\n",
              "      border: none;\n",
              "      border-radius: 50%;\n",
              "      cursor: pointer;\n",
              "      display: none;\n",
              "      fill: #1967D2;\n",
              "      height: 32px;\n",
              "      padding: 0 0 0 0;\n",
              "      width: 32px;\n",
              "    }\n",
              "\n",
              "    .colab-df-convert:hover {\n",
              "      background-color: #E2EBFA;\n",
              "      box-shadow: 0px 1px 2px rgba(60, 64, 67, 0.3), 0px 1px 3px 1px rgba(60, 64, 67, 0.15);\n",
              "      fill: #174EA6;\n",
              "    }\n",
              "\n",
              "    [theme=dark] .colab-df-convert {\n",
              "      background-color: #3B4455;\n",
              "      fill: #D2E3FC;\n",
              "    }\n",
              "\n",
              "    [theme=dark] .colab-df-convert:hover {\n",
              "      background-color: #434B5C;\n",
              "      box-shadow: 0px 1px 3px 1px rgba(0, 0, 0, 0.15);\n",
              "      filter: drop-shadow(0px 1px 2px rgba(0, 0, 0, 0.3));\n",
              "      fill: #FFFFFF;\n",
              "    }\n",
              "  </style>\n",
              "\n",
              "      <script>\n",
              "        const buttonEl =\n",
              "          document.querySelector('#df-28f7b843-78be-436f-924b-aff7e82bf83f button.colab-df-convert');\n",
              "        buttonEl.style.display =\n",
              "          google.colab.kernel.accessAllowed ? 'block' : 'none';\n",
              "\n",
              "        async function convertToInteractive(key) {\n",
              "          const element = document.querySelector('#df-28f7b843-78be-436f-924b-aff7e82bf83f');\n",
              "          const dataTable =\n",
              "            await google.colab.kernel.invokeFunction('convertToInteractive',\n",
              "                                                     [key], {});\n",
              "          if (!dataTable) return;\n",
              "\n",
              "          const docLinkHtml = 'Like what you see? Visit the ' +\n",
              "            '<a target=\"_blank\" href=https://colab.research.google.com/notebooks/data_table.ipynb>data table notebook</a>'\n",
              "            + ' to learn more about interactive tables.';\n",
              "          element.innerHTML = '';\n",
              "          dataTable['output_type'] = 'display_data';\n",
              "          await google.colab.output.renderOutput(dataTable, element);\n",
              "          const docLink = document.createElement('div');\n",
              "          docLink.innerHTML = docLinkHtml;\n",
              "          element.appendChild(docLink);\n",
              "        }\n",
              "      </script>\n",
              "    </div>\n",
              "  </div>\n",
              "  "
            ]
          },
          "metadata": {},
          "execution_count": 19
        }
      ],
      "source": [
        "scaler = MinMaxScaler()\n",
        "data_grouped['Rating Strength'] = scaler.fit_transform(np.array(data_grouped['Rating Factor'] ** 2).reshape(-1,1))\n",
        "data_grouped"
      ]
    },
    {
      "cell_type": "code",
      "execution_count": 20,
      "metadata": {
        "colab": {
          "base_uri": "https://localhost:8080/",
          "height": 282
        },
        "execution": {
          "iopub.execute_input": "2022-11-09T18:08:46.667954Z",
          "iopub.status.busy": "2022-11-09T18:08:46.667183Z",
          "iopub.status.idle": "2022-11-09T18:08:47.400168Z",
          "shell.execute_reply": "2022-11-09T18:08:47.399000Z",
          "shell.execute_reply.started": "2022-11-09T18:08:46.667909Z"
        },
        "id": "ke3RKPZF53Ly",
        "outputId": "e118e552-620f-4bc0-f3d3-142d94b25e4d"
      },
      "outputs": [
        {
          "output_type": "execute_result",
          "data": {
            "text/plain": [
              "<matplotlib.axes._subplots.AxesSubplot at 0x7fcca5f8d450>"
            ]
          },
          "metadata": {},
          "execution_count": 20
        },
        {
          "output_type": "display_data",
          "data": {
            "text/plain": [
              "<Figure size 432x288 with 1 Axes>"
            ],
            "image/png": "[encoded data removed]"
          },
          "metadata": {
            "needs_background": "light"
          }
        }
      ],
      "source": [
        "data_grouped['Rating Strength'].plot.density()"
      ]
    },
    {
      "cell_type": "code",
      "execution_count": 21,
      "metadata": {
        "colab": {
          "base_uri": "https://localhost:8080/"
        },
        "execution": {
          "iopub.execute_input": "2022-11-09T18:08:47.402522Z",
          "iopub.status.busy": "2022-11-09T18:08:47.402093Z",
          "iopub.status.idle": "2022-11-09T18:08:47.411656Z",
          "shell.execute_reply": "2022-11-09T18:08:47.410120Z",
          "shell.execute_reply.started": "2022-11-09T18:08:47.402483Z"
        },
        "id": "hethoByH53Ly",
        "outputId": "64ae6643-2d62-440c-f742-8f0b19a75121"
      },
      "outputs": [
        {
          "output_type": "execute_result",
          "data": {
            "text/plain": [
              "0.14150609863885452"
            ]
          },
          "metadata": {},
          "execution_count": 21
        }
      ],
      "source": [
        "np.where(data_grouped[\"Rating Strength\"] > 0.9)[0].size/len(clothing_data)"
      ]
    },
    {
      "cell_type": "code",
      "execution_count": 22,
      "metadata": {
        "colab": {
          "base_uri": "https://localhost:8080/",
          "height": 597
        },
        "execution": {
          "iopub.execute_input": "2022-11-09T18:08:47.414454Z",
          "iopub.status.busy": "2022-11-09T18:08:47.413882Z",
          "iopub.status.idle": "2022-11-09T18:08:47.439265Z",
          "shell.execute_reply": "2022-11-09T18:08:47.438100Z",
          "shell.execute_reply.started": "2022-11-09T18:08:47.414413Z"
        },
        "id": "uAtA3miy53Lz",
        "outputId": "bdd524cb-9230-4c4f-bbc5-a003403e6e98"
      },
      "outputs": [
        {
          "output_type": "execute_result",
          "data": {
            "text/plain": [
              "   Clothing ID  Age                    Title  \\\n",
              "0          767   33                      NaN   \n",
              "1         1080   34                      NaN   \n",
              "2         1077   60  Some major design flaws   \n",
              "3         1049   50         My favorite buy!   \n",
              "4          847   47         Flattering shirt   \n",
              "\n",
              "                                         Review Text  Rating  Recommended IND  \\\n",
              "0  Absolutely wonderful - silky and sexy and comf...       4                1   \n",
              "1  Love this dress!  it's sooo pretty.  i happene...       5                1   \n",
              "2  I had such high hopes for this dress and reall...       3                0   \n",
              "3  I love, love, love this jumpsuit. it's fun, fl...       5                1   \n",
              "4  This shirt is very flattering to all due to th...       5                1   \n",
              "\n",
              "   Positive Feedback Count   Division Name Department Name Class Name  \\\n",
              "0                        0       Initmates        Intimate  Intimates   \n",
              "1                        4         General         Dresses    Dresses   \n",
              "2                        0         General         Dresses    Dresses   \n",
              "3                        0  General Petite         Bottoms      Pants   \n",
              "4                        6         General            Tops    Blouses   \n",
              "\n",
              "    Exp Factor  Rating Factor  Rating Strength  Trending  \n",
              "0  1530.474862      -0.998694         0.996412         1  \n",
              "1    30.350995      -0.936206         0.828627         0  \n",
              "2    20.565447      -0.907259         0.754575         0  \n",
              "3    44.170108      -0.955723         0.879867         0  \n",
              "4    15.558265      -0.879214         0.685050         0  "
            ],
            "text/html": [
              "\n",
              "  <div id=\"df-f6d80f18-54fc-4c0a-8eea-fa865e4c9565\">\n",
              "    <div class=\"colab-df-container\">\n",
              "      <div>\n",
              "<style scoped>\n",
              "    .dataframe tbody tr th:only-of-type {\n",
              "        vertical-align: middle;\n",
              "    }\n",
              "\n",
              "    .dataframe tbody tr th {\n",
              "        vertical-align: top;\n",
              "    }\n",
              "\n",
              "    .dataframe thead th {\n",
              "        text-align: right;\n",
              "    }\n",
              "</style>\n",
              "<table border=\"1\" class=\"dataframe\">\n",
              "  <thead>\n",
              "    <tr style=\"text-align: right;\">\n",
              "      <th></th>\n",
              "      <th>Clothing ID</th>\n",
              "      <th>Age</th>\n",
              "      <th>Title</th>\n",
              "      <th>Review Text</th>\n",
              "      <th>Rating</th>\n",
              "      <th>Recommended IND</th>\n",
              "      <th>Positive Feedback Count</th>\n",
              "      <th>Division Name</th>\n",
              "      <th>Department Name</th>\n",
              "      <th>Class Name</th>\n",
              "      <th>Exp Factor</th>\n",
              "      <th>Rating Factor</th>\n",
              "      <th>Rating Strength</th>\n",
              "      <th>Trending</th>\n",
              "    </tr>\n",
              "  </thead>\n",
              "  <tbody>\n",
              "    <tr>\n",
              "      <th>0</th>\n",
              "      <td>767</td>\n",
              "      <td>33</td>\n",
              "      <td>NaN</td>\n",
              "      <td>Absolutely wonderful - silky and sexy and comf...</td>\n",
              "      <td>4</td>\n",
              "      <td>1</td>\n",
              "      <td>0</td>\n",
              "      <td>Initmates</td>\n",
              "      <td>Intimate</td>\n",
              "      <td>Intimates</td>\n",
              "      <td>1530.474862</td>\n",
              "      <td>-0.998694</td>\n",
              "      <td>0.996412</td>\n",
              "      <td>1</td>\n",
              "    </tr>\n",
              "    <tr>\n",
              "      <th>1</th>\n",
              "      <td>1080</td>\n",
              "      <td>34</td>\n",
              "      <td>NaN</td>\n",
              "      <td>Love this dress!  it's sooo pretty.  i happene...</td>\n",
              "      <td>5</td>\n",
              "      <td>1</td>\n",
              "      <td>4</td>\n",
              "      <td>General</td>\n",
              "      <td>Dresses</td>\n",
              "      <td>Dresses</td>\n",
              "      <td>30.350995</td>\n",
              "      <td>-0.936206</td>\n",
              "      <td>0.828627</td>\n",
              "      <td>0</td>\n",
              "    </tr>\n",
              "    <tr>\n",
              "      <th>2</th>\n",
              "      <td>1077</td>\n",
              "      <td>60</td>\n",
              "      <td>Some major design flaws</td>\n",
              "      <td>I had such high hopes for this dress and reall...</td>\n",
              "      <td>3</td>\n",
              "      <td>0</td>\n",
              "      <td>0</td>\n",
              "      <td>General</td>\n",
              "      <td>Dresses</td>\n",
              "      <td>Dresses</td>\n",
              "      <td>20.565447</td>\n",
              "      <td>-0.907259</td>\n",
              "      <td>0.754575</td>\n",
              "      <td>0</td>\n",
              "    </tr>\n",
              "    <tr>\n",
              "      <th>3</th>\n",
              "      <td>1049</td>\n",
              "      <td>50</td>\n",
              "      <td>My favorite buy!</td>\n",
              "      <td>I love, love, love this jumpsuit. it's fun, fl...</td>\n",
              "      <td>5</td>\n",
              "      <td>1</td>\n",
              "      <td>0</td>\n",
              "      <td>General Petite</td>\n",
              "      <td>Bottoms</td>\n",
              "      <td>Pants</td>\n",
              "      <td>44.170108</td>\n",
              "      <td>-0.955723</td>\n",
              "      <td>0.879867</td>\n",
              "      <td>0</td>\n",
              "    </tr>\n",
              "    <tr>\n",
              "      <th>4</th>\n",
              "      <td>847</td>\n",
              "      <td>47</td>\n",
              "      <td>Flattering shirt</td>\n",
              "      <td>This shirt is very flattering to all due to th...</td>\n",
              "      <td>5</td>\n",
              "      <td>1</td>\n",
              "      <td>6</td>\n",
              "      <td>General</td>\n",
              "      <td>Tops</td>\n",
              "      <td>Blouses</td>\n",
              "      <td>15.558265</td>\n",
              "      <td>-0.879214</td>\n",
              "      <td>0.685050</td>\n",
              "      <td>0</td>\n",
              "    </tr>\n",
              "  </tbody>\n",
              "</table>\n",
              "</div>\n",
              "      <button class=\"colab-df-convert\" onclick=\"convertToInteractive('df-f6d80f18-54fc-4c0a-8eea-fa865e4c9565')\"\n",
              "              title=\"Convert this dataframe to an interactive table.\"\n",
              "              style=\"display:none;\">\n",
              "        \n",
              "  <svg xmlns=\"http://www.w3.org/2000/svg\" height=\"24px\"viewBox=\"0 0 24 24\"\n",
              "       width=\"24px\">\n",
              "    <path d=\"M0 0h24v24H0V0z\" fill=\"none\"/>\n",
              "    <path d=\"M18.56 5.44l.94 2.06.94-2.06 2.06-.94-2.06-.94-.94-2.06-.94 2.06-2.06.94zm-11 1L8.5 8.5l.94-2.06 2.06-.94-2.06-.94L8.5 2.5l-.94 2.06-2.06.94zm10 10l.94 2.06.94-2.06 2.06-.94-2.06-.94-.94-2.06-.94 2.06-2.06.94z\"/><path d=\"M17.41 7.96l-1.37-1.37c-.4-.4-.92-.59-1.43-.59-.52 0-1.04.2-1.43.59L10.3 9.45l-7.72 7.72c-.78.78-.78 2.05 0 2.83L4 21.41c.39.39.9.59 1.41.59.51 0 1.02-.2 1.41-.59l7.78-7.78 2.81-2.81c.8-.78.8-2.07 0-2.86zM5.41 20L4 18.59l7.72-7.72 1.47 1.35L5.41 20z\"/>\n",
              "  </svg>\n",
              "      </button>\n",
              "      \n",
              "  <style>\n",
              "    .colab-df-container {\n",
              "      display:flex;\n",
              "      flex-wrap:wrap;\n",
              "      gap: 12px;\n",
              "    }\n",
              "\n",
              "    .colab-df-convert {\n",
              "      background-color: #E8F0FE;\n",
              "      border: none;\n",
              "      border-radius: 50%;\n",
              "      cursor: pointer;\n",
              "      display: none;\n",
              "      fill: #1967D2;\n",
              "      height: 32px;\n",
              "      padding: 0 0 0 0;\n",
              "      width: 32px;\n",
              "    }\n",
              "\n",
              "    .colab-df-convert:hover {\n",
              "      background-color: #E2EBFA;\n",
              "      box-shadow: 0px 1px 2px rgba(60, 64, 67, 0.3), 0px 1px 3px 1px rgba(60, 64, 67, 0.15);\n",
              "      fill: #174EA6;\n",
              "    }\n",
              "\n",
              "    [theme=dark] .colab-df-convert {\n",
              "      background-color: #3B4455;\n",
              "      fill: #D2E3FC;\n",
              "    }\n",
              "\n",
              "    [theme=dark] .colab-df-convert:hover {\n",
              "      background-color: #434B5C;\n",
              "      box-shadow: 0px 1px 3px 1px rgba(0, 0, 0, 0.15);\n",
              "      filter: drop-shadow(0px 1px 2px rgba(0, 0, 0, 0.3));\n",
              "      fill: #FFFFFF;\n",
              "    }\n",
              "  </style>\n",
              "\n",
              "      <script>\n",
              "        const buttonEl =\n",
              "          document.querySelector('#df-f6d80f18-54fc-4c0a-8eea-fa865e4c9565 button.colab-df-convert');\n",
              "        buttonEl.style.display =\n",
              "          google.colab.kernel.accessAllowed ? 'block' : 'none';\n",
              "\n",
              "        async function convertToInteractive(key) {\n",
              "          const element = document.querySelector('#df-f6d80f18-54fc-4c0a-8eea-fa865e4c9565');\n",
              "          const dataTable =\n",
              "            await google.colab.kernel.invokeFunction('convertToInteractive',\n",
              "                                                     [key], {});\n",
              "          if (!dataTable) return;\n",
              "\n",
              "          const docLinkHtml = 'Like what you see? Visit the ' +\n",
              "            '<a target=\"_blank\" href=https://colab.research.google.com/notebooks/data_table.ipynb>data table notebook</a>'\n",
              "            + ' to learn more about interactive tables.';\n",
              "          element.innerHTML = '';\n",
              "          dataTable['output_type'] = 'display_data';\n",
              "          await google.colab.output.renderOutput(dataTable, element);\n",
              "          const docLink = document.createElement('div');\n",
              "          docLink.innerHTML = docLinkHtml;\n",
              "          element.appendChild(docLink);\n",
              "        }\n",
              "      </script>\n",
              "    </div>\n",
              "  </div>\n",
              "  "
            ]
          },
          "metadata": {},
          "execution_count": 22
        }
      ],
      "source": [
        "data_grouped['Trending'] = np.where(data_grouped['Rating Strength']>0.9, 1, 0)\n",
        "data_grouped.head()"
      ]
    },
    {
      "cell_type": "code",
      "execution_count": 23,
      "metadata": {
        "colab": {
          "base_uri": "https://localhost:8080/",
          "height": 293
        },
        "execution": {
          "iopub.execute_input": "2022-11-09T18:08:47.441814Z",
          "iopub.status.busy": "2022-11-09T18:08:47.441359Z",
          "iopub.status.idle": "2022-11-09T18:08:47.654168Z",
          "shell.execute_reply": "2022-11-09T18:08:47.653033Z",
          "shell.execute_reply.started": "2022-11-09T18:08:47.441772Z"
        },
        "id": "128AZ8aL53Lz",
        "outputId": "b152ae96-b7ba-4177-f2ae-189a60fc52d1"
      },
      "outputs": [
        {
          "output_type": "execute_result",
          "data": {
            "text/plain": [
              "Text(0, 0.5, 'Percentage of Apparel')"
            ]
          },
          "metadata": {},
          "execution_count": 23
        },
        {
          "output_type": "display_data",
          "data": {
            "text/plain": [
              "<Figure size 432x288 with 1 Axes>"
            ],
            "image/png": "[encoded data removed]"
          },
          "metadata": {
            "needs_background": "light"
          }
        }
      ],
      "source": [
        "fig = data_grouped['Trending'].value_counts(normalize=True).mul(100).round(2).plot.bar(color=['r', 'g'])\n",
        "plt.xlabel('Trending')\n",
        "plt.ylabel('Percentage of Apparel')"
      ]
    },
    {
      "cell_type": "code",
      "execution_count": 24,
      "metadata": {
        "execution": {
          "iopub.execute_input": "2022-11-09T18:08:47.656488Z",
          "iopub.status.busy": "2022-11-09T18:08:47.655804Z",
          "iopub.status.idle": "2022-11-09T18:08:47.671757Z",
          "shell.execute_reply": "2022-11-09T18:08:47.670984Z",
          "shell.execute_reply.started": "2022-11-09T18:08:47.656448Z"
        },
        "id": "06t81d6Y53Lz"
      },
      "outputs": [],
      "source": [
        "mean_ratings = data_grouped.groupby('Clothing ID')['Rating'].mean()\n",
        "sd_ratings = data_grouped.groupby('Clothing ID')['Rating'].std()\n",
        "\n",
        "mean_reco_IND = data_grouped.groupby('Clothing ID')['Recommended IND'].mean()\n",
        "sd_reco_IND = data_grouped.groupby('Clothing ID')['Recommended IND'].std()"
      ]
    },
    {
      "cell_type": "code",
      "execution_count": 25,
      "metadata": {
        "colab": {
          "base_uri": "https://localhost:8080/",
          "height": 259
        },
        "execution": {
          "iopub.execute_input": "2022-11-09T18:08:47.674924Z",
          "iopub.status.busy": "2022-11-09T18:08:47.674431Z",
          "iopub.status.idle": "2022-11-09T18:08:48.217049Z",
          "shell.execute_reply": "2022-11-09T18:08:48.215997Z",
          "shell.execute_reply.started": "2022-11-09T18:08:47.674886Z"
        },
        "id": "w222yrHu53Lz",
        "outputId": "53159513-47e0-443d-f3f5-871efb273ad7"
      },
      "outputs": [
        {
          "output_type": "display_data",
          "data": {
            "text/plain": [
              "<Figure size 864x288 with 3 Axes>"
            ],
            "image/png": "[encoded data removed]"
          },
          "metadata": {
            "needs_background": "light"
          }
        }
      ],
      "source": [
        "fig, [ax1, ax2, ax3] = plt.subplots(nrows = 1, ncols = 3, figsize = (12,4))\n",
        "\n",
        "ax1.scatter(mean_ratings, mean_reco_IND)\n",
        "ax1.set_xlabel('Average Rating')\n",
        "ax1.set_ylabel('Average Recommended IND')\n",
        "\n",
        "ax2.scatter(mean_ratings, sd_ratings)\n",
        "ax2.set_xlabel('Average Rating')\n",
        "ax2.set_ylabel('SD of Rating')\n",
        "\n",
        "ax3.scatter(mean_ratings, sd_reco_IND)\n",
        "ax3.set_xlabel('Average Rating')\n",
        "ax3.set_ylabel('SD of Recommended IND')\n",
        "\n",
        "fig.tight_layout(pad = 3)\n",
        "plt.show()"
      ]
    },
    {
      "cell_type": "code",
      "execution_count": 26,
      "metadata": {
        "colab": {
          "base_uri": "https://localhost:8080/",
          "height": 279
        },
        "execution": {
          "iopub.execute_input": "2022-11-09T18:08:48.220338Z",
          "iopub.status.busy": "2022-11-09T18:08:48.218517Z",
          "iopub.status.idle": "2022-11-09T18:08:48.540122Z",
          "shell.execute_reply": "2022-11-09T18:08:48.538993Z",
          "shell.execute_reply.started": "2022-11-09T18:08:48.220281Z"
        },
        "id": "nmFd4hV_53Lz",
        "outputId": "65c269c6-848a-4165-b529-368e54bb15f5"
      },
      "outputs": [
        {
          "output_type": "display_data",
          "data": {
            "text/plain": [
              "<Figure size 432x288 with 1 Axes>"
            ],
            "image/png": "[encoded data removed]"
          },
          "metadata": {
            "needs_background": "light"
          }
        }
      ],
      "source": [
        "plt.hist(mean_ratings, bins=4)\n",
        "plt.xlim((1,5))\n",
        "plt.xticks(np.arange(1,6, step=1))\n",
        "plt.xlabel('Rating')\n",
        "plt.ylabel('Count of Apparel')\n",
        "plt.show()"
      ]
    },
    {
      "cell_type": "markdown",
      "metadata": {
        "id": "CBt9tS-b53Lz"
      },
      "source": [
        "# Splitting Dataset"
      ]
    },
    {
      "cell_type": "code",
      "execution_count": 27,
      "metadata": {
        "execution": {
          "iopub.execute_input": "2022-11-09T18:09:47.482273Z",
          "iopub.status.busy": "2022-11-09T18:09:47.481672Z",
          "iopub.status.idle": "2022-11-09T18:09:47.499676Z",
          "shell.execute_reply": "2022-11-09T18:09:47.498474Z",
          "shell.execute_reply.started": "2022-11-09T18:09:47.482229Z"
        },
        "id": "1_FM3vub53Lz"
      },
      "outputs": [],
      "source": [
        "X_train, X_test, y_train, y_test = train_test_split(data_grouped[[\"Review Text\"]], data_grouped[\"Trending\"], test_size=0.2, random_state=42)"
      ]
    },
    {
      "cell_type": "markdown",
      "metadata": {
        "id": "JocP_A7853Lz"
      },
      "source": [
        "# Preprocess Corpus"
      ]
    },
    {
      "cell_type": "code",
      "execution_count": 28,
      "metadata": {
        "execution": {
          "iopub.execute_input": "2022-11-09T18:09:47.502410Z",
          "iopub.status.busy": "2022-11-09T18:09:47.501656Z",
          "iopub.status.idle": "2022-11-09T18:09:47.508106Z",
          "shell.execute_reply": "2022-11-09T18:09:47.506934Z",
          "shell.execute_reply.started": "2022-11-09T18:09:47.502366Z"
        },
        "id": "kqWT1Bw453L0"
      },
      "outputs": [],
      "source": [
        "# Remove punctuations\n",
        "\n",
        "def remove_punctuation(text):\n",
        "    return \"\".join([x for x in text if x not in string.punctuation])"
      ]
    },
    {
      "cell_type": "code",
      "execution_count": 29,
      "metadata": {
        "execution": {
          "iopub.execute_input": "2022-11-09T18:09:47.510537Z",
          "iopub.status.busy": "2022-11-09T18:09:47.509793Z",
          "iopub.status.idle": "2022-11-09T18:09:47.519912Z",
          "shell.execute_reply": "2022-11-09T18:09:47.518716Z",
          "shell.execute_reply.started": "2022-11-09T18:09:47.510494Z"
        },
        "id": "YeGe6m9b53L0"
      },
      "outputs": [],
      "source": [
        "# Tokenization\n",
        "\n",
        "def tokenize_data(text): \n",
        "    return nltk.word_tokenize(text.lower())\n"
      ]
    },
    {
      "cell_type": "code",
      "execution_count": 30,
      "metadata": {
        "execution": {
          "iopub.execute_input": "2022-11-09T18:09:47.524312Z",
          "iopub.status.busy": "2022-11-09T18:09:47.523452Z",
          "iopub.status.idle": "2022-11-09T18:09:47.530892Z",
          "shell.execute_reply": "2022-11-09T18:09:47.529503Z",
          "shell.execute_reply.started": "2022-11-09T18:09:47.524225Z"
        },
        "id": "BCWlVR8P53L0"
      },
      "outputs": [],
      "source": [
        "# Remove stopwords\n",
        "\n",
        "def remove_stopwords(tokens):\n",
        "    stopwords = nltk.corpus.stopwords.words('english')\n",
        "    return [word for word in tokens if word not in stopwords]\n"
      ]
    },
    {
      "cell_type": "code",
      "execution_count": 31,
      "metadata": {
        "execution": {
          "iopub.execute_input": "2022-11-09T18:09:47.533800Z",
          "iopub.status.busy": "2022-11-09T18:09:47.532348Z",
          "iopub.status.idle": "2022-11-09T18:09:47.542030Z",
          "shell.execute_reply": "2022-11-09T18:09:47.541052Z",
          "shell.execute_reply.started": "2022-11-09T18:09:47.533761Z"
        },
        "id": "Q7LjDFCh53L0"
      },
      "outputs": [],
      "source": [
        "# Lemmatization\n",
        "\n",
        "def lemmatize_tokens(tokens):\n",
        "    lemmatizer = WordNetLemmatizer()\n",
        "    return [lemmatizer.lemmatize(word) for word in tokens]\n",
        "    "
      ]
    },
    {
      "cell_type": "code",
      "execution_count": 32,
      "metadata": {
        "execution": {
          "iopub.execute_input": "2022-11-09T18:09:47.544806Z",
          "iopub.status.busy": "2022-11-09T18:09:47.543921Z",
          "iopub.status.idle": "2022-11-09T18:09:47.552471Z",
          "shell.execute_reply": "2022-11-09T18:09:47.551326Z",
          "shell.execute_reply.started": "2022-11-09T18:09:47.544758Z"
        },
        "id": "yS4n3cw753L0"
      },
      "outputs": [],
      "source": [
        "# Stemming\n",
        "\n",
        "def stem_tokens(tokens):\n",
        "    ps = PorterStemmer()\n",
        "    return [ps.stem(word) for word in tokens]\n"
      ]
    },
    {
      "cell_type": "code",
      "execution_count": 33,
      "metadata": {
        "execution": {
          "iopub.execute_input": "2022-11-09T18:09:47.555089Z",
          "iopub.status.busy": "2022-11-09T18:09:47.554301Z",
          "iopub.status.idle": "2022-11-09T18:09:47.564102Z",
          "shell.execute_reply": "2022-11-09T18:09:47.562905Z",
          "shell.execute_reply.started": "2022-11-09T18:09:47.555029Z"
        },
        "id": "yum4ydJ153L0"
      },
      "outputs": [],
      "source": [
        "# POS Tagging\n",
        "\n",
        "def pos_tagging(tokens):\n",
        "    pos = pos_tag(tokens)\n",
        "    return [\"_\".join(x) for x in pos]"
      ]
    },
    {
      "cell_type": "code",
      "execution_count": 34,
      "metadata": {
        "execution": {
          "iopub.execute_input": "2022-11-09T18:09:47.566707Z",
          "iopub.status.busy": "2022-11-09T18:09:47.565902Z",
          "iopub.status.idle": "2022-11-09T18:09:47.574719Z",
          "shell.execute_reply": "2022-11-09T18:09:47.573986Z",
          "shell.execute_reply.started": "2022-11-09T18:09:47.566669Z"
        },
        "id": "6JZJZ7EG53L1"
      },
      "outputs": [],
      "source": [
        "def preprocess_corpus(data):\n",
        "    # without punctuation\n",
        "    data[\"Processed Text\"] = data['Review Text'].apply(lambda x: remove_punctuation(x))\n",
        "    data[\"Tokens\"] = data[\"Processed Text\"].apply(lambda x: tokenize_data(x))    \n",
        "    data[\"Tokens\"] = data[\"Tokens\"].apply(lambda x: remove_stopwords(x))\n",
        "    data[\"Tokens\"] = data[\"Tokens\"].apply(lambda x: lemmatize_tokens(x))\n",
        "    data[\"Tokens\"] = data[\"Tokens\"].apply(lambda x: pos_tagging(x))\n",
        "    return data"
      ]
    },
    {
      "cell_type": "code",
      "execution_count": 35,
      "metadata": {
        "execution": {
          "iopub.execute_input": "2022-11-09T18:09:47.577677Z",
          "iopub.status.busy": "2022-11-09T18:09:47.576670Z",
          "iopub.status.idle": "2022-11-09T18:10:55.496949Z",
          "shell.execute_reply": "2022-11-09T18:10:55.495616Z",
          "shell.execute_reply.started": "2022-11-09T18:09:47.577637Z"
        },
        "id": "HfsZnD1r53L1"
      },
      "outputs": [],
      "source": [
        "X_train = preprocess_corpus(X_train)\n",
        "X_test = preprocess_corpus(X_test)"
      ]
    },
    {
      "cell_type": "markdown",
      "metadata": {
        "id": "gfqGZczw53L1"
      },
      "source": [
        "# Feature Extraction"
      ]
    },
    {
      "cell_type": "code",
      "execution_count": 36,
      "metadata": {
        "execution": {
          "iopub.execute_input": "2022-11-09T18:10:55.502431Z",
          "iopub.status.busy": "2022-11-09T18:10:55.502066Z",
          "iopub.status.idle": "2022-11-09T18:10:55.999456Z",
          "shell.execute_reply": "2022-11-09T18:10:55.998265Z",
          "shell.execute_reply.started": "2022-11-09T18:10:55.502385Z"
        },
        "id": "47Ns_0at53L1"
      },
      "outputs": [],
      "source": [
        "# TfidfVectorizer (Word Level)\n",
        "\n",
        "def dummy_func(doc):\n",
        "    return doc\n",
        "\n",
        "tfidf = TfidfVectorizer(\n",
        "    analyzer='word',\n",
        "    tokenizer=dummy_func,\n",
        "    preprocessor=dummy_func,\n",
        "    token_pattern=None)\n",
        "\n",
        "tfidf_X_train = tfidf.fit_transform(X_train['Tokens'])\n",
        "tfidf_X_test = tfidf.transform(X_test['Tokens'])"
      ]
    },
    {
      "cell_type": "markdown",
      "metadata": {
        "id": "UivXZFFO53L1"
      },
      "source": [
        "# Helper Functions"
      ]
    },
    {
      "cell_type": "code",
      "execution_count": 37,
      "metadata": {
        "execution": {
          "iopub.execute_input": "2022-11-09T18:10:56.001895Z",
          "iopub.status.busy": "2022-11-09T18:10:56.001414Z",
          "iopub.status.idle": "2022-11-09T18:10:56.009261Z",
          "shell.execute_reply": "2022-11-09T18:10:56.008041Z",
          "shell.execute_reply.started": "2022-11-09T18:10:56.001835Z"
        },
        "id": "mVepuOvO53L1"
      },
      "outputs": [],
      "source": [
        "# Function to evaluate predicition\n",
        "\n",
        "def eval_preds(y_true, y_pred):\n",
        "    accuracy = accuracy_score(y_true, y_pred)\n",
        "    precision = precision_score(y_true, y_pred, zero_division=0)\n",
        "    recall = recall_score(y_true, y_pred, zero_division=0)\n",
        "    fbeta = fbeta_score(y_true, y_pred, beta=0.5, zero_division=0)\n",
        "    print(\"Accuracy: {:.3f} \\nPrecision: {:.3f} \\nRecall: {:.3f} \\nFbeta-score: {:.3f} \\n\".format(accuracy, precision, recall, fbeta))"
      ]
    },
    {
      "cell_type": "code",
      "execution_count": 38,
      "metadata": {
        "execution": {
          "iopub.execute_input": "2022-11-09T18:54:58.333502Z",
          "iopub.status.busy": "2022-11-09T18:54:58.333093Z",
          "iopub.status.idle": "2022-11-09T18:54:58.347035Z",
          "shell.execute_reply": "2022-11-09T18:54:58.346047Z",
          "shell.execute_reply.started": "2022-11-09T18:54:58.333468Z"
        },
        "id": "hPqSpEW053L1"
      },
      "outputs": [],
      "source": [
        "# Function to evaluate classifier\n",
        "\n",
        "global_threshold = 0.5\n",
        "\n",
        "def evaluate_clf(clf, X, y, threshold):\n",
        "    \n",
        "    y_scores = clf.predict_proba(X)[:, 1]\n",
        "    y_pred = (y_scores >= threshold).astype(int)\n",
        "    \n",
        "    # Classification report\n",
        "    eval_preds(y, y_pred)\n",
        "\n",
        "def get_optimal_threshold(clf, X, y, threshold):\n",
        "    \n",
        "    y_scores = clf.predict_proba(X)[:, 1]\n",
        "    y_pred = (y_scores >= threshold).astype(int)\n",
        "    \n",
        "    eval_preds(y, y_pred)\n",
        "    \n",
        "    thresholds = [0.5, 0.6, 0.7, 0.8, 0.9]\n",
        "    \n",
        "    # Convert to F_beta score\n",
        "    beta_2 = 0.5 ** 2\n",
        "    fscore = 0\n",
        "    result = 0\n",
        "    for thres in thresholds:\n",
        "        temp_preds = (y_scores >= thres).astype(int)\n",
        "        precision = precision_score(y, temp_preds)\n",
        "        recall = recall_score(y, temp_preds)\n",
        "        temp_score = ((1 + beta_2) * precision * recall) / (beta_2 * precision + recall)\n",
        "        if temp_score > fscore:\n",
        "            fscore = temp_score\n",
        "            result = thres\n",
        "    return result, fscore"
      ]
    },
    {
      "cell_type": "markdown",
      "metadata": {
        "id": "IDYnUNJg53L2"
      },
      "source": [
        "# Base Models Training and Evaluation"
      ]
    },
    {
      "cell_type": "markdown",
      "metadata": {
        "id": "ayir6Vd-53L2"
      },
      "source": [
        "**Logistic Regression Classifier**"
      ]
    },
    {
      "cell_type": "code",
      "execution_count": 39,
      "metadata": {
        "colab": {
          "base_uri": "https://localhost:8080/"
        },
        "execution": {
          "iopub.execute_input": "2022-11-09T18:10:56.029350Z",
          "iopub.status.busy": "2022-11-09T18:10:56.028924Z",
          "iopub.status.idle": "2022-11-09T18:10:57.279636Z",
          "shell.execute_reply": "2022-11-09T18:10:57.278078Z",
          "shell.execute_reply.started": "2022-11-09T18:10:56.029312Z"
        },
        "id": "b-24piEC53L2",
        "outputId": "011a7fe0-6bb8-4804-cb41-2eaed8272d42"
      },
      "outputs": [
        {
          "output_type": "execute_result",
          "data": {
            "text/plain": [
              "LogisticRegression()"
            ]
          },
          "metadata": {},
          "execution_count": 39
        }
      ],
      "source": [
        "# Training Logistic Regression Classifier\n",
        "\n",
        "LR_clf = LogisticRegression()\n",
        "\n",
        "LR_clf.fit(tfidf_X_train, y_train)"
      ]
    },
    {
      "cell_type": "code",
      "execution_count": 40,
      "metadata": {
        "id": "UVIk39r89-Yy",
        "outputId": "ff3c381e-61a0-4e20-a20a-5e6a2dabebd0",
        "colab": {
          "base_uri": "https://localhost:8080/"
        }
      },
      "outputs": [
        {
          "output_type": "stream",
          "name": "stdout",
          "text": [
            "Accuracy: 0.869 \n",
            "Precision: 0.894 \n",
            "Recall: 0.088 \n",
            "Fbeta-score: 0.317 \n",
            "\n"
          ]
        }
      ],
      "source": [
        "# Evaluating Logistic Regression Classifier using train data\n",
        "\n",
        "evaluate_clf(LR_clf, tfidf_X_train, y_train, global_threshold)"
      ]
    },
    {
      "cell_type": "markdown",
      "metadata": {
        "id": "r2BvyVsi53L2"
      },
      "source": [
        "**Support Vector Classifier**"
      ]
    },
    {
      "cell_type": "code",
      "execution_count": 41,
      "metadata": {
        "colab": {
          "base_uri": "https://localhost:8080/"
        },
        "execution": {
          "iopub.execute_input": "2022-11-09T18:10:57.397176Z",
          "iopub.status.busy": "2022-11-09T18:10:57.396695Z",
          "iopub.status.idle": "2022-11-09T18:26:40.615912Z",
          "shell.execute_reply": "2022-11-09T18:26:40.614977Z",
          "shell.execute_reply.started": "2022-11-09T18:10:57.397133Z"
        },
        "id": "BzFWUKhH53L2",
        "outputId": "5fe5748c-6e54-4a00-8b2e-3c9521d13837"
      },
      "outputs": [
        {
          "output_type": "execute_result",
          "data": {
            "text/plain": [
              "SVC(probability=True)"
            ]
          },
          "metadata": {},
          "execution_count": 41
        }
      ],
      "source": [
        "# Training Support Vector Classifier\n",
        "\n",
        "SVC_clf = SVC(probability=True)\n",
        "\n",
        "SVC_clf.fit(tfidf_X_train, y_train)"
      ]
    },
    {
      "cell_type": "code",
      "execution_count": 42,
      "metadata": {
        "id": "AuzFqQR79-Yz",
        "outputId": "7e78466e-bd9e-4ab0-81fa-beb63291c979",
        "colab": {
          "base_uri": "https://localhost:8080/"
        }
      },
      "outputs": [
        {
          "output_type": "stream",
          "name": "stdout",
          "text": [
            "Accuracy: 0.995 \n",
            "Precision: 0.997 \n",
            "Recall: 0.969 \n",
            "Fbeta-score: 0.991 \n",
            "\n"
          ]
        }
      ],
      "source": [
        "# Evaluating Support Vector Classifier using train data\n",
        "\n",
        "evaluate_clf(SVC_clf, tfidf_X_train, y_train, global_threshold)"
      ]
    },
    {
      "cell_type": "markdown",
      "metadata": {
        "id": "wLfi0QLT53L3"
      },
      "source": [
        "**Random Forest Classifier**"
      ]
    },
    {
      "cell_type": "code",
      "execution_count": 43,
      "metadata": {
        "colab": {
          "base_uri": "https://localhost:8080/"
        },
        "execution": {
          "iopub.execute_input": "2022-11-09T18:27:52.816292Z",
          "iopub.status.busy": "2022-11-09T18:27:52.813309Z",
          "iopub.status.idle": "2022-11-09T18:28:15.246673Z",
          "shell.execute_reply": "2022-11-09T18:28:15.245519Z",
          "shell.execute_reply.started": "2022-11-09T18:27:52.816246Z"
        },
        "id": "ENJeqmdF53L3",
        "outputId": "3c1e1756-46bf-4151-9630-fc055c228580"
      },
      "outputs": [
        {
          "output_type": "execute_result",
          "data": {
            "text/plain": [
              "RandomForestClassifier()"
            ]
          },
          "metadata": {},
          "execution_count": 43
        }
      ],
      "source": [
        "# Training Random Forest Classifier\n",
        "\n",
        "RF_clf = RandomForestClassifier()\n",
        "\n",
        "RF_clf.fit(tfidf_X_train, y_train)"
      ]
    },
    {
      "cell_type": "code",
      "execution_count": 44,
      "metadata": {
        "id": "-l_pV2cN9-Yz",
        "outputId": "d8065131-801a-420e-e1d9-fca74f3474d5",
        "colab": {
          "base_uri": "https://localhost:8080/"
        }
      },
      "outputs": [
        {
          "output_type": "stream",
          "name": "stdout",
          "text": [
            "Accuracy: 1.000 \n",
            "Precision: 1.000 \n",
            "Recall: 1.000 \n",
            "Fbeta-score: 1.000 \n",
            "\n"
          ]
        }
      ],
      "source": [
        "# Evaluating Random Forest Classifier using train data\n",
        "\n",
        "evaluate_clf(RF_clf, tfidf_X_train, y_train, global_threshold)"
      ]
    },
    {
      "cell_type": "markdown",
      "metadata": {
        "id": "jLyXDEWU53L3"
      },
      "source": [
        "**Multinomial Naive Bayes Classifier**"
      ]
    },
    {
      "cell_type": "code",
      "execution_count": 45,
      "metadata": {
        "colab": {
          "base_uri": "https://localhost:8080/"
        },
        "execution": {
          "iopub.execute_input": "2022-11-09T18:28:17.543043Z",
          "iopub.status.busy": "2022-11-09T18:28:17.542242Z",
          "iopub.status.idle": "2022-11-09T18:28:17.561737Z",
          "shell.execute_reply": "2022-11-09T18:28:17.559979Z",
          "shell.execute_reply.started": "2022-11-09T18:28:17.542981Z"
        },
        "id": "sVO1i1yR53L3",
        "outputId": "f3d1f2ca-4ca6-407c-bb7f-e68f14429861"
      },
      "outputs": [
        {
          "output_type": "execute_result",
          "data": {
            "text/plain": [
              "MultinomialNB()"
            ]
          },
          "metadata": {},
          "execution_count": 45
        }
      ],
      "source": [
        "# Training Multinomial Naive Bayes Classifier\n",
        "\n",
        "MNB_clf = MultinomialNB()\n",
        "\n",
        "MNB_clf.fit(tfidf_X_train, y_train)"
      ]
    },
    {
      "cell_type": "code",
      "execution_count": 46,
      "metadata": {
        "id": "wJe7zqqC9-Yz",
        "outputId": "646d09a2-62b1-4dec-e072-eb533c8f5d7d",
        "colab": {
          "base_uri": "https://localhost:8080/"
        }
      },
      "outputs": [
        {
          "output_type": "stream",
          "name": "stdout",
          "text": [
            "Accuracy: 0.858 \n",
            "Precision: 1.000 \n",
            "Recall: 0.002 \n",
            "Fbeta-score: 0.008 \n",
            "\n"
          ]
        }
      ],
      "source": [
        "# Evaluating Multinomial Naive Bayes Classifier using train data\n",
        "\n",
        "evaluate_clf(MNB_clf, tfidf_X_train, y_train, global_threshold)"
      ]
    },
    {
      "cell_type": "markdown",
      "metadata": {
        "id": "cy0SS_rI53L3"
      },
      "source": [
        "# GridSearchCV"
      ]
    },
    {
      "cell_type": "code",
      "execution_count": 47,
      "metadata": {
        "execution": {
          "iopub.execute_input": "2022-11-09T18:28:17.611505Z",
          "iopub.status.busy": "2022-11-09T18:28:17.611047Z",
          "iopub.status.idle": "2022-11-09T18:28:17.620601Z",
          "shell.execute_reply": "2022-11-09T18:28:17.619045Z",
          "shell.execute_reply.started": "2022-11-09T18:28:17.611461Z"
        },
        "id": "zAoFMF1p53L3"
      },
      "outputs": [],
      "source": [
        "# Helper function\n",
        "\n",
        "def grid_search_helper(clf, grid):\n",
        "    cv = RepeatedStratifiedKFold(n_splits=5, n_repeats=2, random_state=1)\n",
        "    grid_search = GridSearchCV(estimator=clf, param_grid=grid, n_jobs=-1, cv=cv, scoring='f1',error_score=0)\n",
        "    grid_result = grid_search.fit(tfidf_X_train, y_train)\n",
        "    # summarize results\n",
        "    print(\"Best: %f using %s\" % (grid_result.best_score_, grid_result.best_params_))\n",
        "    means = grid_result.cv_results_['mean_test_score']\n",
        "    stds = grid_result.cv_results_['std_test_score']\n",
        "    params = grid_result.cv_results_['params']\n",
        "    for mean, stdev, param in zip(means, stds, params):\n",
        "        print(\"%f (%f) with: %r\" % (mean, stdev, param))"
      ]
    },
    {
      "cell_type": "code",
      "execution_count": 48,
      "metadata": {
        "execution": {
          "iopub.execute_input": "2022-11-09T18:28:17.623748Z",
          "iopub.status.busy": "2022-11-09T18:28:17.622764Z",
          "iopub.status.idle": "2022-11-09T18:28:17.632556Z",
          "shell.execute_reply": "2022-11-09T18:28:17.631164Z",
          "shell.execute_reply.started": "2022-11-09T18:28:17.623704Z"
        },
        "id": "1iAXM_Xk53L3"
      },
      "outputs": [],
      "source": [
        "# LR_clf = LogisticRegression(max_iter=1000)\n",
        "\n",
        "# solvers = ['newton-cg', 'lbfgs', 'liblinear']\n",
        "# penalty = ['l2']\n",
        "# C = [100, 10, 1.0, 0.1, 0.01]\n",
        "\n",
        "# grid = dict(solver=solvers, penalty=penalty, C=C)\n",
        "# grid_search_helper(LR_clf, grid)"
      ]
    },
    {
      "cell_type": "markdown",
      "metadata": {
        "id": "8Ly2xjsz53L4"
      },
      "source": [
        "Best: 0.271227 using {'C': 100, 'penalty': 'l2', 'solver': 'lbfgs'}\n",
        "* 0.271032 (0.023276) with: {'C': 100, 'penalty': 'l2', 'solver': 'newton-cg'}\n",
        "* 0.271227 (0.023269) with: {'C': 100, 'penalty': 'l2', 'solver': 'lbfgs'}\n",
        "* 0.270649 (0.023180) with: {'C': 100, 'penalty': 'l2', 'solver': 'liblinear'}\n",
        "* 0.235928 (0.021770) with: {'C': 10, 'penalty': 'l2', 'solver': 'newton-cg'}\n",
        "* 0.235928 (0.021770) with: {'C': 10, 'penalty': 'l2', 'solver': 'lbfgs'}\n",
        "* 0.236182 (0.021705) with: {'C': 10, 'penalty': 'l2', 'solver': 'liblinear'}\n",
        "* 0.065401 (0.013955) with: {'C': 1.0, 'penalty': 'l2', 'solver': 'newton-cg'}\n",
        "* 0.065412 (0.013952) with: {'C': 1.0, 'penalty': 'l2', 'solver': 'lbfgs'}\n",
        "* 0.065401 (0.013955) with: {'C': 1.0, 'penalty': 'l2', 'solver': 'liblinear'}\n",
        "* 0.000000 (0.000000) with: {'C': 0.1, 'penalty': 'l2', 'solver': 'newton-cg'}\n",
        "* 0.000000 (0.000000) with: {'C': 0.1, 'penalty': 'l2', 'solver': 'lbfgs'}\n",
        "* 0.000000 (0.000000) with: {'C': 0.1, 'penalty': 'l2', 'solver': 'liblinear'}\n",
        "* 0.000000 (0.000000) with: {'C': 0.01, 'penalty': 'l2', 'solver': 'newton-cg'}\n",
        "* 0.000000 (0.000000) with: {'C': 0.01, 'penalty': 'l2', 'solver': 'lbfgs'}\n",
        "* 0.000000 (0.000000) with: {'C': 0.01, 'penalty': 'l2', 'solver': 'liblinear'}"
      ]
    },
    {
      "cell_type": "code",
      "execution_count": 49,
      "metadata": {
        "execution": {
          "iopub.execute_input": "2022-11-09T18:28:17.634916Z",
          "iopub.status.busy": "2022-11-09T18:28:17.634522Z",
          "iopub.status.idle": "2022-11-09T18:28:17.643675Z",
          "shell.execute_reply": "2022-11-09T18:28:17.642369Z",
          "shell.execute_reply.started": "2022-11-09T18:28:17.634878Z"
        },
        "id": "wTJB1oN453L4"
      },
      "outputs": [],
      "source": [
        "# SVC_clf = SVC()\n",
        "\n",
        "# kernel = ['poly', 'rbf', 'sigmoid']\n",
        "# C = [50, 10, 1.0, 0.1, 0.01]\n",
        "# gamma = ['scale']\n",
        "\n",
        "# grid = dict(kernel=kernel,C=C,gamma=gamma)\n",
        "\n",
        "# grid_search_helper(SVC_clf, grid)\n"
      ]
    },
    {
      "cell_type": "markdown",
      "metadata": {
        "id": "Hmx8inSF53L4"
      },
      "source": [
        "Best: 0.272116 using {'C': 50, 'gamma': 'scale', 'kernel': 'sigmoid'}\n",
        "* 0.009999 (0.004593) with: {'C': 50, 'gamma': 'scale', 'kernel': 'poly'}\n",
        "* 0.137425 (0.017700) with: {'C': 50, 'gamma': 'scale', 'kernel': 'rbf'}\n",
        "* 0.272116 (0.019102) with: {'C': 50, 'gamma': 'scale', 'kernel': 'sigmoid'}\n",
        "* 0.009999 (0.004593) with: {'C': 10, 'gamma': 'scale', 'kernel': 'poly'}\n",
        "* 0.137139 (0.017360) with: {'C': 10, 'gamma': 'scale', 'kernel': 'rbf'}\n",
        "* 0.270971 (0.026004) with: {'C': 10, 'gamma': 'scale', 'kernel': 'sigmoid'}\n",
        "* 0.004629 (0.004809) with: {'C': 1.0, 'gamma': 'scale', 'kernel': 'poly'}\n",
        "* 0.038832 (0.007814) with: {'C': 1.0, 'gamma': 'scale', 'kernel': 'rbf'}\n",
        "* 0.082538 (0.015982) with: {'C': 1.0, 'gamma': 'scale', 'kernel': 'sigmoid'}\n",
        "* 0.000000 (0.000000) with: {'C': 0.1, 'gamma': 'scale', 'kernel': 'poly'}\n",
        "* 0.000000 (0.000000) with: {'C': 0.1, 'gamma': 'scale', 'kernel': 'rbf'}\n",
        "* 0.000000 (0.000000) with: {'C': 0.1, 'gamma': 'scale', 'kernel': 'sigmoid'}\n",
        "* 0.000000 (0.000000) with: {'C': 0.01, 'gamma': 'scale', 'kernel': 'poly'}\n",
        "* 0.000000 (0.000000) with: {'C': 0.01, 'gamma': 'scale', 'kernel': 'rbf'}\n",
        "* 0.000000 (0.000000) with: {'C': 0.01, 'gamma': 'scale', 'kernel': 'sigmoid'}"
      ]
    },
    {
      "cell_type": "code",
      "execution_count": 50,
      "metadata": {
        "execution": {
          "iopub.execute_input": "2022-11-09T18:28:17.646849Z",
          "iopub.status.busy": "2022-11-09T18:28:17.645668Z",
          "iopub.status.idle": "2022-11-09T18:28:17.655066Z",
          "shell.execute_reply": "2022-11-09T18:28:17.653882Z",
          "shell.execute_reply.started": "2022-11-09T18:28:17.646806Z"
        },
        "id": "bgkTqg3V53L4"
      },
      "outputs": [],
      "source": [
        "# RF_clf = RandomForestClassifier()\n",
        "\n",
        "# n_estimators = [10, 100, 1000]\n",
        "# max_features = ['sqrt', 'log2']\n",
        "\n",
        "# grid = dict(n_estimators=n_estimators,max_features=max_features)\n",
        "\n",
        "# grid_search_helper(RF_clf, grid)"
      ]
    },
    {
      "cell_type": "markdown",
      "metadata": {
        "id": "M_BPx1Uf53L4"
      },
      "source": [
        "Best: 0.076202 using {'max_features': 'sqrt', 'n_estimators': 10}\n",
        "* 0.076202 (0.020912) with: {'max_features': 'sqrt', 'n_estimators': 10}\n",
        "* 0.067104 (0.010694) with: {'max_features': 'sqrt', 'n_estimators': 100}\n",
        "* 0.063821 (0.009840) with: {'max_features': 'sqrt', 'n_estimators': 1000}\n",
        "* 0.016658 (0.009861) with: {'max_features': 'log2', 'n_estimators': 10}\n",
        "* 0.005017 (0.003876) with: {'max_features': 'log2', 'n_estimators': 100}\n",
        "* 0.004628 (0.004151) with: {'max_features': 'log2', 'n_estimators': 1000}"
      ]
    },
    {
      "cell_type": "code",
      "execution_count": 51,
      "metadata": {
        "execution": {
          "iopub.execute_input": "2022-11-09T18:28:17.657808Z",
          "iopub.status.busy": "2022-11-09T18:28:17.656965Z",
          "iopub.status.idle": "2022-11-09T18:28:17.665221Z",
          "shell.execute_reply": "2022-11-09T18:28:17.664365Z",
          "shell.execute_reply.started": "2022-11-09T18:28:17.657768Z"
        },
        "id": "YwFFe8Us53L4"
      },
      "outputs": [],
      "source": [
        "# MNB_clf = MultinomialNB()\n",
        "\n",
        "# alpha = [1, 0.1, 0.001, 0.0001]\n",
        "\n",
        "# grid = dict(alpha=alpha)\n",
        "\n",
        "# grid_search_helper(MNB_clf, grid)"
      ]
    },
    {
      "cell_type": "markdown",
      "metadata": {
        "id": "9CVeZ9H953L4"
      },
      "source": [
        "Best: 0.132958 using {'alpha': 0.001}\n",
        "* 0.000000 (0.000000) with: {'alpha': 1}\n",
        "* 0.089500 (0.010002) with: {'alpha': 0.1}\n",
        "* 0.132958 (0.019463) with: {'alpha': 0.001}\n",
        "* 0.127536 (0.018160) with: {'alpha': 0.0001}"
      ]
    },
    {
      "cell_type": "markdown",
      "metadata": {
        "id": "zDftgBNP53L4"
      },
      "source": [
        "# Model Tuning"
      ]
    },
    {
      "cell_type": "markdown",
      "metadata": {
        "id": "BP0nGIKk53L5"
      },
      "source": [
        "**Logistic Regression Classifier**"
      ]
    },
    {
      "cell_type": "code",
      "execution_count": 52,
      "metadata": {
        "colab": {
          "base_uri": "https://localhost:8080/"
        },
        "execution": {
          "iopub.execute_input": "2022-11-09T18:28:17.667675Z",
          "iopub.status.busy": "2022-11-09T18:28:17.667194Z",
          "iopub.status.idle": "2022-11-09T18:28:25.263713Z",
          "shell.execute_reply": "2022-11-09T18:28:25.261960Z",
          "shell.execute_reply.started": "2022-11-09T18:28:17.667636Z"
        },
        "id": "UYG7P7lg53L5",
        "outputId": "bce2e6fc-8769-415e-dd6f-f9f4bf54545a"
      },
      "outputs": [
        {
          "output_type": "execute_result",
          "data": {
            "text/plain": [
              "LogisticRegression(C=100, max_iter=1000)"
            ]
          },
          "metadata": {},
          "execution_count": 52
        }
      ],
      "source": [
        "# Training with optimal hyperparameters\n",
        "\n",
        "LR_clf_tuned = LogisticRegression(C=100, penalty='l2', solver='lbfgs', max_iter=1000)\n",
        "\n",
        "LR_clf_tuned.fit(tfidf_X_train, y_train)"
      ]
    },
    {
      "cell_type": "code",
      "execution_count": 53,
      "metadata": {
        "id": "CouULidy9-Y1",
        "outputId": "c2cec96f-56d1-471a-9a7b-6e7830416c0e",
        "colab": {
          "base_uri": "https://localhost:8080/"
        }
      },
      "outputs": [
        {
          "output_type": "stream",
          "name": "stdout",
          "text": [
            "Accuracy: 0.990 \n",
            "Precision: 0.991 \n",
            "Recall: 0.940 \n",
            "Fbeta-score: 0.980 \n",
            "\n",
            "Accuracy: 0.990 \n",
            "Precision: 0.991 \n",
            "Recall: 0.940 \n",
            "Fbeta-score: 0.980 \n",
            "\n",
            "0.5 0.9801308456505936\n"
          ]
        }
      ],
      "source": [
        "# Evaluating using train dataset and obtaining optimal threshold\n",
        "\n",
        "evaluate_clf(LR_clf_tuned, tfidf_X_train, y_train, global_threshold)\n",
        "optimal_threshold, fbeta = get_optimal_threshold(LR_clf_tuned, tfidf_X_train, y_train, global_threshold)\n",
        "print(optimal_threshold, fbeta)"
      ]
    },
    {
      "cell_type": "code",
      "execution_count": 54,
      "metadata": {
        "id": "BaVaimR_9-Y1",
        "outputId": "db6b594a-4fd9-4c48-92df-04b275f22441",
        "colab": {
          "base_uri": "https://localhost:8080/"
        }
      },
      "outputs": [
        {
          "output_type": "stream",
          "name": "stdout",
          "text": [
            "Accuracy: 0.831 \n",
            "Precision: 0.347 \n",
            "Recall: 0.259 \n",
            "Fbeta-score: 0.325 \n",
            "\n"
          ]
        }
      ],
      "source": [
        "# Evaluating on test dataset\n",
        "\n",
        "evaluate_clf(LR_clf_tuned, tfidf_X_test, y_test, optimal_threshold)"
      ]
    },
    {
      "cell_type": "markdown",
      "metadata": {
        "id": "3DDg4_P053L5"
      },
      "source": [
        "**Support Vector Classifier**"
      ]
    },
    {
      "cell_type": "code",
      "execution_count": 55,
      "metadata": {
        "colab": {
          "base_uri": "https://localhost:8080/"
        },
        "execution": {
          "iopub.execute_input": "2022-11-09T18:28:25.717609Z",
          "iopub.status.busy": "2022-11-09T18:28:25.717174Z",
          "iopub.status.idle": "2022-11-09T18:37:09.503526Z",
          "shell.execute_reply": "2022-11-09T18:37:09.502356Z",
          "shell.execute_reply.started": "2022-11-09T18:28:25.717569Z"
        },
        "id": "kCy1kQyC53L5",
        "outputId": "4a65f1ee-f83d-4ae9-c16a-c845a4f13ce3"
      },
      "outputs": [
        {
          "output_type": "execute_result",
          "data": {
            "text/plain": [
              "SVC(C=50, kernel='sigmoid', probability=True)"
            ]
          },
          "metadata": {},
          "execution_count": 55
        }
      ],
      "source": [
        "# Training with optimal hyperparameters\n",
        "\n",
        "SVC_clf_tuned = SVC(probability=True, C=50, gamma='scale', kernel='sigmoid')\n",
        "\n",
        "SVC_clf_tuned.fit(tfidf_X_train, y_train)"
      ]
    },
    {
      "cell_type": "code",
      "execution_count": 56,
      "metadata": {
        "id": "7mlH_AgS9-Y1",
        "outputId": "8c36bcd1-2faa-4efe-8179-09c623882aaa",
        "colab": {
          "base_uri": "https://localhost:8080/"
        }
      },
      "outputs": [
        {
          "output_type": "stream",
          "name": "stdout",
          "text": [
            "Accuracy: 0.857 \n",
            "Precision: 0.352 \n",
            "Recall: 0.007 \n",
            "Fbeta-score: 0.034 \n",
            "\n",
            "Accuracy: 0.857 \n",
            "Precision: 0.352 \n",
            "Recall: 0.007 \n",
            "Fbeta-score: 0.034 \n",
            "\n",
            "(0.5, 0.033964962459778335)\n"
          ]
        },
        {
          "output_type": "stream",
          "name": "stderr",
          "text": [
            "/usr/local/lib/python3.7/dist-packages/sklearn/metrics/_classification.py:1318: UndefinedMetricWarning: Precision is ill-defined and being set to 0.0 due to no predicted samples. Use `zero_division` parameter to control this behavior.\n",
            "  _warn_prf(average, modifier, msg_start, len(result))\n",
            "/usr/local/lib/python3.7/dist-packages/ipykernel_launcher.py:30: RuntimeWarning: invalid value encountered in double_scalars\n",
            "/usr/local/lib/python3.7/dist-packages/sklearn/metrics/_classification.py:1318: UndefinedMetricWarning: Precision is ill-defined and being set to 0.0 due to no predicted samples. Use `zero_division` parameter to control this behavior.\n",
            "  _warn_prf(average, modifier, msg_start, len(result))\n",
            "/usr/local/lib/python3.7/dist-packages/ipykernel_launcher.py:30: RuntimeWarning: invalid value encountered in double_scalars\n"
          ]
        }
      ],
      "source": [
        "# Evaluating using train dataset and obtaining optimal threshold\n",
        "\n",
        "evaluate_clf(SVC_clf_tuned, tfidf_X_train, y_train, global_threshold)\n",
        "optimal_threshold, fbeta = get_optimal_threshold(SVC_clf_tuned, tfidf_X_train, y_train, global_threshold)\n",
        "print((optimal_threshold, fbeta))"
      ]
    },
    {
      "cell_type": "code",
      "execution_count": 57,
      "metadata": {
        "id": "IBuwaVPK9-Y2",
        "outputId": "a9b1a93d-982d-41b3-910b-7eaa48826775",
        "colab": {
          "base_uri": "https://localhost:8080/"
        }
      },
      "outputs": [
        {
          "output_type": "stream",
          "name": "stdout",
          "text": [
            "Accuracy: 0.863 \n",
            "Precision: 0.556 \n",
            "Recall: 0.008 \n",
            "Fbeta-score: 0.038 \n",
            "\n"
          ]
        }
      ],
      "source": [
        "# Evaluating on test dataset\n",
        "\n",
        "evaluate_clf(SVC_clf_tuned, tfidf_X_test, y_test, optimal_threshold)"
      ]
    },
    {
      "cell_type": "markdown",
      "metadata": {
        "id": "9-wLHJaZ53L5"
      },
      "source": [
        "**Random Forest Classifier**"
      ]
    },
    {
      "cell_type": "code",
      "execution_count": 58,
      "metadata": {
        "colab": {
          "base_uri": "https://localhost:8080/"
        },
        "execution": {
          "iopub.execute_input": "2022-11-09T18:38:32.677819Z",
          "iopub.status.busy": "2022-11-09T18:38:32.677417Z",
          "iopub.status.idle": "2022-11-09T18:38:34.859166Z",
          "shell.execute_reply": "2022-11-09T18:38:34.854830Z",
          "shell.execute_reply.started": "2022-11-09T18:38:32.677779Z"
        },
        "id": "rR33UWVY53L5",
        "outputId": "7a00ef74-4e38-472f-f68e-74a644b31eb4"
      },
      "outputs": [
        {
          "output_type": "execute_result",
          "data": {
            "text/plain": [
              "RandomForestClassifier(max_features='sqrt', n_estimators=10)"
            ]
          },
          "metadata": {},
          "execution_count": 58
        }
      ],
      "source": [
        "# Training with optimal hyperparameters\n",
        "\n",
        "RF_clf_tuned = RandomForestClassifier(max_features='sqrt', n_estimators=10)\n",
        "\n",
        "RF_clf_tuned.fit(tfidf_X_train, y_train)"
      ]
    },
    {
      "cell_type": "code",
      "execution_count": 59,
      "metadata": {
        "id": "g9FBAKrO9-Y2",
        "outputId": "9d1b8a48-7a87-4552-cae7-d04f84f057a7",
        "colab": {
          "base_uri": "https://localhost:8080/"
        }
      },
      "outputs": [
        {
          "output_type": "stream",
          "name": "stdout",
          "text": [
            "Accuracy: 0.992 \n",
            "Precision: 0.997 \n",
            "Recall: 0.943 \n",
            "Fbeta-score: 0.986 \n",
            "\n",
            "Accuracy: 0.992 \n",
            "Precision: 0.997 \n",
            "Recall: 0.943 \n",
            "Fbeta-score: 0.986 \n",
            "\n",
            "(0.5, 0.9859097902664181)\n"
          ]
        }
      ],
      "source": [
        "# Evaluating using train dataset and obtaining optimal threshold\n",
        "\n",
        "evaluate_clf(RF_clf_tuned, tfidf_X_train, y_train, global_threshold)\n",
        "optimal_threshold, fbeta = get_optimal_threshold(RF_clf_tuned, tfidf_X_train, y_train, global_threshold)\n",
        "print((optimal_threshold, fbeta))"
      ]
    },
    {
      "cell_type": "code",
      "execution_count": 60,
      "metadata": {
        "id": "6jfxxzOi9-Y2",
        "outputId": "032fa805-4a7e-441b-b3cd-76ba846c579f",
        "colab": {
          "base_uri": "https://localhost:8080/"
        }
      },
      "outputs": [
        {
          "output_type": "stream",
          "name": "stdout",
          "text": [
            "Accuracy: 0.862 \n",
            "Precision: 0.480 \n",
            "Recall: 0.097 \n",
            "Fbeta-score: 0.268 \n",
            "\n"
          ]
        }
      ],
      "source": [
        "# Evaluating on test dataset\n",
        "\n",
        "evaluate_clf(RF_clf_tuned, tfidf_X_test, y_test, optimal_threshold)"
      ]
    },
    {
      "cell_type": "markdown",
      "metadata": {
        "id": "2iEO870053L6"
      },
      "source": [
        "**Multinomial Naive Bayes Classifier**"
      ]
    },
    {
      "cell_type": "code",
      "execution_count": 61,
      "metadata": {
        "colab": {
          "base_uri": "https://localhost:8080/"
        },
        "execution": {
          "iopub.execute_input": "2022-11-09T18:38:36.092593Z",
          "iopub.status.busy": "2022-11-09T18:38:36.092200Z",
          "iopub.status.idle": "2022-11-09T18:38:36.125689Z",
          "shell.execute_reply": "2022-11-09T18:38:36.124528Z",
          "shell.execute_reply.started": "2022-11-09T18:38:36.092556Z"
        },
        "id": "0-wQr5hV53L6",
        "outputId": "eeca076c-7b48-4982-86bf-373ba9456581"
      },
      "outputs": [
        {
          "output_type": "execute_result",
          "data": {
            "text/plain": [
              "MultinomialNB(alpha=0.001)"
            ]
          },
          "metadata": {},
          "execution_count": 61
        }
      ],
      "source": [
        "# Training with optimal hyperparameters\n",
        "\n",
        "MNB_clf_tuned = MultinomialNB(alpha=0.001)\n",
        "\n",
        "MNB_clf_tuned.fit(tfidf_X_train, y_train)"
      ]
    },
    {
      "cell_type": "code",
      "execution_count": 62,
      "metadata": {
        "id": "qfv9BZ3p9-Y3",
        "outputId": "ed1cd4d7-1a6f-4065-9cce-8fb81e68a977",
        "colab": {
          "base_uri": "https://localhost:8080/"
        }
      },
      "outputs": [
        {
          "output_type": "stream",
          "name": "stdout",
          "text": [
            "Accuracy: 0.935 \n",
            "Precision: 0.994 \n",
            "Recall: 0.548 \n",
            "Fbeta-score: 0.855 \n",
            "\n",
            "Accuracy: 0.935 \n",
            "Precision: 0.994 \n",
            "Recall: 0.548 \n",
            "Fbeta-score: 0.855 \n",
            "\n",
            "(0.5, 0.8545872114106127)\n"
          ]
        }
      ],
      "source": [
        "# Evaluating using train dataset and obtaining optimal threshold\n",
        "\n",
        "evaluate_clf(MNB_clf_tuned, tfidf_X_train, y_train, global_threshold)\n",
        "optimal_threshold, fbeta = get_optimal_threshold(MNB_clf_tuned, tfidf_X_train, y_train, global_threshold)\n",
        "print((optimal_threshold, fbeta))"
      ]
    },
    {
      "cell_type": "code",
      "execution_count": 63,
      "metadata": {
        "id": "hqAvYkkO9-Y3",
        "outputId": "d54418c7-6850-44bb-da34-b61f62a53a51",
        "colab": {
          "base_uri": "https://localhost:8080/"
        }
      },
      "outputs": [
        {
          "output_type": "stream",
          "name": "stdout",
          "text": [
            "Accuracy: 0.861 \n",
            "Precision: 0.458 \n",
            "Recall: 0.061 \n",
            "Fbeta-score: 0.199 \n",
            "\n"
          ]
        }
      ],
      "source": [
        "# Evaluating on test dataset\n",
        "\n",
        "evaluate_clf(MNB_clf_tuned, tfidf_X_test, y_test, optimal_threshold)"
      ]
    },
    {
      "cell_type": "markdown",
      "metadata": {
        "id": "eibpIUP753L6"
      },
      "source": [
        "# Deep Learning"
      ]
    },
    {
      "cell_type": "code",
      "execution_count": 81,
      "metadata": {
        "id": "2Unijz32dCBO"
      },
      "outputs": [],
      "source": [
        "# Function to evaluate classifier\n",
        "\n",
        "def evaluate_clf_NN(clf, X, y, threshold):\n",
        "    \n",
        "    y_scores = clf.predict(X)[:, 0]\n",
        "    y_pred = (y_scores >= threshold).astype(int)\n",
        "    \n",
        "    # Classification report\n",
        "    eval_preds(y, y_pred)\n",
        "\n",
        "def get_optimal_threshold_NN(clf, X, y, threshold):\n",
        "    \n",
        "    y_scores = clf.predict(X)[:, 0]\n",
        "    y_pred = (y_scores >= threshold).astype(int)\n",
        "    \n",
        "    eval_preds(y, y_pred)\n",
        "    \n",
        "    thresholds = [0.5, 0.6, 0.7, 0.8, 0.9]\n",
        "    \n",
        "    # Convert to F_beta score\n",
        "    beta_2 = 0.5 ** 2\n",
        "    fscore = 0\n",
        "    result = 0.5\n",
        "    for thres in thresholds:\n",
        "        temp_preds = (y_scores >= thres).astype(int)\n",
        "        precision = precision_score(y, temp_preds)\n",
        "        recall = recall_score(y, temp_preds)\n",
        "        temp_score = ((1 + beta_2) * precision * recall) / (beta_2 * precision + recall)\n",
        "        if temp_score > fscore:\n",
        "            fscore = temp_score\n",
        "            result = thres\n",
        "    return result, fscore"
      ]
    },
    {
      "cell_type": "code",
      "execution_count": 65,
      "metadata": {
        "execution": {
          "iopub.execute_input": "2022-11-09T19:29:45.038043Z",
          "iopub.status.busy": "2022-11-09T19:29:45.037651Z",
          "iopub.status.idle": "2022-11-09T19:29:45.048995Z",
          "shell.execute_reply": "2022-11-09T19:29:45.048082Z",
          "shell.execute_reply.started": "2022-11-09T19:29:45.037990Z"
        },
        "id": "ebRrXEI053L6"
      },
      "outputs": [],
      "source": [
        "x_train, x_test, y_train, y_test = train_test_split(data_grouped[\"Review Text\"], data_grouped[\"Trending\"], test_size=0.2, random_state=42)"
      ]
    },
    {
      "cell_type": "code",
      "execution_count": 66,
      "metadata": {
        "execution": {
          "iopub.execute_input": "2022-11-09T19:29:47.157039Z",
          "iopub.status.busy": "2022-11-09T19:29:47.155997Z",
          "iopub.status.idle": "2022-11-09T19:29:47.162852Z",
          "shell.execute_reply": "2022-11-09T19:29:47.161735Z",
          "shell.execute_reply.started": "2022-11-09T19:29:47.156979Z"
        },
        "id": "onmcyt-T53L6"
      },
      "outputs": [],
      "source": [
        "train_sent, test_sent = x_train.tolist(), x_test.tolist()"
      ]
    },
    {
      "cell_type": "code",
      "execution_count": 67,
      "metadata": {
        "colab": {
          "base_uri": "https://localhost:8080/"
        },
        "execution": {
          "iopub.execute_input": "2022-11-09T19:30:23.409320Z",
          "iopub.status.busy": "2022-11-09T19:30:23.408851Z",
          "iopub.status.idle": "2022-11-09T19:30:26.602151Z",
          "shell.execute_reply": "2022-11-09T19:30:26.601076Z",
          "shell.execute_reply.started": "2022-11-09T19:30:23.409279Z"
        },
        "id": "szXuNKwl53L6",
        "outputId": "46ada438-1c2f-45d4-c726-d14923673fd7"
      },
      "outputs": [
        {
          "output_type": "execute_result",
          "data": {
            "text/plain": [
              "<TensorSliceDataset element_spec=(TensorSpec(shape=(), dtype=tf.string, name=None), TensorSpec(shape=(), dtype=tf.int64, name=None))>"
            ]
          },
          "metadata": {},
          "execution_count": 67
        }
      ],
      "source": [
        "train_dataset = tf.data.Dataset.from_tensor_slices((train_sent, y_train))\n",
        "test_dataset = tf.data.Dataset.from_tensor_slices((test_sent, y_test))\n",
        "train_dataset"
      ]
    },
    {
      "cell_type": "code",
      "execution_count": 68,
      "metadata": {
        "execution": {
          "iopub.execute_input": "2022-11-09T19:30:30.102901Z",
          "iopub.status.busy": "2022-11-09T19:30:30.102495Z",
          "iopub.status.idle": "2022-11-09T19:30:30.115591Z",
          "shell.execute_reply": "2022-11-09T19:30:30.114432Z",
          "shell.execute_reply.started": "2022-11-09T19:30:30.102866Z"
        },
        "id": "IKNPtSjP53L6"
      },
      "outputs": [],
      "source": [
        "train_dataset = train_dataset.batch(32).prefetch(tf.data.AUTOTUNE)\n",
        "test_dataset = test_dataset.batch(32).prefetch(tf.data.AUTOTUNE)"
      ]
    },
    {
      "cell_type": "code",
      "execution_count": 69,
      "metadata": {
        "execution": {
          "iopub.execute_input": "2022-11-09T19:33:29.158270Z",
          "iopub.status.busy": "2022-11-09T19:33:29.157216Z",
          "iopub.status.idle": "2022-11-09T19:33:29.162553Z",
          "shell.execute_reply": "2022-11-09T19:33:29.161391Z",
          "shell.execute_reply.started": "2022-11-09T19:33:29.158211Z"
        },
        "id": "b_MRw8vh53L7"
      },
      "outputs": [],
      "source": [
        "text_vectorizer = TextVectorization(split='whitespace',\n",
        "                                   output_mode='tf_idf')\n",
        "text_vectorizer.adapt(train_sent)"
      ]
    },
    {
      "cell_type": "code",
      "execution_count": 70,
      "metadata": {
        "id": "io-0ZMHU53L7"
      },
      "outputs": [],
      "source": [
        "text_vocab = text_vectorizer.get_vocabulary()\n",
        "token_embed = layers.Embedding(input_dim=len(text_vocab),\n",
        "                               output_dim=128,\n",
        "                               mask_zero=True)"
      ]
    },
    {
      "cell_type": "markdown",
      "metadata": {
        "id": "ZnTlGTez04z7"
      },
      "source": [
        "# Neural Network"
      ]
    },
    {
      "cell_type": "code",
      "execution_count": 71,
      "metadata": {
        "colab": {
          "base_uri": "https://localhost:8080/"
        },
        "id": "5KW9I6Ic53L7",
        "outputId": "f6085a16-2a81-4bd3-fdb0-73b93a46ee6d"
      },
      "outputs": [
        {
          "output_type": "stream",
          "name": "stdout",
          "text": [
            "Epoch 1/10\n",
            "566/566 [==============================] - 53s 79ms/step - loss: 0.4140 - accuracy: 0.8564\n",
            "Epoch 2/10\n",
            "566/566 [==============================] - 46s 81ms/step - loss: 0.4118 - accuracy: 0.8574\n",
            "Epoch 3/10\n",
            "566/566 [==============================] - 46s 81ms/step - loss: 0.4115 - accuracy: 0.8574\n",
            "Epoch 4/10\n",
            "566/566 [==============================] - 47s 83ms/step - loss: 0.4113 - accuracy: 0.8574\n",
            "Epoch 5/10\n",
            "566/566 [==============================] - 49s 87ms/step - loss: 0.4112 - accuracy: 0.8574\n",
            "Epoch 6/10\n",
            "566/566 [==============================] - 48s 84ms/step - loss: 0.4110 - accuracy: 0.8574\n",
            "Epoch 7/10\n",
            "566/566 [==============================] - 49s 86ms/step - loss: 0.4109 - accuracy: 0.8574\n",
            "Epoch 8/10\n",
            "566/566 [==============================] - 48s 85ms/step - loss: 0.4109 - accuracy: 0.8574\n",
            "Epoch 9/10\n",
            "566/566 [==============================] - 48s 85ms/step - loss: 0.4107 - accuracy: 0.8574\n",
            "Epoch 10/10\n",
            "566/566 [==============================] - 48s 85ms/step - loss: 0.4107 - accuracy: 0.8574\n"
          ]
        }
      ],
      "source": [
        "# Training model\n",
        "\n",
        "inputs = layers.Input(shape=(1,), dtype=tf.string)\n",
        "text_vectors = text_vectorizer(inputs)\n",
        "token_embeddings = token_embed(text_vectors)\n",
        "x = layers.Conv1D(64, kernel_size=5, padding='same', activation='relu')(token_embeddings)\n",
        "x = layers.GlobalAveragePooling1D()(x)\n",
        "outputs = layers.Dense(1, activation='sigmoid')(x)\n",
        "\n",
        "model1 = tf.keras.Model(inputs, outputs)\n",
        "model1.compile(loss='binary_crossentropy',\n",
        "               optimizer=tf.keras.optimizers.Adam(),\n",
        "               metrics=['accuracy'])\n",
        "history1 = model1.fit(train_dataset,\n",
        "                      epochs=10)"
      ]
    },
    {
      "cell_type": "code",
      "execution_count": 82,
      "metadata": {
        "colab": {
          "base_uri": "https://localhost:8080/"
        },
        "id": "sP5ExBAq9-Y4",
        "outputId": "c40aa040-0f1b-4038-b7eb-2d74865a5676"
      },
      "outputs": [
        {
          "output_type": "stream",
          "name": "stdout",
          "text": [
            "566/566 [==============================] - 14s 24ms/step\n",
            "Accuracy: 0.857 \n",
            "Precision: 0.000 \n",
            "Recall: 0.000 \n",
            "Fbeta-score: 0.000 \n",
            "\n",
            "0.5 0\n"
          ]
        },
        {
          "output_type": "stream",
          "name": "stderr",
          "text": [
            "/usr/local/lib/python3.7/dist-packages/sklearn/metrics/_classification.py:1318: UndefinedMetricWarning: Precision is ill-defined and being set to 0.0 due to no predicted samples. Use `zero_division` parameter to control this behavior.\n",
            "  _warn_prf(average, modifier, msg_start, len(result))\n",
            "/usr/local/lib/python3.7/dist-packages/ipykernel_launcher.py:28: RuntimeWarning: invalid value encountered in double_scalars\n",
            "/usr/local/lib/python3.7/dist-packages/sklearn/metrics/_classification.py:1318: UndefinedMetricWarning: Precision is ill-defined and being set to 0.0 due to no predicted samples. Use `zero_division` parameter to control this behavior.\n",
            "  _warn_prf(average, modifier, msg_start, len(result))\n",
            "/usr/local/lib/python3.7/dist-packages/ipykernel_launcher.py:28: RuntimeWarning: invalid value encountered in double_scalars\n",
            "/usr/local/lib/python3.7/dist-packages/sklearn/metrics/_classification.py:1318: UndefinedMetricWarning: Precision is ill-defined and being set to 0.0 due to no predicted samples. Use `zero_division` parameter to control this behavior.\n",
            "  _warn_prf(average, modifier, msg_start, len(result))\n",
            "/usr/local/lib/python3.7/dist-packages/ipykernel_launcher.py:28: RuntimeWarning: invalid value encountered in double_scalars\n",
            "/usr/local/lib/python3.7/dist-packages/sklearn/metrics/_classification.py:1318: UndefinedMetricWarning: Precision is ill-defined and being set to 0.0 due to no predicted samples. Use `zero_division` parameter to control this behavior.\n",
            "  _warn_prf(average, modifier, msg_start, len(result))\n",
            "/usr/local/lib/python3.7/dist-packages/ipykernel_launcher.py:28: RuntimeWarning: invalid value encountered in double_scalars\n",
            "/usr/local/lib/python3.7/dist-packages/sklearn/metrics/_classification.py:1318: UndefinedMetricWarning: Precision is ill-defined and being set to 0.0 due to no predicted samples. Use `zero_division` parameter to control this behavior.\n",
            "  _warn_prf(average, modifier, msg_start, len(result))\n",
            "/usr/local/lib/python3.7/dist-packages/ipykernel_launcher.py:28: RuntimeWarning: invalid value encountered in double_scalars\n"
          ]
        }
      ],
      "source": [
        "# Evaluating on training dataset and obtain optimal threshold\n",
        "\n",
        "optimal_threshold, fbeta = get_optimal_threshold_NN(model1, train_dataset, y_train, global_threshold)\n",
        "print(optimal_threshold, fbeta)"
      ]
    },
    {
      "cell_type": "code",
      "execution_count": 83,
      "metadata": {
        "id": "s3h428Jh9-Y4",
        "colab": {
          "base_uri": "https://localhost:8080/"
        },
        "outputId": "c86a55c5-9326-4a74-fa88-1595cb98ca06"
      },
      "outputs": [
        {
          "output_type": "stream",
          "name": "stdout",
          "text": [
            "142/142 [==============================] - 3s 23ms/step\n",
            "Accuracy: 0.863 \n",
            "Precision: 0.000 \n",
            "Recall: 0.000 \n",
            "Fbeta-score: 0.000 \n",
            "\n"
          ]
        }
      ],
      "source": [
        "# Evaluating on test dataset\n",
        "\n",
        "evaluate_clf_NN(model1, test_dataset, y_test, optimal_threshold)"
      ]
    },
    {
      "cell_type": "markdown",
      "metadata": {
        "id": "XYU-eSnB1FVa"
      },
      "source": [
        "# Neural Network with Transfer Learning"
      ]
    },
    {
      "cell_type": "code",
      "execution_count": 84,
      "metadata": {
        "id": "YtMiSQC853L7"
      },
      "outputs": [],
      "source": [
        "tf_hub_embedding_layer = hub.KerasLayer('https://tfhub.dev/google/universal-sentence-encoder/4',\n",
        "                                 trainable=False)"
      ]
    },
    {
      "cell_type": "code",
      "execution_count": 85,
      "metadata": {
        "id": "d_g9SUND53L7",
        "colab": {
          "base_uri": "https://localhost:8080/"
        },
        "outputId": "55f566d8-0408-48c1-d6f1-9795905ee175"
      },
      "outputs": [
        {
          "output_type": "stream",
          "name": "stdout",
          "text": [
            "Epoch 1/10\n",
            "566/566 [==============================] - 12s 14ms/step - loss: 0.3788 - accuracy: 0.8573\n",
            "Epoch 2/10\n",
            "566/566 [==============================] - 10s 17ms/step - loss: 0.3603 - accuracy: 0.8593\n",
            "Epoch 3/10\n",
            "566/566 [==============================] - 8s 14ms/step - loss: 0.3539 - accuracy: 0.8624\n",
            "Epoch 4/10\n",
            "566/566 [==============================] - 8s 14ms/step - loss: 0.3478 - accuracy: 0.8652\n",
            "Epoch 5/10\n",
            "566/566 [==============================] - 10s 17ms/step - loss: 0.3415 - accuracy: 0.8677\n",
            "Epoch 6/10\n",
            "566/566 [==============================] - 8s 15ms/step - loss: 0.3347 - accuracy: 0.8705\n",
            "Epoch 7/10\n",
            "566/566 [==============================] - 8s 14ms/step - loss: 0.3278 - accuracy: 0.8735\n",
            "Epoch 8/10\n",
            "566/566 [==============================] - 8s 14ms/step - loss: 0.3207 - accuracy: 0.8759\n",
            "Epoch 9/10\n",
            "566/566 [==============================] - 8s 14ms/step - loss: 0.3134 - accuracy: 0.8782\n",
            "Epoch 10/10\n",
            "566/566 [==============================] - 8s 14ms/step - loss: 0.3059 - accuracy: 0.8805\n"
          ]
        }
      ],
      "source": [
        "# Training model\n",
        "\n",
        "inputs = layers.Input(shape=[], dtype=tf.string)\n",
        "pretrained_embedding = tf_hub_embedding_layer(inputs)\n",
        "x = layers.Dense(128, activation='relu')(pretrained_embedding)\n",
        "outputs = layers.Dense(1, activation='sigmoid')(x)\n",
        "model2 = tf.keras.Model(inputs, outputs)\n",
        "\n",
        "model2 = tf.keras.Model(inputs, outputs)\n",
        "model2.compile(loss='binary_crossentropy',\n",
        "               optimizer=tf.keras.optimizers.Adam(),\n",
        "               metrics=['accuracy'])\n",
        "history2 = model2.fit(train_dataset,\n",
        "                      epochs=10)"
      ]
    },
    {
      "cell_type": "code",
      "execution_count": 86,
      "metadata": {
        "id": "TDriX5xL9-Y4",
        "colab": {
          "base_uri": "https://localhost:8080/"
        },
        "outputId": "01219a1f-775a-420d-b0c5-04b6985ecb21"
      },
      "outputs": [
        {
          "output_type": "stream",
          "name": "stdout",
          "text": [
            "566/566 [==============================] - 8s 13ms/step\n",
            "Accuracy: 0.883 \n",
            "Precision: 0.810 \n",
            "Recall: 0.234 \n",
            "Fbeta-score: 0.543 \n",
            "\n",
            "0.5 0.5426774483378257\n"
          ]
        }
      ],
      "source": [
        "# Evaluating on training dataset and obtain optimal threshold\n",
        "\n",
        "optimal_threshold, fbeta = get_optimal_threshold_NN(model2, train_dataset, y_train, global_threshold)\n",
        "print(optimal_threshold, fbeta)"
      ]
    },
    {
      "cell_type": "code",
      "execution_count": 87,
      "metadata": {
        "id": "5MdwYYZ19-Y4",
        "colab": {
          "base_uri": "https://localhost:8080/"
        },
        "outputId": "2e1950c9-67f9-46e7-f570-e5fe2ec234a7"
      },
      "outputs": [
        {
          "output_type": "stream",
          "name": "stdout",
          "text": [
            "142/142 [==============================] - 3s 20ms/step\n",
            "Accuracy: 0.865 \n",
            "Precision: 0.540 \n",
            "Recall: 0.130 \n",
            "Fbeta-score: 0.332 \n",
            "\n"
          ]
        }
      ],
      "source": [
        "# Evaluating on test dataset\n",
        "\n",
        "evaluate_clf_NN(model2, test_dataset, y_test, optimal_threshold)"
      ]
    },
    {
      "cell_type": "code",
      "source": [],
      "metadata": {
        "id": "GkeeBdV6COk2"
      },
      "execution_count": null,
      "outputs": []
    }
  ],
  "metadata": {
    "colab": {
      "collapsed_sections": [],
      "provenance": []
    },
    "kernelspec": {
      "display_name": "Python 3 (ipykernel)",
      "language": "python",
      "name": "python3"
    },
    "language_info": {
      "codemirror_mode": {
        "name": "ipython",
        "version": 3
      },
      "file_extension": ".py",
      "mimetype": "text/x-python",
      "name": "python",
      "nbconvert_exporter": "python",
      "pygments_lexer": "ipython3",
      "version": "3.9.13"
    },
    "accelerator": "GPU",
    "gpuClass": "standard"
  },
  "nbformat": 4,
  "nbformat_minor": 0
}